{
 "cells": [
  {
   "cell_type": "code",
   "execution_count": 1,
   "metadata": {
    "scrolled": true
   },
   "outputs": [
    {
     "name": "stdout",
     "output_type": "stream",
     "text": [
      "Package               Version\n",
      "--------------------- -----------\n",
      "argon2-cffi           21.3.0\n",
      "argon2-cffi-bindings  21.2.0\n",
      "asttokens             2.0.8\n",
      "attrs                 22.1.0\n",
      "backcall              0.2.0\n",
      "beautifulsoup4        4.11.1\n",
      "bleach                5.0.1\n",
      "certifi               2022.6.15\n",
      "cffi                  1.15.1\n",
      "charset-normalizer    2.1.1\n",
      "colorama              0.4.5\n",
      "cycler                0.11.0\n",
      "debugpy               1.6.3\n",
      "decorator             5.1.1\n",
      "defusedxml            0.7.1\n",
      "entrypoints           0.4\n",
      "executing             0.10.0\n",
      "fastjsonschema        2.16.1\n",
      "fonttools             4.37.0\n",
      "htmlmin               0.1.12\n",
      "idna                  3.3\n",
      "ImageHash             4.2.1\n",
      "importlib-metadata    4.12.0\n",
      "ipykernel             6.15.1\n",
      "ipython               8.4.0\n",
      "ipython-genutils      0.2.0\n",
      "ipywidgets            8.0.1\n",
      "jedi                  0.18.1\n",
      "Jinja2                3.1.2\n",
      "joblib                1.1.0\n",
      "jsonschema            4.14.0\n",
      "jupyter-client        7.3.4\n",
      "jupyter-core          4.11.1\n",
      "jupyterlab-pygments   0.2.2\n",
      "jupyterlab-widgets    3.0.2\n",
      "kiwisolver            1.4.4\n",
      "lxml                  4.9.1\n",
      "MarkupSafe            2.1.1\n",
      "matplotlib            3.5.3\n",
      "matplotlib-inline     0.1.6\n",
      "missingno             0.5.1\n",
      "mistune               2.0.4\n",
      "multimethod           1.8\n",
      "nbclient              0.6.7\n",
      "nbconvert             7.0.0\n",
      "nbformat              5.4.0\n",
      "nest-asyncio          1.5.5\n",
      "networkx              2.8.6\n",
      "notebook              6.4.12\n",
      "numpy                 1.23.2\n",
      "packaging             21.3\n",
      "pandas                1.4.3\n",
      "pandas-profiling      3.2.0\n",
      "pandocfilters         1.5.0\n",
      "parso                 0.8.3\n",
      "phik                  0.12.2\n",
      "pickleshare           0.7.5\n",
      "Pillow                9.2.0\n",
      "pip                   22.2.1\n",
      "prometheus-client     0.14.1\n",
      "prompt-toolkit        3.0.30\n",
      "psutil                5.9.1\n",
      "pure-eval             0.2.2\n",
      "pycparser             2.21\n",
      "pydantic              1.9.2\n",
      "Pygments              2.13.0\n",
      "pyparsing             3.0.9\n",
      "pyrsistent            0.18.1\n",
      "python-dateutil       2.8.2\n",
      "pytz                  2022.2.1\n",
      "PyWavelets            1.3.0\n",
      "pywin32               304\n",
      "pywinpty              2.0.7\n",
      "PyYAML                6.0\n",
      "pyzmq                 23.2.1\n",
      "requests              2.28.1\n",
      "scipy                 1.9.0\n",
      "seaborn               0.11.2\n",
      "Send2Trash            1.8.0\n",
      "setuptools            63.2.0\n",
      "six                   1.16.0\n",
      "soupsieve             2.3.2.post1\n",
      "stack-data            0.4.0\n",
      "tangled-up-in-unicode 0.2.0\n",
      "terminado             0.15.0\n",
      "tinycss2              1.1.1\n",
      "tornado               6.2\n",
      "tqdm                  4.64.0\n",
      "traitlets             5.3.0\n",
      "typing_extensions     4.3.0\n",
      "urllib3               1.26.12\n",
      "visions               0.7.4\n",
      "wcwidth               0.2.5\n",
      "webencodings          0.5.1\n",
      "wheel                 0.37.1\n",
      "widgetsnbextension    4.0.2\n",
      "zipp                  3.8.1\n"
     ]
    },
    {
     "name": "stderr",
     "output_type": "stream",
     "text": [
      "\n",
      "[notice] A new release of pip available: 22.2.1 -> 22.2.2\n",
      "[notice] To update, run: python.exe -m pip install --upgrade pip\n"
     ]
    }
   ],
   "source": [
    "!pip list"
   ]
  },
  {
   "cell_type": "code",
   "execution_count": 2,
   "metadata": {},
   "outputs": [],
   "source": [
    "import os\n",
    "import json\n",
    "import numpy as np\n",
    "import pandas as pd\n",
    "from pandas_profiling import ProfileReport"
   ]
  },
  {
   "cell_type": "code",
   "execution_count": 3,
   "metadata": {},
   "outputs": [],
   "source": [
    "INPUT_PATH=\"input\"\n",
    "OUTPUT_PATH=\"output\"\n",
    "CONFIG_PATH=\"config\"\n",
    "\n",
    "INPUT_DATA=\"test_data2\"\n",
    "INPUT_DATA_CONFIG=\"input_config\"\n",
    "OUTPUT_DATA=\"output\"\n",
    "\n",
    "INPUT_EXTENSION=\"csv\"\n",
    "INPUT_CONFIG_EXTENSION=\"json\"\n",
    "OUTPUT_EXTENSION=\"csv\"\n",
    "\n",
    "INPUT_FILE=f\"{INPUT_DATA}.{INPUT_EXTENSION}\"\n",
    "INPUT_CONFIG_FILE=f\"{INPUT_DATA_CONFIG}.{INPUT_CONFIG_EXTENSION}\"\n",
    "OUTPUT_FILE=f\"{OUTPUT_DATA}.{OUTPUT_EXTENSION}\"\n",
    "\n",
    "INPUT_ABS_APTH=os.path.abspath(os.path.join(INPUT_PATH, INPUT_FILE))\n",
    "INPUT_FILE_CONFIG=os.path.abspath(os.path.join(CONFIG_PATH, INPUT_CONFIG_FILE))\n",
    "OUTPUT_ABS_APTH=os.path.abspath(os.path.join(OUTPUT_PATH, OUTPUT_FILE))"
   ]
  },
  {
   "cell_type": "code",
   "execution_count": 4,
   "metadata": {},
   "outputs": [],
   "source": [
    "with open(INPUT_FILE_CONFIG, encoding='utf-8') as f:\n",
    "    CONFIG = json.load(f)"
   ]
  },
  {
   "cell_type": "code",
   "execution_count": 5,
   "metadata": {},
   "outputs": [
    {
     "data": {
      "text/plain": [
       "{'INPUTS': {'FILE_NAME': ['test_data2.csv'],\n",
       "  'SEPARATOR': ',',\n",
       "  'DECIMAL': None,\n",
       "  'ENCODING': 'utf-8',\n",
       "  'FLOAT_PRECISION': 'high',\n",
       "  'INDEXES': ['period_end_date', 'translated_when'],\n",
       "  'DATE_COLUMNS': ['period_end_date', 'translated_when'],\n",
       "  'DTYPE': {'if_data_corrected': 'object',\n",
       "   'prod_gr_id': 'object',\n",
       "   'country_id_n': 'object',\n",
       "   'delivery_type_id': 'object',\n",
       "   'freq_id': 'object',\n",
       "   'retailer_id': 'object',\n",
       "   'brand_id': 'object',\n",
       "   'predict_automatch': 'object',\n",
       "   'class_acctual': 'object'},\n",
       "  'COLUMNS_WITH_NAN_VALUES': [None]},\n",
       " 'MODEL': [None],\n",
       " 'OUTPUTS': {'NAME': ['output.csv']}}"
      ]
     },
     "execution_count": 5,
     "metadata": {},
     "output_type": "execute_result"
    }
   ],
   "source": [
    "CONFIG"
   ]
  },
  {
   "cell_type": "markdown",
   "metadata": {},
   "source": [
    "# Functions"
   ]
  },
  {
   "cell_type": "code",
   "execution_count": 40,
   "metadata": {},
   "outputs": [],
   "source": [
    "def get_PPL(data_frame, column_to_group_by, column_to_count):\n",
    "    \"\"\"\n",
    "    :param data_frame: \n",
    "    :param column_to_group_by: \n",
    "    :param column_to_count: \n",
    "    :return: \n",
    "    \"\"\"\n",
    "    \n",
    "    ppl = []\n",
    "    \n",
    "    counts_total = data_frame.groupby([column_to_group_by]) \\\n",
    "    .size() \\\n",
    "    .rename('count_total') \\\n",
    "    .reset_index() \\\n",
    "    .sort_values(by=column_to_group_by, ascending=False) \\\n",
    "    .set_index(column_to_group_by)\n",
    "    \n",
    "    \n",
    "    counts_grouped = data_frame.groupby([column_to_group_by, column_to_count]) \\\n",
    "    .size() \\\n",
    "    .rename('count') \\\n",
    "    .reset_index() \\\n",
    "    .sort_values(by=column_to_group_by, ascending=False) \\\n",
    "    .set_index(column_to_group_by)\n",
    "\n",
    "    positive_counts = counts_grouped.loc[counts_grouped[column_to_count] == '1']\n",
    "    df = pd.merge(positive_counts, counts_total, left_index=True, right_index=True)\n",
    "    df['PPL'] = df['count'] / df['count_total']\n",
    "    \n",
    "    print('Returning PPL: \\n', 'Positive Proportion of Predicted Label (PPL) for all Class of Variable [prod_gr_id]: ')\n",
    "\n",
    "    return df['PPL']"
   ]
  },
  {
   "cell_type": "code",
   "execution_count": 41,
   "metadata": {},
   "outputs": [],
   "source": [
    "def get_DPPL(data_frame, column_to_group_by, column_to_count):\n",
    "    \"\"\"\n",
    "    :param data_frame: \n",
    "    :param column_to_group_by: \n",
    "    :param column_to_count: \n",
    "    :return: \n",
    "    \"\"\"\n",
    "    \n",
    "    ppl = []\n",
    "    \n",
    "    counts_total = data_frame.groupby([column_to_group_by]) \\\n",
    "    .size() \\\n",
    "    .rename('count_total') \\\n",
    "    .reset_index() \\\n",
    "    .sort_values(by=column_to_group_by, ascending=False) \\\n",
    "    .set_index(column_to_group_by)\n",
    "    \n",
    "    \n",
    "    counts_grouped = data_frame.groupby([column_to_group_by, column_to_count]) \\\n",
    "    .size() \\\n",
    "    .rename('count') \\\n",
    "    .reset_index() \\\n",
    "    .sort_values(by=column_to_group_by, ascending=False) \\\n",
    "    .set_index(column_to_group_by)\n",
    "\n",
    "    positive_counts = counts_grouped.loc[counts_grouped[column_to_count] == '1']\n",
    "    df = pd.merge(positive_counts, counts_total, left_index=True, right_index=True)\n",
    "    df['PPL'] = df['count'] / df['count_total']\n",
    "\n",
    "    for i in df['PPL'].iteritems():\n",
    "#         print('Positive Proportion of Predicted Label (PPL) for Variable [prod_gr_id] for Class ==', i[0], ':', f'{i[1]:.0%}')\n",
    "        ppl.append(i[1])\n",
    "        \n",
    "    unique_abs_diff = sorted(set([abs(i - j) for i in ppl for j in ppl if i != j]))\n",
    "    print('Returning DPPL:\\n Differences in Positive Proportion of Predicted Label (PPL) for all Class of Variable [prod_gr_id]:', '\\n', unique_abs_diff, '\\n')\n",
    "    \n",
    "    return unique_abs_diff"
   ]
  },
  {
   "cell_type": "markdown",
   "metadata": {},
   "source": [
    "# Load data"
   ]
  },
  {
   "cell_type": "code",
   "execution_count": 42,
   "metadata": {},
   "outputs": [],
   "source": [
    "# LOAD CSV\n",
    "df = pd.read_csv(\n",
    "    INPUT_ABS_APTH,\n",
    "#     index_col=CONFIG['INPUTS']['INDEXES'],\n",
    "    sep=CONFIG['INPUTS']['SEPARATOR'],\n",
    "    # quotechar='\"',\n",
    "    # thousands=',',\n",
    "#     decimal=CONFIG['INPUTS']['DECIMAL'],\n",
    "    encoding=CONFIG['INPUTS']['ENCODING'],\n",
    "    infer_datetime_format=True,\n",
    "    parse_dates=CONFIG['INPUTS']['DATE_COLUMNS'],\n",
    "    engine=\"c\",\n",
    "    low_memory=False,\n",
    "#     float_precision=CONFIG['INPUTS']['DATE_COLUMNS'],\n",
    "    skipinitialspace=True,\n",
    "    dtype=CONFIG['INPUTS']['DTYPE']\n",
    ")"
   ]
  },
  {
   "cell_type": "code",
   "execution_count": 8,
   "metadata": {},
   "outputs": [
    {
     "name": "stdout",
     "output_type": "stream",
     "text": [
      "<class 'pandas.core.frame.DataFrame'>\n",
      "RangeIndex: 19697 entries, 0 to 19696\n",
      "Data columns (total 11 columns):\n",
      " #   Column             Non-Null Count  Dtype              \n",
      "---  ------             --------------  -----              \n",
      " 0   period_end_date    19640 non-null  datetime64[ns, UTC]\n",
      " 1   translated_when    19697 non-null  datetime64[ns, UTC]\n",
      " 2   if_data_corrected  19697 non-null  object             \n",
      " 3   prod_gr_id         19697 non-null  object             \n",
      " 4   country_id_n       18405 non-null  object             \n",
      " 5   delivery_type_id   18362 non-null  object             \n",
      " 6   freq_id            19697 non-null  object             \n",
      " 7   retailer_id        19697 non-null  object             \n",
      " 8   brand_id           19697 non-null  object             \n",
      " 9   predict_automatch  19368 non-null  object             \n",
      " 10  class_acctual      19697 non-null  object             \n",
      "dtypes: datetime64[ns, UTC](2), object(9)\n",
      "memory usage: 1.7+ MB\n"
     ]
    }
   ],
   "source": [
    "df.info()"
   ]
  },
  {
   "cell_type": "code",
   "execution_count": 9,
   "metadata": {},
   "outputs": [
    {
     "data": {
      "text/html": [
       "<div>\n",
       "<style scoped>\n",
       "    .dataframe tbody tr th:only-of-type {\n",
       "        vertical-align: middle;\n",
       "    }\n",
       "\n",
       "    .dataframe tbody tr th {\n",
       "        vertical-align: top;\n",
       "    }\n",
       "\n",
       "    .dataframe thead th {\n",
       "        text-align: right;\n",
       "    }\n",
       "</style>\n",
       "<table border=\"1\" class=\"dataframe\">\n",
       "  <thead>\n",
       "    <tr style=\"text-align: right;\">\n",
       "      <th></th>\n",
       "      <th>period_end_date</th>\n",
       "      <th>translated_when</th>\n",
       "      <th>if_data_corrected</th>\n",
       "      <th>prod_gr_id</th>\n",
       "      <th>country_id_n</th>\n",
       "      <th>delivery_type_id</th>\n",
       "      <th>freq_id</th>\n",
       "      <th>retailer_id</th>\n",
       "      <th>brand_id</th>\n",
       "      <th>predict_automatch</th>\n",
       "      <th>class_acctual</th>\n",
       "    </tr>\n",
       "  </thead>\n",
       "  <tbody>\n",
       "    <tr>\n",
       "      <th>0</th>\n",
       "      <td>NaT</td>\n",
       "      <td>2020-10-15 06:58:28+00:00</td>\n",
       "      <td>0</td>\n",
       "      <td>426</td>\n",
       "      <td>121</td>\n",
       "      <td>NaN</td>\n",
       "      <td>2</td>\n",
       "      <td>96</td>\n",
       "      <td>111</td>\n",
       "      <td>1</td>\n",
       "      <td>1</td>\n",
       "    </tr>\n",
       "    <tr>\n",
       "      <th>1</th>\n",
       "      <td>NaT</td>\n",
       "      <td>2020-10-15 06:38:34+00:00</td>\n",
       "      <td>0</td>\n",
       "      <td>426</td>\n",
       "      <td>NaN</td>\n",
       "      <td>NaN</td>\n",
       "      <td>2</td>\n",
       "      <td>92</td>\n",
       "      <td>95</td>\n",
       "      <td>0</td>\n",
       "      <td>1</td>\n",
       "    </tr>\n",
       "    <tr>\n",
       "      <th>2</th>\n",
       "      <td>2020-09-20 00:00:00+00:00</td>\n",
       "      <td>2020-09-23 12:27:51+00:00</td>\n",
       "      <td>0</td>\n",
       "      <td>426</td>\n",
       "      <td>121</td>\n",
       "      <td>42730</td>\n",
       "      <td>2</td>\n",
       "      <td>30</td>\n",
       "      <td>37</td>\n",
       "      <td>1</td>\n",
       "      <td>1</td>\n",
       "    </tr>\n",
       "  </tbody>\n",
       "</table>\n",
       "</div>"
      ],
      "text/plain": [
       "            period_end_date           translated_when if_data_corrected  \\\n",
       "0                       NaT 2020-10-15 06:58:28+00:00                 0   \n",
       "1                       NaT 2020-10-15 06:38:34+00:00                 0   \n",
       "2 2020-09-20 00:00:00+00:00 2020-09-23 12:27:51+00:00                 0   \n",
       "\n",
       "  prod_gr_id country_id_n delivery_type_id freq_id retailer_id brand_id  \\\n",
       "0        426          121              NaN       2          96      111   \n",
       "1        426          NaN              NaN       2          92       95   \n",
       "2        426          121            42730       2          30       37   \n",
       "\n",
       "  predict_automatch class_acctual  \n",
       "0                 1             1  \n",
       "1                 0             1  \n",
       "2                 1             1  "
      ]
     },
     "execution_count": 9,
     "metadata": {},
     "output_type": "execute_result"
    }
   ],
   "source": [
    "df.head(3)"
   ]
  },
  {
   "cell_type": "code",
   "execution_count": 10,
   "metadata": {},
   "outputs": [
    {
     "data": {
      "text/html": [
       "<div>\n",
       "<style scoped>\n",
       "    .dataframe tbody tr th:only-of-type {\n",
       "        vertical-align: middle;\n",
       "    }\n",
       "\n",
       "    .dataframe tbody tr th {\n",
       "        vertical-align: top;\n",
       "    }\n",
       "\n",
       "    .dataframe thead th {\n",
       "        text-align: right;\n",
       "    }\n",
       "</style>\n",
       "<table border=\"1\" class=\"dataframe\">\n",
       "  <thead>\n",
       "    <tr style=\"text-align: right;\">\n",
       "      <th></th>\n",
       "      <th>period_end_date</th>\n",
       "      <th>translated_when</th>\n",
       "      <th>if_data_corrected</th>\n",
       "      <th>prod_gr_id</th>\n",
       "      <th>country_id_n</th>\n",
       "      <th>delivery_type_id</th>\n",
       "      <th>freq_id</th>\n",
       "      <th>retailer_id</th>\n",
       "      <th>brand_id</th>\n",
       "      <th>predict_automatch</th>\n",
       "      <th>class_acctual</th>\n",
       "    </tr>\n",
       "  </thead>\n",
       "  <tbody>\n",
       "    <tr>\n",
       "      <th>count</th>\n",
       "      <td>19640</td>\n",
       "      <td>19697</td>\n",
       "      <td>19697</td>\n",
       "      <td>19697</td>\n",
       "      <td>18405</td>\n",
       "      <td>18362</td>\n",
       "      <td>19697</td>\n",
       "      <td>19697</td>\n",
       "      <td>19697</td>\n",
       "      <td>19368</td>\n",
       "      <td>19697</td>\n",
       "    </tr>\n",
       "    <tr>\n",
       "      <th>unique</th>\n",
       "      <td>NaN</td>\n",
       "      <td>NaN</td>\n",
       "      <td>2</td>\n",
       "      <td>3</td>\n",
       "      <td>34</td>\n",
       "      <td>914</td>\n",
       "      <td>2</td>\n",
       "      <td>52</td>\n",
       "      <td>199</td>\n",
       "      <td>2</td>\n",
       "      <td>2</td>\n",
       "    </tr>\n",
       "    <tr>\n",
       "      <th>top</th>\n",
       "      <td>NaN</td>\n",
       "      <td>NaN</td>\n",
       "      <td>0</td>\n",
       "      <td>426</td>\n",
       "      <td>121</td>\n",
       "      <td>31480</td>\n",
       "      <td>2</td>\n",
       "      <td>30</td>\n",
       "      <td>33</td>\n",
       "      <td>1</td>\n",
       "      <td>1</td>\n",
       "    </tr>\n",
       "    <tr>\n",
       "      <th>freq</th>\n",
       "      <td>NaN</td>\n",
       "      <td>NaN</td>\n",
       "      <td>17085</td>\n",
       "      <td>11844</td>\n",
       "      <td>4153</td>\n",
       "      <td>998</td>\n",
       "      <td>11934</td>\n",
       "      <td>1197</td>\n",
       "      <td>587</td>\n",
       "      <td>12324</td>\n",
       "      <td>14639</td>\n",
       "    </tr>\n",
       "    <tr>\n",
       "      <th>mean</th>\n",
       "      <td>2020-10-14 23:30:22.729124096+00:00</td>\n",
       "      <td>2020-10-22 06:01:21.525206784+00:00</td>\n",
       "      <td>NaN</td>\n",
       "      <td>NaN</td>\n",
       "      <td>NaN</td>\n",
       "      <td>NaN</td>\n",
       "      <td>NaN</td>\n",
       "      <td>NaN</td>\n",
       "      <td>NaN</td>\n",
       "      <td>NaN</td>\n",
       "      <td>NaN</td>\n",
       "    </tr>\n",
       "    <tr>\n",
       "      <th>min</th>\n",
       "      <td>2020-08-30 00:00:00+00:00</td>\n",
       "      <td>2020-09-01 03:05:51+00:00</td>\n",
       "      <td>NaN</td>\n",
       "      <td>NaN</td>\n",
       "      <td>NaN</td>\n",
       "      <td>NaN</td>\n",
       "      <td>NaN</td>\n",
       "      <td>NaN</td>\n",
       "      <td>NaN</td>\n",
       "      <td>NaN</td>\n",
       "      <td>NaN</td>\n",
       "    </tr>\n",
       "    <tr>\n",
       "      <th>25%</th>\n",
       "      <td>2020-09-27 00:00:00+00:00</td>\n",
       "      <td>2020-09-29 13:45:29+00:00</td>\n",
       "      <td>NaN</td>\n",
       "      <td>NaN</td>\n",
       "      <td>NaN</td>\n",
       "      <td>NaN</td>\n",
       "      <td>NaN</td>\n",
       "      <td>NaN</td>\n",
       "      <td>NaN</td>\n",
       "      <td>NaN</td>\n",
       "      <td>NaN</td>\n",
       "    </tr>\n",
       "    <tr>\n",
       "      <th>50%</th>\n",
       "      <td>2020-10-18 00:00:00+00:00</td>\n",
       "      <td>2020-10-22 04:30:49+00:00</td>\n",
       "      <td>NaN</td>\n",
       "      <td>NaN</td>\n",
       "      <td>NaN</td>\n",
       "      <td>NaN</td>\n",
       "      <td>NaN</td>\n",
       "      <td>NaN</td>\n",
       "      <td>NaN</td>\n",
       "      <td>NaN</td>\n",
       "      <td>NaN</td>\n",
       "    </tr>\n",
       "    <tr>\n",
       "      <th>75%</th>\n",
       "      <td>2020-11-08 00:00:00+00:00</td>\n",
       "      <td>2020-11-13 11:57:53+00:00</td>\n",
       "      <td>NaN</td>\n",
       "      <td>NaN</td>\n",
       "      <td>NaN</td>\n",
       "      <td>NaN</td>\n",
       "      <td>NaN</td>\n",
       "      <td>NaN</td>\n",
       "      <td>NaN</td>\n",
       "      <td>NaN</td>\n",
       "      <td>NaN</td>\n",
       "    </tr>\n",
       "    <tr>\n",
       "      <th>max</th>\n",
       "      <td>2020-12-01 00:00:00+00:00</td>\n",
       "      <td>2021-02-01 14:50:49+00:00</td>\n",
       "      <td>NaN</td>\n",
       "      <td>NaN</td>\n",
       "      <td>NaN</td>\n",
       "      <td>NaN</td>\n",
       "      <td>NaN</td>\n",
       "      <td>NaN</td>\n",
       "      <td>NaN</td>\n",
       "      <td>NaN</td>\n",
       "      <td>NaN</td>\n",
       "    </tr>\n",
       "  </tbody>\n",
       "</table>\n",
       "</div>"
      ],
      "text/plain": [
       "                            period_end_date  \\\n",
       "count                                 19640   \n",
       "unique                                  NaN   \n",
       "top                                     NaN   \n",
       "freq                                    NaN   \n",
       "mean    2020-10-14 23:30:22.729124096+00:00   \n",
       "min               2020-08-30 00:00:00+00:00   \n",
       "25%               2020-09-27 00:00:00+00:00   \n",
       "50%               2020-10-18 00:00:00+00:00   \n",
       "75%               2020-11-08 00:00:00+00:00   \n",
       "max               2020-12-01 00:00:00+00:00   \n",
       "\n",
       "                            translated_when if_data_corrected prod_gr_id  \\\n",
       "count                                 19697             19697      19697   \n",
       "unique                                  NaN                 2          3   \n",
       "top                                     NaN                 0        426   \n",
       "freq                                    NaN             17085      11844   \n",
       "mean    2020-10-22 06:01:21.525206784+00:00               NaN        NaN   \n",
       "min               2020-09-01 03:05:51+00:00               NaN        NaN   \n",
       "25%               2020-09-29 13:45:29+00:00               NaN        NaN   \n",
       "50%               2020-10-22 04:30:49+00:00               NaN        NaN   \n",
       "75%               2020-11-13 11:57:53+00:00               NaN        NaN   \n",
       "max               2021-02-01 14:50:49+00:00               NaN        NaN   \n",
       "\n",
       "       country_id_n delivery_type_id freq_id retailer_id brand_id  \\\n",
       "count         18405            18362   19697       19697    19697   \n",
       "unique           34              914       2          52      199   \n",
       "top             121            31480       2          30       33   \n",
       "freq           4153              998   11934        1197      587   \n",
       "mean            NaN              NaN     NaN         NaN      NaN   \n",
       "min             NaN              NaN     NaN         NaN      NaN   \n",
       "25%             NaN              NaN     NaN         NaN      NaN   \n",
       "50%             NaN              NaN     NaN         NaN      NaN   \n",
       "75%             NaN              NaN     NaN         NaN      NaN   \n",
       "max             NaN              NaN     NaN         NaN      NaN   \n",
       "\n",
       "       predict_automatch class_acctual  \n",
       "count              19368         19697  \n",
       "unique                 2             2  \n",
       "top                    1             1  \n",
       "freq               12324         14639  \n",
       "mean                 NaN           NaN  \n",
       "min                  NaN           NaN  \n",
       "25%                  NaN           NaN  \n",
       "50%                  NaN           NaN  \n",
       "75%                  NaN           NaN  \n",
       "max                  NaN           NaN  "
      ]
     },
     "execution_count": 10,
     "metadata": {},
     "output_type": "execute_result"
    }
   ],
   "source": [
    "df.describe(\n",
    "    include='all',\n",
    "    datetime_is_numeric=True\n",
    ")"
   ]
  },
  {
   "cell_type": "markdown",
   "metadata": {},
   "source": [
    "# Pandas data profiler"
   ]
  },
  {
   "cell_type": "code",
   "execution_count": 11,
   "metadata": {},
   "outputs": [],
   "source": [
    "profile = ProfileReport(\n",
    "    df,\n",
    "    title=\"Pandas Profiling Report\",\n",
    "    pool_size=0,\n",
    "    infer_dtypes=False\n",
    ")"
   ]
  },
  {
   "cell_type": "code",
   "execution_count": 12,
   "metadata": {
    "scrolled": false
   },
   "outputs": [
    {
     "data": {
      "application/json": {
       "ascii": false,
       "bar_format": null,
       "colour": null,
       "elapsed": 0.015682220458984375,
       "initial": 0,
       "n": 0,
       "ncols": null,
       "nrows": 4,
       "postfix": null,
       "prefix": "Summarize dataset",
       "rate": null,
       "total": 5,
       "unit": "it",
       "unit_divisor": 1000,
       "unit_scale": false
      },
      "application/vnd.jupyter.widget-view+json": {
       "model_id": "dcbb40f3f5b44b0e8fce5d011b0460ec",
       "version_major": 2,
       "version_minor": 0
      },
      "text/plain": [
       "Summarize dataset:   0%|          | 0/5 [00:00<?, ?it/s]"
      ]
     },
     "metadata": {},
     "output_type": "display_data"
    },
    {
     "data": {
      "application/json": {
       "ascii": false,
       "bar_format": null,
       "colour": null,
       "elapsed": 0.01300358772277832,
       "initial": 0,
       "n": 0,
       "ncols": null,
       "nrows": 4,
       "postfix": null,
       "prefix": "Generate report structure",
       "rate": null,
       "total": 1,
       "unit": "it",
       "unit_divisor": 1000,
       "unit_scale": false
      },
      "application/vnd.jupyter.widget-view+json": {
       "model_id": "0d443ba35281400893093dfd5d504276",
       "version_major": 2,
       "version_minor": 0
      },
      "text/plain": [
       "Generate report structure:   0%|          | 0/1 [00:00<?, ?it/s]"
      ]
     },
     "metadata": {},
     "output_type": "display_data"
    },
    {
     "data": {
      "application/json": {
       "ascii": false,
       "bar_format": null,
       "colour": null,
       "elapsed": 0.012000083923339844,
       "initial": 0,
       "n": 0,
       "ncols": null,
       "nrows": 4,
       "postfix": null,
       "prefix": "Render widgets",
       "rate": null,
       "total": 1,
       "unit": "it",
       "unit_divisor": 1000,
       "unit_scale": false
      },
      "application/vnd.jupyter.widget-view+json": {
       "model_id": "",
       "version_major": 2,
       "version_minor": 0
      },
      "text/plain": [
       "Render widgets:   0%|          | 0/1 [00:00<?, ?it/s]"
      ]
     },
     "metadata": {},
     "output_type": "display_data"
    },
    {
     "data": {
      "application/vnd.jupyter.widget-view+json": {
       "model_id": "c516debd57d941289bf006d52fc88668",
       "version_major": 2,
       "version_minor": 0
      },
      "text/plain": [
       "VBox(children=(Tab(children=(Tab(children=(GridBox(children=(VBox(children=(GridspecLayout(children=(HTML(valu…"
      ]
     },
     "metadata": {},
     "output_type": "display_data"
    }
   ],
   "source": [
    "profile.to_widgets()"
   ]
  },
  {
   "cell_type": "markdown",
   "metadata": {},
   "source": [
    "# Post-Processing Bias Metrics for the Trained Model"
   ]
  },
  {
   "cell_type": "markdown",
   "metadata": {},
   "source": [
    "## Difference in positive proportion in predicted labels (DPPL)"
   ]
  },
  {
   "cell_type": "markdown",
   "metadata": {},
   "source": [
    "![image info](./docs/images/DPPL.png)"
   ]
  },
  {
   "cell_type": "markdown",
   "metadata": {},
   "source": [
    "[SOURCE](https://pages.awscloud.com/rs/112-TZM-766/images/Amazon.AI.Fairness.and.Explainability.Whitepaper.pdf)\n"
   ]
  },
  {
   "cell_type": "markdown",
   "metadata": {},
   "source": [
    "### CHARACTERISTICS OF METRIC:\n",
    "> DPPPL > -1 & DPPPL < 1\n",
    "\n",
    "> For example, if the model grants loans to 50% of class 2 and to 60% of class 1, then it may be biased against class 2.\n",
    "We would have to decide whether a 10% difference is material."
   ]
  },
  {
   "cell_type": "markdown",
   "metadata": {},
   "source": [
    "## VARIABLE: prod_gr_id"
   ]
  },
  {
   "cell_type": "markdown",
   "metadata": {},
   "source": [
    "### prod_gr_id total count"
   ]
  },
  {
   "cell_type": "code",
   "execution_count": 13,
   "metadata": {},
   "outputs": [],
   "source": [
    "total_counts = df.groupby(['prod_gr_id']) \\\n",
    "    .size() \\\n",
    "    .rename('count_total') \\\n",
    "    .reset_index() \\\n",
    "    .sort_values(by='prod_gr_id', ascending=False) \\\n",
    "    .set_index('prod_gr_id')\n",
    "\n",
    "# total_counts"
   ]
  },
  {
   "cell_type": "markdown",
   "metadata": {},
   "source": [
    "### prod_gr_id by predicted classes"
   ]
  },
  {
   "cell_type": "code",
   "execution_count": 14,
   "metadata": {
    "scrolled": true
   },
   "outputs": [],
   "source": [
    "grouped_counts = df.groupby(['prod_gr_id', 'predict_automatch']) \\\n",
    "    .size() \\\n",
    "    .rename('count') \\\n",
    "    .reset_index() \\\n",
    "    .sort_values(by='prod_gr_id', ascending=False) \\\n",
    "    .set_index('prod_gr_id')\n",
    "\n",
    "# grouped_counts"
   ]
  },
  {
   "cell_type": "code",
   "execution_count": 15,
   "metadata": {},
   "outputs": [],
   "source": [
    "positive_grouped_counts = grouped_counts.loc[grouped_counts['predict_automatch'] == '1']\n",
    "\n",
    "# positive_grouped_counts"
   ]
  },
  {
   "cell_type": "code",
   "execution_count": 16,
   "metadata": {},
   "outputs": [],
   "source": [
    "merged_counts = pd.merge(positive_grouped_counts, total_counts, left_index=True, right_index=True)\n",
    "\n",
    "# merged_counts"
   ]
  },
  {
   "cell_type": "markdown",
   "metadata": {},
   "source": [
    "### DPPL metric"
   ]
  },
  {
   "cell_type": "code",
   "execution_count": 43,
   "metadata": {},
   "outputs": [
    {
     "name": "stdout",
     "output_type": "stream",
     "text": [
      "Returning PPL: \n",
      " Positive Proportion of Predicted Label (PPL) for all Class of Variable [prod_gr_id]: \n"
     ]
    },
    {
     "data": {
      "text/plain": [
       "prod_gr_id\n",
       "427    0.663796\n",
       "426    0.616177\n",
       "413    0.622158\n",
       "Name: PPL, dtype: float64"
      ]
     },
     "execution_count": 43,
     "metadata": {},
     "output_type": "execute_result"
    }
   ],
   "source": [
    "ppl_prod_gr_id = get_PPL(\n",
    "    data_frame=df,\n",
    "    column_to_group_by='prod_gr_id',\n",
    "    column_to_count='predict_automatch'\n",
    ")\n",
    "\n",
    "ppl_prod_gr_id"
   ]
  },
  {
   "cell_type": "code",
   "execution_count": 44,
   "metadata": {},
   "outputs": [
    {
     "name": "stdout",
     "output_type": "stream",
     "text": [
      "Returning DPPL:\n",
      " Differences in Positive Proportion of Predicted Label (PPL) for all Class of Variable [prod_gr_id]: \n",
      " [0.0059808571016014556, 0.04163783945326527, 0.047618696554866724] \n",
      "\n"
     ]
    },
    {
     "data": {
      "text/plain": [
       "[0.0059808571016014556, 0.04163783945326527, 0.047618696554866724]"
      ]
     },
     "execution_count": 44,
     "metadata": {},
     "output_type": "execute_result"
    }
   ],
   "source": [
    "dppl_prod_gr_id = get_DPPL(\n",
    "    data_frame=df,\n",
    "    column_to_group_by='prod_gr_id',\n",
    "    column_to_count='predict_automatch'\n",
    ")\n",
    "\n",
    "dppl_prod_gr_id"
   ]
  },
  {
   "cell_type": "markdown",
   "metadata": {},
   "source": [
    "#### CONCLUSIONS:\n",
    "\n",
    "> Basing solely on DPPL we can loosely assume that there is no disparity impact between Classes of Variable **prod_gr_id**"
   ]
  },
  {
   "cell_type": "markdown",
   "metadata": {},
   "source": [
    "## VARIABLE: country_id_n"
   ]
  },
  {
   "cell_type": "markdown",
   "metadata": {},
   "source": [
    "### country_id_n total count"
   ]
  },
  {
   "cell_type": "code",
   "execution_count": 18,
   "metadata": {
    "scrolled": true
   },
   "outputs": [],
   "source": [
    "total_counts = df.groupby(['country_id_n']) \\\n",
    "    .size() \\\n",
    "    .rename('count_total') \\\n",
    "    .reset_index() \\\n",
    "    .sort_values(by='country_id_n', ascending=False) \\\n",
    "    .set_index('country_id_n')\n",
    "\n",
    "# total_counts"
   ]
  },
  {
   "cell_type": "markdown",
   "metadata": {},
   "source": [
    "### country_id_n by predicted classes"
   ]
  },
  {
   "cell_type": "code",
   "execution_count": 19,
   "metadata": {
    "scrolled": true
   },
   "outputs": [],
   "source": [
    "grouped_counts = df.groupby(['country_id_n', 'predict_automatch']) \\\n",
    "    .size() \\\n",
    "    .rename('count') \\\n",
    "    .reset_index() \\\n",
    "    .sort_values(by='country_id_n', ascending=False) \\\n",
    "    .set_index('country_id_n')\n",
    "\n",
    "# grouped_counts"
   ]
  },
  {
   "cell_type": "code",
   "execution_count": 20,
   "metadata": {
    "scrolled": true
   },
   "outputs": [],
   "source": [
    "positive_grouped_counts = grouped_counts.loc[grouped_counts['predict_automatch'] == '1']\n",
    "\n",
    "# positive_grouped_counts"
   ]
  },
  {
   "cell_type": "code",
   "execution_count": 21,
   "metadata": {
    "scrolled": true
   },
   "outputs": [],
   "source": [
    "merged_counts = pd.merge(positive_grouped_counts, total_counts, left_index=True, right_index=True)\n",
    "\n",
    "# merged_counts"
   ]
  },
  {
   "cell_type": "markdown",
   "metadata": {},
   "source": [
    "### DPPL metric"
   ]
  },
  {
   "cell_type": "code",
   "execution_count": 22,
   "metadata": {
    "scrolled": false
   },
   "outputs": [
    {
     "name": "stdout",
     "output_type": "stream",
     "text": [
      "Positive Proportion of Predicted Label (PPL) for Variable [prod_gr_id] for Class == 177 : 68%\n",
      "Positive Proportion of Predicted Label (PPL) for Variable [prod_gr_id] for Class == 176 : 66%\n",
      "Positive Proportion of Predicted Label (PPL) for Variable [prod_gr_id] for Class == 160 : 68%\n",
      "Positive Proportion of Predicted Label (PPL) for Variable [prod_gr_id] for Class == 139 : 57%\n",
      "Positive Proportion of Predicted Label (PPL) for Variable [prod_gr_id] for Class == 138 : 63%\n",
      "Positive Proportion of Predicted Label (PPL) for Variable [prod_gr_id] for Class == 136 : 69%\n",
      "Positive Proportion of Predicted Label (PPL) for Variable [prod_gr_id] for Class == 126 : 68%\n",
      "Positive Proportion of Predicted Label (PPL) for Variable [prod_gr_id] for Class == 121 : 65%\n",
      "Positive Proportion of Predicted Label (PPL) for Variable [prod_gr_id] for Class == 116 : 65%\n",
      "Positive Proportion of Predicted Label (PPL) for Variable [prod_gr_id] for Class == 114 : 69%\n",
      "Positive Proportion of Predicted Label (PPL) for Variable [prod_gr_id] for Class == 113 : 67%\n",
      "Positive Proportion of Predicted Label (PPL) for Variable [prod_gr_id] for Class == 110 : 65%\n",
      "Positive Proportion of Predicted Label (PPL) for Variable [prod_gr_id] for Class == 109 : 39%\n",
      "Positive Proportion of Predicted Label (PPL) for Variable [prod_gr_id] for Class == 108 : 69%\n",
      "Positive Proportion of Predicted Label (PPL) for Variable [prod_gr_id] for Class == 107 : 67%\n",
      "Positive Proportion of Predicted Label (PPL) for Variable [prod_gr_id] for Class == 106 : 43%\n",
      "Positive Proportion of Predicted Label (PPL) for Variable [prod_gr_id] for Class == 105 : 67%\n",
      "Positive Proportion of Predicted Label (PPL) for Variable [prod_gr_id] for Class == 104 : 70%\n",
      "Positive Proportion of Predicted Label (PPL) for Variable [prod_gr_id] for Class == 103 : 71%\n",
      "Positive Proportion of Predicted Label (PPL) for Variable [prod_gr_id] for Class == 1011 : 73%\n",
      "Positive Proportion of Predicted Label (PPL) for Variable [prod_gr_id] for Class == 1010 : 68%\n",
      "Positive Proportion of Predicted Label (PPL) for Variable [prod_gr_id] for Class == 1002 : 73%\n",
      "\n",
      " Differences in Positive Proportion of Predicted Label (PPL) for all Class of Variable [prod_gr_id]: \n",
      " [9.428328985827683e-05, 0.00011386681649139252, 0.00037538733953079717, 0.0004892541560221897, 0.0005626022913256534, 0.0006568855811839303, 0.0008134281600035154, 0.0008728346985362734, 0.0009671179883945502, 0.0010485371215964712, 0.0013434841021048305, 0.0014897579143389184, 0.0015297202797202036, 0.00181436210847985, 0.002156912262108346, 0.005022446689113336, 0.006070983810709807, 0.006493506493506551, 0.006836808797593186, 0.0073663411920428246, 0.007460624481901101, 0.007836990595611382, 0.007885345919189657, 0.0080195539754363, 0.008023226773226755, 0.008582156266761953, 0.008650418755614897, 0.00867643955662023, 0.008709825294147655, 0.008804108584005932, 0.009366710875331585, 0.009387099281903177, 0.00952325345415117, 0.009549274255156504, 0.009617536744009447, 0.00983391608391615, 0.0101801390353351, 0.010200527441906693, 0.010396518375241803, 0.01049080166510008, 0.011363636363636354, 0.011544011544011523, 0.011835560076195684, 0.014491917049566427, 0.01460578386605782, 0.014787005822862409, 0.014856362773029486, 0.014981171205588617, 0.015162393162393206, 0.015276259978884599, 0.015418965064355139, 0.015513248354213416, 0.015540454171162899, 0.01565432098765429, 0.015904899894625957, 0.016029708327185088, 0.016042780748663055, 0.01638608305274969, 0.01646750218595161, 0.016561785475809887, 0.017386264850767885, 0.01743462017434616, 0.017857142857142905, 0.018037518037518074, 0.0181996930107714, 0.018910352736054348, 0.019004636025912625, 0.019200626959247735, 0.019567238317238278, 0.02001405511925125, 0.020152315487098837, 0.020562900860276234, 0.020676767676767627, 0.021052155016298424, 0.02122265935809886, 0.021642073401437756, 0.022036087518102376, 0.022377262968756084, 0.022491129785247477, 0.022866517124778274, 0.02287958954625624, 0.023379571620207207, 0.02392812666785271, 0.02422307364836107, 0.025036501808364586, 0.025271610769957542, 0.026085038929961057, 0.027586792292674578, 0.029401154401154428, 0.029768177028451026, 0.029873078113713758, 0.030396816944192384, 0.030510683760683777, 0.03074591281225003, 0.030816714150047497, 0.030840196102108308, 0.030886071100214574, 0.030959419235518038, 0.031053702525376314, 0.03107328605200943, 0.031167569341867707, 0.03140279839343396, 0.03144867339154023, 0.031542956681398504, 0.03192653722391259, 0.03198787556329452, 0.03204040404040398, 0.03241579137993478, 0.03347763347763344, 0.034423601090267764, 0.035472138211864235, 0.03583916083916083, 0.03765352294764068, 0.03842004371741914, 0.03853391053391053, 0.03890929787344133, 0.03942235236887026, 0.03976352781952397, 0.03987739463601536, 0.04025278197554616, 0.040576955979527485, 0.04069082279601888, 0.041066210135549674, 0.04123671447735011, 0.0413749748451977, 0.042188403005201214, 0.04286473275953662, 0.043531887107306044, 0.04367816091954013, 0.04386978450252177, 0.04502164502164496, 0.04567307692307698, 0.046235679214402636, 0.04625916116646345, 0.04632996250426091, 0.047202797202797186, 0.04730769828805992, 0.04996405526143066, 0.050025393600812595, 0.050077922077922055, 0.05045330941745285, 0.05089822829934887, 0.050992511589207146, 0.051515151515151514, 0.0515551138805328, 0.05238798621368779, 0.052482269503546064, 0.05304487179487172, 0.05369630369630374, 0.05503978779840857, 0.055853215958412084, 0.0595746678559691, 0.06106442577030802, 0.06138902996444895, 0.061799615337626346, 0.06191348215411774, 0.062288869493648535, 0.06287878787878787, 0.06524031524031526, 0.06612223393045302, 0.06641147665356228, 0.06746001377515876, 0.0679012345679012, 0.06894977168949767, 0.07707587531651094, 0.08090923975331543, 0.08128462709284623, 0.08139849390933762, 0.08195193082472518, 0.08206579764121658, 0.08244118498074737, 0.0834416887390641, 0.0835555555555555, 0.08393094289508629, 0.09589041095890405, 0.09693894808050052, 0.09722819080360978, 0.0987179487179487, 0.10196139476961386, 0.1037757568780937, 0.11179531085353, 0.11235791314485566, 0.11245219643471394, 0.11332503113325021, 0.11981853762675676, 0.12116202172886159, 0.1219754498888651, 0.13136254917076828, 0.13795669951574313, 0.14319810924696397, 0.1633504247340628, 0.16484018264840172, 0.1818264840182649, 0.20407893344619615, 0.21886593926905856, 0.21924132660858936, 0.21935519342508075, 0.23384711047464718, 0.23489564759624365, 0.239918094285357, 0.24173245639383684, 0.24794871794871792, 0.24975201036927314, 0.2503146126605988, 0.25040889595045707, 0.25128173064899334, 0.2577752371424999, 0.2591187212446047, 0.25993214940460824, 0.26273572377158033, 0.26311111111111113, 0.2632249779276025, 0.2693192486865114, 0.27771689497716895, 0.2787654320987654, 0.2811548087627071, 0.28378787878787876, 0.2856022408963586, 0.2936217948717949, 0.29418439716312056, 0.29427868045297884, 0.2951515151515151, 0.30130712424980594, 0.30164502164502166, 0.30279688216414485, 0.3029885057471265, 0.30380193390713, 0.3131890331890332, 0.32502459326522887, 0.3451769087523277, 0.3466666666666666] \n",
      "\n"
     ]
    },
    {
     "data": {
      "text/plain": [
       "country_id_n\n",
       "177     0.681818\n",
       "176     0.664384\n",
       "160     0.680851\n",
       "139     0.568493\n",
       "138     0.634615\n",
       "136     0.689655\n",
       "126     0.680945\n",
       "121     0.649892\n",
       "116     0.649402\n",
       "114     0.688312\n",
       "113     0.665432\n",
       "110     0.649778\n",
       "109     0.386667\n",
       "108     0.690469\n",
       "107     0.672269\n",
       "106     0.430536\n",
       "105     0.670455\n",
       "104     0.699856\n",
       "103     0.711691\n",
       "1011    0.731844\n",
       "1010    0.680288\n",
       "1002    0.733333\n",
       "Name: PPL, dtype: float64"
      ]
     },
     "execution_count": 22,
     "metadata": {},
     "output_type": "execute_result"
    }
   ],
   "source": [
    "dppl_country_id_n = get_DPPL(\n",
    "    data_frame=df,\n",
    "    column_to_group_by='country_id_n',\n",
    "    column_to_count='predict_automatch'\n",
    ")\n",
    "\n",
    "dppl_country_id_n"
   ]
  },
  {
   "cell_type": "markdown",
   "metadata": {},
   "source": [
    "#### CONCLUSIONS:\n",
    "\n",
    "> Basing solely on DPPL we can loosely assume that there is no disparity impact between Classes of Variable **prod_gr_id**"
   ]
  },
  {
   "cell_type": "markdown",
   "metadata": {},
   "source": [
    "## Disparate (Adverse) Impact (DI)"
   ]
  },
  {
   "cell_type": "markdown",
   "metadata": {},
   "source": [
    "![image info](./docs/images/DI.png)"
   ]
  },
  {
   "cell_type": "markdown",
   "metadata": {},
   "source": [
    "[SOURCE](https://pages.awscloud.com/rs/112-TZM-766/images/Amazon.AI.Fairness.and.Explainability.Whitepaper.pdf)"
   ]
  },
  {
   "cell_type": "markdown",
   "metadata": {},
   "source": [
    "### CHARACTERISTICS OF METRIC:\n",
    "> **DI >= 0**\n",
    "\n",
    "> This measure may be considered fair if it resides in the **<0.8; 1.2>** range."
   ]
  },
  {
   "cell_type": "markdown",
   "metadata": {},
   "source": [
    "## VARIABLE: prod_gr_id"
   ]
  },
  {
   "cell_type": "code",
   "execution_count": 23,
   "metadata": {
    "scrolled": true
   },
   "outputs": [
    {
     "data": {
      "text/plain": [
       "[0.928263019552467,\n",
       " 0.9372731071860653,\n",
       " 0.9903869133078523,\n",
       " 1.0097063951098064,\n",
       " 1.0669248827615005,\n",
       " 1.0772808772260676]"
      ]
     },
     "execution_count": 23,
     "metadata": {},
     "output_type": "execute_result"
    }
   ],
   "source": [
    "sorted([abs(i / j) for i in dppl_prod_gr_id for j in dppl_prod_gr_id if i != j])"
   ]
  },
  {
   "cell_type": "markdown",
   "metadata": {},
   "source": [
    "#### CONCLUSIONS:\n",
    "\n",
    "> For each possible relation between Classes of Variable **prod_gr_id** the metric resides between **<0.8; 1.2>**\n",
    "\n",
    "> We can loosely assume that there is no disparity impact between Classes of Variable **prod_gr_id**"
   ]
  },
  {
   "cell_type": "markdown",
   "metadata": {},
   "source": [
    "## VARIABLE: country_id_n"
   ]
  },
  {
   "cell_type": "code",
   "execution_count": 24,
   "metadata": {},
   "outputs": [],
   "source": [
    "di_country_id_n = sorted([abs(i / j) for i in dppl_country_id_n for j in dppl_country_id_n if i != j])"
   ]
  },
  {
   "cell_type": "code",
   "execution_count": 25,
   "metadata": {},
   "outputs": [
    {
     "name": "stdout",
     "output_type": "stream",
     "text": [
      "(0.526, 0.87]      57\n",
      "(0.87, 1.212]     359\n",
      "(1.212, 1.554]     14\n",
      "(1.554, 1.897]     32\n",
      "dtype: int64\n"
     ]
    }
   ],
   "source": [
    "print(pd.cut(di_country_id_n, bins=4).value_counts())"
   ]
  },
  {
   "cell_type": "code",
   "execution_count": 26,
   "metadata": {
    "scrolled": true
   },
   "outputs": [
    {
     "data": {
      "text/plain": [
       "count    462.000000\n",
       "mean       1.025311\n",
       "std        0.238095\n",
       "min        0.527273\n",
       "25%        0.943997\n",
       "50%        1.000000\n",
       "75%        1.059325\n",
       "max        1.896552\n",
       "dtype: float64"
      ]
     },
     "execution_count": 26,
     "metadata": {},
     "output_type": "execute_result"
    }
   ],
   "source": [
    "pd.Series(di_country_id_n).describe()"
   ]
  },
  {
   "cell_type": "markdown",
   "metadata": {},
   "source": [
    "#### CONCLUSIONS:\n",
    "\n",
    "> There is more than 100 Classes of Variable **country_id_n** out of **<0.8; 1.2>** bounds.\n",
    "\n",
    "> At this moment we can loosely assume that there are some examples of Disparity Impact in case of **country_id_n**"
   ]
  },
  {
   "cell_type": "markdown",
   "metadata": {},
   "source": [
    "## Difference in Conditional Outcome (DCO)\n",
    "> Type 1: **Difference in Conditional Acceptance (DCA)**\n",
    "\n",
    "> Type 2: **Difference in Conditional Rejection (DCR)**"
   ]
  },
  {
   "cell_type": "markdown",
   "metadata": {},
   "source": [
    "### Difference in Conditional Acceptance (DCA)"
   ]
  },
  {
   "cell_type": "markdown",
   "metadata": {},
   "source": [
    "![image info](./docs/images/DCA.jpg)"
   ]
  },
  {
   "cell_type": "markdown",
   "metadata": {},
   "source": [
    "[SOURCE](https://pages.awscloud.com/rs/112-TZM-766/images/Amazon.AI.Fairness.and.Explainability.Whitepaper.pdf)"
   ]
  },
  {
   "cell_type": "markdown",
   "metadata": {},
   "source": [
    "#### CHARACTERISTICS OF METRIC:\n",
    "> Unbounded\n",
    "\n",
    "> Zero denominator is possible. In such case the allocations to each Class are too small and a warning should be issued."
   ]
  },
  {
   "cell_type": "markdown",
   "metadata": {},
   "source": [
    "## VARIABLE: prod_gr_id"
   ]
  },
  {
   "cell_type": "code",
   "execution_count": 27,
   "metadata": {},
   "outputs": [],
   "source": [
    "def get_DCA(data_frame, column_to_group_by, column_to_count_acctuals, column_to_count_predictions):\n",
    "    \"\"\"\n",
    "    :param data_frame: \n",
    "    :param column_to_group_by: \n",
    "    :param column_to_count: \n",
    "    :return: \n",
    "    \"\"\"\n",
    "    \n",
    "    counts_total_labels = data_frame.groupby([column_to_group_by]) \\\n",
    "    .size() \\\n",
    "    .rename('count_total') \\\n",
    "    .reset_index() \\\n",
    "    .sort_values(by=column_to_group_by, ascending=False) \\\n",
    "    .set_index(column_to_group_by)\n",
    "    print(counts_total_labels)\n",
    "    \n",
    "    \n",
    "    counts_acctuals = data_frame.groupby([column_to_group_by, column_to_count_acctuals]) \\\n",
    "    .size() \\\n",
    "    .rename('count_total_acctuals') \\\n",
    "    .reset_index() \\\n",
    "    .sort_values(by=column_to_group_by, ascending=False) \\\n",
    "    .set_index(column_to_group_by)\n",
    "    print(counts_acctuals)\n",
    "    \n",
    "    positive_counts_acctuals = counts_acctuals.loc[counts_acctuals[column_to_count_acctuals] == '1']\n",
    "    print(positive_counts_acctuals)\n",
    "    \n",
    "    \n",
    "    counts_predictions = data_frame.groupby([column_to_group_by, column_to_count_predictions]) \\\n",
    "    .size() \\\n",
    "    .rename('count_total_predictions') \\\n",
    "    .reset_index() \\\n",
    "    .sort_values(by=column_to_group_by, ascending=False) \\\n",
    "    .set_index(column_to_group_by)\n",
    "    print(counts_predictions)\n",
    "\n",
    "    positive_counts_predictions= counts_predictions.loc[counts_predictions[column_to_count_predictions] == '1']\n",
    "    print(positive_counts_predictions)\n",
    "    \n",
    "    \n",
    "    df = pd.merge(positive_counts_acctuals, positive_counts_predictions, left_index=True, right_index=True)\n",
    "#     df['DCA'] = df['count'] / df['count_total']\n",
    "    \n",
    "    print(df)\n",
    "\n",
    "    for cat, dca in df['DCA'].iteritems():\n",
    "        print('Positive Proportion of Predicted Label (PPL) for Variable [prod_gr_id] for Class ==', cat, ':', f'{dca:.0%}')\n",
    "            \n",
    "    return df['DCA']"
   ]
  },
  {
   "cell_type": "code",
   "execution_count": 28,
   "metadata": {},
   "outputs": [
    {
     "name": "stdout",
     "output_type": "stream",
     "text": [
      "            count_total\n",
      "prod_gr_id             \n",
      "427                3367\n",
      "426               11844\n",
      "413                4486\n",
      "           class_acctual  count_total_acctuals\n",
      "prod_gr_id                                    \n",
      "427                    0                   875\n",
      "427                    1                  2492\n",
      "426                    0                  3064\n",
      "426                    1                  8780\n",
      "413                    0                  1119\n",
      "413                    1                  3367\n",
      "           class_acctual  count_total_acctuals\n",
      "prod_gr_id                                    \n",
      "427                    1                  2492\n",
      "426                    1                  8780\n",
      "413                    1                  3367\n",
      "           predict_automatch  count_total_predictions\n",
      "prod_gr_id                                           \n",
      "427                        0                     1116\n",
      "427                        1                     2235\n",
      "426                        0                     4278\n",
      "426                        1                     7298\n",
      "413                        0                     1650\n",
      "413                        1                     2791\n",
      "           predict_automatch  count_total_predictions\n",
      "prod_gr_id                                           \n",
      "427                        1                     2235\n",
      "426                        1                     7298\n",
      "413                        1                     2791\n",
      "           class_acctual  count_total_acctuals predict_automatch  \\\n",
      "prod_gr_id                                                         \n",
      "427                    1                  2492                 1   \n",
      "426                    1                  8780                 1   \n",
      "413                    1                  3367                 1   \n",
      "\n",
      "            count_total_predictions  \n",
      "prod_gr_id                           \n",
      "427                            2235  \n",
      "426                            7298  \n",
      "413                            2791  \n"
     ]
    },
    {
     "ename": "KeyError",
     "evalue": "'DCA'",
     "output_type": "error",
     "traceback": [
      "\u001b[1;31m---------------------------------------------------------------------------\u001b[0m",
      "\u001b[1;31mKeyError\u001b[0m                                  Traceback (most recent call last)",
      "File \u001b[1;32m~\\gfk_data_analyst\\gfk_ml_ops_data_analyst\\venv\\lib\\site-packages\\pandas\\core\\indexes\\base.py:3621\u001b[0m, in \u001b[0;36mIndex.get_loc\u001b[1;34m(self, key, method, tolerance)\u001b[0m\n\u001b[0;32m   3620\u001b[0m \u001b[38;5;28;01mtry\u001b[39;00m:\n\u001b[1;32m-> 3621\u001b[0m     \u001b[38;5;28;01mreturn\u001b[39;00m \u001b[38;5;28;43mself\u001b[39;49m\u001b[38;5;241;43m.\u001b[39;49m\u001b[43m_engine\u001b[49m\u001b[38;5;241;43m.\u001b[39;49m\u001b[43mget_loc\u001b[49m\u001b[43m(\u001b[49m\u001b[43mcasted_key\u001b[49m\u001b[43m)\u001b[49m\n\u001b[0;32m   3622\u001b[0m \u001b[38;5;28;01mexcept\u001b[39;00m \u001b[38;5;167;01mKeyError\u001b[39;00m \u001b[38;5;28;01mas\u001b[39;00m err:\n",
      "File \u001b[1;32m~\\gfk_data_analyst\\gfk_ml_ops_data_analyst\\venv\\lib\\site-packages\\pandas\\_libs\\index.pyx:136\u001b[0m, in \u001b[0;36mpandas._libs.index.IndexEngine.get_loc\u001b[1;34m()\u001b[0m\n",
      "File \u001b[1;32m~\\gfk_data_analyst\\gfk_ml_ops_data_analyst\\venv\\lib\\site-packages\\pandas\\_libs\\index.pyx:163\u001b[0m, in \u001b[0;36mpandas._libs.index.IndexEngine.get_loc\u001b[1;34m()\u001b[0m\n",
      "File \u001b[1;32mpandas\\_libs\\hashtable_class_helper.pxi:5198\u001b[0m, in \u001b[0;36mpandas._libs.hashtable.PyObjectHashTable.get_item\u001b[1;34m()\u001b[0m\n",
      "File \u001b[1;32mpandas\\_libs\\hashtable_class_helper.pxi:5206\u001b[0m, in \u001b[0;36mpandas._libs.hashtable.PyObjectHashTable.get_item\u001b[1;34m()\u001b[0m\n",
      "\u001b[1;31mKeyError\u001b[0m: 'DCA'",
      "\nThe above exception was the direct cause of the following exception:\n",
      "\u001b[1;31mKeyError\u001b[0m                                  Traceback (most recent call last)",
      "Input \u001b[1;32mIn [28]\u001b[0m, in \u001b[0;36m<cell line: 1>\u001b[1;34m()\u001b[0m\n\u001b[1;32m----> 1\u001b[0m dca_country_id_n \u001b[38;5;241m=\u001b[39m \u001b[43mget_DCA\u001b[49m\u001b[43m(\u001b[49m\n\u001b[0;32m      2\u001b[0m \u001b[43m    \u001b[49m\u001b[43mdata_frame\u001b[49m\u001b[38;5;241;43m=\u001b[39;49m\u001b[43mdf\u001b[49m\u001b[43m,\u001b[49m\n\u001b[0;32m      3\u001b[0m \u001b[43m    \u001b[49m\u001b[43mcolumn_to_group_by\u001b[49m\u001b[38;5;241;43m=\u001b[39;49m\u001b[38;5;124;43m'\u001b[39;49m\u001b[38;5;124;43mprod_gr_id\u001b[39;49m\u001b[38;5;124;43m'\u001b[39;49m\u001b[43m,\u001b[49m\n\u001b[0;32m      4\u001b[0m \u001b[43m    \u001b[49m\u001b[43mcolumn_to_count_acctuals\u001b[49m\u001b[38;5;241;43m=\u001b[39;49m\u001b[38;5;124;43m'\u001b[39;49m\u001b[38;5;124;43mclass_acctual\u001b[39;49m\u001b[38;5;124;43m'\u001b[39;49m\u001b[43m,\u001b[49m\n\u001b[0;32m      5\u001b[0m \u001b[43m    \u001b[49m\u001b[43mcolumn_to_count_predictions\u001b[49m\u001b[38;5;241;43m=\u001b[39;49m\u001b[38;5;124;43m'\u001b[39;49m\u001b[38;5;124;43mpredict_automatch\u001b[39;49m\u001b[38;5;124;43m'\u001b[39;49m\n\u001b[0;32m      6\u001b[0m \u001b[43m)\u001b[49m\n\u001b[0;32m      8\u001b[0m dca_country_id_n\n",
      "Input \u001b[1;32mIn [27]\u001b[0m, in \u001b[0;36mget_DCA\u001b[1;34m(data_frame, column_to_group_by, column_to_count_acctuals, column_to_count_predictions)\u001b[0m\n\u001b[0;32m     43\u001b[0m \u001b[38;5;66;03m#     df['DCA'] = df['count'] / df['count_total']\u001b[39;00m\n\u001b[0;32m     45\u001b[0m     \u001b[38;5;28mprint\u001b[39m(df)\n\u001b[1;32m---> 47\u001b[0m     \u001b[38;5;28;01mfor\u001b[39;00m cat, dca \u001b[38;5;129;01min\u001b[39;00m \u001b[43mdf\u001b[49m\u001b[43m[\u001b[49m\u001b[38;5;124;43m'\u001b[39;49m\u001b[38;5;124;43mDCA\u001b[39;49m\u001b[38;5;124;43m'\u001b[39;49m\u001b[43m]\u001b[49m\u001b[38;5;241m.\u001b[39miteritems():\n\u001b[0;32m     48\u001b[0m         \u001b[38;5;28mprint\u001b[39m(\u001b[38;5;124m'\u001b[39m\u001b[38;5;124mPositive Proportion of Predicted Label (PPL) for Variable [prod_gr_id] for Class ==\u001b[39m\u001b[38;5;124m'\u001b[39m, cat, \u001b[38;5;124m'\u001b[39m\u001b[38;5;124m:\u001b[39m\u001b[38;5;124m'\u001b[39m, \u001b[38;5;124mf\u001b[39m\u001b[38;5;124m'\u001b[39m\u001b[38;5;132;01m{\u001b[39;00mdca\u001b[38;5;132;01m:\u001b[39;00m\u001b[38;5;124m.0%\u001b[39m\u001b[38;5;132;01m}\u001b[39;00m\u001b[38;5;124m'\u001b[39m)\n\u001b[0;32m     50\u001b[0m     \u001b[38;5;28;01mreturn\u001b[39;00m df[\u001b[38;5;124m'\u001b[39m\u001b[38;5;124mDCA\u001b[39m\u001b[38;5;124m'\u001b[39m]\n",
      "File \u001b[1;32m~\\gfk_data_analyst\\gfk_ml_ops_data_analyst\\venv\\lib\\site-packages\\pandas\\core\\frame.py:3505\u001b[0m, in \u001b[0;36mDataFrame.__getitem__\u001b[1;34m(self, key)\u001b[0m\n\u001b[0;32m   3503\u001b[0m \u001b[38;5;28;01mif\u001b[39;00m \u001b[38;5;28mself\u001b[39m\u001b[38;5;241m.\u001b[39mcolumns\u001b[38;5;241m.\u001b[39mnlevels \u001b[38;5;241m>\u001b[39m \u001b[38;5;241m1\u001b[39m:\n\u001b[0;32m   3504\u001b[0m     \u001b[38;5;28;01mreturn\u001b[39;00m \u001b[38;5;28mself\u001b[39m\u001b[38;5;241m.\u001b[39m_getitem_multilevel(key)\n\u001b[1;32m-> 3505\u001b[0m indexer \u001b[38;5;241m=\u001b[39m \u001b[38;5;28;43mself\u001b[39;49m\u001b[38;5;241;43m.\u001b[39;49m\u001b[43mcolumns\u001b[49m\u001b[38;5;241;43m.\u001b[39;49m\u001b[43mget_loc\u001b[49m\u001b[43m(\u001b[49m\u001b[43mkey\u001b[49m\u001b[43m)\u001b[49m\n\u001b[0;32m   3506\u001b[0m \u001b[38;5;28;01mif\u001b[39;00m is_integer(indexer):\n\u001b[0;32m   3507\u001b[0m     indexer \u001b[38;5;241m=\u001b[39m [indexer]\n",
      "File \u001b[1;32m~\\gfk_data_analyst\\gfk_ml_ops_data_analyst\\venv\\lib\\site-packages\\pandas\\core\\indexes\\base.py:3623\u001b[0m, in \u001b[0;36mIndex.get_loc\u001b[1;34m(self, key, method, tolerance)\u001b[0m\n\u001b[0;32m   3621\u001b[0m     \u001b[38;5;28;01mreturn\u001b[39;00m \u001b[38;5;28mself\u001b[39m\u001b[38;5;241m.\u001b[39m_engine\u001b[38;5;241m.\u001b[39mget_loc(casted_key)\n\u001b[0;32m   3622\u001b[0m \u001b[38;5;28;01mexcept\u001b[39;00m \u001b[38;5;167;01mKeyError\u001b[39;00m \u001b[38;5;28;01mas\u001b[39;00m err:\n\u001b[1;32m-> 3623\u001b[0m     \u001b[38;5;28;01mraise\u001b[39;00m \u001b[38;5;167;01mKeyError\u001b[39;00m(key) \u001b[38;5;28;01mfrom\u001b[39;00m \u001b[38;5;21;01merr\u001b[39;00m\n\u001b[0;32m   3624\u001b[0m \u001b[38;5;28;01mexcept\u001b[39;00m \u001b[38;5;167;01mTypeError\u001b[39;00m:\n\u001b[0;32m   3625\u001b[0m     \u001b[38;5;66;03m# If we have a listlike key, _check_indexing_error will raise\u001b[39;00m\n\u001b[0;32m   3626\u001b[0m     \u001b[38;5;66;03m#  InvalidIndexError. Otherwise we fall through and re-raise\u001b[39;00m\n\u001b[0;32m   3627\u001b[0m     \u001b[38;5;66;03m#  the TypeError.\u001b[39;00m\n\u001b[0;32m   3628\u001b[0m     \u001b[38;5;28mself\u001b[39m\u001b[38;5;241m.\u001b[39m_check_indexing_error(key)\n",
      "\u001b[1;31mKeyError\u001b[0m: 'DCA'"
     ]
    }
   ],
   "source": [
    "dca_country_id_n = get_DCA(\n",
    "    data_frame=df,\n",
    "    column_to_group_by='prod_gr_id',\n",
    "    column_to_count_acctuals='class_acctual',\n",
    "    column_to_count_predictions='predict_automatch'\n",
    ")\n",
    "\n",
    "dca_country_id_n"
   ]
  },
  {
   "cell_type": "markdown",
   "metadata": {},
   "source": [
    "### Difference in Conditional Rejection (DCR)"
   ]
  },
  {
   "cell_type": "markdown",
   "metadata": {},
   "source": [
    "![image info](./docs/images/DCR.jpg)"
   ]
  },
  {
   "cell_type": "markdown",
   "metadata": {},
   "source": [
    "[SOURCE](https://pages.awscloud.com/rs/112-TZM-766/images/Amazon.AI.Fairness.and.Explainability.Whitepaper.pdf)"
   ]
  },
  {
   "cell_type": "markdown",
   "metadata": {},
   "source": [
    "#### CHARACTERISTICS OF METRIC:\n",
    "> Unbounded\n",
    "\n",
    "> Zero denominator is possible. In such case the allocations to each Class are too small and a warning should be issued."
   ]
  },
  {
   "cell_type": "code",
   "execution_count": null,
   "metadata": {},
   "outputs": [],
   "source": []
  },
  {
   "cell_type": "code",
   "execution_count": null,
   "metadata": {},
   "outputs": [],
   "source": []
  }
 ],
 "metadata": {
  "kernelspec": {
   "display_name": "Python 3 (ipykernel)",
   "language": "python",
   "name": "python3"
  },
  "language_info": {
   "codemirror_mode": {
    "name": "ipython",
    "version": 3
   },
   "file_extension": ".py",
   "mimetype": "text/x-python",
   "name": "python",
   "nbconvert_exporter": "python",
   "pygments_lexer": "ipython3",
   "version": "3.9.3"
  }
 },
 "nbformat": 4,
 "nbformat_minor": 1
}

{
 "cells": [
  {
   "cell_type": "code",
   "execution_count": 1,
   "metadata": {
    "scrolled": true
   },
   "outputs": [
    {
     "name": "stdout",
     "output_type": "stream",
     "text": [
      "Package               Version\n",
      "--------------------- -----------\n",
      "argon2-cffi           21.3.0\n",
      "argon2-cffi-bindings  21.2.0\n",
      "asttokens             2.0.8\n",
      "attrs                 22.1.0\n",
      "backcall              0.2.0\n",
      "beautifulsoup4        4.11.1\n",
      "bleach                5.0.1\n",
      "certifi               2022.6.15\n",
      "cffi                  1.15.1\n",
      "charset-normalizer    2.1.1\n",
      "colorama              0.4.5\n",
      "cycler                0.11.0\n",
      "debugpy               1.6.3\n",
      "decorator             5.1.1\n",
      "defusedxml            0.7.1\n",
      "entrypoints           0.4\n",
      "executing             0.10.0\n",
      "fastjsonschema        2.16.1\n",
      "fonttools             4.37.0\n",
      "htmlmin               0.1.12\n",
      "idna                  3.3\n",
      "ImageHash             4.2.1\n",
      "importlib-metadata    4.12.0\n",
      "ipykernel             6.15.1\n",
      "ipython               8.4.0\n",
      "ipython-genutils      0.2.0\n",
      "ipywidgets            8.0.1\n",
      "jedi                  0.18.1\n",
      "Jinja2                3.1.2\n",
      "joblib                1.1.0\n",
      "jsonschema            4.14.0\n",
      "jupyter-client        7.3.4\n",
      "jupyter-core          4.11.1\n",
      "jupyterlab-pygments   0.2.2\n",
      "jupyterlab-widgets    3.0.2\n",
      "kiwisolver            1.4.4\n",
      "lxml                  4.9.1\n",
      "MarkupSafe            2.1.1\n",
      "matplotlib            3.5.3\n",
      "matplotlib-inline     0.1.6\n",
      "missingno             0.5.1\n",
      "mistune               2.0.4\n",
      "multimethod           1.8\n",
      "nbclient              0.6.7\n",
      "nbconvert             7.0.0\n",
      "nbformat              5.4.0\n",
      "nest-asyncio          1.5.5\n",
      "networkx              2.8.6\n",
      "notebook              6.4.12\n",
      "numpy                 1.23.2\n",
      "packaging             21.3\n",
      "pandas                1.4.3\n",
      "pandas-profiling      3.2.0\n",
      "pandocfilters         1.5.0\n",
      "parso                 0.8.3\n",
      "phik                  0.12.2\n",
      "pickleshare           0.7.5\n",
      "Pillow                9.2.0\n",
      "pip                   22.2.1\n",
      "prometheus-client     0.14.1\n",
      "prompt-toolkit        3.0.30\n",
      "psutil                5.9.1\n",
      "pure-eval             0.2.2\n",
      "pycparser             2.21\n",
      "pydantic              1.9.2\n",
      "Pygments              2.13.0\n",
      "pyparsing             3.0.9\n",
      "pyrsistent            0.18.1\n",
      "python-dateutil       2.8.2\n",
      "pytz                  2022.2.1\n",
      "PyWavelets            1.3.0\n",
      "pywin32               304\n",
      "pywinpty              2.0.7\n",
      "PyYAML                6.0\n",
      "pyzmq                 23.2.1\n",
      "requests              2.28.1\n",
      "scipy                 1.9.0\n",
      "seaborn               0.11.2\n",
      "Send2Trash            1.8.0\n",
      "setuptools            63.2.0\n",
      "six                   1.16.0\n",
      "soupsieve             2.3.2.post1\n",
      "stack-data            0.4.0\n",
      "tangled-up-in-unicode 0.2.0\n",
      "terminado             0.15.0\n",
      "tinycss2              1.1.1\n",
      "tornado               6.2\n",
      "tqdm                  4.64.0\n",
      "traitlets             5.3.0\n",
      "typing_extensions     4.3.0\n",
      "urllib3               1.26.12\n",
      "visions               0.7.4\n",
      "wcwidth               0.2.5\n",
      "webencodings          0.5.1\n",
      "wheel                 0.37.1\n",
      "widgetsnbextension    4.0.2\n",
      "zipp                  3.8.1\n"
     ]
    },
    {
     "name": "stderr",
     "output_type": "stream",
     "text": [
      "\n",
      "[notice] A new release of pip available: 22.2.1 -> 22.2.2\n",
      "[notice] To update, run: python.exe -m pip install --upgrade pip\n"
     ]
    }
   ],
   "source": [
    "!pip list"
   ]
  },
  {
   "cell_type": "code",
   "execution_count": 2,
   "metadata": {},
   "outputs": [],
   "source": [
    "import os\n",
    "import json\n",
    "import numpy as np\n",
    "import pandas as pd\n",
    "from pandas_profiling import ProfileReport"
   ]
  },
  {
   "cell_type": "code",
   "execution_count": 3,
   "metadata": {},
   "outputs": [],
   "source": [
    "INPUT_PATH=\"input\"\n",
    "OUTPUT_PATH=\"output\"\n",
    "CONFIG_PATH=\"config\"\n",
    "\n",
    "INPUT_DATA=\"test_data2\"\n",
    "INPUT_DATA_CONFIG=\"input_config\"\n",
    "OUTPUT_DATA=\"output\"\n",
    "\n",
    "INPUT_EXTENSION=\"csv\"\n",
    "INPUT_CONFIG_EXTENSION=\"json\"\n",
    "OUTPUT_EXTENSION=\"csv\"\n",
    "\n",
    "INPUT_FILE=f\"{INPUT_DATA}.{INPUT_EXTENSION}\"\n",
    "INPUT_CONFIG_FILE=f\"{INPUT_DATA_CONFIG}.{INPUT_CONFIG_EXTENSION}\"\n",
    "OUTPUT_FILE=f\"{OUTPUT_DATA}.{OUTPUT_EXTENSION}\"\n",
    "\n",
    "INPUT_ABS_APTH=os.path.abspath(os.path.join(INPUT_PATH, INPUT_FILE))\n",
    "INPUT_FILE_CONFIG=os.path.abspath(os.path.join(CONFIG_PATH, INPUT_CONFIG_FILE))\n",
    "OUTPUT_ABS_APTH=os.path.abspath(os.path.join(OUTPUT_PATH, OUTPUT_FILE))"
   ]
  },
  {
   "cell_type": "code",
   "execution_count": 22,
   "metadata": {},
   "outputs": [],
   "source": [
    "with open(INPUT_FILE_CONFIG, encoding='utf-8') as f:\n",
    "    CONFIG = json.load(f)"
   ]
  },
  {
   "cell_type": "code",
   "execution_count": 23,
   "metadata": {},
   "outputs": [
    {
     "data": {
      "text/plain": [
       "{'INPUTS': {'FILE_NAME': ['test_data2.csv'],\n",
       "  'SEPARATOR': ',',\n",
       "  'DECIMAL': None,\n",
       "  'ENCODING': 'utf-8',\n",
       "  'FLOAT_PRECISION': 'high',\n",
       "  'INDEXES': ['period_end_date', 'translated_when'],\n",
       "  'DATE_COLUMNS': ['period_end_date', 'translated_when'],\n",
       "  'DTYPE': {'if_data_corrected': 'object',\n",
       "   'prod_gr_id': 'object',\n",
       "   'country_id_n': 'object',\n",
       "   'delivery_type_id': 'object',\n",
       "   'freq_id': 'object',\n",
       "   'retailer_id': 'object',\n",
       "   'brand_id': 'object',\n",
       "   'predict_automatch': 'object',\n",
       "   'class_acctual': 'object'},\n",
       "  'COLUMNS_WITH_NAN_VALUES': [None]},\n",
       " 'MODEL': [None],\n",
       " 'OUTPUTS': {'NAME': ['output.csv']}}"
      ]
     },
     "execution_count": 23,
     "metadata": {},
     "output_type": "execute_result"
    }
   ],
   "source": [
    "CONFIG"
   ]
  },
  {
   "cell_type": "code",
   "execution_count": 24,
   "metadata": {},
   "outputs": [],
   "source": [
    "# LOAD CSV\n",
    "df = pd.read_csv(\n",
    "    INPUT_ABS_APTH,\n",
    "    index_col=CONFIG['INPUTS']['INDEXES'],\n",
    "    sep=CONFIG['INPUTS']['SEPARATOR'],\n",
    "    # quotechar='\"',\n",
    "    # thousands=',',\n",
    "#     decimal=CONFIG['INPUTS']['DECIMAL'],\n",
    "    encoding=CONFIG['INPUTS']['ENCODING'],\n",
    "    infer_datetime_format=True,\n",
    "    parse_dates=CONFIG['INPUTS']['DATE_COLUMNS'],\n",
    "    engine=\"c\",\n",
    "    low_memory=False,\n",
    "#     float_precision=CONFIG['INPUTS']['DATE_COLUMNS'],\n",
    "    skipinitialspace=True,\n",
    "    dtype=CONFIG['INPUTS']['DTYPE']\n",
    ")"
   ]
  },
  {
   "cell_type": "code",
   "execution_count": 25,
   "metadata": {},
   "outputs": [
    {
     "data": {
      "text/html": [
       "<div>\n",
       "<style scoped>\n",
       "    .dataframe tbody tr th:only-of-type {\n",
       "        vertical-align: middle;\n",
       "    }\n",
       "\n",
       "    .dataframe tbody tr th {\n",
       "        vertical-align: top;\n",
       "    }\n",
       "\n",
       "    .dataframe thead th {\n",
       "        text-align: right;\n",
       "    }\n",
       "</style>\n",
       "<table border=\"1\" class=\"dataframe\">\n",
       "  <thead>\n",
       "    <tr style=\"text-align: right;\">\n",
       "      <th></th>\n",
       "      <th></th>\n",
       "      <th>if_data_corrected</th>\n",
       "      <th>prod_gr_id</th>\n",
       "      <th>country_id_n</th>\n",
       "      <th>delivery_type_id</th>\n",
       "      <th>freq_id</th>\n",
       "      <th>retailer_id</th>\n",
       "      <th>brand_id</th>\n",
       "      <th>predict_automatch</th>\n",
       "      <th>class_acctual</th>\n",
       "    </tr>\n",
       "    <tr>\n",
       "      <th>period_end_date</th>\n",
       "      <th>translated_when</th>\n",
       "      <th></th>\n",
       "      <th></th>\n",
       "      <th></th>\n",
       "      <th></th>\n",
       "      <th></th>\n",
       "      <th></th>\n",
       "      <th></th>\n",
       "      <th></th>\n",
       "      <th></th>\n",
       "    </tr>\n",
       "  </thead>\n",
       "  <tbody>\n",
       "    <tr>\n",
       "      <th rowspan=\"2\" valign=\"top\">NaN</th>\n",
       "      <th>2020-10-15 06:58:28+00:00</th>\n",
       "      <td>0</td>\n",
       "      <td>426</td>\n",
       "      <td>121</td>\n",
       "      <td>NaN</td>\n",
       "      <td>2</td>\n",
       "      <td>96</td>\n",
       "      <td>111</td>\n",
       "      <td>1</td>\n",
       "      <td>1</td>\n",
       "    </tr>\n",
       "    <tr>\n",
       "      <th>2020-10-15 06:38:34+00:00</th>\n",
       "      <td>0</td>\n",
       "      <td>426</td>\n",
       "      <td>NaN</td>\n",
       "      <td>NaN</td>\n",
       "      <td>2</td>\n",
       "      <td>92</td>\n",
       "      <td>95</td>\n",
       "      <td>0</td>\n",
       "      <td>1</td>\n",
       "    </tr>\n",
       "    <tr>\n",
       "      <th>2020-09-20 00:00:00+00:00</th>\n",
       "      <th>2020-09-23 12:27:51+00:00</th>\n",
       "      <td>0</td>\n",
       "      <td>426</td>\n",
       "      <td>121</td>\n",
       "      <td>42730</td>\n",
       "      <td>2</td>\n",
       "      <td>30</td>\n",
       "      <td>37</td>\n",
       "      <td>1</td>\n",
       "      <td>1</td>\n",
       "    </tr>\n",
       "  </tbody>\n",
       "</table>\n",
       "</div>"
      ],
      "text/plain": [
       "                                                    if_data_corrected  \\\n",
       "period_end_date           translated_when                               \n",
       "NaN                       2020-10-15 06:58:28+00:00                 0   \n",
       "                          2020-10-15 06:38:34+00:00                 0   \n",
       "2020-09-20 00:00:00+00:00 2020-09-23 12:27:51+00:00                 0   \n",
       "\n",
       "                                                    prod_gr_id country_id_n  \\\n",
       "period_end_date           translated_when                                     \n",
       "NaN                       2020-10-15 06:58:28+00:00        426          121   \n",
       "                          2020-10-15 06:38:34+00:00        426          NaN   \n",
       "2020-09-20 00:00:00+00:00 2020-09-23 12:27:51+00:00        426          121   \n",
       "\n",
       "                                                    delivery_type_id freq_id  \\\n",
       "period_end_date           translated_when                                      \n",
       "NaN                       2020-10-15 06:58:28+00:00              NaN       2   \n",
       "                          2020-10-15 06:38:34+00:00              NaN       2   \n",
       "2020-09-20 00:00:00+00:00 2020-09-23 12:27:51+00:00            42730       2   \n",
       "\n",
       "                                                    retailer_id brand_id  \\\n",
       "period_end_date           translated_when                                  \n",
       "NaN                       2020-10-15 06:58:28+00:00          96      111   \n",
       "                          2020-10-15 06:38:34+00:00          92       95   \n",
       "2020-09-20 00:00:00+00:00 2020-09-23 12:27:51+00:00          30       37   \n",
       "\n",
       "                                                    predict_automatch  \\\n",
       "period_end_date           translated_when                               \n",
       "NaN                       2020-10-15 06:58:28+00:00                 1   \n",
       "                          2020-10-15 06:38:34+00:00                 0   \n",
       "2020-09-20 00:00:00+00:00 2020-09-23 12:27:51+00:00                 1   \n",
       "\n",
       "                                                    class_acctual  \n",
       "period_end_date           translated_when                          \n",
       "NaN                       2020-10-15 06:58:28+00:00             1  \n",
       "                          2020-10-15 06:38:34+00:00             1  \n",
       "2020-09-20 00:00:00+00:00 2020-09-23 12:27:51+00:00             1  "
      ]
     },
     "execution_count": 25,
     "metadata": {},
     "output_type": "execute_result"
    }
   ],
   "source": [
    "df.head(3)"
   ]
  },
  {
   "cell_type": "code",
   "execution_count": 26,
   "metadata": {},
   "outputs": [],
   "source": [
    "# df = pd.DataFrame(np.random.rand(100, 5), columns=[\"a\", \"b\", \"c\", \"d\", \"e\"])"
   ]
  },
  {
   "cell_type": "code",
   "execution_count": 31,
   "metadata": {},
   "outputs": [],
   "source": [
    "profile = ProfileReport(\n",
    "    df,\n",
    "    title=\"Pandas Profiling Report\",\n",
    "    pool_size=0,\n",
    "    infer_dtypes=False\n",
    ")"
   ]
  },
  {
   "cell_type": "code",
   "execution_count": 32,
   "metadata": {
    "scrolled": false
   },
   "outputs": [
    {
     "data": {
      "application/json": {
       "ascii": false,
       "bar_format": null,
       "colour": null,
       "elapsed": 0.01399993896484375,
       "initial": 0,
       "n": 0,
       "ncols": null,
       "nrows": 11,
       "postfix": null,
       "prefix": "Summarize dataset",
       "rate": null,
       "total": 5,
       "unit": "it",
       "unit_divisor": 1000,
       "unit_scale": false
      },
      "application/vnd.jupyter.widget-view+json": {
       "model_id": "b2dc510eabfa4cbe9a896a84fb76d393",
       "version_major": 2,
       "version_minor": 0
      },
      "text/plain": [
       "Summarize dataset:   0%|          | 0/5 [00:00<?, ?it/s]"
      ]
     },
     "metadata": {},
     "output_type": "display_data"
    },
    {
     "data": {
      "application/json": {
       "ascii": false,
       "bar_format": null,
       "colour": null,
       "elapsed": 0.01299905776977539,
       "initial": 0,
       "n": 0,
       "ncols": null,
       "nrows": 11,
       "postfix": null,
       "prefix": "Generate report structure",
       "rate": null,
       "total": 1,
       "unit": "it",
       "unit_divisor": 1000,
       "unit_scale": false
      },
      "application/vnd.jupyter.widget-view+json": {
       "model_id": "5796a82e321149e39df3b1bc8dea29f5",
       "version_major": 2,
       "version_minor": 0
      },
      "text/plain": [
       "Generate report structure:   0%|          | 0/1 [00:00<?, ?it/s]"
      ]
     },
     "metadata": {},
     "output_type": "display_data"
    },
    {
     "data": {
      "application/json": {
       "ascii": false,
       "bar_format": null,
       "colour": null,
       "elapsed": 0.015000581741333008,
       "initial": 0,
       "n": 0,
       "ncols": null,
       "nrows": 11,
       "postfix": null,
       "prefix": "Render widgets",
       "rate": null,
       "total": 1,
       "unit": "it",
       "unit_divisor": 1000,
       "unit_scale": false
      },
      "application/vnd.jupyter.widget-view+json": {
       "model_id": "",
       "version_major": 2,
       "version_minor": 0
      },
      "text/plain": [
       "Render widgets:   0%|          | 0/1 [00:00<?, ?it/s]"
      ]
     },
     "metadata": {},
     "output_type": "display_data"
    },
    {
     "data": {
      "application/vnd.jupyter.widget-view+json": {
       "model_id": "e229097d0ae3446ab04fea8769446f06",
       "version_major": 2,
       "version_minor": 0
      },
      "text/plain": [
       "VBox(children=(Tab(children=(Tab(children=(GridBox(children=(VBox(children=(GridspecLayout(children=(HTML(valu…"
      ]
     },
     "metadata": {},
     "output_type": "display_data"
    }
   ],
   "source": [
    "profile.to_widgets()"
   ]
  },
  {
   "cell_type": "code",
   "execution_count": null,
   "metadata": {},
   "outputs": [],
   "source": []
  }
 ],
 "metadata": {
  "kernelspec": {
   "display_name": "Python 3 (ipykernel)",
   "language": "python",
   "name": "python3"
  },
  "language_info": {
   "codemirror_mode": {
    "name": "ipython",
    "version": 3
   },
   "file_extension": ".py",
   "mimetype": "text/x-python",
   "name": "python",
   "nbconvert_exporter": "python",
   "pygments_lexer": "ipython3",
   "version": "3.9.3"
  }
 },
 "nbformat": 4,
 "nbformat_minor": 1
}

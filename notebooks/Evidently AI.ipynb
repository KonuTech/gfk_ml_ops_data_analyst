{
 "cells": [
  {
   "cell_type": "code",
   "execution_count": 1,
   "metadata": {
    "pycharm": {
     "name": "#%%\n"
    }
   },
   "outputs": [],
   "source": [
    "# !pip install evidently"
   ]
  },
  {
   "cell_type": "code",
   "execution_count": 2,
   "metadata": {
    "pycharm": {
     "name": "#%%\n"
    }
   },
   "outputs": [],
   "source": [
    "import warnings\n",
    "warnings.filterwarnings('ignore')"
   ]
  },
  {
   "cell_type": "code",
   "execution_count": 3,
   "metadata": {
    "pycharm": {
     "name": "#%%\n"
    },
    "scrolled": true
   },
   "outputs": [
    {
     "name": "stdout",
     "output_type": "stream",
     "text": [
      "Package               Version\n",
      "--------------------- -----------\n",
      "altair                4.2.0\n",
      "argon2-cffi           21.3.0\n",
      "argon2-cffi-bindings  21.2.0\n",
      "asttokens             2.0.8\n",
      "attrs                 22.1.0\n",
      "autoviz               0.1.43\n",
      "backcall              0.2.0\n",
      "beautifulsoup4        4.11.1\n",
      "bleach                5.0.1\n",
      "bokeh                 2.4.3\n",
      "certifi               2022.6.15\n",
      "cffi                  1.15.1\n",
      "charset-normalizer    2.1.1\n",
      "click                 8.1.3\n",
      "colorama              0.4.5\n",
      "colorcet              3.0.0\n",
      "cycler                0.11.0\n",
      "dataclasses           0.6\n",
      "debugpy               1.6.3\n",
      "decorator             5.1.1\n",
      "defusedxml            0.7.1\n",
      "emoji                 2.0.0\n",
      "entrypoints           0.4\n",
      "evidently             0.1.56.dev0\n",
      "executing             0.10.0\n",
      "fastjsonschema        2.16.1\n",
      "fonttools             4.37.0\n",
      "fsspec                2022.7.1\n",
      "greenlet              1.1.3\n",
      "holoviews             1.14.9\n",
      "htmlmin               0.1.12\n",
      "hvplot                0.8.0\n",
      "idna                  3.3\n",
      "ImageHash             4.2.1\n",
      "importlib-metadata    4.12.0\n",
      "ipykernel             6.15.1\n",
      "ipython               8.4.0\n",
      "ipython-genutils      0.2.0\n",
      "ipywidgets            8.0.1\n",
      "jedi                  0.18.1\n",
      "Jinja2                3.1.2\n",
      "joblib                1.1.0\n",
      "jsonschema            4.14.0\n",
      "jupyter               1.0.0\n",
      "jupyter-client        7.3.4\n",
      "jupyter-console       6.4.4\n",
      "jupyter-core          4.11.1\n",
      "jupyterlab-pygments   0.2.2\n",
      "jupyterlab-widgets    3.0.2\n",
      "kiwisolver            1.4.4\n",
      "lxml                  4.9.1\n",
      "Markdown              3.4.1\n",
      "MarkupSafe            2.1.1\n",
      "matplotlib            3.5.3\n",
      "matplotlib-inline     0.1.6\n",
      "missingno             0.5.1\n",
      "mistune               2.0.4\n",
      "multimethod           1.8\n",
      "nbclient              0.6.7\n",
      "nbconvert             7.0.0\n",
      "nbformat              5.4.0\n",
      "nest-asyncio          1.5.5\n",
      "networkx              2.8.6\n",
      "nltk                  3.7\n",
      "notebook              6.4.12\n",
      "numpy                 1.23.2\n",
      "packaging             21.3\n",
      "pandas                1.4.3\n",
      "pandas-profiling      3.2.0\n",
      "pandasql              0.7.3\n",
      "pandocfilters         1.5.0\n",
      "panel                 0.12.7\n",
      "param                 1.12.2\n",
      "parso                 0.8.3\n",
      "patsy                 0.5.2\n",
      "phik                  0.12.2\n",
      "pickleshare           0.7.5\n",
      "Pillow                9.2.0\n",
      "pip                   22.2.1\n",
      "plotly                5.10.0\n",
      "prometheus-client     0.14.1\n",
      "prompt-toolkit        3.0.30\n",
      "psutil                5.9.1\n",
      "pure-eval             0.2.2\n",
      "pyamg                 4.2.3\n",
      "pycparser             2.21\n",
      "pyct                  0.4.8\n",
      "pydantic              1.9.2\n",
      "Pygments              2.13.0\n",
      "pyparsing             3.0.9\n",
      "pyrsistent            0.18.1\n",
      "python-dateutil       2.8.2\n",
      "pytz                  2022.2.1\n",
      "pyviz-comms           2.2.1\n",
      "PyWavelets            1.3.0\n",
      "pywin32               304\n",
      "pywinpty              2.0.7\n",
      "PyYAML                5.4.1\n",
      "pyzmq                 23.2.1\n",
      "qtconsole             5.3.1\n",
      "QtPy                  2.2.0\n",
      "regex                 2022.8.17\n",
      "requests              2.28.1\n",
      "scikit-learn          1.1.2\n",
      "scipy                 1.9.0\n",
      "seaborn               0.10.1\n",
      "Send2Trash            1.8.0\n",
      "setuptools            60.10.0\n",
      "six                   1.16.0\n",
      "soupsieve             2.3.2.post1\n",
      "SQLAlchemy            1.4.40\n",
      "stack-data            0.4.0\n",
      "statsmodels           0.13.2\n",
      "tangled-up-in-unicode 0.2.0\n",
      "tenacity              8.0.1\n",
      "terminado             0.15.0\n",
      "textblob              0.17.1\n",
      "threadpoolctl         3.1.0\n",
      "tinycss2              1.1.1\n",
      "toolz                 0.12.0\n",
      "tornado               6.2\n",
      "tqdm                  4.64.0\n",
      "traitlets             5.3.0\n",
      "typing_extensions     4.3.0\n",
      "urllib3               1.26.12\n",
      "visions               0.7.4\n",
      "wcwidth               0.2.5\n",
      "webencodings          0.5.1\n",
      "wheel                 0.37.1\n",
      "widgetsnbextension    4.0.2\n",
      "wordcloud             1.8.2.2\n",
      "xgboost               1.6.2\n",
      "xlrd                  2.0.1\n",
      "zipp                  3.8.1\n"
     ]
    },
    {
     "name": "stderr",
     "output_type": "stream",
     "text": [
      "\n",
      "[notice] A new release of pip available: 22.2.1 -> 22.2.2\n",
      "[notice] To update, run: python.exe -m pip install --upgrade pip\n"
     ]
    }
   ],
   "source": [
    "!pip list"
   ]
  },
  {
   "cell_type": "markdown",
   "metadata": {
    "pycharm": {
     "name": "#%% md\n"
    }
   },
   "source": [
    "# Libraries"
   ]
  },
  {
   "cell_type": "code",
   "execution_count": 4,
   "metadata": {
    "pycharm": {
     "name": "#%%\n"
    }
   },
   "outputs": [],
   "source": [
    "# import sys\n",
    "# print(sys.path)\n",
    "# sys.path.insert(0, \"C:\\\\Users\\\\KonuTech\\\\gfk_data_analyst\\\\gfk_ml_ops_data_analyst\\\\scripts\\\\python\\\\\")"
   ]
  },
  {
   "cell_type": "code",
   "execution_count": 5,
   "metadata": {
    "pycharm": {
     "name": "#%%\n"
    }
   },
   "outputs": [],
   "source": [
    "import os\n",
    "# import sys\n",
    "import json\n",
    "import numpy as np\n",
    "import pandas as pd\n",
    "import pandasql as ps\n",
    "import matplotlib.pyplot as plt\n",
    "import matplotlib.patches as mpatches\n",
    "import seaborn as sns\n",
    "# import math\n",
    "from pandas_profiling import ProfileReport\n",
    "# import matplotlib.pyplot as plt\n",
    "from sklearn.metrics import confusion_matrix, ConfusionMatrixDisplay\n",
    "from scripts.python.get_metrics import *\n",
    "from scripts.python.get_charts import get_monthly_stability_chart\n",
    "from scripts.python.get_reports import *"
   ]
  },
  {
   "cell_type": "code",
   "execution_count": 6,
   "metadata": {
    "pycharm": {
     "name": "#%%\n"
    }
   },
   "outputs": [],
   "source": [
    "from pandasql import sqldf\n",
    "pysqldf = lambda q: sqldf(q, globals())"
   ]
  },
  {
   "cell_type": "code",
   "execution_count": 7,
   "metadata": {
    "pycharm": {
     "name": "#%%\n"
    }
   },
   "outputs": [],
   "source": [
    "from evidently.dashboard import Dashboard\n",
    "from evidently.dashboard.tabs import DataDriftTab, CatTargetDriftTab"
   ]
  },
  {
   "cell_type": "code",
   "execution_count": 8,
   "metadata": {
    "pycharm": {
     "name": "#%%\n"
    }
   },
   "outputs": [],
   "source": [
    "from evidently.pipeline.column_mapping import ColumnMapping\n",
    "from evidently.dashboard.tabs import ClassificationPerformanceTab"
   ]
  },
  {
   "cell_type": "code",
   "execution_count": 9,
   "metadata": {
    "pycharm": {
     "name": "#%%\n"
    }
   },
   "outputs": [],
   "source": [
    "INPUT_PATH=\"input\"\n",
    "OUTPUT_PATH=\"output\"\n",
    "CONFIG_PATH=\"config\"\n",
    "\n",
    "INPUT_DATA=\"test_data2\"\n",
    "INPUT_DATA_CONFIG=\"input_config\"\n",
    "OUTPUT_DATA=\"output\"\n",
    "\n",
    "INPUT_EXTENSION=\"csv\"\n",
    "INPUT_CONFIG_EXTENSION=\"json\"\n",
    "OUTPUT_EXTENSION=\"csv\"\n",
    "\n",
    "INPUT_FILE=f\"{INPUT_DATA}.{INPUT_EXTENSION}\"\n",
    "INPUT_CONFIG_FILE=f\"{INPUT_DATA_CONFIG}.{INPUT_CONFIG_EXTENSION}\"\n",
    "OUTPUT_FILE=f\"{OUTPUT_DATA}.{OUTPUT_EXTENSION}\"\n",
    "\n",
    "INPUT_ABS_APTH=os.path.abspath(os.path.join(INPUT_PATH, INPUT_FILE))\n",
    "INPUT_FILE_CONFIG=os.path.abspath(os.path.join(CONFIG_PATH, INPUT_CONFIG_FILE))\n",
    "OUTPUT_ABS_APTH=os.path.abspath(os.path.join(OUTPUT_PATH, OUTPUT_FILE))"
   ]
  },
  {
   "cell_type": "code",
   "execution_count": 10,
   "metadata": {
    "pycharm": {
     "name": "#%%\n"
    }
   },
   "outputs": [],
   "source": [
    "with open(INPUT_FILE_CONFIG, encoding='utf-8') as f:\n",
    "    CONFIG = json.load(f)"
   ]
  },
  {
   "cell_type": "code",
   "execution_count": 11,
   "metadata": {
    "pycharm": {
     "name": "#%%\n"
    }
   },
   "outputs": [
    {
     "data": {
      "text/plain": [
       "{'INPUTS': {'FILE_NAME': ['test_data2.csv'],\n",
       "  'SEPARATOR': ',',\n",
       "  'DECIMAL': None,\n",
       "  'ENCODING': 'utf-8',\n",
       "  'FLOAT_PRECISION': 'high',\n",
       "  'INDEXES': ['period_end_date', 'translated_when'],\n",
       "  'DATE_COLUMNS': ['period_end_date', 'translated_when'],\n",
       "  'DTYPE': {'if_data_corrected': 'object',\n",
       "   'prod_gr_id': 'object',\n",
       "   'country_id_n': 'object',\n",
       "   'delivery_type_id': 'object',\n",
       "   'freq_id': 'object',\n",
       "   'retailer_id': 'object',\n",
       "   'brand_id': 'object',\n",
       "   'predict_automatch': 'float',\n",
       "   'class_acctual': 'float'},\n",
       "  'COLUMNS_WITH_NAN_VALUES': [None]},\n",
       " 'MODEL': [None],\n",
       " 'OUTPUTS': {'NAME': ['output.csv']}}"
      ]
     },
     "execution_count": 11,
     "metadata": {},
     "output_type": "execute_result"
    }
   ],
   "source": [
    "CONFIG"
   ]
  },
  {
   "cell_type": "markdown",
   "metadata": {
    "pycharm": {
     "name": "#%% md\n"
    }
   },
   "source": [
    "# Load data"
   ]
  },
  {
   "cell_type": "code",
   "execution_count": 12,
   "metadata": {
    "pycharm": {
     "name": "#%%\n"
    }
   },
   "outputs": [],
   "source": [
    "# LOAD CSV\n",
    "df = pd.read_csv(\n",
    "    INPUT_ABS_APTH,\n",
    "#     index_col=CONFIG['INPUTS']['INDEXES'],\n",
    "    sep=CONFIG['INPUTS']['SEPARATOR'],\n",
    "    # quotechar='\"',\n",
    "    # thousands=',',\n",
    "#     decimal=CONFIG['INPUTS']['DECIMAL'],\n",
    "    encoding=CONFIG['INPUTS']['ENCODING'],\n",
    "    infer_datetime_format=True,\n",
    "    parse_dates=CONFIG['INPUTS']['DATE_COLUMNS'],\n",
    "    engine=\"c\",\n",
    "    low_memory=False,\n",
    "#     float_precision=CONFIG['INPUTS']['DATE_COLUMNS'],\n",
    "    skipinitialspace=True,\n",
    "    dtype=CONFIG['INPUTS']['DTYPE']\n",
    ")"
   ]
  },
  {
   "cell_type": "code",
   "execution_count": 13,
   "metadata": {
    "pycharm": {
     "name": "#%%\n"
    }
   },
   "outputs": [
    {
     "name": "stdout",
     "output_type": "stream",
     "text": [
      "<class 'pandas.core.frame.DataFrame'>\n",
      "RangeIndex: 19697 entries, 0 to 19696\n",
      "Data columns (total 11 columns):\n",
      " #   Column             Non-Null Count  Dtype              \n",
      "---  ------             --------------  -----              \n",
      " 0   period_end_date    19640 non-null  datetime64[ns, UTC]\n",
      " 1   translated_when    19697 non-null  datetime64[ns, UTC]\n",
      " 2   if_data_corrected  19697 non-null  object             \n",
      " 3   prod_gr_id         19697 non-null  object             \n",
      " 4   country_id_n       18405 non-null  object             \n",
      " 5   delivery_type_id   18362 non-null  object             \n",
      " 6   freq_id            19697 non-null  object             \n",
      " 7   retailer_id        19697 non-null  object             \n",
      " 8   brand_id           19697 non-null  object             \n",
      " 9   predict_automatch  19368 non-null  float64            \n",
      " 10  class_acctual      19697 non-null  float64            \n",
      "dtypes: datetime64[ns, UTC](2), float64(2), object(7)\n",
      "memory usage: 1.7+ MB\n"
     ]
    }
   ],
   "source": [
    "df.info()"
   ]
  },
  {
   "cell_type": "code",
   "execution_count": 14,
   "metadata": {
    "pycharm": {
     "name": "#%%\n"
    }
   },
   "outputs": [],
   "source": [
    "df.sort_values(\n",
    "    by=['translated_when'],\n",
    "    inplace=True\n",
    ")\n",
    "\n",
    "df.reset_index(\n",
    "    drop=True,\n",
    "    inplace=True\n",
    ")"
   ]
  },
  {
   "cell_type": "code",
   "execution_count": 15,
   "metadata": {
    "pycharm": {
     "name": "#%%\n"
    },
    "scrolled": true
   },
   "outputs": [
    {
     "data": {
      "text/html": [
       "<div>\n",
       "<style scoped>\n",
       "    .dataframe tbody tr th:only-of-type {\n",
       "        vertical-align: middle;\n",
       "    }\n",
       "\n",
       "    .dataframe tbody tr th {\n",
       "        vertical-align: top;\n",
       "    }\n",
       "\n",
       "    .dataframe thead th {\n",
       "        text-align: right;\n",
       "    }\n",
       "</style>\n",
       "<table border=\"1\" class=\"dataframe\">\n",
       "  <thead>\n",
       "    <tr style=\"text-align: right;\">\n",
       "      <th></th>\n",
       "      <th>period_end_date</th>\n",
       "      <th>translated_when</th>\n",
       "      <th>if_data_corrected</th>\n",
       "      <th>prod_gr_id</th>\n",
       "      <th>country_id_n</th>\n",
       "      <th>delivery_type_id</th>\n",
       "      <th>freq_id</th>\n",
       "      <th>retailer_id</th>\n",
       "      <th>brand_id</th>\n",
       "      <th>predict_automatch</th>\n",
       "      <th>class_acctual</th>\n",
       "    </tr>\n",
       "  </thead>\n",
       "  <tbody>\n",
       "    <tr>\n",
       "      <th>0</th>\n",
       "      <td>2020-08-30 00:00:00+00:00</td>\n",
       "      <td>2020-09-01 03:05:51+00:00</td>\n",
       "      <td>0</td>\n",
       "      <td>426</td>\n",
       "      <td>126</td>\n",
       "      <td>22866</td>\n",
       "      <td>1</td>\n",
       "      <td>174</td>\n",
       "      <td>280</td>\n",
       "      <td>1.0</td>\n",
       "      <td>1.0</td>\n",
       "    </tr>\n",
       "    <tr>\n",
       "      <th>1</th>\n",
       "      <td>2020-08-30 00:00:00+00:00</td>\n",
       "      <td>2020-09-01 03:35:26+00:00</td>\n",
       "      <td>0</td>\n",
       "      <td>426</td>\n",
       "      <td>126</td>\n",
       "      <td>22866</td>\n",
       "      <td>2</td>\n",
       "      <td>93</td>\n",
       "      <td>96</td>\n",
       "      <td>1.0</td>\n",
       "      <td>1.0</td>\n",
       "    </tr>\n",
       "    <tr>\n",
       "      <th>2</th>\n",
       "      <td>2020-08-30 00:00:00+00:00</td>\n",
       "      <td>2020-09-01 03:44:29+00:00</td>\n",
       "      <td>0</td>\n",
       "      <td>413</td>\n",
       "      <td>113</td>\n",
       "      <td>12731</td>\n",
       "      <td>2</td>\n",
       "      <td>95</td>\n",
       "      <td>182</td>\n",
       "      <td>1.0</td>\n",
       "      <td>1.0</td>\n",
       "    </tr>\n",
       "    <tr>\n",
       "      <th>3</th>\n",
       "      <td>2020-09-01 00:00:00+00:00</td>\n",
       "      <td>2020-09-01 06:15:32+00:00</td>\n",
       "      <td>1</td>\n",
       "      <td>426</td>\n",
       "      <td>114</td>\n",
       "      <td>18614</td>\n",
       "      <td>1</td>\n",
       "      <td>173</td>\n",
       "      <td>279</td>\n",
       "      <td>1.0</td>\n",
       "      <td>1.0</td>\n",
       "    </tr>\n",
       "    <tr>\n",
       "      <th>4</th>\n",
       "      <td>2020-09-01 00:00:00+00:00</td>\n",
       "      <td>2020-09-01 06:15:50+00:00</td>\n",
       "      <td>1</td>\n",
       "      <td>426</td>\n",
       "      <td>114</td>\n",
       "      <td>18614</td>\n",
       "      <td>1</td>\n",
       "      <td>34</td>\n",
       "      <td>234</td>\n",
       "      <td>1.0</td>\n",
       "      <td>1.0</td>\n",
       "    </tr>\n",
       "    <tr>\n",
       "      <th>5</th>\n",
       "      <td>2020-09-01 00:00:00+00:00</td>\n",
       "      <td>2020-09-01 06:21:31+00:00</td>\n",
       "      <td>1</td>\n",
       "      <td>426</td>\n",
       "      <td>114</td>\n",
       "      <td>18614</td>\n",
       "      <td>2</td>\n",
       "      <td>93</td>\n",
       "      <td>96</td>\n",
       "      <td>1.0</td>\n",
       "      <td>1.0</td>\n",
       "    </tr>\n",
       "    <tr>\n",
       "      <th>6</th>\n",
       "      <td>2020-09-01 00:00:00+00:00</td>\n",
       "      <td>2020-09-01 06:24:04+00:00</td>\n",
       "      <td>1</td>\n",
       "      <td>426</td>\n",
       "      <td>114</td>\n",
       "      <td>18614</td>\n",
       "      <td>1</td>\n",
       "      <td>117</td>\n",
       "      <td>243</td>\n",
       "      <td>1.0</td>\n",
       "      <td>1.0</td>\n",
       "    </tr>\n",
       "    <tr>\n",
       "      <th>7</th>\n",
       "      <td>2020-09-01 00:00:00+00:00</td>\n",
       "      <td>2020-09-01 06:24:13+00:00</td>\n",
       "      <td>1</td>\n",
       "      <td>426</td>\n",
       "      <td>114</td>\n",
       "      <td>18614</td>\n",
       "      <td>2</td>\n",
       "      <td>11</td>\n",
       "      <td>33</td>\n",
       "      <td>1.0</td>\n",
       "      <td>1.0</td>\n",
       "    </tr>\n",
       "    <tr>\n",
       "      <th>8</th>\n",
       "      <td>2020-09-01 00:00:00+00:00</td>\n",
       "      <td>2020-09-01 06:25:53+00:00</td>\n",
       "      <td>1</td>\n",
       "      <td>426</td>\n",
       "      <td>114</td>\n",
       "      <td>18614</td>\n",
       "      <td>1</td>\n",
       "      <td>26</td>\n",
       "      <td>169</td>\n",
       "      <td>0.0</td>\n",
       "      <td>0.0</td>\n",
       "    </tr>\n",
       "    <tr>\n",
       "      <th>9</th>\n",
       "      <td>2020-09-01 00:00:00+00:00</td>\n",
       "      <td>2020-09-01 06:26:45+00:00</td>\n",
       "      <td>1</td>\n",
       "      <td>426</td>\n",
       "      <td>114</td>\n",
       "      <td>18614</td>\n",
       "      <td>1</td>\n",
       "      <td>33</td>\n",
       "      <td>379</td>\n",
       "      <td>0.0</td>\n",
       "      <td>0.0</td>\n",
       "    </tr>\n",
       "  </tbody>\n",
       "</table>\n",
       "</div>"
      ],
      "text/plain": [
       "            period_end_date           translated_when if_data_corrected  \\\n",
       "0 2020-08-30 00:00:00+00:00 2020-09-01 03:05:51+00:00                 0   \n",
       "1 2020-08-30 00:00:00+00:00 2020-09-01 03:35:26+00:00                 0   \n",
       "2 2020-08-30 00:00:00+00:00 2020-09-01 03:44:29+00:00                 0   \n",
       "3 2020-09-01 00:00:00+00:00 2020-09-01 06:15:32+00:00                 1   \n",
       "4 2020-09-01 00:00:00+00:00 2020-09-01 06:15:50+00:00                 1   \n",
       "5 2020-09-01 00:00:00+00:00 2020-09-01 06:21:31+00:00                 1   \n",
       "6 2020-09-01 00:00:00+00:00 2020-09-01 06:24:04+00:00                 1   \n",
       "7 2020-09-01 00:00:00+00:00 2020-09-01 06:24:13+00:00                 1   \n",
       "8 2020-09-01 00:00:00+00:00 2020-09-01 06:25:53+00:00                 1   \n",
       "9 2020-09-01 00:00:00+00:00 2020-09-01 06:26:45+00:00                 1   \n",
       "\n",
       "  prod_gr_id country_id_n delivery_type_id freq_id retailer_id brand_id  \\\n",
       "0        426          126            22866       1         174      280   \n",
       "1        426          126            22866       2          93       96   \n",
       "2        413          113            12731       2          95      182   \n",
       "3        426          114            18614       1         173      279   \n",
       "4        426          114            18614       1          34      234   \n",
       "5        426          114            18614       2          93       96   \n",
       "6        426          114            18614       1         117      243   \n",
       "7        426          114            18614       2          11       33   \n",
       "8        426          114            18614       1          26      169   \n",
       "9        426          114            18614       1          33      379   \n",
       "\n",
       "   predict_automatch  class_acctual  \n",
       "0                1.0            1.0  \n",
       "1                1.0            1.0  \n",
       "2                1.0            1.0  \n",
       "3                1.0            1.0  \n",
       "4                1.0            1.0  \n",
       "5                1.0            1.0  \n",
       "6                1.0            1.0  \n",
       "7                1.0            1.0  \n",
       "8                0.0            0.0  \n",
       "9                0.0            0.0  "
      ]
     },
     "execution_count": 15,
     "metadata": {},
     "output_type": "execute_result"
    }
   ],
   "source": [
    "df.head(10)"
   ]
  },
  {
   "cell_type": "code",
   "execution_count": 16,
   "metadata": {
    "pycharm": {
     "name": "#%%\n"
    }
   },
   "outputs": [
    {
     "data": {
      "text/html": [
       "<div>\n",
       "<style scoped>\n",
       "    .dataframe tbody tr th:only-of-type {\n",
       "        vertical-align: middle;\n",
       "    }\n",
       "\n",
       "    .dataframe tbody tr th {\n",
       "        vertical-align: top;\n",
       "    }\n",
       "\n",
       "    .dataframe thead th {\n",
       "        text-align: right;\n",
       "    }\n",
       "</style>\n",
       "<table border=\"1\" class=\"dataframe\">\n",
       "  <thead>\n",
       "    <tr style=\"text-align: right;\">\n",
       "      <th></th>\n",
       "      <th>period_end_date</th>\n",
       "      <th>translated_when</th>\n",
       "      <th>if_data_corrected</th>\n",
       "      <th>prod_gr_id</th>\n",
       "      <th>country_id_n</th>\n",
       "      <th>delivery_type_id</th>\n",
       "      <th>freq_id</th>\n",
       "      <th>retailer_id</th>\n",
       "      <th>brand_id</th>\n",
       "      <th>predict_automatch</th>\n",
       "      <th>class_acctual</th>\n",
       "    </tr>\n",
       "  </thead>\n",
       "  <tbody>\n",
       "    <tr>\n",
       "      <th>count</th>\n",
       "      <td>19640</td>\n",
       "      <td>19697</td>\n",
       "      <td>19697</td>\n",
       "      <td>19697</td>\n",
       "      <td>18405</td>\n",
       "      <td>18362</td>\n",
       "      <td>19697</td>\n",
       "      <td>19697</td>\n",
       "      <td>19697</td>\n",
       "      <td>19368.000000</td>\n",
       "      <td>19697.000000</td>\n",
       "    </tr>\n",
       "    <tr>\n",
       "      <th>unique</th>\n",
       "      <td>NaN</td>\n",
       "      <td>NaN</td>\n",
       "      <td>2</td>\n",
       "      <td>3</td>\n",
       "      <td>34</td>\n",
       "      <td>914</td>\n",
       "      <td>2</td>\n",
       "      <td>52</td>\n",
       "      <td>199</td>\n",
       "      <td>NaN</td>\n",
       "      <td>NaN</td>\n",
       "    </tr>\n",
       "    <tr>\n",
       "      <th>top</th>\n",
       "      <td>NaN</td>\n",
       "      <td>NaN</td>\n",
       "      <td>0</td>\n",
       "      <td>426</td>\n",
       "      <td>121</td>\n",
       "      <td>31480</td>\n",
       "      <td>2</td>\n",
       "      <td>30</td>\n",
       "      <td>33</td>\n",
       "      <td>NaN</td>\n",
       "      <td>NaN</td>\n",
       "    </tr>\n",
       "    <tr>\n",
       "      <th>freq</th>\n",
       "      <td>NaN</td>\n",
       "      <td>NaN</td>\n",
       "      <td>17085</td>\n",
       "      <td>11844</td>\n",
       "      <td>4153</td>\n",
       "      <td>998</td>\n",
       "      <td>11934</td>\n",
       "      <td>1197</td>\n",
       "      <td>587</td>\n",
       "      <td>NaN</td>\n",
       "      <td>NaN</td>\n",
       "    </tr>\n",
       "    <tr>\n",
       "      <th>mean</th>\n",
       "      <td>2020-10-14 23:30:22.729124096+00:00</td>\n",
       "      <td>2020-10-22 06:01:21.525206784+00:00</td>\n",
       "      <td>NaN</td>\n",
       "      <td>NaN</td>\n",
       "      <td>NaN</td>\n",
       "      <td>NaN</td>\n",
       "      <td>NaN</td>\n",
       "      <td>NaN</td>\n",
       "      <td>NaN</td>\n",
       "      <td>0.636307</td>\n",
       "      <td>0.743210</td>\n",
       "    </tr>\n",
       "    <tr>\n",
       "      <th>min</th>\n",
       "      <td>2020-08-30 00:00:00+00:00</td>\n",
       "      <td>2020-09-01 03:05:51+00:00</td>\n",
       "      <td>NaN</td>\n",
       "      <td>NaN</td>\n",
       "      <td>NaN</td>\n",
       "      <td>NaN</td>\n",
       "      <td>NaN</td>\n",
       "      <td>NaN</td>\n",
       "      <td>NaN</td>\n",
       "      <td>0.000000</td>\n",
       "      <td>0.000000</td>\n",
       "    </tr>\n",
       "    <tr>\n",
       "      <th>25%</th>\n",
       "      <td>2020-09-27 00:00:00+00:00</td>\n",
       "      <td>2020-09-29 13:45:29+00:00</td>\n",
       "      <td>NaN</td>\n",
       "      <td>NaN</td>\n",
       "      <td>NaN</td>\n",
       "      <td>NaN</td>\n",
       "      <td>NaN</td>\n",
       "      <td>NaN</td>\n",
       "      <td>NaN</td>\n",
       "      <td>0.000000</td>\n",
       "      <td>0.000000</td>\n",
       "    </tr>\n",
       "    <tr>\n",
       "      <th>50%</th>\n",
       "      <td>2020-10-18 00:00:00+00:00</td>\n",
       "      <td>2020-10-22 04:30:49+00:00</td>\n",
       "      <td>NaN</td>\n",
       "      <td>NaN</td>\n",
       "      <td>NaN</td>\n",
       "      <td>NaN</td>\n",
       "      <td>NaN</td>\n",
       "      <td>NaN</td>\n",
       "      <td>NaN</td>\n",
       "      <td>1.000000</td>\n",
       "      <td>1.000000</td>\n",
       "    </tr>\n",
       "    <tr>\n",
       "      <th>75%</th>\n",
       "      <td>2020-11-08 00:00:00+00:00</td>\n",
       "      <td>2020-11-13 11:57:53+00:00</td>\n",
       "      <td>NaN</td>\n",
       "      <td>NaN</td>\n",
       "      <td>NaN</td>\n",
       "      <td>NaN</td>\n",
       "      <td>NaN</td>\n",
       "      <td>NaN</td>\n",
       "      <td>NaN</td>\n",
       "      <td>1.000000</td>\n",
       "      <td>1.000000</td>\n",
       "    </tr>\n",
       "    <tr>\n",
       "      <th>max</th>\n",
       "      <td>2020-12-01 00:00:00+00:00</td>\n",
       "      <td>2021-02-01 14:50:49+00:00</td>\n",
       "      <td>NaN</td>\n",
       "      <td>NaN</td>\n",
       "      <td>NaN</td>\n",
       "      <td>NaN</td>\n",
       "      <td>NaN</td>\n",
       "      <td>NaN</td>\n",
       "      <td>NaN</td>\n",
       "      <td>1.000000</td>\n",
       "      <td>1.000000</td>\n",
       "    </tr>\n",
       "    <tr>\n",
       "      <th>std</th>\n",
       "      <td>NaN</td>\n",
       "      <td>NaN</td>\n",
       "      <td>NaN</td>\n",
       "      <td>NaN</td>\n",
       "      <td>NaN</td>\n",
       "      <td>NaN</td>\n",
       "      <td>NaN</td>\n",
       "      <td>NaN</td>\n",
       "      <td>NaN</td>\n",
       "      <td>0.481074</td>\n",
       "      <td>0.436874</td>\n",
       "    </tr>\n",
       "  </tbody>\n",
       "</table>\n",
       "</div>"
      ],
      "text/plain": [
       "                            period_end_date  \\\n",
       "count                                 19640   \n",
       "unique                                  NaN   \n",
       "top                                     NaN   \n",
       "freq                                    NaN   \n",
       "mean    2020-10-14 23:30:22.729124096+00:00   \n",
       "min               2020-08-30 00:00:00+00:00   \n",
       "25%               2020-09-27 00:00:00+00:00   \n",
       "50%               2020-10-18 00:00:00+00:00   \n",
       "75%               2020-11-08 00:00:00+00:00   \n",
       "max               2020-12-01 00:00:00+00:00   \n",
       "std                                     NaN   \n",
       "\n",
       "                            translated_when if_data_corrected prod_gr_id  \\\n",
       "count                                 19697             19697      19697   \n",
       "unique                                  NaN                 2          3   \n",
       "top                                     NaN                 0        426   \n",
       "freq                                    NaN             17085      11844   \n",
       "mean    2020-10-22 06:01:21.525206784+00:00               NaN        NaN   \n",
       "min               2020-09-01 03:05:51+00:00               NaN        NaN   \n",
       "25%               2020-09-29 13:45:29+00:00               NaN        NaN   \n",
       "50%               2020-10-22 04:30:49+00:00               NaN        NaN   \n",
       "75%               2020-11-13 11:57:53+00:00               NaN        NaN   \n",
       "max               2021-02-01 14:50:49+00:00               NaN        NaN   \n",
       "std                                     NaN               NaN        NaN   \n",
       "\n",
       "       country_id_n delivery_type_id freq_id retailer_id brand_id  \\\n",
       "count         18405            18362   19697       19697    19697   \n",
       "unique           34              914       2          52      199   \n",
       "top             121            31480       2          30       33   \n",
       "freq           4153              998   11934        1197      587   \n",
       "mean            NaN              NaN     NaN         NaN      NaN   \n",
       "min             NaN              NaN     NaN         NaN      NaN   \n",
       "25%             NaN              NaN     NaN         NaN      NaN   \n",
       "50%             NaN              NaN     NaN         NaN      NaN   \n",
       "75%             NaN              NaN     NaN         NaN      NaN   \n",
       "max             NaN              NaN     NaN         NaN      NaN   \n",
       "std             NaN              NaN     NaN         NaN      NaN   \n",
       "\n",
       "        predict_automatch  class_acctual  \n",
       "count        19368.000000   19697.000000  \n",
       "unique                NaN            NaN  \n",
       "top                   NaN            NaN  \n",
       "freq                  NaN            NaN  \n",
       "mean             0.636307       0.743210  \n",
       "min              0.000000       0.000000  \n",
       "25%              0.000000       0.000000  \n",
       "50%              1.000000       1.000000  \n",
       "75%              1.000000       1.000000  \n",
       "max              1.000000       1.000000  \n",
       "std              0.481074       0.436874  "
      ]
     },
     "execution_count": 16,
     "metadata": {},
     "output_type": "execute_result"
    }
   ],
   "source": [
    "df.describe(\n",
    "    include='all',\n",
    "    datetime_is_numeric=True\n",
    ")"
   ]
  },
  {
   "cell_type": "code",
   "execution_count": 17,
   "metadata": {
    "pycharm": {
     "name": "#%%\n"
    }
   },
   "outputs": [
    {
     "name": "stdout",
     "output_type": "stream",
     "text": [
      "<class 'pandas.core.frame.DataFrame'>\n",
      "RangeIndex: 19697 entries, 0 to 19696\n",
      "Data columns (total 11 columns):\n",
      " #   Column             Non-Null Count  Dtype              \n",
      "---  ------             --------------  -----              \n",
      " 0   period_end_date    19640 non-null  datetime64[ns, UTC]\n",
      " 1   translated_when    19697 non-null  datetime64[ns, UTC]\n",
      " 2   if_data_corrected  19697 non-null  object             \n",
      " 3   prod_gr_id         19697 non-null  object             \n",
      " 4   country_id_n       18405 non-null  object             \n",
      " 5   delivery_type_id   18362 non-null  object             \n",
      " 6   freq_id            19697 non-null  object             \n",
      " 7   retailer_id        19697 non-null  object             \n",
      " 8   brand_id           19697 non-null  object             \n",
      " 9   predict_automatch  19368 non-null  float64            \n",
      " 10  class_acctual      19697 non-null  float64            \n",
      "dtypes: datetime64[ns, UTC](2), float64(2), object(7)\n",
      "memory usage: 1.7+ MB\n"
     ]
    }
   ],
   "source": [
    "df.info()"
   ]
  },
  {
   "cell_type": "code",
   "execution_count": 18,
   "metadata": {
    "pycharm": {
     "name": "#%%\n"
    }
   },
   "outputs": [
    {
     "data": {
      "text/html": [
       "<div>\n",
       "<style scoped>\n",
       "    .dataframe tbody tr th:only-of-type {\n",
       "        vertical-align: middle;\n",
       "    }\n",
       "\n",
       "    .dataframe tbody tr th {\n",
       "        vertical-align: top;\n",
       "    }\n",
       "\n",
       "    .dataframe thead th {\n",
       "        text-align: right;\n",
       "    }\n",
       "</style>\n",
       "<table border=\"1\" class=\"dataframe\">\n",
       "  <thead>\n",
       "    <tr style=\"text-align: right;\">\n",
       "      <th></th>\n",
       "      <th>period_end_date</th>\n",
       "      <th>translated_when</th>\n",
       "      <th>if_data_corrected</th>\n",
       "      <th>prod_gr_id</th>\n",
       "      <th>country_id_n</th>\n",
       "      <th>delivery_type_id</th>\n",
       "      <th>freq_id</th>\n",
       "      <th>retailer_id</th>\n",
       "      <th>brand_id</th>\n",
       "      <th>predict_automatch</th>\n",
       "      <th>class_acctual</th>\n",
       "    </tr>\n",
       "  </thead>\n",
       "  <tbody>\n",
       "    <tr>\n",
       "      <th>0</th>\n",
       "      <td>2020-08-30 00:00:00+00:00</td>\n",
       "      <td>2020-09-01 03:05:51+00:00</td>\n",
       "      <td>0</td>\n",
       "      <td>426</td>\n",
       "      <td>126</td>\n",
       "      <td>22866</td>\n",
       "      <td>1</td>\n",
       "      <td>174</td>\n",
       "      <td>280</td>\n",
       "      <td>1.0</td>\n",
       "      <td>1.0</td>\n",
       "    </tr>\n",
       "    <tr>\n",
       "      <th>1</th>\n",
       "      <td>2020-08-30 00:00:00+00:00</td>\n",
       "      <td>2020-09-01 03:35:26+00:00</td>\n",
       "      <td>0</td>\n",
       "      <td>426</td>\n",
       "      <td>126</td>\n",
       "      <td>22866</td>\n",
       "      <td>2</td>\n",
       "      <td>93</td>\n",
       "      <td>96</td>\n",
       "      <td>1.0</td>\n",
       "      <td>1.0</td>\n",
       "    </tr>\n",
       "    <tr>\n",
       "      <th>2</th>\n",
       "      <td>2020-08-30 00:00:00+00:00</td>\n",
       "      <td>2020-09-01 03:44:29+00:00</td>\n",
       "      <td>0</td>\n",
       "      <td>413</td>\n",
       "      <td>113</td>\n",
       "      <td>12731</td>\n",
       "      <td>2</td>\n",
       "      <td>95</td>\n",
       "      <td>182</td>\n",
       "      <td>1.0</td>\n",
       "      <td>1.0</td>\n",
       "    </tr>\n",
       "  </tbody>\n",
       "</table>\n",
       "</div>"
      ],
      "text/plain": [
       "            period_end_date           translated_when if_data_corrected  \\\n",
       "0 2020-08-30 00:00:00+00:00 2020-09-01 03:05:51+00:00                 0   \n",
       "1 2020-08-30 00:00:00+00:00 2020-09-01 03:35:26+00:00                 0   \n",
       "2 2020-08-30 00:00:00+00:00 2020-09-01 03:44:29+00:00                 0   \n",
       "\n",
       "  prod_gr_id country_id_n delivery_type_id freq_id retailer_id brand_id  \\\n",
       "0        426          126            22866       1         174      280   \n",
       "1        426          126            22866       2          93       96   \n",
       "2        413          113            12731       2          95      182   \n",
       "\n",
       "   predict_automatch  class_acctual  \n",
       "0                1.0            1.0  \n",
       "1                1.0            1.0  \n",
       "2                1.0            1.0  "
      ]
     },
     "execution_count": 18,
     "metadata": {},
     "output_type": "execute_result"
    }
   ],
   "source": [
    "df.head(3)"
   ]
  },
  {
   "cell_type": "markdown",
   "metadata": {
    "pycharm": {
     "name": "#%% md\n"
    }
   },
   "source": [
    "### Peak of events: ~Black Friday 2020, Friday 27th of November -- week 48"
   ]
  },
  {
   "cell_type": "markdown",
   "metadata": {
    "pycharm": {
     "name": "#%% md\n"
    }
   },
   "source": [
    "### TARGET DRIFT - global report"
   ]
  },
  {
   "cell_type": "code",
   "execution_count": 19,
   "metadata": {
    "pycharm": {
     "name": "#%%\n"
    }
   },
   "outputs": [
    {
     "name": "stdout",
     "output_type": "stream",
     "text": [
      "PRODUCED A CHART OF TARGET DRIFT GLOBAL\n"
     ]
    }
   ],
   "source": [
    "get_target_drift_report(\n",
    "    data_frame=df,\n",
    "    target='class_acctual',\n",
    "    prediction='predict_automatch',\n",
    "    datetime='translated_when',\n",
    "    categorical_fatures=['country_id_n', 'prod_gr_id', 'retailer_id', 'brand_id', 'delivery_type_id', 'week_number'],\n",
    "    columns_to_exclude=['period_end_date', 'if_data_corrected', 'freq_id'],\n",
    "    breaking_point_dt='2020-11-28 00:00:00+00:00'\n",
    ")"
   ]
  },
  {
   "cell_type": "markdown",
   "metadata": {
    "pycharm": {
     "name": "#%% md\n"
    }
   },
   "source": [
    "### TARGET DRIFT - weekly report"
   ]
  },
  {
   "cell_type": "code",
   "execution_count": 20,
   "metadata": {
    "pycharm": {
     "name": "#%%\n"
    }
   },
   "outputs": [
    {
     "name": "stdout",
     "output_type": "stream",
     "text": [
      "PRODUCED A CHART OF TARGET DRIFT WEEKLY FOR WEEK: 202038\n",
      "PRODUCED A CHART OF TARGET DRIFT WEEKLY FOR WEEK: 202039\n",
      "PRODUCED A CHART OF TARGET DRIFT WEEKLY FOR WEEK: 202040\n",
      "PRODUCED A CHART OF TARGET DRIFT WEEKLY FOR WEEK: 202041\n",
      "PRODUCED A CHART OF TARGET DRIFT WEEKLY FOR WEEK: 202042\n",
      "PRODUCED A CHART OF TARGET DRIFT WEEKLY FOR WEEK: 202043\n",
      "PRODUCED A CHART OF TARGET DRIFT WEEKLY FOR WEEK: 202044\n",
      "PRODUCED A CHART OF TARGET DRIFT WEEKLY FOR WEEK: 202045\n",
      "PRODUCED A CHART OF TARGET DRIFT WEEKLY FOR WEEK: 202046\n",
      "PRODUCED A CHART OF TARGET DRIFT WEEKLY FOR WEEK: 202047\n",
      "PRODUCED A CHART OF TARGET DRIFT WEEKLY FOR WEEK: 202048\n",
      "PRODUCED A CHART OF TARGET DRIFT WEEKLY FOR WEEK: 202049\n",
      "PRODUCED A CHART OF TARGET DRIFT WEEKLY FOR WEEK: 202050\n",
      "PRODUCED A CHART OF TARGET DRIFT WEEKLY FOR WEEK: 202051\n",
      "PRODUCED A CHART OF TARGET DRIFT WEEKLY FOR WEEK: 202052\n",
      "PRODUCED A CHART OF TARGET DRIFT WEEKLY FOR WEEK: 202053\n",
      "PRODUCED A CHART OF TARGET DRIFT WEEKLY FOR WEEK: 202101\n",
      "PRODUCED A CHART OF TARGET DRIFT WEEKLY FOR WEEK: 202102\n",
      "PRODUCED A CHART OF TARGET DRIFT WEEKLY FOR WEEK: 202103\n",
      "PRODUCED A CHART OF TARGET DRIFT WEEKLY FOR WEEK: 202104\n",
      "PRODUCED A CHART OF TARGET DRIFT WEEKLY FOR WEEK: 202105\n",
      "PRODUCED A CHART OF TARGET DRIFT WEEKLY FOR WEEK: 202153\n"
     ]
    }
   ],
   "source": [
    "get_target_drift_report_weekly(\n",
    "    data_frame=df,\n",
    "    target='class_acctual',\n",
    "    prediction='predict_automatch',\n",
    "    datetime='translated_when',\n",
    "    categorical_fatures=['country_id_n', 'prod_gr_id', 'retailer_id', 'brand_id', 'delivery_type_id', 'week_number'],\n",
    "    columns_to_exclude=['period_end_date', 'if_data_corrected', 'freq_id']\n",
    ")"
   ]
  },
  {
   "cell_type": "markdown",
   "metadata": {
    "pycharm": {
     "name": "#%% md\n"
    }
   },
   "source": [
    "### DATA DRIFT - global report"
   ]
  },
  {
   "cell_type": "code",
   "execution_count": 21,
   "metadata": {
    "pycharm": {
     "name": "#%%\n"
    }
   },
   "outputs": [
    {
     "name": "stdout",
     "output_type": "stream",
     "text": [
      "PRODUCED A CHART OF DATA DRIFT GLOBAL\n"
     ]
    }
   ],
   "source": [
    "get_data_drift_report(\n",
    "    data_frame=df,\n",
    "    target='class_acctual',\n",
    "    prediction='predict_automatch',\n",
    "    datetime='translated_when',\n",
    "    categorical_fatures=['country_id_n', 'prod_gr_id', 'retailer_id', 'brand_id', 'delivery_type_id', 'week_number'],\n",
    "    columns_to_exclude=['period_end_date', 'if_data_corrected', 'freq_id'],\n",
    "    breaking_point_dt='2020-11-28 00:00:00+00:00'\n",
    ")"
   ]
  },
  {
   "cell_type": "markdown",
   "metadata": {
    "pycharm": {
     "name": "#%% md\n"
    }
   },
   "source": [
    "### DATA DRIFT - weekly report"
   ]
  },
  {
   "cell_type": "code",
   "execution_count": 22,
   "metadata": {
    "pycharm": {
     "name": "#%%\n"
    }
   },
   "outputs": [
    {
     "name": "stdout",
     "output_type": "stream",
     "text": [
      "PRODUCED A CHART OF DATA DRIFT WEEKLY FOR WEEK: 202038\n",
      "PRODUCED A CHART OF DATA DRIFT WEEKLY FOR WEEK: 202039\n",
      "PRODUCED A CHART OF DATA DRIFT WEEKLY FOR WEEK: 202040\n",
      "PRODUCED A CHART OF DATA DRIFT WEEKLY FOR WEEK: 202041\n",
      "PRODUCED A CHART OF DATA DRIFT WEEKLY FOR WEEK: 202042\n",
      "PRODUCED A CHART OF DATA DRIFT WEEKLY FOR WEEK: 202043\n",
      "PRODUCED A CHART OF DATA DRIFT WEEKLY FOR WEEK: 202044\n",
      "PRODUCED A CHART OF DATA DRIFT WEEKLY FOR WEEK: 202045\n",
      "PRODUCED A CHART OF DATA DRIFT WEEKLY FOR WEEK: 202046\n",
      "PRODUCED A CHART OF DATA DRIFT WEEKLY FOR WEEK: 202047\n",
      "PRODUCED A CHART OF DATA DRIFT WEEKLY FOR WEEK: 202048\n",
      "PRODUCED A CHART OF DATA DRIFT WEEKLY FOR WEEK: 202049\n",
      "PRODUCED A CHART OF DATA DRIFT WEEKLY FOR WEEK: 202050\n",
      "PRODUCED A CHART OF DATA DRIFT WEEKLY FOR WEEK: 202051\n",
      "PRODUCED A CHART OF DATA DRIFT WEEKLY FOR WEEK: 202052\n",
      "PRODUCED A CHART OF DATA DRIFT WEEKLY FOR WEEK: 202053\n",
      "PRODUCED A CHART OF DATA DRIFT WEEKLY FOR WEEK: 202101\n",
      "PRODUCED A CHART OF DATA DRIFT WEEKLY FOR WEEK: 202102\n",
      "PRODUCED A CHART OF DATA DRIFT WEEKLY FOR WEEK: 202103\n",
      "PRODUCED A CHART OF DATA DRIFT WEEKLY FOR WEEK: 202104\n",
      "PRODUCED A CHART OF DATA DRIFT WEEKLY FOR WEEK: 202105\n",
      "PRODUCED A CHART OF DATA DRIFT WEEKLY FOR WEEK: 202153\n"
     ]
    }
   ],
   "source": [
    "get_data_drift_report_weekly(\n",
    "    data_frame=df,\n",
    "    target='class_acctual',\n",
    "    prediction='predict_automatch',\n",
    "    datetime='translated_when',\n",
    "    categorical_fatures=['country_id_n', 'prod_gr_id', 'retailer_id', 'brand_id', 'delivery_type_id', 'week_number'],\n",
    "    columns_to_exclude=['period_end_date', 'if_data_corrected', 'freq_id']\n",
    ")"
   ]
  },
  {
   "cell_type": "markdown",
   "metadata": {
    "pycharm": {
     "name": "#%% md\n"
    }
   },
   "source": [
    "### CLASSIFICATION PERFORMANCE - global report"
   ]
  },
  {
   "cell_type": "code",
   "execution_count": 23,
   "metadata": {
    "pycharm": {
     "name": "#%%\n"
    }
   },
   "outputs": [
    {
     "name": "stdout",
     "output_type": "stream",
     "text": [
      "PRODUCED A CHART OF CLASSIFICATION PERFORMANCE GLOBAL\n"
     ]
    }
   ],
   "source": [
    "get_classification_performance_report(\n",
    "    data_frame=df,\n",
    "    target='class_acctual',\n",
    "    prediction='predict_automatch',\n",
    "    datetime='translated_when',\n",
    "    categorical_fatures=['country_id_n', 'prod_gr_id', 'retailer_id', 'brand_id', 'delivery_type_id', 'week_number'],\n",
    "    columns_to_exclude=['period_end_date', 'if_data_corrected', 'freq_id'],\n",
    "    breaking_point_dt='2020-11-28 00:00:00+00:00'\n",
    ")"
   ]
  },
  {
   "cell_type": "markdown",
   "metadata": {
    "pycharm": {
     "name": "#%% md\n"
    }
   },
   "source": [
    "### CLASSIFICATION PERFORMANCE - weekly report"
   ]
  },
  {
   "cell_type": "code",
   "execution_count": 24,
   "metadata": {
    "pycharm": {
     "name": "#%%\n"
    }
   },
   "outputs": [
    {
     "name": "stdout",
     "output_type": "stream",
     "text": [
      "PRODUCED A CHART OF LASSIFICATION PERFORMANCE WEEKLY FOR WEEK: 202038\n",
      "PRODUCED A CHART OF LASSIFICATION PERFORMANCE WEEKLY FOR WEEK: 202039\n",
      "PRODUCED A CHART OF LASSIFICATION PERFORMANCE WEEKLY FOR WEEK: 202040\n",
      "PRODUCED A CHART OF LASSIFICATION PERFORMANCE WEEKLY FOR WEEK: 202041\n",
      "PRODUCED A CHART OF LASSIFICATION PERFORMANCE WEEKLY FOR WEEK: 202042\n",
      "PRODUCED A CHART OF LASSIFICATION PERFORMANCE WEEKLY FOR WEEK: 202043\n",
      "PRODUCED A CHART OF LASSIFICATION PERFORMANCE WEEKLY FOR WEEK: 202044\n",
      "PRODUCED A CHART OF LASSIFICATION PERFORMANCE WEEKLY FOR WEEK: 202045\n",
      "PRODUCED A CHART OF LASSIFICATION PERFORMANCE WEEKLY FOR WEEK: 202046\n",
      "PRODUCED A CHART OF LASSIFICATION PERFORMANCE WEEKLY FOR WEEK: 202047\n",
      "PRODUCED A CHART OF LASSIFICATION PERFORMANCE WEEKLY FOR WEEK: 202048\n",
      "PRODUCED A CHART OF LASSIFICATION PERFORMANCE WEEKLY FOR WEEK: 202049\n",
      "PRODUCED A CHART OF LASSIFICATION PERFORMANCE WEEKLY FOR WEEK: 202050\n",
      "PRODUCED A CHART OF LASSIFICATION PERFORMANCE WEEKLY FOR WEEK: 202051\n",
      "PRODUCED A CHART OF LASSIFICATION PERFORMANCE WEEKLY FOR WEEK: 202052\n",
      "PRODUCED A CHART OF LASSIFICATION PERFORMANCE WEEKLY FOR WEEK: 202053\n",
      "PRODUCED A CHART OF LASSIFICATION PERFORMANCE WEEKLY FOR WEEK: 202101\n",
      "PRODUCED A CHART OF LASSIFICATION PERFORMANCE WEEKLY FOR WEEK: 202102\n",
      "PRODUCED A CHART OF LASSIFICATION PERFORMANCE WEEKLY FOR WEEK: 202103\n",
      "PRODUCED A CHART OF LASSIFICATION PERFORMANCE WEEKLY FOR WEEK: 202104\n",
      "PRODUCED A CHART OF LASSIFICATION PERFORMANCE WEEKLY FOR WEEK: 202105\n",
      "PRODUCED A CHART OF LASSIFICATION PERFORMANCE WEEKLY FOR WEEK: 202153\n"
     ]
    }
   ],
   "source": [
    "get_classification_performance_report_weekly(\n",
    "    data_frame=df,\n",
    "    target='class_acctual',\n",
    "    prediction='predict_automatch',\n",
    "    datetime='translated_when',\n",
    "    categorical_fatures=['country_id_n', 'prod_gr_id', 'retailer_id', 'brand_id', 'delivery_type_id', 'week_number'],\n",
    "    columns_to_exclude=['period_end_date', 'if_data_corrected', 'freq_id']\n",
    ")"
   ]
  },
  {
   "cell_type": "code",
   "execution_count": null,
   "metadata": {
    "pycharm": {
     "name": "#%%\n"
    }
   },
   "outputs": [],
   "source": []
  }
 ],
 "metadata": {
  "kernelspec": {
   "display_name": "Python 3 (ipykernel)",
   "language": "python",
   "name": "python3"
  },
  "language_info": {
   "codemirror_mode": {
    "name": "ipython",
    "version": 3
   },
   "file_extension": ".py",
   "mimetype": "text/x-python",
   "name": "python",
   "nbconvert_exporter": "python",
   "pygments_lexer": "ipython3",
   "version": "3.9.3"
  }
 },
 "nbformat": 4,
 "nbformat_minor": 1
}

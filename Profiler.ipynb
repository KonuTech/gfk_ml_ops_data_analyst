{
 "cells": [
  {
   "cell_type": "code",
   "execution_count": 1,
   "metadata": {},
   "outputs": [],
   "source": [
    "import warnings\n",
    "warnings.filterwarnings('ignore')"
   ]
  },
  {
   "cell_type": "code",
   "execution_count": 2,
   "metadata": {
    "scrolled": true
   },
   "outputs": [
    {
     "name": "stdout",
     "output_type": "stream",
     "text": [
      "Package               Version\n",
      "--------------------- -----------\n",
      "altair                4.2.0\n",
      "argon2-cffi           21.3.0\n",
      "argon2-cffi-bindings  21.2.0\n",
      "asttokens             2.0.8\n",
      "attrs                 22.1.0\n",
      "autoviz               0.1.43\n",
      "backcall              0.2.0\n",
      "beautifulsoup4        4.11.1\n",
      "bleach                5.0.1\n",
      "bokeh                 2.4.3\n",
      "certifi               2022.6.15\n",
      "cffi                  1.15.1\n",
      "charset-normalizer    2.1.1\n",
      "click                 8.1.3\n",
      "colorama              0.4.5\n",
      "colorcet              3.0.0\n",
      "cycler                0.11.0\n",
      "debugpy               1.6.3\n",
      "decorator             5.1.1\n",
      "defusedxml            0.7.1\n",
      "emoji                 2.0.0\n",
      "entrypoints           0.4\n",
      "executing             0.10.0\n",
      "fastjsonschema        2.16.1\n",
      "fonttools             4.37.0\n",
      "fsspec                2022.7.1\n",
      "holoviews             1.14.9\n",
      "htmlmin               0.1.12\n",
      "hvplot                0.8.0\n",
      "idna                  3.3\n",
      "ImageHash             4.2.1\n",
      "importlib-metadata    4.12.0\n",
      "ipykernel             6.15.1\n",
      "ipython               8.4.0\n",
      "ipython-genutils      0.2.0\n",
      "ipywidgets            8.0.1\n",
      "jedi                  0.18.1\n",
      "Jinja2                3.1.2\n",
      "joblib                1.1.0\n",
      "jsonschema            4.14.0\n",
      "jupyter               1.0.0\n",
      "jupyter-client        7.3.4\n",
      "jupyter-console       6.4.4\n",
      "jupyter-core          4.11.1\n",
      "jupyterlab-pygments   0.2.2\n",
      "jupyterlab-widgets    3.0.2\n",
      "kiwisolver            1.4.4\n",
      "lxml                  4.9.1\n",
      "Markdown              3.4.1\n",
      "MarkupSafe            2.1.1\n",
      "matplotlib            3.5.3\n",
      "matplotlib-inline     0.1.6\n",
      "missingno             0.5.1\n",
      "mistune               2.0.4\n",
      "multimethod           1.8\n",
      "nbclient              0.6.7\n",
      "nbconvert             7.0.0\n",
      "nbformat              5.4.0\n",
      "nest-asyncio          1.5.5\n",
      "networkx              2.8.6\n",
      "nltk                  3.7\n",
      "notebook              6.4.12\n",
      "numpy                 1.23.2\n",
      "packaging             21.3\n",
      "pandas                1.4.3\n",
      "pandas-profiling      3.2.0\n",
      "pandocfilters         1.5.0\n",
      "panel                 0.12.7\n",
      "param                 1.12.2\n",
      "parso                 0.8.3\n",
      "patsy                 0.5.2\n",
      "phik                  0.12.2\n",
      "pickleshare           0.7.5\n",
      "Pillow                9.2.0\n",
      "pip                   22.2.1\n",
      "prometheus-client     0.14.1\n",
      "prompt-toolkit        3.0.30\n",
      "psutil                5.9.1\n",
      "pure-eval             0.2.2\n",
      "pyamg                 4.2.3\n",
      "pycparser             2.21\n",
      "pyct                  0.4.8\n",
      "pydantic              1.9.2\n",
      "Pygments              2.13.0\n",
      "pyparsing             3.0.9\n",
      "pyrsistent            0.18.1\n",
      "python-dateutil       2.8.2\n",
      "pytz                  2022.2.1\n",
      "pyviz-comms           2.2.1\n",
      "PyWavelets            1.3.0\n",
      "pywin32               304\n",
      "pywinpty              2.0.7\n",
      "PyYAML                6.0\n",
      "pyzmq                 23.2.1\n",
      "qtconsole             5.3.1\n",
      "QtPy                  2.2.0\n",
      "regex                 2022.8.17\n",
      "requests              2.28.1\n",
      "scikit-learn          1.1.2\n",
      "scipy                 1.9.0\n",
      "seaborn               0.10.1\n",
      "Send2Trash            1.8.0\n",
      "setuptools            60.10.0\n",
      "six                   1.16.0\n",
      "soupsieve             2.3.2.post1\n",
      "stack-data            0.4.0\n",
      "statsmodels           0.13.2\n",
      "tangled-up-in-unicode 0.2.0\n",
      "terminado             0.15.0\n",
      "textblob              0.17.1\n",
      "threadpoolctl         3.1.0\n",
      "tinycss2              1.1.1\n",
      "toolz                 0.12.0\n",
      "tornado               6.2\n",
      "tqdm                  4.64.0\n",
      "traitlets             5.3.0\n",
      "typing_extensions     4.3.0\n",
      "urllib3               1.26.12\n",
      "visions               0.7.4\n",
      "wcwidth               0.2.5\n",
      "webencodings          0.5.1\n",
      "wheel                 0.37.1\n",
      "widgetsnbextension    4.0.2\n",
      "wordcloud             1.8.2.2\n",
      "xgboost               1.6.2\n",
      "xlrd                  2.0.1\n",
      "zipp                  3.8.1\n"
     ]
    },
    {
     "name": "stderr",
     "output_type": "stream",
     "text": [
      "\n",
      "[notice] A new release of pip available: 22.2.1 -> 22.2.2\n",
      "[notice] To update, run: python.exe -m pip install --upgrade pip\n"
     ]
    }
   ],
   "source": [
    "!pip list"
   ]
  },
  {
   "cell_type": "markdown",
   "metadata": {},
   "source": [
    "# Libraries"
   ]
  },
  {
   "cell_type": "code",
   "execution_count": 3,
   "metadata": {},
   "outputs": [],
   "source": [
    "# import sys\n",
    "# print(sys.path)\n",
    "# sys.path.insert(0, \"C:\\\\Users\\\\KonuTech\\\\gfk_data_analyst\\\\gfk_ml_ops_data_analyst\\\\scripts\\\\python\\\\\")"
   ]
  },
  {
   "cell_type": "code",
   "execution_count": 4,
   "metadata": {},
   "outputs": [
    {
     "ename": "IndentationError",
     "evalue": "unexpected indent (get_charts.py, line 14)",
     "output_type": "error",
     "traceback": [
      "Traceback \u001b[1;36m(most recent call last)\u001b[0m:\n",
      "  File \u001b[0;32m~\\gfk_data_analyst\\gfk_ml_ops_data_analyst\\venv\\lib\\site-packages\\IPython\\core\\interactiveshell.py:3398\u001b[0m in \u001b[0;35mrun_code\u001b[0m\n    exec(code_obj, self.user_global_ns, self.user_ns)\n",
      "\u001b[1;36m  Input \u001b[1;32mIn [4]\u001b[1;36m in \u001b[1;35m<cell line: 13>\u001b[1;36m\u001b[0m\n\u001b[1;33m    from scripts.python.get_charts import *\u001b[0m\n",
      "\u001b[1;36m  File \u001b[1;32m~\\gfk_data_analyst\\gfk_ml_ops_data_analyst\\scripts\\python\\get_charts.py:14\u001b[1;36m\u001b[0m\n\u001b[1;33m    data_frame['month_year'] = data_frame[date_column].dt.to_period('M')\u001b[0m\n\u001b[1;37m    ^\u001b[0m\n\u001b[1;31mIndentationError\u001b[0m\u001b[1;31m:\u001b[0m unexpected indent\n"
     ]
    }
   ],
   "source": [
    "import os\n",
    "# import sys\n",
    "import json\n",
    "import numpy as np\n",
    "import pandas as pd\n",
    "import matplotlib.pyplot as plt\n",
    "import seaborn as sns\n",
    "# import math\n",
    "from pandas_profiling import ProfileReport\n",
    "# import matplotlib.pyplot as plt\n",
    "from sklearn.metrics import confusion_matrix, ConfusionMatrixDisplay\n",
    "from scripts.python.get_metrics import *\n",
    "from scripts.python.get_charts import *"
   ]
  },
  {
   "cell_type": "code",
   "execution_count": null,
   "metadata": {},
   "outputs": [],
   "source": [
    "INPUT_PATH=\"input\"\n",
    "OUTPUT_PATH=\"output\"\n",
    "CONFIG_PATH=\"config\"\n",
    "\n",
    "INPUT_DATA=\"test_data2\"\n",
    "INPUT_DATA_CONFIG=\"input_config\"\n",
    "OUTPUT_DATA=\"output\"\n",
    "\n",
    "INPUT_EXTENSION=\"csv\"\n",
    "INPUT_CONFIG_EXTENSION=\"json\"\n",
    "OUTPUT_EXTENSION=\"csv\"\n",
    "\n",
    "INPUT_FILE=f\"{INPUT_DATA}.{INPUT_EXTENSION}\"\n",
    "INPUT_CONFIG_FILE=f\"{INPUT_DATA_CONFIG}.{INPUT_CONFIG_EXTENSION}\"\n",
    "OUTPUT_FILE=f\"{OUTPUT_DATA}.{OUTPUT_EXTENSION}\"\n",
    "\n",
    "INPUT_ABS_APTH=os.path.abspath(os.path.join(INPUT_PATH, INPUT_FILE))\n",
    "INPUT_FILE_CONFIG=os.path.abspath(os.path.join(CONFIG_PATH, INPUT_CONFIG_FILE))\n",
    "OUTPUT_ABS_APTH=os.path.abspath(os.path.join(OUTPUT_PATH, OUTPUT_FILE))"
   ]
  },
  {
   "cell_type": "code",
   "execution_count": null,
   "metadata": {},
   "outputs": [],
   "source": [
    "with open(INPUT_FILE_CONFIG, encoding='utf-8') as f:\n",
    "    CONFIG = json.load(f)"
   ]
  },
  {
   "cell_type": "code",
   "execution_count": null,
   "metadata": {},
   "outputs": [],
   "source": [
    "CONFIG"
   ]
  },
  {
   "cell_type": "markdown",
   "metadata": {},
   "source": [
    "# Load data"
   ]
  },
  {
   "cell_type": "code",
   "execution_count": null,
   "metadata": {},
   "outputs": [],
   "source": [
    "# LOAD CSV\n",
    "df = pd.read_csv(\n",
    "    INPUT_ABS_APTH,\n",
    "#     index_col=CONFIG['INPUTS']['INDEXES'],\n",
    "    sep=CONFIG['INPUTS']['SEPARATOR'],\n",
    "    # quotechar='\"',\n",
    "    # thousands=',',\n",
    "#     decimal=CONFIG['INPUTS']['DECIMAL'],\n",
    "    encoding=CONFIG['INPUTS']['ENCODING'],\n",
    "    infer_datetime_format=True,\n",
    "    parse_dates=CONFIG['INPUTS']['DATE_COLUMNS'],\n",
    "    engine=\"c\",\n",
    "    low_memory=False,\n",
    "#     float_precision=CONFIG['INPUTS']['DATE_COLUMNS'],\n",
    "    skipinitialspace=True,\n",
    "    dtype=CONFIG['INPUTS']['DTYPE']\n",
    ")"
   ]
  },
  {
   "cell_type": "code",
   "execution_count": null,
   "metadata": {},
   "outputs": [],
   "source": [
    "df.info()"
   ]
  },
  {
   "cell_type": "code",
   "execution_count": null,
   "metadata": {},
   "outputs": [],
   "source": [
    "df.head(10)"
   ]
  },
  {
   "cell_type": "code",
   "execution_count": null,
   "metadata": {},
   "outputs": [],
   "source": [
    "df.describe(\n",
    "    include='all',\n",
    "    datetime_is_numeric=True\n",
    ")"
   ]
  },
  {
   "cell_type": "markdown",
   "metadata": {},
   "source": [
    "# Pandas data profiler"
   ]
  },
  {
   "cell_type": "code",
   "execution_count": null,
   "metadata": {},
   "outputs": [],
   "source": [
    "profile = ProfileReport(\n",
    "    df,\n",
    "    title=\"Pandas Profiling Report\",\n",
    "    pool_size=0,\n",
    "    infer_dtypes=False\n",
    ")"
   ]
  },
  {
   "cell_type": "code",
   "execution_count": null,
   "metadata": {
    "scrolled": false
   },
   "outputs": [],
   "source": [
    "profile.to_widgets()"
   ]
  },
  {
   "cell_type": "markdown",
   "metadata": {},
   "source": [
    "### Offline example of Pandas Profiler widget:"
   ]
  },
  {
   "cell_type": "markdown",
   "metadata": {},
   "source": [
    "![image info](./docs/images/profiler_example.png)"
   ]
  },
  {
   "cell_type": "code",
   "execution_count": null,
   "metadata": {
    "scrolled": false
   },
   "outputs": [],
   "source": [
    "for col in df.columns:\n",
    "    if col == 'prod_gr_id':\n",
    "\n",
    "        get_stacked_bar_chart(\n",
    "                data_frame=df,\n",
    "                date_column=\"period_end_date\",\n",
    "                column_to_group_by=col,\n",
    "                column_to_count='predict_automatch'\n",
    "            )"
   ]
  },
  {
   "cell_type": "markdown",
   "metadata": {},
   "source": [
    "### Dla 'country_id_n' nie działa bo macierze nie są równe ;<\n",
    "> Nie było zdarzeń z 1 dla 22 krajów"
   ]
  },
  {
   "cell_type": "code",
   "execution_count": null,
   "metadata": {
    "scrolled": false
   },
   "outputs": [],
   "source": [
    "# for col in df.columns:\n",
    "#     if col == 'country_id_n':\n",
    "\n",
    "#         get_stacked_bar_chart(\n",
    "#                 data_frame=df,\n",
    "#                 date_column=\"period_end_date\",\n",
    "#                 column_to_group_by=col,\n",
    "#                 column_to_count='predict_automatch'\n",
    "#             )"
   ]
  },
  {
   "cell_type": "markdown",
   "metadata": {},
   "source": [
    "# Post-Processing Bias Metrics for the Trained Model"
   ]
  },
  {
   "cell_type": "markdown",
   "metadata": {},
   "source": [
    "## Difference in positive proportion in predicted labels (DPPL)"
   ]
  },
  {
   "cell_type": "markdown",
   "metadata": {},
   "source": [
    "![image info](./docs/images/DPPL.png)"
   ]
  },
  {
   "cell_type": "markdown",
   "metadata": {},
   "source": [
    "[SOURCE](https://pages.awscloud.com/rs/112-TZM-766/images/Amazon.AI.Fairness.and.Explainability.Whitepaper.pdf)\n"
   ]
  },
  {
   "cell_type": "markdown",
   "metadata": {},
   "source": [
    "### CHARACTERISTICS OF METRIC:\n",
    "> DPPPL > -1 AND DPPPL < 1\n",
    "\n",
    "> For example, if the model grants loans to 50% of class 2 and to 60% of class 1, then it may be biased against class 2.\n",
    "We would have to decide whether a 10% difference is material."
   ]
  },
  {
   "cell_type": "markdown",
   "metadata": {},
   "source": [
    "## VARIABLE: prod_gr_id"
   ]
  },
  {
   "cell_type": "markdown",
   "metadata": {},
   "source": [
    "### prod_gr_id total count"
   ]
  },
  {
   "cell_type": "code",
   "execution_count": null,
   "metadata": {},
   "outputs": [],
   "source": [
    "total_counts = df.groupby(['prod_gr_id']) \\\n",
    "    .size() \\\n",
    "    .rename('count_total') \\\n",
    "    .reset_index() \\\n",
    "    .sort_values(by='prod_gr_id', ascending=False) \\\n",
    "    .set_index('prod_gr_id')\n",
    "\n",
    "total_counts"
   ]
  },
  {
   "cell_type": "markdown",
   "metadata": {},
   "source": [
    "### prod_gr_id by predicted classes"
   ]
  },
  {
   "cell_type": "code",
   "execution_count": null,
   "metadata": {},
   "outputs": [],
   "source": [
    "grouped_counts = df.groupby(['prod_gr_id', 'predict_automatch']) \\\n",
    "    .size() \\\n",
    "    .rename('count') \\\n",
    "    .reset_index() \\\n",
    "    .sort_values(by='prod_gr_id', ascending=False) \\\n",
    "    .set_index('prod_gr_id')\n",
    "\n",
    "grouped_counts"
   ]
  },
  {
   "cell_type": "code",
   "execution_count": null,
   "metadata": {},
   "outputs": [],
   "source": [
    "positive_grouped_counts = grouped_counts.loc[grouped_counts['predict_automatch'] == 1]\n",
    "\n",
    "positive_grouped_counts"
   ]
  },
  {
   "cell_type": "code",
   "execution_count": null,
   "metadata": {},
   "outputs": [],
   "source": [
    "merged_counts = pd.merge(positive_grouped_counts, total_counts, left_index=True, right_index=True)\n",
    "\n",
    "merged_counts"
   ]
  },
  {
   "cell_type": "markdown",
   "metadata": {},
   "source": [
    "### (DPPL) for prod_gr_id"
   ]
  },
  {
   "cell_type": "code",
   "execution_count": null,
   "metadata": {},
   "outputs": [],
   "source": [
    "ppl_prod_gr_id = get_PPL(\n",
    "    data_frame=df,\n",
    "    column_to_group_by='prod_gr_id',\n",
    "    column_to_count='predict_automatch'\n",
    ")\n",
    "\n",
    "ppl_prod_gr_id"
   ]
  },
  {
   "cell_type": "code",
   "execution_count": null,
   "metadata": {},
   "outputs": [],
   "source": [
    "dppl_prod_gr_id = get_DPPL(\n",
    "    data_frame=df,\n",
    "    column_to_group_by='prod_gr_id',\n",
    "    column_to_count='predict_automatch'\n",
    ")\n",
    "\n",
    "dppl_prod_gr_id"
   ]
  },
  {
   "cell_type": "markdown",
   "metadata": {},
   "source": [
    "#### Bucketizing dppl_prod_gr_id"
   ]
  },
  {
   "cell_type": "code",
   "execution_count": null,
   "metadata": {},
   "outputs": [],
   "source": [
    "print(pd.cut(dppl_prod_gr_id, bins=3).value_counts())"
   ]
  },
  {
   "cell_type": "markdown",
   "metadata": {},
   "source": [
    "#### CONCLUSIONS:\n",
    "\n",
    "> Basing solely on **DPPL** we can loosely assume that there is no disparity impact among **prod_gr_id** Classes"
   ]
  },
  {
   "cell_type": "markdown",
   "metadata": {},
   "source": [
    "## VARIABLE: country_id_n"
   ]
  },
  {
   "cell_type": "markdown",
   "metadata": {},
   "source": [
    "### country_id_n total count"
   ]
  },
  {
   "cell_type": "code",
   "execution_count": null,
   "metadata": {
    "scrolled": true
   },
   "outputs": [],
   "source": [
    "total_counts = df.groupby(['country_id_n']) \\\n",
    "    .size() \\\n",
    "    .rename('count_total') \\\n",
    "    .reset_index() \\\n",
    "    .sort_values(by='country_id_n', ascending=False) \\\n",
    "    .set_index('country_id_n')\n",
    "\n",
    "# total_counts"
   ]
  },
  {
   "cell_type": "markdown",
   "metadata": {},
   "source": [
    "### country_id_n by predicted classes"
   ]
  },
  {
   "cell_type": "code",
   "execution_count": null,
   "metadata": {
    "scrolled": true
   },
   "outputs": [],
   "source": [
    "grouped_counts = df.groupby(['country_id_n', 'predict_automatch']) \\\n",
    "    .size() \\\n",
    "    .rename('count') \\\n",
    "    .reset_index() \\\n",
    "    .sort_values(by='country_id_n', ascending=False) \\\n",
    "    .set_index('country_id_n')\n",
    "\n",
    "# grouped_counts"
   ]
  },
  {
   "cell_type": "code",
   "execution_count": null,
   "metadata": {
    "scrolled": true
   },
   "outputs": [],
   "source": [
    "positive_grouped_counts = grouped_counts.loc[grouped_counts['predict_automatch'] == 1]\n",
    "\n",
    "# positive_grouped_counts"
   ]
  },
  {
   "cell_type": "code",
   "execution_count": null,
   "metadata": {
    "scrolled": true
   },
   "outputs": [],
   "source": [
    "merged_counts = pd.merge(positive_grouped_counts, total_counts, left_index=True, right_index=True)\n",
    "\n",
    "# merged_counts"
   ]
  },
  {
   "cell_type": "markdown",
   "metadata": {},
   "source": [
    "### (DPPL) for country_id_n"
   ]
  },
  {
   "cell_type": "code",
   "execution_count": null,
   "metadata": {},
   "outputs": [],
   "source": [
    "ppl_country_id_n = get_PPL(\n",
    "    data_frame=df,\n",
    "    column_to_group_by='country_id_n',\n",
    "    column_to_count='predict_automatch'\n",
    ")\n",
    "\n",
    "ppl_country_id_n"
   ]
  },
  {
   "cell_type": "code",
   "execution_count": null,
   "metadata": {
    "scrolled": true
   },
   "outputs": [],
   "source": [
    "dppl_country_id_n = get_DPPL(\n",
    "    data_frame=df,\n",
    "    column_to_group_by='country_id_n',\n",
    "    column_to_count='predict_automatch'\n",
    ")\n",
    "\n",
    "dppl_country_id_n"
   ]
  },
  {
   "cell_type": "markdown",
   "metadata": {},
   "source": [
    "#### Bucketizing dppl_country_id_n"
   ]
  },
  {
   "cell_type": "code",
   "execution_count": null,
   "metadata": {},
   "outputs": [],
   "source": [
    "print(pd.cut(dppl_country_id_n, bins=3).value_counts())"
   ]
  },
  {
   "cell_type": "markdown",
   "metadata": {},
   "source": [
    "#### CONCLUSIONS:\n",
    "\n",
    "> Although it is likely. Basing solely on **DPPL** we can't assume if there is a disparity impact among **prod_gr_id** Classes yet. "
   ]
  },
  {
   "cell_type": "markdown",
   "metadata": {},
   "source": [
    "## Disparate (Adverse) Impact (DI)"
   ]
  },
  {
   "cell_type": "markdown",
   "metadata": {},
   "source": [
    "![image info](./docs/images/DI.png)"
   ]
  },
  {
   "cell_type": "markdown",
   "metadata": {},
   "source": [
    "[SOURCE](https://pages.awscloud.com/rs/112-TZM-766/images/Amazon.AI.Fairness.and.Explainability.Whitepaper.pdf)"
   ]
  },
  {
   "cell_type": "markdown",
   "metadata": {},
   "source": [
    "### CHARACTERISTICS OF METRIC:\n",
    "> **DI >= 0**\n",
    "\n",
    "> This measure may be considered fair if it resides in the **<0.8; 1.2>** range."
   ]
  },
  {
   "cell_type": "markdown",
   "metadata": {},
   "source": [
    "## (DI) for Variable: prod_gr_id"
   ]
  },
  {
   "cell_type": "code",
   "execution_count": null,
   "metadata": {},
   "outputs": [],
   "source": [
    "ppl_prod_gr_id"
   ]
  },
  {
   "cell_type": "code",
   "execution_count": null,
   "metadata": {
    "scrolled": true
   },
   "outputs": [],
   "source": [
    "di_prod_gr_id = sorted([abs(i / j) for i in ppl_prod_gr_id for j in ppl_prod_gr_id if i != j])"
   ]
  },
  {
   "cell_type": "markdown",
   "metadata": {},
   "source": [
    "#### Bucketizing di_prod_gr_id"
   ]
  },
  {
   "cell_type": "code",
   "execution_count": null,
   "metadata": {},
   "outputs": [],
   "source": [
    "print(pd.cut(di_prod_gr_id, bins=4).value_counts())"
   ]
  },
  {
   "cell_type": "markdown",
   "metadata": {},
   "source": [
    "#### CONCLUSIONS:\n",
    "\n",
    "> For each possible relation between Classes the metric resides between **<0.8; 1.2>**\n",
    "\n",
    "> We can loosely assume that there is no disparity impact between Classes of **prod_gr_id** Variable"
   ]
  },
  {
   "cell_type": "markdown",
   "metadata": {},
   "source": [
    "## (DI) for Variable: country_id_n"
   ]
  },
  {
   "cell_type": "code",
   "execution_count": null,
   "metadata": {},
   "outputs": [],
   "source": [
    "ppl_country_id_n"
   ]
  },
  {
   "cell_type": "code",
   "execution_count": null,
   "metadata": {},
   "outputs": [],
   "source": [
    "di_country_id_n = sorted([abs(i / j) for i in ppl_country_id_n for j in ppl_country_id_n if i != j])"
   ]
  },
  {
   "cell_type": "markdown",
   "metadata": {},
   "source": [
    "#### Bucketizing di_country_id_n"
   ]
  },
  {
   "cell_type": "code",
   "execution_count": null,
   "metadata": {
    "scrolled": true
   },
   "outputs": [],
   "source": [
    "print(pd.cut(di_country_id_n, bins=4).value_counts())"
   ]
  },
  {
   "cell_type": "markdown",
   "metadata": {},
   "source": [
    "> Dividing Ratios by Ratios, so values close to 1 are good"
   ]
  },
  {
   "cell_type": "code",
   "execution_count": null,
   "metadata": {
    "scrolled": true
   },
   "outputs": [],
   "source": [
    "pd.Series(di_country_id_n).describe()"
   ]
  },
  {
   "cell_type": "markdown",
   "metadata": {},
   "source": [
    "#### CONCLUSIONS:\n",
    "\n",
    "> There is more than 100 Classes of Variable **country_id_n** out of **<0.8; 1.2>** bounds.\n",
    "\n",
    "> At this moment we can loosely assume that there are some examples of Disparity Impact in case of **country_id_n** Variable."
   ]
  },
  {
   "cell_type": "markdown",
   "metadata": {},
   "source": [
    "## Difference in Conditional Outcome (DCO)\n",
    "> Type 1: **Difference in Conditional Acceptance (DCA)**\n",
    "\n",
    "> Type 2: **Difference in Conditional Rejection (DCR)**"
   ]
  },
  {
   "cell_type": "markdown",
   "metadata": {},
   "source": [
    "> When both **DCA** and **DCR** are very close to **0**, we can conclude that the proportion of qualified (as suggested by observed labels) applicants accepted by the model and the proportion of unqualified applicants rejected are nearly equal across both classes."
   ]
  },
  {
   "cell_type": "markdown",
   "metadata": {},
   "source": [
    "### Difference in Conditional Acceptance (DCA)"
   ]
  },
  {
   "cell_type": "markdown",
   "metadata": {},
   "source": [
    "![image info](./docs/images/DCA.jpg)"
   ]
  },
  {
   "cell_type": "markdown",
   "metadata": {},
   "source": [
    "[SOURCE](https://pages.awscloud.com/rs/112-TZM-766/images/Amazon.AI.Fairness.and.Explainability.Whitepaper.pdf)"
   ]
  },
  {
   "cell_type": "markdown",
   "metadata": {},
   "source": [
    "#### CHARACTERISTICS OF METRIC:\n",
    "> Unbounded\n",
    "\n",
    "> Zero denominator is possible. In such case the allocations to each Class are too small and a warning should be issued."
   ]
  },
  {
   "cell_type": "markdown",
   "metadata": {},
   "source": [
    "## (DCA) for Variable: prod_gr_id"
   ]
  },
  {
   "cell_type": "code",
   "execution_count": null,
   "metadata": {},
   "outputs": [],
   "source": [
    "ca_prod_gr_id = get_CA(\n",
    "    data_frame=df,\n",
    "    column_to_group_by='prod_gr_id',\n",
    "    column_to_count_acctuals='class_acctual',\n",
    "    column_to_count_predictions='predict_automatch'\n",
    ")\n",
    "\n",
    "ca_prod_gr_id"
   ]
  },
  {
   "cell_type": "code",
   "execution_count": null,
   "metadata": {},
   "outputs": [],
   "source": [
    "dca_prod_gr_id = get_DCA(\n",
    "    data_frame=df,\n",
    "    column_to_group_by='prod_gr_id',\n",
    "    column_to_count_acctuals='class_acctual',\n",
    "    column_to_count_predictions='predict_automatch'\n",
    ")\n",
    "\n",
    "dca_prod_gr_id"
   ]
  },
  {
   "cell_type": "markdown",
   "metadata": {},
   "source": [
    "#### Bucketizing dca_prod_gr_id"
   ]
  },
  {
   "cell_type": "code",
   "execution_count": null,
   "metadata": {},
   "outputs": [],
   "source": [
    "print(pd.cut(dca_prod_gr_id, bins=3).value_counts())"
   ]
  },
  {
   "cell_type": "markdown",
   "metadata": {},
   "source": [
    "#### CONCLUSIONS:\n",
    "\n",
    "> TODO: Diffrances are really small"
   ]
  },
  {
   "cell_type": "markdown",
   "metadata": {},
   "source": [
    "## (DCA) for Variable: country_id_n"
   ]
  },
  {
   "cell_type": "code",
   "execution_count": null,
   "metadata": {
    "scrolled": true
   },
   "outputs": [],
   "source": [
    "ca_country_id_n = get_CA(\n",
    "    data_frame=df,\n",
    "    column_to_group_by='country_id_n',\n",
    "    column_to_count_acctuals='class_acctual',\n",
    "    column_to_count_predictions='predict_automatch'\n",
    ")\n",
    "\n",
    "ca_country_id_n"
   ]
  },
  {
   "cell_type": "code",
   "execution_count": null,
   "metadata": {},
   "outputs": [],
   "source": [
    "df[df['country_id_n']=='109'].describe()"
   ]
  },
  {
   "cell_type": "markdown",
   "metadata": {},
   "source": [
    "> from the CA and mean we can assume that the Model underperforms when 'country_id_n'=='109'"
   ]
  },
  {
   "cell_type": "code",
   "execution_count": null,
   "metadata": {},
   "outputs": [],
   "source": [
    "dca_country_id_n = get_DCA(\n",
    "    data_frame=df,\n",
    "    column_to_group_by='country_id_n',\n",
    "    column_to_count_acctuals='class_acctual',\n",
    "    column_to_count_predictions='predict_automatch'\n",
    ")\n",
    "\n",
    "dca_country_id_n"
   ]
  },
  {
   "cell_type": "markdown",
   "metadata": {},
   "source": [
    "#### Bucketizing dca_country_id_n"
   ]
  },
  {
   "cell_type": "code",
   "execution_count": null,
   "metadata": {},
   "outputs": [],
   "source": [
    "print(pd.cut(dca_country_id_n, bins=3).value_counts())"
   ]
  },
  {
   "cell_type": "markdown",
   "metadata": {},
   "source": [
    "#### CONCLUSIONS:\n",
    "\n",
    "> TODO:"
   ]
  },
  {
   "cell_type": "markdown",
   "metadata": {},
   "source": [
    "### Difference in Conditional Rejection (DCR)"
   ]
  },
  {
   "cell_type": "markdown",
   "metadata": {},
   "source": [
    "![image info](./docs/images/DCR.jpg)"
   ]
  },
  {
   "cell_type": "markdown",
   "metadata": {},
   "source": [
    "[SOURCE](https://pages.awscloud.com/rs/112-TZM-766/images/Amazon.AI.Fairness.and.Explainability.Whitepaper.pdf)"
   ]
  },
  {
   "cell_type": "markdown",
   "metadata": {},
   "source": [
    "#### CHARACTERISTICS OF METRIC:\n",
    "> Unbounded\n",
    "\n",
    "> Zero denominator is possible. In such case the allocations to each Class are too small and a warning should be issued."
   ]
  },
  {
   "cell_type": "markdown",
   "metadata": {},
   "source": [
    "## (DCR) for Variable: prod_gr_id"
   ]
  },
  {
   "cell_type": "code",
   "execution_count": null,
   "metadata": {},
   "outputs": [],
   "source": [
    "cr_prod_gr_id = get_CR(\n",
    "    data_frame=df,\n",
    "    column_to_group_by='prod_gr_id',\n",
    "    column_to_count_acctuals='class_acctual',\n",
    "    column_to_count_predictions='predict_automatch'\n",
    ")\n",
    "\n",
    "cr_prod_gr_id"
   ]
  },
  {
   "cell_type": "code",
   "execution_count": null,
   "metadata": {},
   "outputs": [],
   "source": [
    "dcr_prod_gr_id = get_DCR(\n",
    "    data_frame=df,\n",
    "    column_to_group_by='prod_gr_id',\n",
    "    column_to_count_acctuals='class_acctual',\n",
    "    column_to_count_predictions='predict_automatch'\n",
    ")\n",
    "\n",
    "dcr_prod_gr_id"
   ]
  },
  {
   "cell_type": "markdown",
   "metadata": {},
   "source": [
    "#### Bucketizing dcr_prod_gr_id"
   ]
  },
  {
   "cell_type": "code",
   "execution_count": null,
   "metadata": {},
   "outputs": [],
   "source": [
    "print(pd.cut(dcr_prod_gr_id, bins=3).value_counts())"
   ]
  },
  {
   "cell_type": "markdown",
   "metadata": {},
   "source": [
    "#### CONCLUSIONS:\n",
    "\n",
    "> TODO:"
   ]
  },
  {
   "cell_type": "markdown",
   "metadata": {},
   "source": [
    "## (DCR) for Variable: country_id_n"
   ]
  },
  {
   "cell_type": "code",
   "execution_count": null,
   "metadata": {
    "scrolled": true
   },
   "outputs": [],
   "source": [
    "cr_country_id_n = get_CR(\n",
    "    data_frame=df,\n",
    "    column_to_group_by='country_id_n',\n",
    "    column_to_count_acctuals='class_acctual',\n",
    "    column_to_count_predictions='predict_automatch'\n",
    ")\n",
    "\n",
    "cr_country_id_n"
   ]
  },
  {
   "cell_type": "code",
   "execution_count": null,
   "metadata": {},
   "outputs": [],
   "source": [
    "dcr_country_id_n = get_DCR(\n",
    "    data_frame=df,\n",
    "    column_to_group_by='country_id_n',\n",
    "    column_to_count_acctuals='class_acctual',\n",
    "    column_to_count_predictions='predict_automatch'\n",
    ")\n",
    "\n",
    "dcr_country_id_n"
   ]
  },
  {
   "cell_type": "markdown",
   "metadata": {},
   "source": [
    "#### Bucketizing dcr_country_id_n"
   ]
  },
  {
   "cell_type": "code",
   "execution_count": null,
   "metadata": {},
   "outputs": [],
   "source": [
    "print(pd.cut(dcr_country_id_n, bins=3).value_counts())"
   ]
  },
  {
   "cell_type": "markdown",
   "metadata": {},
   "source": [
    "#### CONCLUSIONS:\n",
    "\n",
    "> TODO:"
   ]
  },
  {
   "cell_type": "code",
   "execution_count": null,
   "metadata": {},
   "outputs": [],
   "source": [
    "cm_by_class_prod_gr_id = get_class_cm(\n",
    "    data_frame=df,\n",
    "    acctuals='class_acctual',\n",
    "    predictions='predict_automatch',\n",
    "    column_to_group_by='prod_gr_id'\n",
    ")\n",
    "\n",
    "cm_by_class_prod_gr_id"
   ]
  },
  {
   "cell_type": "code",
   "execution_count": null,
   "metadata": {},
   "outputs": [],
   "source": [
    "rd_prod_gr_id = get_RD(\n",
    "    data_frame=df,\n",
    "    acctuals='class_acctual',\n",
    "    predictions='predict_automatch',\n",
    "    column_to_group_by='prod_gr_id'\n",
    ")\n",
    "\n",
    "rd_prod_gr_id"
   ]
  },
  {
   "cell_type": "markdown",
   "metadata": {},
   "source": [
    "#### Bucketizing rd_prod_gr_id"
   ]
  },
  {
   "cell_type": "code",
   "execution_count": null,
   "metadata": {},
   "outputs": [],
   "source": [
    "print(pd.cut(rd_prod_gr_id, bins=3).value_counts())"
   ]
  },
  {
   "cell_type": "markdown",
   "metadata": {},
   "source": [
    "#### CONCLUSIONS:\n",
    "\n",
    "> TODO:"
   ]
  },
  {
   "cell_type": "markdown",
   "metadata": {},
   "source": [
    "## (RD) for Variable: country_id_n"
   ]
  },
  {
   "cell_type": "code",
   "execution_count": null,
   "metadata": {},
   "outputs": [],
   "source": [
    "cm_by_class_prod_gr_id = get_class_cm(\n",
    "    data_frame=df,\n",
    "    acctuals='class_acctual',\n",
    "    predictions='predict_automatch',\n",
    "    column_to_group_by='country_id_n'\n",
    ")\n",
    "\n",
    "cm_by_class_prod_gr_id"
   ]
  },
  {
   "cell_type": "code",
   "execution_count": null,
   "metadata": {},
   "outputs": [],
   "source": [
    "recall_by_class = get_RD(\n",
    "    data_frame=df,\n",
    "    acctuals='class_acctual',\n",
    "    predictions='predict_automatch',\n",
    "    column_to_group_by='country_id_n'\n",
    ")\n",
    "\n",
    "recall_by_class"
   ]
  },
  {
   "cell_type": "markdown",
   "metadata": {},
   "source": [
    "#### Bucketizing recall_by_class"
   ]
  },
  {
   "cell_type": "code",
   "execution_count": null,
   "metadata": {},
   "outputs": [],
   "source": [
    "print(pd.cut(recall_by_class, bins=3).value_counts())"
   ]
  },
  {
   "cell_type": "markdown",
   "metadata": {},
   "source": [
    "#### CONCLUSIONS:\n",
    "\n",
    "> TODO:"
   ]
  },
  {
   "cell_type": "markdown",
   "metadata": {},
   "source": [
    "## Difference in label rates (DLR)"
   ]
  },
  {
   "cell_type": "markdown",
   "metadata": {},
   "source": [
    "![image info](./docs/images/DAR.png)"
   ]
  },
  {
   "cell_type": "markdown",
   "metadata": {},
   "source": [
    "[SOURCE](https://pages.awscloud.com/rs/112-TZM-766/images/Amazon.AI.Fairness.and.Explainability.Whitepaper.pdf)"
   ]
  },
  {
   "cell_type": "markdown",
   "metadata": {},
   "source": [
    "#### CHARACTERISTICS OF METRIC:\n",
    "> DAR > -1 AND DAR < 1\n",
    "\n",
    "> DRR > -1 AND DRR < 1\n",
    "\n",
    "> DAR is the same as precision difference between the first and second classes."
   ]
  },
  {
   "cell_type": "markdown",
   "metadata": {},
   "source": [
    "## (DAR) for Variable: prod_gr_id"
   ]
  },
  {
   "cell_type": "code",
   "execution_count": null,
   "metadata": {},
   "outputs": [],
   "source": [
    "ar_by_class_prod_gr_id = get_AR(\n",
    "    data_frame=df,\n",
    "    column_to_count_acctuals='class_acctual',\n",
    "    column_to_count_predictions='predict_automatch',\n",
    "    column_to_group_by='prod_gr_id'\n",
    ")\n",
    "\n",
    "ar_by_class_prod_gr_id"
   ]
  },
  {
   "cell_type": "code",
   "execution_count": null,
   "metadata": {},
   "outputs": [],
   "source": [
    "dar_by_class_prod_gr_id = get_DAR(\n",
    "    data_frame=df,\n",
    "    column_to_count_acctuals='class_acctual',\n",
    "    column_to_count_predictions='predict_automatch',\n",
    "    column_to_group_by='prod_gr_id'\n",
    ")\n",
    "\n",
    "dar_by_class_prod_gr_id"
   ]
  },
  {
   "cell_type": "markdown",
   "metadata": {},
   "source": [
    "#### Bucketizing dar_by_class_prod_gr_id"
   ]
  },
  {
   "cell_type": "code",
   "execution_count": null,
   "metadata": {},
   "outputs": [],
   "source": [
    "print(pd.cut(dar_by_class_prod_gr_id, bins=3).value_counts())"
   ]
  },
  {
   "cell_type": "markdown",
   "metadata": {},
   "source": [
    "## (DRR) for Variable: prod_gr_id"
   ]
  },
  {
   "cell_type": "code",
   "execution_count": null,
   "metadata": {},
   "outputs": [],
   "source": [
    "rr_by_class_prod_gr_id = get_RR(\n",
    "    data_frame=df,\n",
    "    column_to_count_acctuals='class_acctual',\n",
    "    column_to_count_predictions='predict_automatch',\n",
    "    column_to_group_by='prod_gr_id'\n",
    ")\n",
    "\n",
    "rr_by_class_prod_gr_id"
   ]
  },
  {
   "cell_type": "code",
   "execution_count": null,
   "metadata": {},
   "outputs": [],
   "source": [
    "drr_by_class_prod_gr_id = get_DRR(\n",
    "    data_frame=df,\n",
    "    column_to_count_acctuals='class_acctual',\n",
    "    column_to_count_predictions='predict_automatch',\n",
    "    column_to_group_by='prod_gr_id'\n",
    ")\n",
    "\n",
    "drr_by_class_prod_gr_id"
   ]
  },
  {
   "cell_type": "markdown",
   "metadata": {},
   "source": [
    "#### Bucketizing dar_by_class_prod_gr_id"
   ]
  },
  {
   "cell_type": "code",
   "execution_count": null,
   "metadata": {},
   "outputs": [],
   "source": [
    "print(pd.cut(drr_by_class_prod_gr_id, bins=3).value_counts())"
   ]
  },
  {
   "cell_type": "markdown",
   "metadata": {},
   "source": [
    "#### CONCLUSIONS:\n",
    "\n",
    "> TODO:"
   ]
  },
  {
   "cell_type": "markdown",
   "metadata": {},
   "source": [
    "## (DAR) for Variable: country_id_n"
   ]
  },
  {
   "cell_type": "code",
   "execution_count": null,
   "metadata": {},
   "outputs": [],
   "source": [
    "ar_by_class_country_id_n = get_AR(\n",
    "    data_frame=df,\n",
    "    column_to_count_acctuals='class_acctual',\n",
    "    column_to_count_predictions='predict_automatch',\n",
    "    column_to_group_by='country_id_n'\n",
    ")\n",
    "\n",
    "ar_by_class_country_id_n"
   ]
  },
  {
   "cell_type": "code",
   "execution_count": null,
   "metadata": {},
   "outputs": [],
   "source": [
    "dar_by_class_country_id_n = get_DAR(\n",
    "    data_frame=df,\n",
    "    column_to_count_acctuals='class_acctual',\n",
    "    column_to_count_predictions='predict_automatch',\n",
    "    column_to_group_by='country_id_n'\n",
    ")\n",
    "\n",
    "dar_by_class_country_id_n"
   ]
  },
  {
   "cell_type": "markdown",
   "metadata": {},
   "source": [
    "#### Bucketizing dar_by_class_prod_gr_id"
   ]
  },
  {
   "cell_type": "code",
   "execution_count": null,
   "metadata": {},
   "outputs": [],
   "source": [
    "print(pd.cut(dar_by_class_country_id_n, bins=3).value_counts())"
   ]
  },
  {
   "cell_type": "markdown",
   "metadata": {},
   "source": [
    "## (DRR) for Variable: country_id_n"
   ]
  },
  {
   "cell_type": "code",
   "execution_count": null,
   "metadata": {},
   "outputs": [],
   "source": [
    "rr_by_class_country_id_n = get_RR(\n",
    "    data_frame=df,\n",
    "    column_to_count_acctuals='class_acctual',\n",
    "    column_to_count_predictions='predict_automatch',\n",
    "    column_to_group_by='country_id_n'\n",
    ")\n",
    "\n",
    "rr_by_class_country_id_n"
   ]
  },
  {
   "cell_type": "code",
   "execution_count": null,
   "metadata": {},
   "outputs": [],
   "source": [
    "drr_by_class_country_id_n = get_DRR(\n",
    "    data_frame=df,\n",
    "    column_to_count_acctuals='class_acctual',\n",
    "    column_to_count_predictions='predict_automatch',\n",
    "    column_to_group_by='country_id_n'\n",
    ")\n",
    "\n",
    "drr_by_class_country_id_n"
   ]
  },
  {
   "cell_type": "markdown",
   "metadata": {},
   "source": [
    "#### Bucketizing dar_by_class_prod_gr_id"
   ]
  },
  {
   "cell_type": "code",
   "execution_count": null,
   "metadata": {},
   "outputs": [],
   "source": [
    "print(pd.cut(drr_by_class_country_id_n, bins=3).value_counts())"
   ]
  },
  {
   "cell_type": "markdown",
   "metadata": {},
   "source": [
    "#### CONCLUSIONS:\n",
    "\n",
    "> TODO:"
   ]
  },
  {
   "cell_type": "markdown",
   "metadata": {},
   "source": [
    "## Accuracy DIfference (AD)"
   ]
  },
  {
   "cell_type": "markdown",
   "metadata": {},
   "source": [
    "![image info](./docs/images/AD.jpg)"
   ]
  },
  {
   "cell_type": "markdown",
   "metadata": {},
   "source": [
    "[SOURCE](https://pages.awscloud.com/rs/112-TZM-766/images/Amazon.AI.Fairness.and.Explainability.Whitepaper.pdf)"
   ]
  },
  {
   "cell_type": "markdown",
   "metadata": {},
   "source": [
    "#### CHARACTERISTICS OF METRIC:\n",
    "> Unbounded metric\n",
    "\n",
    "> Care needed when FN = 0"
   ]
  },
  {
   "cell_type": "markdown",
   "metadata": {},
   "source": [
    "## (AD) for Variable: prod_gr_id"
   ]
  },
  {
   "cell_type": "code",
   "execution_count": null,
   "metadata": {},
   "outputs": [],
   "source": [
    "a_by_class_prod_gr_id = get_A(\n",
    "    data_frame=df,\n",
    "    column_to_count_acctuals='class_acctual',\n",
    "    column_to_count_predictions='predict_automatch',\n",
    "    column_to_group_by='prod_gr_id'\n",
    ")\n",
    "\n",
    "rr_by_class_prod_gr_id"
   ]
  },
  {
   "cell_type": "code",
   "execution_count": null,
   "metadata": {},
   "outputs": [],
   "source": [
    "ad_by_class_country_id_n = get_AD(\n",
    "    data_frame=df,\n",
    "    column_to_count_acctuals='class_acctual',\n",
    "    column_to_count_predictions='predict_automatch',\n",
    "    column_to_group_by='prod_gr_id'\n",
    ")\n",
    "\n",
    "ad_by_class_country_id_n"
   ]
  },
  {
   "cell_type": "markdown",
   "metadata": {},
   "source": [
    "#### Bucketizing dar_by_class_prod_gr_id"
   ]
  },
  {
   "cell_type": "code",
   "execution_count": null,
   "metadata": {},
   "outputs": [],
   "source": [
    "print(pd.cut(ad_by_class_country_id_n, bins=3).value_counts())"
   ]
  },
  {
   "cell_type": "markdown",
   "metadata": {},
   "source": [
    "#### CONCLUSIONS:\n",
    "\n",
    "> TODO:"
   ]
  },
  {
   "cell_type": "markdown",
   "metadata": {},
   "source": [
    "## (AD) for Variable: country_id_n"
   ]
  },
  {
   "cell_type": "code",
   "execution_count": null,
   "metadata": {},
   "outputs": [],
   "source": [
    "a_by_class_country_id_n = get_A(\n",
    "    data_frame=df,\n",
    "    column_to_count_acctuals='class_acctual',\n",
    "    column_to_count_predictions='predict_automatch',\n",
    "    column_to_group_by='country_id_n'\n",
    ")\n",
    "\n",
    "rr_by_class_country_id_n"
   ]
  },
  {
   "cell_type": "code",
   "execution_count": null,
   "metadata": {},
   "outputs": [],
   "source": [
    "ad_by_class_country_id_n = get_AD(\n",
    "    data_frame=df,\n",
    "    column_to_count_acctuals='class_acctual',\n",
    "    column_to_count_predictions='predict_automatch',\n",
    "    column_to_group_by='country_id_n'\n",
    ")\n",
    "\n",
    "ad_by_class_country_id_n"
   ]
  },
  {
   "cell_type": "markdown",
   "metadata": {},
   "source": [
    "#### Bucketizing dar_by_class_prod_gr_id"
   ]
  },
  {
   "cell_type": "code",
   "execution_count": null,
   "metadata": {},
   "outputs": [],
   "source": [
    "print(pd.cut(ad_by_class_country_id_n, bins=3).value_counts())"
   ]
  },
  {
   "cell_type": "markdown",
   "metadata": {},
   "source": [
    "#### CONCLUSIONS:\n",
    "\n",
    "> TODO:"
   ]
  },
  {
   "cell_type": "code",
   "execution_count": null,
   "metadata": {},
   "outputs": [],
   "source": []
  },
  {
   "cell_type": "code",
   "execution_count": null,
   "metadata": {},
   "outputs": [],
   "source": []
  }
 ],
 "metadata": {
  "kernelspec": {
   "display_name": "Python 3 (ipykernel)",
   "language": "python",
   "name": "python3"
  },
  "language_info": {
   "codemirror_mode": {
    "name": "ipython",
    "version": 3
   },
   "file_extension": ".py",
   "mimetype": "text/x-python",
   "name": "python",
   "nbconvert_exporter": "python",
   "pygments_lexer": "ipython3",
   "version": "3.9.3"
  }
 },
 "nbformat": 4,
 "nbformat_minor": 1
}

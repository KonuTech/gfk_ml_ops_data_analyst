{
 "cells": [
  {
   "cell_type": "code",
   "execution_count": 1,
   "metadata": {},
   "outputs": [],
   "source": [
    "import warnings\n",
    "warnings.filterwarnings('ignore')"
   ]
  },
  {
   "cell_type": "code",
   "execution_count": 2,
   "metadata": {
    "scrolled": true
   },
   "outputs": [
    {
     "name": "stdout",
     "output_type": "stream",
     "text": [
      "Package               Version\n",
      "--------------------- -----------\n",
      "altair                4.2.0\n",
      "argon2-cffi           21.3.0\n",
      "argon2-cffi-bindings  21.2.0\n",
      "asttokens             2.0.8\n",
      "attrs                 22.1.0\n",
      "autoviz               0.1.43\n",
      "backcall              0.2.0\n",
      "beautifulsoup4        4.11.1\n",
      "bleach                5.0.1\n",
      "bokeh                 2.4.3\n",
      "certifi               2022.6.15\n",
      "cffi                  1.15.1\n",
      "charset-normalizer    2.1.1\n",
      "click                 8.1.3\n",
      "colorama              0.4.5\n",
      "colorcet              3.0.0\n",
      "cycler                0.11.0\n",
      "dataclasses           0.6\n",
      "debugpy               1.6.3\n",
      "decorator             5.1.1\n",
      "defusedxml            0.7.1\n",
      "emoji                 2.0.0\n",
      "entrypoints           0.4\n",
      "evidently             0.1.56.dev0\n",
      "executing             0.10.0\n",
      "fastjsonschema        2.16.1\n",
      "fonttools             4.37.0\n",
      "fsspec                2022.7.1\n",
      "greenlet              1.1.3\n",
      "holoviews             1.14.9\n",
      "htmlmin               0.1.12\n",
      "hvplot                0.8.0\n",
      "idna                  3.3\n",
      "ImageHash             4.2.1\n",
      "importlib-metadata    4.12.0\n",
      "ipykernel             6.15.1\n",
      "ipython               8.4.0\n",
      "ipython-genutils      0.2.0\n",
      "ipywidgets            8.0.1\n",
      "jedi                  0.18.1\n",
      "Jinja2                3.1.2\n",
      "joblib                1.1.0\n",
      "jsonschema            4.14.0\n",
      "jupyter               1.0.0\n",
      "jupyter-client        7.3.4\n",
      "jupyter-console       6.4.4\n",
      "jupyter-core          4.11.1\n",
      "jupyterlab-pygments   0.2.2\n",
      "jupyterlab-widgets    3.0.2\n",
      "kiwisolver            1.4.4\n",
      "lxml                  4.9.1\n",
      "Markdown              3.4.1\n",
      "MarkupSafe            2.1.1\n",
      "matplotlib            3.5.3\n",
      "matplotlib-inline     0.1.6\n",
      "missingno             0.5.1\n",
      "mistune               2.0.4\n",
      "multimethod           1.8\n",
      "nbclient              0.6.7\n",
      "nbconvert             7.0.0\n",
      "nbformat              5.4.0\n",
      "nest-asyncio          1.5.5\n",
      "networkx              2.8.6\n",
      "nltk                  3.7\n",
      "notebook              6.4.12\n",
      "numpy                 1.23.2\n",
      "packaging             21.3\n",
      "pandas                1.4.3\n",
      "pandas-profiling      3.2.0\n",
      "pandasql              0.7.3\n",
      "pandocfilters         1.5.0\n",
      "panel                 0.12.7\n",
      "param                 1.12.2\n",
      "parso                 0.8.3\n",
      "patsy                 0.5.2\n",
      "phik                  0.12.2\n",
      "pickleshare           0.7.5\n",
      "Pillow                9.2.0\n",
      "pip                   22.2.1\n",
      "plotly                5.10.0\n",
      "prometheus-client     0.14.1\n",
      "prompt-toolkit        3.0.30\n",
      "psutil                5.9.1\n",
      "pure-eval             0.2.2\n",
      "pyamg                 4.2.3\n",
      "pycparser             2.21\n",
      "pyct                  0.4.8\n",
      "pydantic              1.9.2\n",
      "Pygments              2.13.0\n",
      "pyparsing             3.0.9\n",
      "pyrsistent            0.18.1\n",
      "python-dateutil       2.8.2\n",
      "pytz                  2022.2.1\n",
      "pyviz-comms           2.2.1\n",
      "PyWavelets            1.3.0\n",
      "pywin32               304\n",
      "pywinpty              2.0.7\n",
      "PyYAML                5.4.1\n",
      "pyzmq                 23.2.1\n",
      "qtconsole             5.3.1\n",
      "QtPy                  2.2.0\n",
      "regex                 2022.8.17\n",
      "requests              2.28.1\n",
      "scikit-learn          1.1.2\n",
      "scipy                 1.9.0\n",
      "seaborn               0.10.1\n",
      "Send2Trash            1.8.0\n",
      "setuptools            60.10.0\n",
      "six                   1.16.0\n",
      "soupsieve             2.3.2.post1\n",
      "SQLAlchemy            1.4.40\n",
      "stack-data            0.4.0\n",
      "statsmodels           0.13.2\n",
      "tangled-up-in-unicode 0.2.0\n",
      "tenacity              8.0.1\n",
      "terminado             0.15.0\n",
      "textblob              0.17.1\n",
      "threadpoolctl         3.1.0\n",
      "tinycss2              1.1.1\n",
      "toolz                 0.12.0\n",
      "tornado               6.2\n",
      "tqdm                  4.64.0\n",
      "traitlets             5.3.0\n",
      "typing_extensions     4.3.0\n",
      "urllib3               1.26.12\n",
      "visions               0.7.4\n",
      "wcwidth               0.2.5\n",
      "webencodings          0.5.1\n",
      "wheel                 0.37.1\n",
      "widgetsnbextension    4.0.2\n",
      "wordcloud             1.8.2.2\n",
      "xgboost               1.6.2\n",
      "xlrd                  2.0.1\n",
      "zipp                  3.8.1\n"
     ]
    },
    {
     "name": "stderr",
     "output_type": "stream",
     "text": [
      "\n",
      "[notice] A new release of pip available: 22.2.1 -> 22.2.2\n",
      "[notice] To update, run: python.exe -m pip install --upgrade pip\n"
     ]
    }
   ],
   "source": [
    "!pip list"
   ]
  },
  {
   "cell_type": "markdown",
   "metadata": {},
   "source": [
    "# Libraries"
   ]
  },
  {
   "cell_type": "code",
   "execution_count": 3,
   "metadata": {},
   "outputs": [],
   "source": [
    "# import sys\n",
    "# print(sys.path)\n",
    "# sys.path.insert(0, \"C:\\\\Users\\\\KonuTech\\\\gfk_data_analyst\\\\gfk_ml_ops_data_analyst\\\\scripts\\\\python\\\\\")"
   ]
  },
  {
   "cell_type": "code",
   "execution_count": 4,
   "metadata": {},
   "outputs": [],
   "source": [
    "import os\n",
    "# import sys\n",
    "import json\n",
    "import numpy as np\n",
    "import pandas as pd\n",
    "import pandasql as ps\n",
    "import matplotlib.pyplot as plt\n",
    "import matplotlib.patches as mpatches\n",
    "import seaborn as sns\n",
    "# import math\n",
    "from pandas_profiling import ProfileReport\n",
    "# import matplotlib.pyplot as plt\n",
    "from sklearn.metrics import confusion_matrix, ConfusionMatrixDisplay\n",
    "from scripts.python.get_metrics import *\n",
    "from scripts.python.get_charts import get_monthly_stability_chart"
   ]
  },
  {
   "cell_type": "code",
   "execution_count": 5,
   "metadata": {},
   "outputs": [],
   "source": [
    "from pandasql import sqldf\n",
    "pysqldf = lambda q: sqldf(q, globals())"
   ]
  },
  {
   "cell_type": "code",
   "execution_count": 6,
   "metadata": {},
   "outputs": [],
   "source": [
    "INPUT_PATH=\"input\"\n",
    "OUTPUT_PATH=\"output\"\n",
    "CONFIG_PATH=\"config\"\n",
    "\n",
    "INPUT_DATA=\"test_data2\"\n",
    "INPUT_DATA_CONFIG=\"input_config\"\n",
    "OUTPUT_DATA=\"output\"\n",
    "\n",
    "INPUT_EXTENSION=\"csv\"\n",
    "INPUT_CONFIG_EXTENSION=\"json\"\n",
    "OUTPUT_EXTENSION=\"csv\"\n",
    "\n",
    "INPUT_FILE=f\"{INPUT_DATA}.{INPUT_EXTENSION}\"\n",
    "INPUT_CONFIG_FILE=f\"{INPUT_DATA_CONFIG}.{INPUT_CONFIG_EXTENSION}\"\n",
    "OUTPUT_FILE=f\"{OUTPUT_DATA}.{OUTPUT_EXTENSION}\"\n",
    "\n",
    "INPUT_ABS_APTH=os.path.abspath(os.path.join(INPUT_PATH, INPUT_FILE))\n",
    "INPUT_FILE_CONFIG=os.path.abspath(os.path.join(CONFIG_PATH, INPUT_CONFIG_FILE))\n",
    "OUTPUT_ABS_APTH=os.path.abspath(os.path.join(OUTPUT_PATH, OUTPUT_FILE))"
   ]
  },
  {
   "cell_type": "code",
   "execution_count": 7,
   "metadata": {},
   "outputs": [],
   "source": [
    "with open(INPUT_FILE_CONFIG, encoding='utf-8') as f:\n",
    "    CONFIG = json.load(f)"
   ]
  },
  {
   "cell_type": "code",
   "execution_count": 8,
   "metadata": {},
   "outputs": [
    {
     "data": {
      "text/plain": [
       "{'INPUTS': {'FILE_NAME': ['test_data2.csv'],\n",
       "  'SEPARATOR': ',',\n",
       "  'DECIMAL': None,\n",
       "  'ENCODING': 'utf-8',\n",
       "  'FLOAT_PRECISION': 'high',\n",
       "  'INDEXES': ['period_end_date', 'translated_when'],\n",
       "  'DATE_COLUMNS': ['period_end_date', 'translated_when'],\n",
       "  'DTYPE': {'if_data_corrected': 'object',\n",
       "   'prod_gr_id': 'object',\n",
       "   'country_id_n': 'object',\n",
       "   'delivery_type_id': 'object',\n",
       "   'freq_id': 'object',\n",
       "   'retailer_id': 'object',\n",
       "   'brand_id': 'object',\n",
       "   'predict_automatch': 'float',\n",
       "   'class_acctual': 'float'},\n",
       "  'COLUMNS_WITH_NAN_VALUES': [None]},\n",
       " 'MODEL': [None],\n",
       " 'OUTPUTS': {'NAME': ['output.csv']}}"
      ]
     },
     "execution_count": 8,
     "metadata": {},
     "output_type": "execute_result"
    }
   ],
   "source": [
    "CONFIG"
   ]
  },
  {
   "cell_type": "markdown",
   "metadata": {},
   "source": [
    "# Load data"
   ]
  },
  {
   "cell_type": "code",
   "execution_count": 9,
   "metadata": {},
   "outputs": [],
   "source": [
    "# LOAD CSV\n",
    "df = pd.read_csv(\n",
    "    INPUT_ABS_APTH,\n",
    "#     index_col=CONFIG['INPUTS']['INDEXES'],\n",
    "    sep=CONFIG['INPUTS']['SEPARATOR'],\n",
    "    # quotechar='\"',\n",
    "    # thousands=',',\n",
    "#     decimal=CONFIG['INPUTS']['DECIMAL'],\n",
    "    encoding=CONFIG['INPUTS']['ENCODING'],\n",
    "    infer_datetime_format=True,\n",
    "    parse_dates=CONFIG['INPUTS']['DATE_COLUMNS'],\n",
    "    engine=\"c\",\n",
    "    low_memory=False,\n",
    "#     float_precision=CONFIG['INPUTS']['DATE_COLUMNS'],\n",
    "    skipinitialspace=True,\n",
    "    dtype=CONFIG['INPUTS']['DTYPE']\n",
    ")"
   ]
  },
  {
   "cell_type": "code",
   "execution_count": 10,
   "metadata": {},
   "outputs": [
    {
     "name": "stdout",
     "output_type": "stream",
     "text": [
      "<class 'pandas.core.frame.DataFrame'>\n",
      "RangeIndex: 19697 entries, 0 to 19696\n",
      "Data columns (total 11 columns):\n",
      " #   Column             Non-Null Count  Dtype              \n",
      "---  ------             --------------  -----              \n",
      " 0   period_end_date    19640 non-null  datetime64[ns, UTC]\n",
      " 1   translated_when    19697 non-null  datetime64[ns, UTC]\n",
      " 2   if_data_corrected  19697 non-null  object             \n",
      " 3   prod_gr_id         19697 non-null  object             \n",
      " 4   country_id_n       18405 non-null  object             \n",
      " 5   delivery_type_id   18362 non-null  object             \n",
      " 6   freq_id            19697 non-null  object             \n",
      " 7   retailer_id        19697 non-null  object             \n",
      " 8   brand_id           19697 non-null  object             \n",
      " 9   predict_automatch  19368 non-null  float64            \n",
      " 10  class_acctual      19697 non-null  float64            \n",
      "dtypes: datetime64[ns, UTC](2), float64(2), object(7)\n",
      "memory usage: 1.7+ MB\n"
     ]
    }
   ],
   "source": [
    "df.info()"
   ]
  },
  {
   "cell_type": "code",
   "execution_count": 11,
   "metadata": {},
   "outputs": [],
   "source": [
    "df.sort_values(by=['translated_when'], inplace=True)"
   ]
  },
  {
   "cell_type": "code",
   "execution_count": 12,
   "metadata": {},
   "outputs": [
    {
     "data": {
      "text/html": [
       "<div>\n",
       "<style scoped>\n",
       "    .dataframe tbody tr th:only-of-type {\n",
       "        vertical-align: middle;\n",
       "    }\n",
       "\n",
       "    .dataframe tbody tr th {\n",
       "        vertical-align: top;\n",
       "    }\n",
       "\n",
       "    .dataframe thead th {\n",
       "        text-align: right;\n",
       "    }\n",
       "</style>\n",
       "<table border=\"1\" class=\"dataframe\">\n",
       "  <thead>\n",
       "    <tr style=\"text-align: right;\">\n",
       "      <th></th>\n",
       "      <th>period_end_date</th>\n",
       "      <th>translated_when</th>\n",
       "      <th>if_data_corrected</th>\n",
       "      <th>prod_gr_id</th>\n",
       "      <th>country_id_n</th>\n",
       "      <th>delivery_type_id</th>\n",
       "      <th>freq_id</th>\n",
       "      <th>retailer_id</th>\n",
       "      <th>brand_id</th>\n",
       "      <th>predict_automatch</th>\n",
       "      <th>class_acctual</th>\n",
       "    </tr>\n",
       "  </thead>\n",
       "  <tbody>\n",
       "    <tr>\n",
       "      <th>1908</th>\n",
       "      <td>2020-08-30 00:00:00+00:00</td>\n",
       "      <td>2020-09-01 03:05:51+00:00</td>\n",
       "      <td>0</td>\n",
       "      <td>426</td>\n",
       "      <td>126</td>\n",
       "      <td>22866</td>\n",
       "      <td>1</td>\n",
       "      <td>174</td>\n",
       "      <td>280</td>\n",
       "      <td>1.0</td>\n",
       "      <td>1.0</td>\n",
       "    </tr>\n",
       "    <tr>\n",
       "      <th>1907</th>\n",
       "      <td>2020-08-30 00:00:00+00:00</td>\n",
       "      <td>2020-09-01 03:35:26+00:00</td>\n",
       "      <td>0</td>\n",
       "      <td>426</td>\n",
       "      <td>126</td>\n",
       "      <td>22866</td>\n",
       "      <td>2</td>\n",
       "      <td>93</td>\n",
       "      <td>96</td>\n",
       "      <td>1.0</td>\n",
       "      <td>1.0</td>\n",
       "    </tr>\n",
       "    <tr>\n",
       "      <th>4503</th>\n",
       "      <td>2020-08-30 00:00:00+00:00</td>\n",
       "      <td>2020-09-01 03:44:29+00:00</td>\n",
       "      <td>0</td>\n",
       "      <td>413</td>\n",
       "      <td>113</td>\n",
       "      <td>12731</td>\n",
       "      <td>2</td>\n",
       "      <td>95</td>\n",
       "      <td>182</td>\n",
       "      <td>1.0</td>\n",
       "      <td>1.0</td>\n",
       "    </tr>\n",
       "    <tr>\n",
       "      <th>8009</th>\n",
       "      <td>2020-09-01 00:00:00+00:00</td>\n",
       "      <td>2020-09-01 06:15:32+00:00</td>\n",
       "      <td>1</td>\n",
       "      <td>426</td>\n",
       "      <td>114</td>\n",
       "      <td>18614</td>\n",
       "      <td>1</td>\n",
       "      <td>173</td>\n",
       "      <td>279</td>\n",
       "      <td>1.0</td>\n",
       "      <td>1.0</td>\n",
       "    </tr>\n",
       "    <tr>\n",
       "      <th>5091</th>\n",
       "      <td>2020-09-01 00:00:00+00:00</td>\n",
       "      <td>2020-09-01 06:15:50+00:00</td>\n",
       "      <td>1</td>\n",
       "      <td>426</td>\n",
       "      <td>114</td>\n",
       "      <td>18614</td>\n",
       "      <td>1</td>\n",
       "      <td>34</td>\n",
       "      <td>234</td>\n",
       "      <td>1.0</td>\n",
       "      <td>1.0</td>\n",
       "    </tr>\n",
       "    <tr>\n",
       "      <th>8010</th>\n",
       "      <td>2020-09-01 00:00:00+00:00</td>\n",
       "      <td>2020-09-01 06:21:31+00:00</td>\n",
       "      <td>1</td>\n",
       "      <td>426</td>\n",
       "      <td>114</td>\n",
       "      <td>18614</td>\n",
       "      <td>2</td>\n",
       "      <td>93</td>\n",
       "      <td>96</td>\n",
       "      <td>1.0</td>\n",
       "      <td>1.0</td>\n",
       "    </tr>\n",
       "    <tr>\n",
       "      <th>9945</th>\n",
       "      <td>2020-09-01 00:00:00+00:00</td>\n",
       "      <td>2020-09-01 06:24:04+00:00</td>\n",
       "      <td>1</td>\n",
       "      <td>426</td>\n",
       "      <td>114</td>\n",
       "      <td>18614</td>\n",
       "      <td>1</td>\n",
       "      <td>117</td>\n",
       "      <td>243</td>\n",
       "      <td>1.0</td>\n",
       "      <td>1.0</td>\n",
       "    </tr>\n",
       "    <tr>\n",
       "      <th>9944</th>\n",
       "      <td>2020-09-01 00:00:00+00:00</td>\n",
       "      <td>2020-09-01 06:24:13+00:00</td>\n",
       "      <td>1</td>\n",
       "      <td>426</td>\n",
       "      <td>114</td>\n",
       "      <td>18614</td>\n",
       "      <td>2</td>\n",
       "      <td>11</td>\n",
       "      <td>33</td>\n",
       "      <td>1.0</td>\n",
       "      <td>1.0</td>\n",
       "    </tr>\n",
       "    <tr>\n",
       "      <th>10999</th>\n",
       "      <td>2020-09-01 00:00:00+00:00</td>\n",
       "      <td>2020-09-01 06:25:53+00:00</td>\n",
       "      <td>1</td>\n",
       "      <td>426</td>\n",
       "      <td>114</td>\n",
       "      <td>18614</td>\n",
       "      <td>1</td>\n",
       "      <td>26</td>\n",
       "      <td>169</td>\n",
       "      <td>0.0</td>\n",
       "      <td>0.0</td>\n",
       "    </tr>\n",
       "    <tr>\n",
       "      <th>9947</th>\n",
       "      <td>2020-09-01 00:00:00+00:00</td>\n",
       "      <td>2020-09-01 06:26:45+00:00</td>\n",
       "      <td>1</td>\n",
       "      <td>426</td>\n",
       "      <td>114</td>\n",
       "      <td>18614</td>\n",
       "      <td>1</td>\n",
       "      <td>33</td>\n",
       "      <td>379</td>\n",
       "      <td>0.0</td>\n",
       "      <td>0.0</td>\n",
       "    </tr>\n",
       "  </tbody>\n",
       "</table>\n",
       "</div>"
      ],
      "text/plain": [
       "                period_end_date           translated_when if_data_corrected  \\\n",
       "1908  2020-08-30 00:00:00+00:00 2020-09-01 03:05:51+00:00                 0   \n",
       "1907  2020-08-30 00:00:00+00:00 2020-09-01 03:35:26+00:00                 0   \n",
       "4503  2020-08-30 00:00:00+00:00 2020-09-01 03:44:29+00:00                 0   \n",
       "8009  2020-09-01 00:00:00+00:00 2020-09-01 06:15:32+00:00                 1   \n",
       "5091  2020-09-01 00:00:00+00:00 2020-09-01 06:15:50+00:00                 1   \n",
       "8010  2020-09-01 00:00:00+00:00 2020-09-01 06:21:31+00:00                 1   \n",
       "9945  2020-09-01 00:00:00+00:00 2020-09-01 06:24:04+00:00                 1   \n",
       "9944  2020-09-01 00:00:00+00:00 2020-09-01 06:24:13+00:00                 1   \n",
       "10999 2020-09-01 00:00:00+00:00 2020-09-01 06:25:53+00:00                 1   \n",
       "9947  2020-09-01 00:00:00+00:00 2020-09-01 06:26:45+00:00                 1   \n",
       "\n",
       "      prod_gr_id country_id_n delivery_type_id freq_id retailer_id brand_id  \\\n",
       "1908         426          126            22866       1         174      280   \n",
       "1907         426          126            22866       2          93       96   \n",
       "4503         413          113            12731       2          95      182   \n",
       "8009         426          114            18614       1         173      279   \n",
       "5091         426          114            18614       1          34      234   \n",
       "8010         426          114            18614       2          93       96   \n",
       "9945         426          114            18614       1         117      243   \n",
       "9944         426          114            18614       2          11       33   \n",
       "10999        426          114            18614       1          26      169   \n",
       "9947         426          114            18614       1          33      379   \n",
       "\n",
       "       predict_automatch  class_acctual  \n",
       "1908                 1.0            1.0  \n",
       "1907                 1.0            1.0  \n",
       "4503                 1.0            1.0  \n",
       "8009                 1.0            1.0  \n",
       "5091                 1.0            1.0  \n",
       "8010                 1.0            1.0  \n",
       "9945                 1.0            1.0  \n",
       "9944                 1.0            1.0  \n",
       "10999                0.0            0.0  \n",
       "9947                 0.0            0.0  "
      ]
     },
     "execution_count": 12,
     "metadata": {},
     "output_type": "execute_result"
    }
   ],
   "source": [
    "df.head(10)"
   ]
  },
  {
   "cell_type": "code",
   "execution_count": 13,
   "metadata": {},
   "outputs": [
    {
     "data": {
      "text/html": [
       "<div>\n",
       "<style scoped>\n",
       "    .dataframe tbody tr th:only-of-type {\n",
       "        vertical-align: middle;\n",
       "    }\n",
       "\n",
       "    .dataframe tbody tr th {\n",
       "        vertical-align: top;\n",
       "    }\n",
       "\n",
       "    .dataframe thead th {\n",
       "        text-align: right;\n",
       "    }\n",
       "</style>\n",
       "<table border=\"1\" class=\"dataframe\">\n",
       "  <thead>\n",
       "    <tr style=\"text-align: right;\">\n",
       "      <th></th>\n",
       "      <th>period_end_date</th>\n",
       "      <th>translated_when</th>\n",
       "      <th>if_data_corrected</th>\n",
       "      <th>prod_gr_id</th>\n",
       "      <th>country_id_n</th>\n",
       "      <th>delivery_type_id</th>\n",
       "      <th>freq_id</th>\n",
       "      <th>retailer_id</th>\n",
       "      <th>brand_id</th>\n",
       "      <th>predict_automatch</th>\n",
       "      <th>class_acctual</th>\n",
       "    </tr>\n",
       "  </thead>\n",
       "  <tbody>\n",
       "    <tr>\n",
       "      <th>count</th>\n",
       "      <td>19640</td>\n",
       "      <td>19697</td>\n",
       "      <td>19697</td>\n",
       "      <td>19697</td>\n",
       "      <td>18405</td>\n",
       "      <td>18362</td>\n",
       "      <td>19697</td>\n",
       "      <td>19697</td>\n",
       "      <td>19697</td>\n",
       "      <td>19368.000000</td>\n",
       "      <td>19697.000000</td>\n",
       "    </tr>\n",
       "    <tr>\n",
       "      <th>unique</th>\n",
       "      <td>NaN</td>\n",
       "      <td>NaN</td>\n",
       "      <td>2</td>\n",
       "      <td>3</td>\n",
       "      <td>34</td>\n",
       "      <td>914</td>\n",
       "      <td>2</td>\n",
       "      <td>52</td>\n",
       "      <td>199</td>\n",
       "      <td>NaN</td>\n",
       "      <td>NaN</td>\n",
       "    </tr>\n",
       "    <tr>\n",
       "      <th>top</th>\n",
       "      <td>NaN</td>\n",
       "      <td>NaN</td>\n",
       "      <td>0</td>\n",
       "      <td>426</td>\n",
       "      <td>121</td>\n",
       "      <td>31480</td>\n",
       "      <td>2</td>\n",
       "      <td>30</td>\n",
       "      <td>33</td>\n",
       "      <td>NaN</td>\n",
       "      <td>NaN</td>\n",
       "    </tr>\n",
       "    <tr>\n",
       "      <th>freq</th>\n",
       "      <td>NaN</td>\n",
       "      <td>NaN</td>\n",
       "      <td>17085</td>\n",
       "      <td>11844</td>\n",
       "      <td>4153</td>\n",
       "      <td>998</td>\n",
       "      <td>11934</td>\n",
       "      <td>1197</td>\n",
       "      <td>587</td>\n",
       "      <td>NaN</td>\n",
       "      <td>NaN</td>\n",
       "    </tr>\n",
       "    <tr>\n",
       "      <th>mean</th>\n",
       "      <td>2020-10-14 23:30:22.729124096+00:00</td>\n",
       "      <td>2020-10-22 06:01:21.525206784+00:00</td>\n",
       "      <td>NaN</td>\n",
       "      <td>NaN</td>\n",
       "      <td>NaN</td>\n",
       "      <td>NaN</td>\n",
       "      <td>NaN</td>\n",
       "      <td>NaN</td>\n",
       "      <td>NaN</td>\n",
       "      <td>0.636307</td>\n",
       "      <td>0.743210</td>\n",
       "    </tr>\n",
       "    <tr>\n",
       "      <th>min</th>\n",
       "      <td>2020-08-30 00:00:00+00:00</td>\n",
       "      <td>2020-09-01 03:05:51+00:00</td>\n",
       "      <td>NaN</td>\n",
       "      <td>NaN</td>\n",
       "      <td>NaN</td>\n",
       "      <td>NaN</td>\n",
       "      <td>NaN</td>\n",
       "      <td>NaN</td>\n",
       "      <td>NaN</td>\n",
       "      <td>0.000000</td>\n",
       "      <td>0.000000</td>\n",
       "    </tr>\n",
       "    <tr>\n",
       "      <th>25%</th>\n",
       "      <td>2020-09-27 00:00:00+00:00</td>\n",
       "      <td>2020-09-29 13:45:29+00:00</td>\n",
       "      <td>NaN</td>\n",
       "      <td>NaN</td>\n",
       "      <td>NaN</td>\n",
       "      <td>NaN</td>\n",
       "      <td>NaN</td>\n",
       "      <td>NaN</td>\n",
       "      <td>NaN</td>\n",
       "      <td>0.000000</td>\n",
       "      <td>0.000000</td>\n",
       "    </tr>\n",
       "    <tr>\n",
       "      <th>50%</th>\n",
       "      <td>2020-10-18 00:00:00+00:00</td>\n",
       "      <td>2020-10-22 04:30:49+00:00</td>\n",
       "      <td>NaN</td>\n",
       "      <td>NaN</td>\n",
       "      <td>NaN</td>\n",
       "      <td>NaN</td>\n",
       "      <td>NaN</td>\n",
       "      <td>NaN</td>\n",
       "      <td>NaN</td>\n",
       "      <td>1.000000</td>\n",
       "      <td>1.000000</td>\n",
       "    </tr>\n",
       "    <tr>\n",
       "      <th>75%</th>\n",
       "      <td>2020-11-08 00:00:00+00:00</td>\n",
       "      <td>2020-11-13 11:57:53+00:00</td>\n",
       "      <td>NaN</td>\n",
       "      <td>NaN</td>\n",
       "      <td>NaN</td>\n",
       "      <td>NaN</td>\n",
       "      <td>NaN</td>\n",
       "      <td>NaN</td>\n",
       "      <td>NaN</td>\n",
       "      <td>1.000000</td>\n",
       "      <td>1.000000</td>\n",
       "    </tr>\n",
       "    <tr>\n",
       "      <th>max</th>\n",
       "      <td>2020-12-01 00:00:00+00:00</td>\n",
       "      <td>2021-02-01 14:50:49+00:00</td>\n",
       "      <td>NaN</td>\n",
       "      <td>NaN</td>\n",
       "      <td>NaN</td>\n",
       "      <td>NaN</td>\n",
       "      <td>NaN</td>\n",
       "      <td>NaN</td>\n",
       "      <td>NaN</td>\n",
       "      <td>1.000000</td>\n",
       "      <td>1.000000</td>\n",
       "    </tr>\n",
       "    <tr>\n",
       "      <th>std</th>\n",
       "      <td>NaN</td>\n",
       "      <td>NaN</td>\n",
       "      <td>NaN</td>\n",
       "      <td>NaN</td>\n",
       "      <td>NaN</td>\n",
       "      <td>NaN</td>\n",
       "      <td>NaN</td>\n",
       "      <td>NaN</td>\n",
       "      <td>NaN</td>\n",
       "      <td>0.481074</td>\n",
       "      <td>0.436874</td>\n",
       "    </tr>\n",
       "  </tbody>\n",
       "</table>\n",
       "</div>"
      ],
      "text/plain": [
       "                            period_end_date  \\\n",
       "count                                 19640   \n",
       "unique                                  NaN   \n",
       "top                                     NaN   \n",
       "freq                                    NaN   \n",
       "mean    2020-10-14 23:30:22.729124096+00:00   \n",
       "min               2020-08-30 00:00:00+00:00   \n",
       "25%               2020-09-27 00:00:00+00:00   \n",
       "50%               2020-10-18 00:00:00+00:00   \n",
       "75%               2020-11-08 00:00:00+00:00   \n",
       "max               2020-12-01 00:00:00+00:00   \n",
       "std                                     NaN   \n",
       "\n",
       "                            translated_when if_data_corrected prod_gr_id  \\\n",
       "count                                 19697             19697      19697   \n",
       "unique                                  NaN                 2          3   \n",
       "top                                     NaN                 0        426   \n",
       "freq                                    NaN             17085      11844   \n",
       "mean    2020-10-22 06:01:21.525206784+00:00               NaN        NaN   \n",
       "min               2020-09-01 03:05:51+00:00               NaN        NaN   \n",
       "25%               2020-09-29 13:45:29+00:00               NaN        NaN   \n",
       "50%               2020-10-22 04:30:49+00:00               NaN        NaN   \n",
       "75%               2020-11-13 11:57:53+00:00               NaN        NaN   \n",
       "max               2021-02-01 14:50:49+00:00               NaN        NaN   \n",
       "std                                     NaN               NaN        NaN   \n",
       "\n",
       "       country_id_n delivery_type_id freq_id retailer_id brand_id  \\\n",
       "count         18405            18362   19697       19697    19697   \n",
       "unique           34              914       2          52      199   \n",
       "top             121            31480       2          30       33   \n",
       "freq           4153              998   11934        1197      587   \n",
       "mean            NaN              NaN     NaN         NaN      NaN   \n",
       "min             NaN              NaN     NaN         NaN      NaN   \n",
       "25%             NaN              NaN     NaN         NaN      NaN   \n",
       "50%             NaN              NaN     NaN         NaN      NaN   \n",
       "75%             NaN              NaN     NaN         NaN      NaN   \n",
       "max             NaN              NaN     NaN         NaN      NaN   \n",
       "std             NaN              NaN     NaN         NaN      NaN   \n",
       "\n",
       "        predict_automatch  class_acctual  \n",
       "count        19368.000000   19697.000000  \n",
       "unique                NaN            NaN  \n",
       "top                   NaN            NaN  \n",
       "freq                  NaN            NaN  \n",
       "mean             0.636307       0.743210  \n",
       "min              0.000000       0.000000  \n",
       "25%              0.000000       0.000000  \n",
       "50%              1.000000       1.000000  \n",
       "75%              1.000000       1.000000  \n",
       "max              1.000000       1.000000  \n",
       "std              0.481074       0.436874  "
      ]
     },
     "execution_count": 13,
     "metadata": {},
     "output_type": "execute_result"
    }
   ],
   "source": [
    "df.describe(\n",
    "    include='all',\n",
    "    datetime_is_numeric=True\n",
    ")"
   ]
  },
  {
   "cell_type": "markdown",
   "metadata": {},
   "source": [
    "# Pandas data profiler"
   ]
  },
  {
   "cell_type": "code",
   "execution_count": 14,
   "metadata": {},
   "outputs": [],
   "source": [
    "profile = ProfileReport(\n",
    "    df,\n",
    "    title=\"Pandas Profiling Report\",\n",
    "    pool_size=0,\n",
    "    infer_dtypes=False\n",
    ")"
   ]
  },
  {
   "cell_type": "code",
   "execution_count": 15,
   "metadata": {
    "scrolled": false
   },
   "outputs": [
    {
     "data": {
      "application/json": {
       "ascii": false,
       "bar_format": null,
       "colour": null,
       "elapsed": 0.02002120018005371,
       "initial": 0,
       "n": 0,
       "ncols": null,
       "nrows": 9,
       "postfix": null,
       "prefix": "Summarize dataset",
       "rate": null,
       "total": 5,
       "unit": "it",
       "unit_divisor": 1000,
       "unit_scale": false
      },
      "application/vnd.jupyter.widget-view+json": {
       "model_id": "bd4cf1e7e4f94fc9a598e54f5d1e944d",
       "version_major": 2,
       "version_minor": 0
      },
      "text/plain": [
       "Summarize dataset:   0%|          | 0/5 [00:00<?, ?it/s]"
      ]
     },
     "metadata": {},
     "output_type": "display_data"
    },
    {
     "data": {
      "application/json": {
       "ascii": false,
       "bar_format": null,
       "colour": null,
       "elapsed": 0.017003774642944336,
       "initial": 0,
       "n": 0,
       "ncols": null,
       "nrows": 9,
       "postfix": null,
       "prefix": "Generate report structure",
       "rate": null,
       "total": 1,
       "unit": "it",
       "unit_divisor": 1000,
       "unit_scale": false
      },
      "application/vnd.jupyter.widget-view+json": {
       "model_id": "4c16ffd7047d4b31a1592c7cd1db4d72",
       "version_major": 2,
       "version_minor": 0
      },
      "text/plain": [
       "Generate report structure:   0%|          | 0/1 [00:00<?, ?it/s]"
      ]
     },
     "metadata": {},
     "output_type": "display_data"
    },
    {
     "data": {
      "application/json": {
       "ascii": false,
       "bar_format": null,
       "colour": null,
       "elapsed": 0.014999151229858398,
       "initial": 0,
       "n": 0,
       "ncols": null,
       "nrows": 9,
       "postfix": null,
       "prefix": "Render widgets",
       "rate": null,
       "total": 1,
       "unit": "it",
       "unit_divisor": 1000,
       "unit_scale": false
      },
      "application/vnd.jupyter.widget-view+json": {
       "model_id": "",
       "version_major": 2,
       "version_minor": 0
      },
      "text/plain": [
       "Render widgets:   0%|          | 0/1 [00:00<?, ?it/s]"
      ]
     },
     "metadata": {},
     "output_type": "display_data"
    },
    {
     "data": {
      "application/vnd.jupyter.widget-view+json": {
       "model_id": "c0d6c762e5d24cd39cfce514fc260ce4",
       "version_major": 2,
       "version_minor": 0
      },
      "text/plain": [
       "VBox(children=(Tab(children=(Tab(children=(GridBox(children=(VBox(children=(GridspecLayout(children=(HTML(valu…"
      ]
     },
     "metadata": {},
     "output_type": "display_data"
    }
   ],
   "source": [
    "profile.to_widgets()"
   ]
  },
  {
   "cell_type": "markdown",
   "metadata": {},
   "source": [
    "### Offline example of Pandas Profiler widget:"
   ]
  },
  {
   "cell_type": "markdown",
   "metadata": {},
   "source": [
    "![image info](./docs/images/pandas_profiler/profiler_example.png)"
   ]
  },
  {
   "cell_type": "code",
   "execution_count": 16,
   "metadata": {
    "pycharm": {
     "name": "#%%\n"
    }
   },
   "outputs": [
    {
     "name": "stdout",
     "output_type": "stream",
     "text": [
      "if_data_corrected\n",
      "PRODUCED A CHART OF predict_automatch MONTHLY STABILITY FOR:  if_data_corrected  VARIABLE CLASS:  0\n",
      "PRODUCED A CHART OF predict_automatch MONTHLY STABILITY FOR:  if_data_corrected  VARIABLE CLASS:  1\n",
      "prod_gr_id\n",
      "PRODUCED A CHART OF predict_automatch MONTHLY STABILITY FOR:  prod_gr_id  VARIABLE CLASS:  426\n",
      "PRODUCED A CHART OF predict_automatch MONTHLY STABILITY FOR:  prod_gr_id  VARIABLE CLASS:  427\n",
      "PRODUCED A CHART OF predict_automatch MONTHLY STABILITY FOR:  prod_gr_id  VARIABLE CLASS:  413\n",
      "country_id_n\n",
      "PRODUCED A CHART OF predict_automatch MONTHLY STABILITY FOR:  country_id_n  VARIABLE CLASS:  1010\n",
      "PRODUCED A CHART OF predict_automatch MONTHLY STABILITY FOR:  country_id_n  VARIABLE CLASS:  1002\n",
      "PRODUCED A CHART OF predict_automatch MONTHLY STABILITY FOR:  country_id_n  VARIABLE CLASS:  150\n",
      "PRODUCED A CHART OF predict_automatch MONTHLY STABILITY FOR:  country_id_n  VARIABLE CLASS:  103\n",
      "PRODUCED A CHART OF predict_automatch MONTHLY STABILITY FOR:  country_id_n  VARIABLE CLASS:  177\n",
      "PRODUCED A CHART OF predict_automatch MONTHLY STABILITY FOR:  country_id_n  VARIABLE CLASS:  173\n",
      "PRODUCED A CHART OF predict_automatch MONTHLY STABILITY FOR:  country_id_n  VARIABLE CLASS:  104\n",
      "PRODUCED A CHART OF predict_automatch MONTHLY STABILITY FOR:  country_id_n  VARIABLE CLASS:  121\n",
      "PRODUCED A CHART OF predict_automatch MONTHLY STABILITY FOR:  country_id_n  VARIABLE CLASS:  136\n",
      "PRODUCED A CHART OF predict_automatch MONTHLY STABILITY FOR:  country_id_n  VARIABLE CLASS:  114\n",
      "PRODUCED A CHART OF predict_automatch MONTHLY STABILITY FOR:  country_id_n  VARIABLE CLASS:  124\n",
      "PRODUCED A CHART OF predict_automatch MONTHLY STABILITY FOR:  country_id_n  VARIABLE CLASS:  126\n",
      "PRODUCED A CHART OF predict_automatch MONTHLY STABILITY FOR:  country_id_n  VARIABLE CLASS:  113\n",
      "PRODUCED A CHART OF predict_automatch MONTHLY STABILITY FOR:  country_id_n  VARIABLE CLASS:  1011\n",
      "PRODUCED A CHART OF predict_automatch MONTHLY STABILITY FOR:  country_id_n  VARIABLE CLASS:  116\n",
      "PRODUCED A CHART OF predict_automatch MONTHLY STABILITY FOR:  country_id_n  VARIABLE CLASS:  119\n",
      "PRODUCED A CHART OF predict_automatch MONTHLY STABILITY FOR:  country_id_n  VARIABLE CLASS:  120\n",
      "PRODUCED A CHART OF predict_automatch MONTHLY STABILITY FOR:  country_id_n  VARIABLE CLASS:  110\n",
      "PRODUCED A CHART OF predict_automatch MONTHLY STABILITY FOR:  country_id_n  VARIABLE CLASS:  118\n",
      "PRODUCED A CHART OF predict_automatch MONTHLY STABILITY FOR:  country_id_n  VARIABLE CLASS:  108\n",
      "PRODUCED A CHART OF predict_automatch MONTHLY STABILITY FOR:  country_id_n  VARIABLE CLASS:  138\n",
      "PRODUCED A CHART OF predict_automatch MONTHLY STABILITY FOR:  country_id_n  VARIABLE CLASS:  174\n",
      "PRODUCED A CHART OF predict_automatch MONTHLY STABILITY FOR:  country_id_n  VARIABLE CLASS:  139\n",
      "PRODUCED A CHART OF predict_automatch MONTHLY STABILITY FOR:  country_id_n  VARIABLE CLASS:  176\n",
      "PRODUCED A CHART OF predict_automatch MONTHLY STABILITY FOR:  country_id_n  VARIABLE CLASS:  105\n",
      "PRODUCED A CHART OF predict_automatch MONTHLY STABILITY FOR:  country_id_n  VARIABLE CLASS:  128\n",
      "PRODUCED A CHART OF predict_automatch MONTHLY STABILITY FOR:  country_id_n  VARIABLE CLASS:  160\n",
      "PRODUCED A CHART OF predict_automatch MONTHLY STABILITY FOR:  country_id_n  VARIABLE CLASS:  106\n",
      "PRODUCED A CHART OF predict_automatch MONTHLY STABILITY FOR:  country_id_n  VARIABLE CLASS:  131\n",
      "PRODUCED A CHART OF predict_automatch MONTHLY STABILITY FOR:  country_id_n  VARIABLE CLASS:  109\n",
      "PRODUCED A CHART OF predict_automatch MONTHLY STABILITY FOR:  country_id_n  VARIABLE CLASS:  151\n",
      "PRODUCED A CHART OF predict_automatch MONTHLY STABILITY FOR:  country_id_n  VARIABLE CLASS:  107\n",
      "PRODUCED A CHART OF predict_automatch MONTHLY STABILITY FOR:  country_id_n  VARIABLE CLASS:  141\n",
      "PRODUCED A CHART OF predict_automatch MONTHLY STABILITY FOR:  country_id_n  VARIABLE CLASS:  170\n",
      "delivery_type_id\n",
      "PRODUCED A CHART OF predict_automatch MONTHLY STABILITY FOR:  delivery_type_id  VARIABLE CLASS:  58690\n",
      "PRODUCED A CHART OF predict_automatch MONTHLY STABILITY FOR:  delivery_type_id  VARIABLE CLASS:  68438\n",
      "PRODUCED A CHART OF predict_automatch MONTHLY STABILITY FOR:  delivery_type_id  VARIABLE CLASS:  72348\n",
      "PRODUCED A CHART OF predict_automatch MONTHLY STABILITY FOR:  delivery_type_id  VARIABLE CLASS:  36794\n",
      "PRODUCED A CHART OF predict_automatch MONTHLY STABILITY FOR:  delivery_type_id  VARIABLE CLASS:  41340\n",
      "PRODUCED A CHART OF predict_automatch MONTHLY STABILITY FOR:  delivery_type_id  VARIABLE CLASS:  66278\n",
      "PRODUCED A CHART OF predict_automatch MONTHLY STABILITY FOR:  delivery_type_id  VARIABLE CLASS:  70374\n",
      "PRODUCED A CHART OF predict_automatch MONTHLY STABILITY FOR:  delivery_type_id  VARIABLE CLASS:  18570\n",
      "PRODUCED A CHART OF predict_automatch MONTHLY STABILITY FOR:  delivery_type_id  VARIABLE CLASS:  9974\n",
      "PRODUCED A CHART OF predict_automatch MONTHLY STABILITY FOR:  delivery_type_id  VARIABLE CLASS:  77565\n",
      "PRODUCED A CHART OF predict_automatch MONTHLY STABILITY FOR:  delivery_type_id  VARIABLE CLASS:  65402\n",
      "PRODUCED A CHART OF predict_automatch MONTHLY STABILITY FOR:  delivery_type_id  VARIABLE CLASS:  29452\n",
      "PRODUCED A CHART OF predict_automatch MONTHLY STABILITY FOR:  delivery_type_id  VARIABLE CLASS:  73431\n",
      "PRODUCED A CHART OF predict_automatch MONTHLY STABILITY FOR:  delivery_type_id  VARIABLE CLASS:  30209\n",
      "PRODUCED A CHART OF predict_automatch MONTHLY STABILITY FOR:  delivery_type_id  VARIABLE CLASS:  59564\n",
      "PRODUCED A CHART OF predict_automatch MONTHLY STABILITY FOR:  delivery_type_id  VARIABLE CLASS:  21381\n",
      "PRODUCED A CHART OF predict_automatch MONTHLY STABILITY FOR:  delivery_type_id  VARIABLE CLASS:  38929\n",
      "PRODUCED A CHART OF predict_automatch MONTHLY STABILITY FOR:  delivery_type_id  VARIABLE CLASS:  66921\n",
      "PRODUCED A CHART OF predict_automatch MONTHLY STABILITY FOR:  delivery_type_id  VARIABLE CLASS:  28578\n",
      "PRODUCED A CHART OF predict_automatch MONTHLY STABILITY FOR:  delivery_type_id  VARIABLE CLASS:  71984\n",
      "PRODUCED A CHART OF predict_automatch MONTHLY STABILITY FOR:  delivery_type_id  VARIABLE CLASS:  78868\n",
      "PRODUCED A CHART OF predict_automatch MONTHLY STABILITY FOR:  delivery_type_id  VARIABLE CLASS:  77473\n",
      "PRODUCED A CHART OF predict_automatch MONTHLY STABILITY FOR:  delivery_type_id  VARIABLE CLASS:  75178\n",
      "PRODUCED A CHART OF predict_automatch MONTHLY STABILITY FOR:  delivery_type_id  VARIABLE CLASS:  48566\n",
      "PRODUCED A CHART OF predict_automatch MONTHLY STABILITY FOR:  delivery_type_id  VARIABLE CLASS:  55371\n",
      "PRODUCED A CHART OF predict_automatch MONTHLY STABILITY FOR:  delivery_type_id  VARIABLE CLASS:  74027\n",
      "PRODUCED A CHART OF predict_automatch MONTHLY STABILITY FOR:  delivery_type_id  VARIABLE CLASS:  59572\n",
      "PRODUCED A CHART OF predict_automatch MONTHLY STABILITY FOR:  delivery_type_id  VARIABLE CLASS:  59085\n",
      "PRODUCED A CHART OF predict_automatch MONTHLY STABILITY FOR:  delivery_type_id  VARIABLE CLASS:  73518\n",
      "PRODUCED A CHART OF predict_automatch MONTHLY STABILITY FOR:  delivery_type_id  VARIABLE CLASS:  65220\n",
      "PRODUCED A CHART OF predict_automatch MONTHLY STABILITY FOR:  delivery_type_id  VARIABLE CLASS:  22785\n",
      "PRODUCED A CHART OF predict_automatch MONTHLY STABILITY FOR:  delivery_type_id  VARIABLE CLASS:  49877\n",
      "PRODUCED A CHART OF predict_automatch MONTHLY STABILITY FOR:  delivery_type_id  VARIABLE CLASS:  20268\n",
      "PRODUCED A CHART OF predict_automatch MONTHLY STABILITY FOR:  delivery_type_id  VARIABLE CLASS:  78650\n",
      "PRODUCED A CHART OF predict_automatch MONTHLY STABILITY FOR:  delivery_type_id  VARIABLE CLASS:  451\n",
      "PRODUCED A CHART OF predict_automatch MONTHLY STABILITY FOR:  delivery_type_id  VARIABLE CLASS:  51345\n",
      "PRODUCED A CHART OF predict_automatch MONTHLY STABILITY FOR:  delivery_type_id  VARIABLE CLASS:  77553\n",
      "PRODUCED A CHART OF predict_automatch MONTHLY STABILITY FOR:  delivery_type_id  VARIABLE CLASS:  54446\n",
      "PRODUCED A CHART OF predict_automatch MONTHLY STABILITY FOR:  delivery_type_id  VARIABLE CLASS:  20043\n",
      "PRODUCED A CHART OF predict_automatch MONTHLY STABILITY FOR:  delivery_type_id  VARIABLE CLASS:  53474\n",
      "PRODUCED A CHART OF predict_automatch MONTHLY STABILITY FOR:  delivery_type_id  VARIABLE CLASS:  75188\n",
      "PRODUCED A CHART OF predict_automatch MONTHLY STABILITY FOR:  delivery_type_id  VARIABLE CLASS:  66613\n",
      "PRODUCED A CHART OF predict_automatch MONTHLY STABILITY FOR:  delivery_type_id  VARIABLE CLASS:  21380\n"
     ]
    },
    {
     "name": "stdout",
     "output_type": "stream",
     "text": [
      "PRODUCED A CHART OF predict_automatch MONTHLY STABILITY FOR:  delivery_type_id  VARIABLE CLASS:  39113\n",
      "PRODUCED A CHART OF predict_automatch MONTHLY STABILITY FOR:  delivery_type_id  VARIABLE CLASS:  47850\n",
      "PRODUCED A CHART OF predict_automatch MONTHLY STABILITY FOR:  delivery_type_id  VARIABLE CLASS:  27210\n",
      "PRODUCED A CHART OF predict_automatch MONTHLY STABILITY FOR:  delivery_type_id  VARIABLE CLASS:  52863\n",
      "PRODUCED A CHART OF predict_automatch MONTHLY STABILITY FOR:  delivery_type_id  VARIABLE CLASS:  65403\n",
      "PRODUCED A CHART OF predict_automatch MONTHLY STABILITY FOR:  delivery_type_id  VARIABLE CLASS:  72827\n",
      "PRODUCED A CHART OF predict_automatch MONTHLY STABILITY FOR:  delivery_type_id  VARIABLE CLASS:  57174\n",
      "PRODUCED A CHART OF predict_automatch MONTHLY STABILITY FOR:  delivery_type_id  VARIABLE CLASS:  22867\n",
      "PRODUCED A CHART OF predict_automatch MONTHLY STABILITY FOR:  delivery_type_id  VARIABLE CLASS:  18257\n",
      "PRODUCED A CHART OF predict_automatch MONTHLY STABILITY FOR:  delivery_type_id  VARIABLE CLASS:  49246\n",
      "PRODUCED A CHART OF predict_automatch MONTHLY STABILITY FOR:  delivery_type_id  VARIABLE CLASS:  65132\n",
      "PRODUCED A CHART OF predict_automatch MONTHLY STABILITY FOR:  delivery_type_id  VARIABLE CLASS:  76083\n",
      "PRODUCED A CHART OF predict_automatch MONTHLY STABILITY FOR:  delivery_type_id  VARIABLE CLASS:  77579\n",
      "PRODUCED A CHART OF predict_automatch MONTHLY STABILITY FOR:  delivery_type_id  VARIABLE CLASS:  77302\n",
      "PRODUCED A CHART OF predict_automatch MONTHLY STABILITY FOR:  delivery_type_id  VARIABLE CLASS:  59646\n",
      "PRODUCED A CHART OF predict_automatch MONTHLY STABILITY FOR:  delivery_type_id  VARIABLE CLASS:  35633\n",
      "PRODUCED A CHART OF predict_automatch MONTHLY STABILITY FOR:  delivery_type_id  VARIABLE CLASS:  52479\n",
      "PRODUCED A CHART OF predict_automatch MONTHLY STABILITY FOR:  delivery_type_id  VARIABLE CLASS:  55368\n",
      "PRODUCED A CHART OF predict_automatch MONTHLY STABILITY FOR:  delivery_type_id  VARIABLE CLASS:  67384\n",
      "PRODUCED A CHART OF predict_automatch MONTHLY STABILITY FOR:  delivery_type_id  VARIABLE CLASS:  11191\n",
      "PRODUCED A CHART OF predict_automatch MONTHLY STABILITY FOR:  delivery_type_id  VARIABLE CLASS:  54194\n",
      "PRODUCED A CHART OF predict_automatch MONTHLY STABILITY FOR:  delivery_type_id  VARIABLE CLASS:  65848\n",
      "PRODUCED A CHART OF predict_automatch MONTHLY STABILITY FOR:  delivery_type_id  VARIABLE CLASS:  59075\n",
      "PRODUCED A CHART OF predict_automatch MONTHLY STABILITY FOR:  delivery_type_id  VARIABLE CLASS:  72866\n",
      "PRODUCED A CHART OF predict_automatch MONTHLY STABILITY FOR:  delivery_type_id  VARIABLE CLASS:  59533\n",
      "PRODUCED A CHART OF predict_automatch MONTHLY STABILITY FOR:  delivery_type_id  VARIABLE CLASS:  73521\n",
      "PRODUCED A CHART OF predict_automatch MONTHLY STABILITY FOR:  delivery_type_id  VARIABLE CLASS:  14229\n",
      "PRODUCED A CHART OF predict_automatch MONTHLY STABILITY FOR:  delivery_type_id  VARIABLE CLASS:  77493\n",
      "PRODUCED A CHART OF predict_automatch MONTHLY STABILITY FOR:  delivery_type_id  VARIABLE CLASS:  56106\n",
      "PRODUCED A CHART OF predict_automatch MONTHLY STABILITY FOR:  delivery_type_id  VARIABLE CLASS:  6743\n",
      "PRODUCED A CHART OF predict_automatch MONTHLY STABILITY FOR:  delivery_type_id  VARIABLE CLASS:  73517\n",
      "PRODUCED A CHART OF predict_automatch MONTHLY STABILITY FOR:  delivery_type_id  VARIABLE CLASS:  75019\n",
      "PRODUCED A CHART OF predict_automatch MONTHLY STABILITY FOR:  delivery_type_id  VARIABLE CLASS:  22074\n",
      "PRODUCED A CHART OF predict_automatch MONTHLY STABILITY FOR:  delivery_type_id  VARIABLE CLASS:  77068\n",
      "PRODUCED A CHART OF predict_automatch MONTHLY STABILITY FOR:  delivery_type_id  VARIABLE CLASS:  72897\n",
      "PRODUCED A CHART OF predict_automatch MONTHLY STABILITY FOR:  delivery_type_id  VARIABLE CLASS:  69723\n",
      "PRODUCED A CHART OF predict_automatch MONTHLY STABILITY FOR:  delivery_type_id  VARIABLE CLASS:  19802\n",
      "PRODUCED A CHART OF predict_automatch MONTHLY STABILITY FOR:  delivery_type_id  VARIABLE CLASS:  54181\n",
      "PRODUCED A CHART OF predict_automatch MONTHLY STABILITY FOR:  delivery_type_id  VARIABLE CLASS:  28465\n",
      "PRODUCED A CHART OF predict_automatch MONTHLY STABILITY FOR:  delivery_type_id  VARIABLE CLASS:  30139\n",
      "PRODUCED A CHART OF predict_automatch MONTHLY STABILITY FOR:  delivery_type_id  VARIABLE CLASS:  17402\n",
      "PRODUCED A CHART OF predict_automatch MONTHLY STABILITY FOR:  delivery_type_id  VARIABLE CLASS:  49250\n",
      "PRODUCED A CHART OF predict_automatch MONTHLY STABILITY FOR:  delivery_type_id  VARIABLE CLASS:  70931\n",
      "PRODUCED A CHART OF predict_automatch MONTHLY STABILITY FOR:  delivery_type_id  VARIABLE CLASS:  74710\n",
      "PRODUCED A CHART OF predict_automatch MONTHLY STABILITY FOR:  delivery_type_id  VARIABLE CLASS:  33516\n",
      "PRODUCED A CHART OF predict_automatch MONTHLY STABILITY FOR:  delivery_type_id  VARIABLE CLASS:  50013\n",
      "PRODUCED A CHART OF predict_automatch MONTHLY STABILITY FOR:  delivery_type_id  VARIABLE CLASS:  59266\n",
      "PRODUCED A CHART OF predict_automatch MONTHLY STABILITY FOR:  delivery_type_id  VARIABLE CLASS:  50075\n",
      "PRODUCED A CHART OF predict_automatch MONTHLY STABILITY FOR:  delivery_type_id  VARIABLE CLASS:  53906\n",
      "PRODUCED A CHART OF predict_automatch MONTHLY STABILITY FOR:  delivery_type_id  VARIABLE CLASS:  72884\n",
      "PRODUCED A CHART OF predict_automatch MONTHLY STABILITY FOR:  delivery_type_id  VARIABLE CLASS:  75608\n",
      "PRODUCED A CHART OF predict_automatch MONTHLY STABILITY FOR:  delivery_type_id  VARIABLE CLASS:  17367\n",
      "PRODUCED A CHART OF predict_automatch MONTHLY STABILITY FOR:  delivery_type_id  VARIABLE CLASS:  31425\n",
      "PRODUCED A CHART OF predict_automatch MONTHLY STABILITY FOR:  delivery_type_id  VARIABLE CLASS:  63977\n",
      "PRODUCED A CHART OF predict_automatch MONTHLY STABILITY FOR:  delivery_type_id  VARIABLE CLASS:  74711\n",
      "PRODUCED A CHART OF predict_automatch MONTHLY STABILITY FOR:  delivery_type_id  VARIABLE CLASS:  73723\n",
      "PRODUCED A CHART OF predict_automatch MONTHLY STABILITY FOR:  delivery_type_id  VARIABLE CLASS:  52614\n",
      "PRODUCED A CHART OF predict_automatch MONTHLY STABILITY FOR:  delivery_type_id  VARIABLE CLASS:  68015\n",
      "PRODUCED A CHART OF predict_automatch MONTHLY STABILITY FOR:  delivery_type_id  VARIABLE CLASS:  65531\n",
      "PRODUCED A CHART OF predict_automatch MONTHLY STABILITY FOR:  delivery_type_id  VARIABLE CLASS:  73260\n",
      "PRODUCED A CHART OF predict_automatch MONTHLY STABILITY FOR:  delivery_type_id  VARIABLE CLASS:  59521\n",
      "PRODUCED A CHART OF predict_automatch MONTHLY STABILITY FOR:  delivery_type_id  VARIABLE CLASS:  33701\n",
      "PRODUCED A CHART OF predict_automatch MONTHLY STABILITY FOR:  delivery_type_id  VARIABLE CLASS:  31241\n",
      "PRODUCED A CHART OF predict_automatch MONTHLY STABILITY FOR:  delivery_type_id  VARIABLE CLASS:  18614\n",
      "PRODUCED A CHART OF predict_automatch MONTHLY STABILITY FOR:  delivery_type_id  VARIABLE CLASS:  72142\n",
      "PRODUCED A CHART OF predict_automatch MONTHLY STABILITY FOR:  delivery_type_id  VARIABLE CLASS:  28457\n",
      "PRODUCED A CHART OF predict_automatch MONTHLY STABILITY FOR:  delivery_type_id  VARIABLE CLASS:  38553\n",
      "PRODUCED A CHART OF predict_automatch MONTHLY STABILITY FOR:  delivery_type_id  VARIABLE CLASS:  28202\n",
      "PRODUCED A CHART OF predict_automatch MONTHLY STABILITY FOR:  delivery_type_id  VARIABLE CLASS:  484\n",
      "PRODUCED A CHART OF predict_automatch MONTHLY STABILITY FOR:  delivery_type_id  VARIABLE CLASS:  72662\n",
      "PRODUCED A CHART OF predict_automatch MONTHLY STABILITY FOR:  delivery_type_id  VARIABLE CLASS:  64740\n",
      "PRODUCED A CHART OF predict_automatch MONTHLY STABILITY FOR:  delivery_type_id  VARIABLE CLASS:  62765\n",
      "PRODUCED A CHART OF predict_automatch MONTHLY STABILITY FOR:  delivery_type_id  VARIABLE CLASS:  66381\n",
      "PRODUCED A CHART OF predict_automatch MONTHLY STABILITY FOR:  delivery_type_id  VARIABLE CLASS:  27118\n",
      "PRODUCED A CHART OF predict_automatch MONTHLY STABILITY FOR:  delivery_type_id  VARIABLE CLASS:  53126\n",
      "PRODUCED A CHART OF predict_automatch MONTHLY STABILITY FOR:  delivery_type_id  VARIABLE CLASS:  76630\n",
      "PRODUCED A CHART OF predict_automatch MONTHLY STABILITY FOR:  delivery_type_id  VARIABLE CLASS:  69662\n",
      "PRODUCED A CHART OF predict_automatch MONTHLY STABILITY FOR:  delivery_type_id  VARIABLE CLASS:  8088\n",
      "PRODUCED A CHART OF predict_automatch MONTHLY STABILITY FOR:  delivery_type_id  VARIABLE CLASS:  49992\n",
      "PRODUCED A CHART OF predict_automatch MONTHLY STABILITY FOR:  delivery_type_id  VARIABLE CLASS:  19748\n",
      "PRODUCED A CHART OF predict_automatch MONTHLY STABILITY FOR:  delivery_type_id  VARIABLE CLASS:  76333\n",
      "PRODUCED A CHART OF predict_automatch MONTHLY STABILITY FOR:  delivery_type_id  VARIABLE CLASS:  64067\n",
      "PRODUCED A CHART OF predict_automatch MONTHLY STABILITY FOR:  delivery_type_id  VARIABLE CLASS:  35052\n"
     ]
    },
    {
     "name": "stdout",
     "output_type": "stream",
     "text": [
      "PRODUCED A CHART OF predict_automatch MONTHLY STABILITY FOR:  delivery_type_id  VARIABLE CLASS:  37589\n",
      "PRODUCED A CHART OF predict_automatch MONTHLY STABILITY FOR:  delivery_type_id  VARIABLE CLASS:  71310\n",
      "PRODUCED A CHART OF predict_automatch MONTHLY STABILITY FOR:  delivery_type_id  VARIABLE CLASS:  52537\n",
      "PRODUCED A CHART OF predict_automatch MONTHLY STABILITY FOR:  delivery_type_id  VARIABLE CLASS:  71843\n",
      "PRODUCED A CHART OF predict_automatch MONTHLY STABILITY FOR:  delivery_type_id  VARIABLE CLASS:  7932\n",
      "PRODUCED A CHART OF predict_automatch MONTHLY STABILITY FOR:  delivery_type_id  VARIABLE CLASS:  22146\n",
      "PRODUCED A CHART OF predict_automatch MONTHLY STABILITY FOR:  delivery_type_id  VARIABLE CLASS:  75253\n",
      "PRODUCED A CHART OF predict_automatch MONTHLY STABILITY FOR:  delivery_type_id  VARIABLE CLASS:  36120\n",
      "PRODUCED A CHART OF predict_automatch MONTHLY STABILITY FOR:  delivery_type_id  VARIABLE CLASS:  68429\n",
      "PRODUCED A CHART OF predict_automatch MONTHLY STABILITY FOR:  delivery_type_id  VARIABLE CLASS:  61260\n",
      "PRODUCED A CHART OF predict_automatch MONTHLY STABILITY FOR:  delivery_type_id  VARIABLE CLASS:  70312\n",
      "PRODUCED A CHART OF predict_automatch MONTHLY STABILITY FOR:  delivery_type_id  VARIABLE CLASS:  46412\n",
      "PRODUCED A CHART OF predict_automatch MONTHLY STABILITY FOR:  delivery_type_id  VARIABLE CLASS:  6973\n",
      "PRODUCED A CHART OF predict_automatch MONTHLY STABILITY FOR:  delivery_type_id  VARIABLE CLASS:  70930\n",
      "PRODUCED A CHART OF predict_automatch MONTHLY STABILITY FOR:  delivery_type_id  VARIABLE CLASS:  67781\n",
      "PRODUCED A CHART OF predict_automatch MONTHLY STABILITY FOR:  delivery_type_id  VARIABLE CLASS:  73968\n",
      "PRODUCED A CHART OF predict_automatch MONTHLY STABILITY FOR:  delivery_type_id  VARIABLE CLASS:  63322\n",
      "PRODUCED A CHART OF predict_automatch MONTHLY STABILITY FOR:  delivery_type_id  VARIABLE CLASS:  68079\n",
      "PRODUCED A CHART OF predict_automatch MONTHLY STABILITY FOR:  delivery_type_id  VARIABLE CLASS:  77402\n",
      "PRODUCED A CHART OF predict_automatch MONTHLY STABILITY FOR:  delivery_type_id  VARIABLE CLASS:  34033\n",
      "PRODUCED A CHART OF predict_automatch MONTHLY STABILITY FOR:  delivery_type_id  VARIABLE CLASS:  32579\n",
      "PRODUCED A CHART OF predict_automatch MONTHLY STABILITY FOR:  delivery_type_id  VARIABLE CLASS:  47891\n",
      "PRODUCED A CHART OF predict_automatch MONTHLY STABILITY FOR:  delivery_type_id  VARIABLE CLASS:  72926\n",
      "PRODUCED A CHART OF predict_automatch MONTHLY STABILITY FOR:  delivery_type_id  VARIABLE CLASS:  67033\n",
      "PRODUCED A CHART OF predict_automatch MONTHLY STABILITY FOR:  delivery_type_id  VARIABLE CLASS:  35976\n",
      "PRODUCED A CHART OF predict_automatch MONTHLY STABILITY FOR:  delivery_type_id  VARIABLE CLASS:  28325\n",
      "PRODUCED A CHART OF predict_automatch MONTHLY STABILITY FOR:  delivery_type_id  VARIABLE CLASS:  18935\n",
      "PRODUCED A CHART OF predict_automatch MONTHLY STABILITY FOR:  delivery_type_id  VARIABLE CLASS:  65326\n",
      "PRODUCED A CHART OF predict_automatch MONTHLY STABILITY FOR:  delivery_type_id  VARIABLE CLASS:  63387\n",
      "PRODUCED A CHART OF predict_automatch MONTHLY STABILITY FOR:  delivery_type_id  VARIABLE CLASS:  31929\n",
      "PRODUCED A CHART OF predict_automatch MONTHLY STABILITY FOR:  delivery_type_id  VARIABLE CLASS:  67548\n",
      "PRODUCED A CHART OF predict_automatch MONTHLY STABILITY FOR:  delivery_type_id  VARIABLE CLASS:  65108\n",
      "PRODUCED A CHART OF predict_automatch MONTHLY STABILITY FOR:  delivery_type_id  VARIABLE CLASS:  59174\n",
      "PRODUCED A CHART OF predict_automatch MONTHLY STABILITY FOR:  delivery_type_id  VARIABLE CLASS:  66107\n",
      "PRODUCED A CHART OF predict_automatch MONTHLY STABILITY FOR:  delivery_type_id  VARIABLE CLASS:  13836\n",
      "PRODUCED A CHART OF predict_automatch MONTHLY STABILITY FOR:  delivery_type_id  VARIABLE CLASS:  61040\n",
      "PRODUCED A CHART OF predict_automatch MONTHLY STABILITY FOR:  delivery_type_id  VARIABLE CLASS:  65820\n",
      "PRODUCED A CHART OF predict_automatch MONTHLY STABILITY FOR:  delivery_type_id  VARIABLE CLASS:  73514\n",
      "PRODUCED A CHART OF predict_automatch MONTHLY STABILITY FOR:  delivery_type_id  VARIABLE CLASS:  67170\n",
      "PRODUCED A CHART OF predict_automatch MONTHLY STABILITY FOR:  delivery_type_id  VARIABLE CLASS:  65399\n",
      "PRODUCED A CHART OF predict_automatch MONTHLY STABILITY FOR:  delivery_type_id  VARIABLE CLASS:  36296\n",
      "PRODUCED A CHART OF predict_automatch MONTHLY STABILITY FOR:  delivery_type_id  VARIABLE CLASS:  37175\n",
      "PRODUCED A CHART OF predict_automatch MONTHLY STABILITY FOR:  delivery_type_id  VARIABLE CLASS:  65330\n",
      "PRODUCED A CHART OF predict_automatch MONTHLY STABILITY FOR:  delivery_type_id  VARIABLE CLASS:  25967\n",
      "PRODUCED A CHART OF predict_automatch MONTHLY STABILITY FOR:  delivery_type_id  VARIABLE CLASS:  71580\n",
      "PRODUCED A CHART OF predict_automatch MONTHLY STABILITY FOR:  delivery_type_id  VARIABLE CLASS:  78151\n",
      "PRODUCED A CHART OF predict_automatch MONTHLY STABILITY FOR:  delivery_type_id  VARIABLE CLASS:  67059\n",
      "PRODUCED A CHART OF predict_automatch MONTHLY STABILITY FOR:  delivery_type_id  VARIABLE CLASS:  70154\n",
      "PRODUCED A CHART OF predict_automatch MONTHLY STABILITY FOR:  delivery_type_id  VARIABLE CLASS:  74622\n",
      "PRODUCED A CHART OF predict_automatch MONTHLY STABILITY FOR:  delivery_type_id  VARIABLE CLASS:  25200\n",
      "PRODUCED A CHART OF predict_automatch MONTHLY STABILITY FOR:  delivery_type_id  VARIABLE CLASS:  73771\n",
      "PRODUCED A CHART OF predict_automatch MONTHLY STABILITY FOR:  delivery_type_id  VARIABLE CLASS:  41728\n",
      "PRODUCED A CHART OF predict_automatch MONTHLY STABILITY FOR:  delivery_type_id  VARIABLE CLASS:  22271\n",
      "PRODUCED A CHART OF predict_automatch MONTHLY STABILITY FOR:  delivery_type_id  VARIABLE CLASS:  22916\n",
      "PRODUCED A CHART OF predict_automatch MONTHLY STABILITY FOR:  delivery_type_id  VARIABLE CLASS:  65246\n",
      "PRODUCED A CHART OF predict_automatch MONTHLY STABILITY FOR:  delivery_type_id  VARIABLE CLASS:  64456\n",
      "PRODUCED A CHART OF predict_automatch MONTHLY STABILITY FOR:  delivery_type_id  VARIABLE CLASS:  529\n",
      "PRODUCED A CHART OF predict_automatch MONTHLY STABILITY FOR:  delivery_type_id  VARIABLE CLASS:  21378\n",
      "PRODUCED A CHART OF predict_automatch MONTHLY STABILITY FOR:  delivery_type_id  VARIABLE CLASS:  24563\n",
      "PRODUCED A CHART OF predict_automatch MONTHLY STABILITY FOR:  delivery_type_id  VARIABLE CLASS:  70883\n",
      "PRODUCED A CHART OF predict_automatch MONTHLY STABILITY FOR:  delivery_type_id  VARIABLE CLASS:  67165\n",
      "PRODUCED A CHART OF predict_automatch MONTHLY STABILITY FOR:  delivery_type_id  VARIABLE CLASS:  53883\n",
      "PRODUCED A CHART OF predict_automatch MONTHLY STABILITY FOR:  delivery_type_id  VARIABLE CLASS:  74939\n",
      "PRODUCED A CHART OF predict_automatch MONTHLY STABILITY FOR:  delivery_type_id  VARIABLE CLASS:  65128\n",
      "PRODUCED A CHART OF predict_automatch MONTHLY STABILITY FOR:  delivery_type_id  VARIABLE CLASS:  63419\n",
      "PRODUCED A CHART OF predict_automatch MONTHLY STABILITY FOR:  delivery_type_id  VARIABLE CLASS:  64990\n",
      "PRODUCED A CHART OF predict_automatch MONTHLY STABILITY FOR:  delivery_type_id  VARIABLE CLASS:  75381\n",
      "PRODUCED A CHART OF predict_automatch MONTHLY STABILITY FOR:  delivery_type_id  VARIABLE CLASS:  63160\n",
      "PRODUCED A CHART OF predict_automatch MONTHLY STABILITY FOR:  delivery_type_id  VARIABLE CLASS:  71878\n",
      "PRODUCED A CHART OF predict_automatch MONTHLY STABILITY FOR:  delivery_type_id  VARIABLE CLASS:  60291\n",
      "PRODUCED A CHART OF predict_automatch MONTHLY STABILITY FOR:  delivery_type_id  VARIABLE CLASS:  57848\n",
      "PRODUCED A CHART OF predict_automatch MONTHLY STABILITY FOR:  delivery_type_id  VARIABLE CLASS:  54349\n",
      "PRODUCED A CHART OF predict_automatch MONTHLY STABILITY FOR:  delivery_type_id  VARIABLE CLASS:  23154\n",
      "PRODUCED A CHART OF predict_automatch MONTHLY STABILITY FOR:  delivery_type_id  VARIABLE CLASS:  8632\n",
      "PRODUCED A CHART OF predict_automatch MONTHLY STABILITY FOR:  delivery_type_id  VARIABLE CLASS:  33252\n",
      "PRODUCED A CHART OF predict_automatch MONTHLY STABILITY FOR:  delivery_type_id  VARIABLE CLASS:  78444\n",
      "PRODUCED A CHART OF predict_automatch MONTHLY STABILITY FOR:  delivery_type_id  VARIABLE CLASS:  64960\n",
      "PRODUCED A CHART OF predict_automatch MONTHLY STABILITY FOR:  delivery_type_id  VARIABLE CLASS:  31480\n",
      "PRODUCED A CHART OF predict_automatch MONTHLY STABILITY FOR:  delivery_type_id  VARIABLE CLASS:  73277\n",
      "PRODUCED A CHART OF predict_automatch MONTHLY STABILITY FOR:  delivery_type_id  VARIABLE CLASS:  30505\n"
     ]
    },
    {
     "name": "stdout",
     "output_type": "stream",
     "text": [
      "PRODUCED A CHART OF predict_automatch MONTHLY STABILITY FOR:  delivery_type_id  VARIABLE CLASS:  42930\n",
      "PRODUCED A CHART OF predict_automatch MONTHLY STABILITY FOR:  delivery_type_id  VARIABLE CLASS:  29997\n",
      "PRODUCED A CHART OF predict_automatch MONTHLY STABILITY FOR:  delivery_type_id  VARIABLE CLASS:  23944\n",
      "PRODUCED A CHART OF predict_automatch MONTHLY STABILITY FOR:  delivery_type_id  VARIABLE CLASS:  56462\n",
      "PRODUCED A CHART OF predict_automatch MONTHLY STABILITY FOR:  delivery_type_id  VARIABLE CLASS:  13361\n",
      "PRODUCED A CHART OF predict_automatch MONTHLY STABILITY FOR:  delivery_type_id  VARIABLE CLASS:  7270\n",
      "PRODUCED A CHART OF predict_automatch MONTHLY STABILITY FOR:  delivery_type_id  VARIABLE CLASS:  75078\n",
      "PRODUCED A CHART OF predict_automatch MONTHLY STABILITY FOR:  delivery_type_id  VARIABLE CLASS:  42858\n",
      "PRODUCED A CHART OF predict_automatch MONTHLY STABILITY FOR:  delivery_type_id  VARIABLE CLASS:  69228\n",
      "PRODUCED A CHART OF predict_automatch MONTHLY STABILITY FOR:  delivery_type_id  VARIABLE CLASS:  17683\n",
      "PRODUCED A CHART OF predict_automatch MONTHLY STABILITY FOR:  delivery_type_id  VARIABLE CLASS:  29052\n",
      "PRODUCED A CHART OF predict_automatch MONTHLY STABILITY FOR:  delivery_type_id  VARIABLE CLASS:  62206\n",
      "PRODUCED A CHART OF predict_automatch MONTHLY STABILITY FOR:  delivery_type_id  VARIABLE CLASS:  64781\n",
      "PRODUCED A CHART OF predict_automatch MONTHLY STABILITY FOR:  delivery_type_id  VARIABLE CLASS:  73516\n",
      "PRODUCED A CHART OF predict_automatch MONTHLY STABILITY FOR:  delivery_type_id  VARIABLE CLASS:  22991\n",
      "PRODUCED A CHART OF predict_automatch MONTHLY STABILITY FOR:  delivery_type_id  VARIABLE CLASS:  64063\n",
      "PRODUCED A CHART OF predict_automatch MONTHLY STABILITY FOR:  delivery_type_id  VARIABLE CLASS:  31571\n",
      "PRODUCED A CHART OF predict_automatch MONTHLY STABILITY FOR:  delivery_type_id  VARIABLE CLASS:  37947\n",
      "PRODUCED A CHART OF predict_automatch MONTHLY STABILITY FOR:  delivery_type_id  VARIABLE CLASS:  62228\n",
      "PRODUCED A CHART OF predict_automatch MONTHLY STABILITY FOR:  delivery_type_id  VARIABLE CLASS:  73574\n",
      "PRODUCED A CHART OF predict_automatch MONTHLY STABILITY FOR:  delivery_type_id  VARIABLE CLASS:  15637\n",
      "PRODUCED A CHART OF predict_automatch MONTHLY STABILITY FOR:  delivery_type_id  VARIABLE CLASS:  40178\n",
      "PRODUCED A CHART OF predict_automatch MONTHLY STABILITY FOR:  delivery_type_id  VARIABLE CLASS:  23218\n",
      "PRODUCED A CHART OF predict_automatch MONTHLY STABILITY FOR:  delivery_type_id  VARIABLE CLASS:  72155\n",
      "PRODUCED A CHART OF predict_automatch MONTHLY STABILITY FOR:  delivery_type_id  VARIABLE CLASS:  12731\n",
      "PRODUCED A CHART OF predict_automatch MONTHLY STABILITY FOR:  delivery_type_id  VARIABLE CLASS:  54360\n",
      "PRODUCED A CHART OF predict_automatch MONTHLY STABILITY FOR:  delivery_type_id  VARIABLE CLASS:  59449\n",
      "PRODUCED A CHART OF predict_automatch MONTHLY STABILITY FOR:  delivery_type_id  VARIABLE CLASS:  62026\n",
      "PRODUCED A CHART OF predict_automatch MONTHLY STABILITY FOR:  delivery_type_id  VARIABLE CLASS:  71497\n",
      "PRODUCED A CHART OF predict_automatch MONTHLY STABILITY FOR:  delivery_type_id  VARIABLE CLASS:  49245\n",
      "PRODUCED A CHART OF predict_automatch MONTHLY STABILITY FOR:  delivery_type_id  VARIABLE CLASS:  20042\n",
      "PRODUCED A CHART OF predict_automatch MONTHLY STABILITY FOR:  delivery_type_id  VARIABLE CLASS:  64196\n",
      "PRODUCED A CHART OF predict_automatch MONTHLY STABILITY FOR:  delivery_type_id  VARIABLE CLASS:  63306\n",
      "PRODUCED A CHART OF predict_automatch MONTHLY STABILITY FOR:  delivery_type_id  VARIABLE CLASS:  66871\n",
      "PRODUCED A CHART OF predict_automatch MONTHLY STABILITY FOR:  delivery_type_id  VARIABLE CLASS:  62634\n",
      "PRODUCED A CHART OF predict_automatch MONTHLY STABILITY FOR:  delivery_type_id  VARIABLE CLASS:  9158\n",
      "PRODUCED A CHART OF predict_automatch MONTHLY STABILITY FOR:  delivery_type_id  VARIABLE CLASS:  78140\n",
      "PRODUCED A CHART OF predict_automatch MONTHLY STABILITY FOR:  delivery_type_id  VARIABLE CLASS:  14122\n",
      "PRODUCED A CHART OF predict_automatch MONTHLY STABILITY FOR:  delivery_type_id  VARIABLE CLASS:  65342\n",
      "PRODUCED A CHART OF predict_automatch MONTHLY STABILITY FOR:  delivery_type_id  VARIABLE CLASS:  35762\n",
      "PRODUCED A CHART OF predict_automatch MONTHLY STABILITY FOR:  delivery_type_id  VARIABLE CLASS:  7142\n",
      "PRODUCED A CHART OF predict_automatch MONTHLY STABILITY FOR:  delivery_type_id  VARIABLE CLASS:  73264\n",
      "PRODUCED A CHART OF predict_automatch MONTHLY STABILITY FOR:  delivery_type_id  VARIABLE CLASS:  67754\n",
      "PRODUCED A CHART OF predict_automatch MONTHLY STABILITY FOR:  delivery_type_id  VARIABLE CLASS:  68890\n",
      "PRODUCED A CHART OF predict_automatch MONTHLY STABILITY FOR:  delivery_type_id  VARIABLE CLASS:  71063\n",
      "PRODUCED A CHART OF predict_automatch MONTHLY STABILITY FOR:  delivery_type_id  VARIABLE CLASS:  58321\n",
      "PRODUCED A CHART OF predict_automatch MONTHLY STABILITY FOR:  delivery_type_id  VARIABLE CLASS:  74023\n",
      "PRODUCED A CHART OF predict_automatch MONTHLY STABILITY FOR:  delivery_type_id  VARIABLE CLASS:  73117\n",
      "PRODUCED A CHART OF predict_automatch MONTHLY STABILITY FOR:  delivery_type_id  VARIABLE CLASS:  13736\n",
      "PRODUCED A CHART OF predict_automatch MONTHLY STABILITY FOR:  delivery_type_id  VARIABLE CLASS:  70352\n",
      "PRODUCED A CHART OF predict_automatch MONTHLY STABILITY FOR:  delivery_type_id  VARIABLE CLASS:  77329\n",
      "PRODUCED A CHART OF predict_automatch MONTHLY STABILITY FOR:  delivery_type_id  VARIABLE CLASS:  51876\n",
      "PRODUCED A CHART OF predict_automatch MONTHLY STABILITY FOR:  delivery_type_id  VARIABLE CLASS:  9966\n",
      "PRODUCED A CHART OF predict_automatch MONTHLY STABILITY FOR:  delivery_type_id  VARIABLE CLASS:  55427\n",
      "PRODUCED A CHART OF predict_automatch MONTHLY STABILITY FOR:  delivery_type_id  VARIABLE CLASS:  54373\n",
      "PRODUCED A CHART OF predict_automatch MONTHLY STABILITY FOR:  delivery_type_id  VARIABLE CLASS:  72671\n",
      "PRODUCED A CHART OF predict_automatch MONTHLY STABILITY FOR:  delivery_type_id  VARIABLE CLASS:  31230\n",
      "PRODUCED A CHART OF predict_automatch MONTHLY STABILITY FOR:  delivery_type_id  VARIABLE CLASS:  22531\n",
      "PRODUCED A CHART OF predict_automatch MONTHLY STABILITY FOR:  delivery_type_id  VARIABLE CLASS:  78366\n",
      "PRODUCED A CHART OF predict_automatch MONTHLY STABILITY FOR:  delivery_type_id  VARIABLE CLASS:  76171\n",
      "PRODUCED A CHART OF predict_automatch MONTHLY STABILITY FOR:  delivery_type_id  VARIABLE CLASS:  76331\n",
      "PRODUCED A CHART OF predict_automatch MONTHLY STABILITY FOR:  delivery_type_id  VARIABLE CLASS:  56471\n",
      "PRODUCED A CHART OF predict_automatch MONTHLY STABILITY FOR:  delivery_type_id  VARIABLE CLASS:  72831\n",
      "PRODUCED A CHART OF predict_automatch MONTHLY STABILITY FOR:  delivery_type_id  VARIABLE CLASS:  24898\n",
      "PRODUCED A CHART OF predict_automatch MONTHLY STABILITY FOR:  delivery_type_id  VARIABLE CLASS:  56334\n",
      "PRODUCED A CHART OF predict_automatch MONTHLY STABILITY FOR:  delivery_type_id  VARIABLE CLASS:  77073\n",
      "PRODUCED A CHART OF predict_automatch MONTHLY STABILITY FOR:  delivery_type_id  VARIABLE CLASS:  71933\n",
      "PRODUCED A CHART OF predict_automatch MONTHLY STABILITY FOR:  delivery_type_id  VARIABLE CLASS:  50102\n",
      "PRODUCED A CHART OF predict_automatch MONTHLY STABILITY FOR:  delivery_type_id  VARIABLE CLASS:  57582\n",
      "PRODUCED A CHART OF predict_automatch MONTHLY STABILITY FOR:  delivery_type_id  VARIABLE CLASS:  73646\n",
      "PRODUCED A CHART OF predict_automatch MONTHLY STABILITY FOR:  delivery_type_id  VARIABLE CLASS:  65519\n",
      "PRODUCED A CHART OF predict_automatch MONTHLY STABILITY FOR:  delivery_type_id  VARIABLE CLASS:  7420\n",
      "PRODUCED A CHART OF predict_automatch MONTHLY STABILITY FOR:  delivery_type_id  VARIABLE CLASS:  44470\n",
      "PRODUCED A CHART OF predict_automatch MONTHLY STABILITY FOR:  delivery_type_id  VARIABLE CLASS:  63851\n",
      "PRODUCED A CHART OF predict_automatch MONTHLY STABILITY FOR:  delivery_type_id  VARIABLE CLASS:  65222\n",
      "PRODUCED A CHART OF predict_automatch MONTHLY STABILITY FOR:  delivery_type_id  VARIABLE CLASS:  50587\n",
      "PRODUCED A CHART OF predict_automatch MONTHLY STABILITY FOR:  delivery_type_id  VARIABLE CLASS:  61076\n",
      "PRODUCED A CHART OF predict_automatch MONTHLY STABILITY FOR:  delivery_type_id  VARIABLE CLASS:  38042\n",
      "PRODUCED A CHART OF predict_automatch MONTHLY STABILITY FOR:  delivery_type_id  VARIABLE CLASS:  54452\n",
      "PRODUCED A CHART OF predict_automatch MONTHLY STABILITY FOR:  delivery_type_id  VARIABLE CLASS:  65566\n",
      "PRODUCED A CHART OF predict_automatch MONTHLY STABILITY FOR:  delivery_type_id  VARIABLE CLASS:  62519\n",
      "PRODUCED A CHART OF predict_automatch MONTHLY STABILITY FOR:  delivery_type_id  VARIABLE CLASS:  41182\n"
     ]
    },
    {
     "name": "stdout",
     "output_type": "stream",
     "text": [
      "PRODUCED A CHART OF predict_automatch MONTHLY STABILITY FOR:  delivery_type_id  VARIABLE CLASS:  47421\n",
      "PRODUCED A CHART OF predict_automatch MONTHLY STABILITY FOR:  delivery_type_id  VARIABLE CLASS:  64967\n",
      "PRODUCED A CHART OF predict_automatch MONTHLY STABILITY FOR:  delivery_type_id  VARIABLE CLASS:  19781\n",
      "PRODUCED A CHART OF predict_automatch MONTHLY STABILITY FOR:  delivery_type_id  VARIABLE CLASS:  72349\n",
      "PRODUCED A CHART OF predict_automatch MONTHLY STABILITY FOR:  delivery_type_id  VARIABLE CLASS:  67349\n",
      "PRODUCED A CHART OF predict_automatch MONTHLY STABILITY FOR:  delivery_type_id  VARIABLE CLASS:  73658\n",
      "PRODUCED A CHART OF predict_automatch MONTHLY STABILITY FOR:  delivery_type_id  VARIABLE CLASS:  40036\n",
      "PRODUCED A CHART OF predict_automatch MONTHLY STABILITY FOR:  delivery_type_id  VARIABLE CLASS:  25682\n",
      "PRODUCED A CHART OF predict_automatch MONTHLY STABILITY FOR:  delivery_type_id  VARIABLE CLASS:  78033\n",
      "PRODUCED A CHART OF predict_automatch MONTHLY STABILITY FOR:  delivery_type_id  VARIABLE CLASS:  40141\n",
      "PRODUCED A CHART OF predict_automatch MONTHLY STABILITY FOR:  delivery_type_id  VARIABLE CLASS:  52011\n",
      "PRODUCED A CHART OF predict_automatch MONTHLY STABILITY FOR:  delivery_type_id  VARIABLE CLASS:  14692\n",
      "PRODUCED A CHART OF predict_automatch MONTHLY STABILITY FOR:  delivery_type_id  VARIABLE CLASS:  34189\n",
      "PRODUCED A CHART OF predict_automatch MONTHLY STABILITY FOR:  delivery_type_id  VARIABLE CLASS:  23144\n",
      "PRODUCED A CHART OF predict_automatch MONTHLY STABILITY FOR:  delivery_type_id  VARIABLE CLASS:  62529\n",
      "PRODUCED A CHART OF predict_automatch MONTHLY STABILITY FOR:  delivery_type_id  VARIABLE CLASS:  49248\n",
      "PRODUCED A CHART OF predict_automatch MONTHLY STABILITY FOR:  delivery_type_id  VARIABLE CLASS:  75591\n",
      "PRODUCED A CHART OF predict_automatch MONTHLY STABILITY FOR:  delivery_type_id  VARIABLE CLASS:  72882\n",
      "PRODUCED A CHART OF predict_automatch MONTHLY STABILITY FOR:  delivery_type_id  VARIABLE CLASS:  71613\n",
      "PRODUCED A CHART OF predict_automatch MONTHLY STABILITY FOR:  delivery_type_id  VARIABLE CLASS:  63816\n",
      "PRODUCED A CHART OF predict_automatch MONTHLY STABILITY FOR:  delivery_type_id  VARIABLE CLASS:  77994\n",
      "PRODUCED A CHART OF predict_automatch MONTHLY STABILITY FOR:  delivery_type_id  VARIABLE CLASS:  64352\n",
      "PRODUCED A CHART OF predict_automatch MONTHLY STABILITY FOR:  delivery_type_id  VARIABLE CLASS:  72570\n",
      "PRODUCED A CHART OF predict_automatch MONTHLY STABILITY FOR:  delivery_type_id  VARIABLE CLASS:  1939\n",
      "PRODUCED A CHART OF predict_automatch MONTHLY STABILITY FOR:  delivery_type_id  VARIABLE CLASS:  59097\n",
      "PRODUCED A CHART OF predict_automatch MONTHLY STABILITY FOR:  delivery_type_id  VARIABLE CLASS:  60733\n",
      "PRODUCED A CHART OF predict_automatch MONTHLY STABILITY FOR:  delivery_type_id  VARIABLE CLASS:  52907\n",
      "PRODUCED A CHART OF predict_automatch MONTHLY STABILITY FOR:  delivery_type_id  VARIABLE CLASS:  26642\n",
      "PRODUCED A CHART OF predict_automatch MONTHLY STABILITY FOR:  delivery_type_id  VARIABLE CLASS:  57817\n",
      "PRODUCED A CHART OF predict_automatch MONTHLY STABILITY FOR:  delivery_type_id  VARIABLE CLASS:  62890\n",
      "PRODUCED A CHART OF predict_automatch MONTHLY STABILITY FOR:  delivery_type_id  VARIABLE CLASS:  71835\n",
      "PRODUCED A CHART OF predict_automatch MONTHLY STABILITY FOR:  delivery_type_id  VARIABLE CLASS:  32625\n",
      "PRODUCED A CHART OF predict_automatch MONTHLY STABILITY FOR:  delivery_type_id  VARIABLE CLASS:  77027\n",
      "PRODUCED A CHART OF predict_automatch MONTHLY STABILITY FOR:  delivery_type_id  VARIABLE CLASS:  23648\n",
      "PRODUCED A CHART OF predict_automatch MONTHLY STABILITY FOR:  delivery_type_id  VARIABLE CLASS:  66265\n",
      "PRODUCED A CHART OF predict_automatch MONTHLY STABILITY FOR:  delivery_type_id  VARIABLE CLASS:  76290\n",
      "PRODUCED A CHART OF predict_automatch MONTHLY STABILITY FOR:  delivery_type_id  VARIABLE CLASS:  428\n",
      "PRODUCED A CHART OF predict_automatch MONTHLY STABILITY FOR:  delivery_type_id  VARIABLE CLASS:  63388\n",
      "PRODUCED A CHART OF predict_automatch MONTHLY STABILITY FOR:  delivery_type_id  VARIABLE CLASS:  48830\n",
      "PRODUCED A CHART OF predict_automatch MONTHLY STABILITY FOR:  delivery_type_id  VARIABLE CLASS:  13976\n",
      "PRODUCED A CHART OF predict_automatch MONTHLY STABILITY FOR:  delivery_type_id  VARIABLE CLASS:  70445\n",
      "PRODUCED A CHART OF predict_automatch MONTHLY STABILITY FOR:  delivery_type_id  VARIABLE CLASS:  13364\n",
      "PRODUCED A CHART OF predict_automatch MONTHLY STABILITY FOR:  delivery_type_id  VARIABLE CLASS:  39335\n",
      "PRODUCED A CHART OF predict_automatch MONTHLY STABILITY FOR:  delivery_type_id  VARIABLE CLASS:  70245\n",
      "PRODUCED A CHART OF predict_automatch MONTHLY STABILITY FOR:  delivery_type_id  VARIABLE CLASS:  22866\n",
      "PRODUCED A CHART OF predict_automatch MONTHLY STABILITY FOR:  delivery_type_id  VARIABLE CLASS:  48305\n",
      "PRODUCED A CHART OF predict_automatch MONTHLY STABILITY FOR:  delivery_type_id  VARIABLE CLASS:  4841\n",
      "PRODUCED A CHART OF predict_automatch MONTHLY STABILITY FOR:  delivery_type_id  VARIABLE CLASS:  76922\n",
      "PRODUCED A CHART OF predict_automatch MONTHLY STABILITY FOR:  delivery_type_id  VARIABLE CLASS:  53621\n",
      "PRODUCED A CHART OF predict_automatch MONTHLY STABILITY FOR:  delivery_type_id  VARIABLE CLASS:  72732\n",
      "PRODUCED A CHART OF predict_automatch MONTHLY STABILITY FOR:  delivery_type_id  VARIABLE CLASS:  17986\n",
      "PRODUCED A CHART OF predict_automatch MONTHLY STABILITY FOR:  delivery_type_id  VARIABLE CLASS:  63093\n",
      "PRODUCED A CHART OF predict_automatch MONTHLY STABILITY FOR:  delivery_type_id  VARIABLE CLASS:  23146\n",
      "PRODUCED A CHART OF predict_automatch MONTHLY STABILITY FOR:  delivery_type_id  VARIABLE CLASS:  66610\n",
      "PRODUCED A CHART OF predict_automatch MONTHLY STABILITY FOR:  delivery_type_id  VARIABLE CLASS:  77064\n",
      "PRODUCED A CHART OF predict_automatch MONTHLY STABILITY FOR:  delivery_type_id  VARIABLE CLASS:  75638\n",
      "PRODUCED A CHART OF predict_automatch MONTHLY STABILITY FOR:  delivery_type_id  VARIABLE CLASS:  3639\n",
      "PRODUCED A CHART OF predict_automatch MONTHLY STABILITY FOR:  delivery_type_id  VARIABLE CLASS:  2085\n",
      "PRODUCED A CHART OF predict_automatch MONTHLY STABILITY FOR:  delivery_type_id  VARIABLE CLASS:  37356\n",
      "PRODUCED A CHART OF predict_automatch MONTHLY STABILITY FOR:  delivery_type_id  VARIABLE CLASS:  54498\n",
      "PRODUCED A CHART OF predict_automatch MONTHLY STABILITY FOR:  delivery_type_id  VARIABLE CLASS:  32250\n",
      "PRODUCED A CHART OF predict_automatch MONTHLY STABILITY FOR:  delivery_type_id  VARIABLE CLASS:  59139\n",
      "PRODUCED A CHART OF predict_automatch MONTHLY STABILITY FOR:  delivery_type_id  VARIABLE CLASS:  20824\n",
      "PRODUCED A CHART OF predict_automatch MONTHLY STABILITY FOR:  delivery_type_id  VARIABLE CLASS:  73649\n",
      "PRODUCED A CHART OF predict_automatch MONTHLY STABILITY FOR:  delivery_type_id  VARIABLE CLASS:  31250\n",
      "PRODUCED A CHART OF predict_automatch MONTHLY STABILITY FOR:  delivery_type_id  VARIABLE CLASS:  22237\n",
      "PRODUCED A CHART OF predict_automatch MONTHLY STABILITY FOR:  delivery_type_id  VARIABLE CLASS:  62176\n",
      "PRODUCED A CHART OF predict_automatch MONTHLY STABILITY FOR:  delivery_type_id  VARIABLE CLASS:  53826\n",
      "PRODUCED A CHART OF predict_automatch MONTHLY STABILITY FOR:  delivery_type_id  VARIABLE CLASS:  13720\n",
      "PRODUCED A CHART OF predict_automatch MONTHLY STABILITY FOR:  delivery_type_id  VARIABLE CLASS:  62202\n",
      "PRODUCED A CHART OF predict_automatch MONTHLY STABILITY FOR:  delivery_type_id  VARIABLE CLASS:  54499\n",
      "PRODUCED A CHART OF predict_automatch MONTHLY STABILITY FOR:  delivery_type_id  VARIABLE CLASS:  70376\n",
      "PRODUCED A CHART OF predict_automatch MONTHLY STABILITY FOR:  delivery_type_id  VARIABLE CLASS:  72253\n",
      "PRODUCED A CHART OF predict_automatch MONTHLY STABILITY FOR:  delivery_type_id  VARIABLE CLASS:  65880\n",
      "PRODUCED A CHART OF predict_automatch MONTHLY STABILITY FOR:  delivery_type_id  VARIABLE CLASS:  47990\n",
      "PRODUCED A CHART OF predict_automatch MONTHLY STABILITY FOR:  delivery_type_id  VARIABLE CLASS:  71326\n",
      "PRODUCED A CHART OF predict_automatch MONTHLY STABILITY FOR:  delivery_type_id  VARIABLE CLASS:  60395\n",
      "PRODUCED A CHART OF predict_automatch MONTHLY STABILITY FOR:  delivery_type_id  VARIABLE CLASS:  53460\n",
      "PRODUCED A CHART OF predict_automatch MONTHLY STABILITY FOR:  delivery_type_id  VARIABLE CLASS:  72456\n",
      "PRODUCED A CHART OF predict_automatch MONTHLY STABILITY FOR:  delivery_type_id  VARIABLE CLASS:  71391\n"
     ]
    },
    {
     "name": "stdout",
     "output_type": "stream",
     "text": [
      "PRODUCED A CHART OF predict_automatch MONTHLY STABILITY FOR:  delivery_type_id  VARIABLE CLASS:  64612\n",
      "PRODUCED A CHART OF predict_automatch MONTHLY STABILITY FOR:  delivery_type_id  VARIABLE CLASS:  11528\n",
      "PRODUCED A CHART OF predict_automatch MONTHLY STABILITY FOR:  delivery_type_id  VARIABLE CLASS:  27394\n",
      "PRODUCED A CHART OF predict_automatch MONTHLY STABILITY FOR:  delivery_type_id  VARIABLE CLASS:  64659\n",
      "PRODUCED A CHART OF predict_automatch MONTHLY STABILITY FOR:  delivery_type_id  VARIABLE CLASS:  26793\n",
      "PRODUCED A CHART OF predict_automatch MONTHLY STABILITY FOR:  delivery_type_id  VARIABLE CLASS:  71362\n",
      "PRODUCED A CHART OF predict_automatch MONTHLY STABILITY FOR:  delivery_type_id  VARIABLE CLASS:  70656\n",
      "PRODUCED A CHART OF predict_automatch MONTHLY STABILITY FOR:  delivery_type_id  VARIABLE CLASS:  28096\n",
      "PRODUCED A CHART OF predict_automatch MONTHLY STABILITY FOR:  delivery_type_id  VARIABLE CLASS:  68803\n",
      "PRODUCED A CHART OF predict_automatch MONTHLY STABILITY FOR:  delivery_type_id  VARIABLE CLASS:  77264\n",
      "PRODUCED A CHART OF predict_automatch MONTHLY STABILITY FOR:  delivery_type_id  VARIABLE CLASS:  38614\n",
      "PRODUCED A CHART OF predict_automatch MONTHLY STABILITY FOR:  delivery_type_id  VARIABLE CLASS:  37810\n",
      "PRODUCED A CHART OF predict_automatch MONTHLY STABILITY FOR:  delivery_type_id  VARIABLE CLASS:  78326\n",
      "PRODUCED A CHART OF predict_automatch MONTHLY STABILITY FOR:  delivery_type_id  VARIABLE CLASS:  29804\n",
      "PRODUCED A CHART OF predict_automatch MONTHLY STABILITY FOR:  delivery_type_id  VARIABLE CLASS:  30169\n",
      "PRODUCED A CHART OF predict_automatch MONTHLY STABILITY FOR:  delivery_type_id  VARIABLE CLASS:  51456\n",
      "PRODUCED A CHART OF predict_automatch MONTHLY STABILITY FOR:  delivery_type_id  VARIABLE CLASS:  75844\n",
      "PRODUCED A CHART OF predict_automatch MONTHLY STABILITY FOR:  delivery_type_id  VARIABLE CLASS:  66226\n",
      "PRODUCED A CHART OF predict_automatch MONTHLY STABILITY FOR:  delivery_type_id  VARIABLE CLASS:  71040\n",
      "PRODUCED A CHART OF predict_automatch MONTHLY STABILITY FOR:  delivery_type_id  VARIABLE CLASS:  15656\n",
      "PRODUCED A CHART OF predict_automatch MONTHLY STABILITY FOR:  delivery_type_id  VARIABLE CLASS:  56040\n",
      "PRODUCED A CHART OF predict_automatch MONTHLY STABILITY FOR:  delivery_type_id  VARIABLE CLASS:  59553\n",
      "PRODUCED A CHART OF predict_automatch MONTHLY STABILITY FOR:  delivery_type_id  VARIABLE CLASS:  53405\n",
      "PRODUCED A CHART OF predict_automatch MONTHLY STABILITY FOR:  delivery_type_id  VARIABLE CLASS:  12380\n",
      "PRODUCED A CHART OF predict_automatch MONTHLY STABILITY FOR:  delivery_type_id  VARIABLE CLASS:  64552\n",
      "PRODUCED A CHART OF predict_automatch MONTHLY STABILITY FOR:  delivery_type_id  VARIABLE CLASS:  63321\n",
      "PRODUCED A CHART OF predict_automatch MONTHLY STABILITY FOR:  delivery_type_id  VARIABLE CLASS:  24562\n",
      "PRODUCED A CHART OF predict_automatch MONTHLY STABILITY FOR:  delivery_type_id  VARIABLE CLASS:  48627\n",
      "PRODUCED A CHART OF predict_automatch MONTHLY STABILITY FOR:  delivery_type_id  VARIABLE CLASS:  59196\n",
      "PRODUCED A CHART OF predict_automatch MONTHLY STABILITY FOR:  delivery_type_id  VARIABLE CLASS:  68875\n",
      "PRODUCED A CHART OF predict_automatch MONTHLY STABILITY FOR:  delivery_type_id  VARIABLE CLASS:  59077\n",
      "PRODUCED A CHART OF predict_automatch MONTHLY STABILITY FOR:  delivery_type_id  VARIABLE CLASS:  25461\n",
      "PRODUCED A CHART OF predict_automatch MONTHLY STABILITY FOR:  delivery_type_id  VARIABLE CLASS:  77339\n",
      "PRODUCED A CHART OF predict_automatch MONTHLY STABILITY FOR:  delivery_type_id  VARIABLE CLASS:  72569\n",
      "PRODUCED A CHART OF predict_automatch MONTHLY STABILITY FOR:  delivery_type_id  VARIABLE CLASS:  66798\n",
      "PRODUCED A CHART OF predict_automatch MONTHLY STABILITY FOR:  delivery_type_id  VARIABLE CLASS:  7359\n",
      "PRODUCED A CHART OF predict_automatch MONTHLY STABILITY FOR:  delivery_type_id  VARIABLE CLASS:  72409\n",
      "PRODUCED A CHART OF predict_automatch MONTHLY STABILITY FOR:  delivery_type_id  VARIABLE CLASS:  78977\n",
      "PRODUCED A CHART OF predict_automatch MONTHLY STABILITY FOR:  delivery_type_id  VARIABLE CLASS:  466\n",
      "PRODUCED A CHART OF predict_automatch MONTHLY STABILITY FOR:  delivery_type_id  VARIABLE CLASS:  65221\n",
      "PRODUCED A CHART OF predict_automatch MONTHLY STABILITY FOR:  delivery_type_id  VARIABLE CLASS:  73513\n",
      "PRODUCED A CHART OF predict_automatch MONTHLY STABILITY FOR:  delivery_type_id  VARIABLE CLASS:  65551\n",
      "PRODUCED A CHART OF predict_automatch MONTHLY STABILITY FOR:  delivery_type_id  VARIABLE CLASS:  33562\n",
      "PRODUCED A CHART OF predict_automatch MONTHLY STABILITY FOR:  delivery_type_id  VARIABLE CLASS:  68873\n",
      "PRODUCED A CHART OF predict_automatch MONTHLY STABILITY FOR:  delivery_type_id  VARIABLE CLASS:  71423\n",
      "PRODUCED A CHART OF predict_automatch MONTHLY STABILITY FOR:  delivery_type_id  VARIABLE CLASS:  71864\n",
      "PRODUCED A CHART OF predict_automatch MONTHLY STABILITY FOR:  delivery_type_id  VARIABLE CLASS:  73029\n",
      "PRODUCED A CHART OF predict_automatch MONTHLY STABILITY FOR:  delivery_type_id  VARIABLE CLASS:  64674\n",
      "PRODUCED A CHART OF predict_automatch MONTHLY STABILITY FOR:  delivery_type_id  VARIABLE CLASS:  65249\n",
      "PRODUCED A CHART OF predict_automatch MONTHLY STABILITY FOR:  delivery_type_id  VARIABLE CLASS:  7778\n",
      "PRODUCED A CHART OF predict_automatch MONTHLY STABILITY FOR:  delivery_type_id  VARIABLE CLASS:  61024\n",
      "PRODUCED A CHART OF predict_automatch MONTHLY STABILITY FOR:  delivery_type_id  VARIABLE CLASS:  72723\n",
      "PRODUCED A CHART OF predict_automatch MONTHLY STABILITY FOR:  delivery_type_id  VARIABLE CLASS:  69674\n",
      "PRODUCED A CHART OF predict_automatch MONTHLY STABILITY FOR:  delivery_type_id  VARIABLE CLASS:  47862\n",
      "PRODUCED A CHART OF predict_automatch MONTHLY STABILITY FOR:  delivery_type_id  VARIABLE CLASS:  32465\n",
      "PRODUCED A CHART OF predict_automatch MONTHLY STABILITY FOR:  delivery_type_id  VARIABLE CLASS:  31340\n",
      "PRODUCED A CHART OF predict_automatch MONTHLY STABILITY FOR:  delivery_type_id  VARIABLE CLASS:  75190\n",
      "PRODUCED A CHART OF predict_automatch MONTHLY STABILITY FOR:  delivery_type_id  VARIABLE CLASS:  17701\n",
      "PRODUCED A CHART OF predict_automatch MONTHLY STABILITY FOR:  delivery_type_id  VARIABLE CLASS:  20816\n",
      "PRODUCED A CHART OF predict_automatch MONTHLY STABILITY FOR:  delivery_type_id  VARIABLE CLASS:  58668\n",
      "PRODUCED A CHART OF predict_automatch MONTHLY STABILITY FOR:  delivery_type_id  VARIABLE CLASS:  74050\n",
      "PRODUCED A CHART OF predict_automatch MONTHLY STABILITY FOR:  delivery_type_id  VARIABLE CLASS:  46339\n",
      "PRODUCED A CHART OF predict_automatch MONTHLY STABILITY FOR:  delivery_type_id  VARIABLE CLASS:  37997\n",
      "PRODUCED A CHART OF predict_automatch MONTHLY STABILITY FOR:  delivery_type_id  VARIABLE CLASS:  68783\n",
      "PRODUCED A CHART OF predict_automatch MONTHLY STABILITY FOR:  delivery_type_id  VARIABLE CLASS:  41512\n",
      "PRODUCED A CHART OF predict_automatch MONTHLY STABILITY FOR:  delivery_type_id  VARIABLE CLASS:  57161\n",
      "PRODUCED A CHART OF predict_automatch MONTHLY STABILITY FOR:  delivery_type_id  VARIABLE CLASS:  14559\n",
      "PRODUCED A CHART OF predict_automatch MONTHLY STABILITY FOR:  delivery_type_id  VARIABLE CLASS:  74184\n",
      "PRODUCED A CHART OF predict_automatch MONTHLY STABILITY FOR:  delivery_type_id  VARIABLE CLASS:  46381\n",
      "PRODUCED A CHART OF predict_automatch MONTHLY STABILITY FOR:  delivery_type_id  VARIABLE CLASS:  42702\n",
      "PRODUCED A CHART OF predict_automatch MONTHLY STABILITY FOR:  delivery_type_id  VARIABLE CLASS:  69506\n",
      "PRODUCED A CHART OF predict_automatch MONTHLY STABILITY FOR:  delivery_type_id  VARIABLE CLASS:  51501\n",
      "PRODUCED A CHART OF predict_automatch MONTHLY STABILITY FOR:  delivery_type_id  VARIABLE CLASS:  78619\n",
      "PRODUCED A CHART OF predict_automatch MONTHLY STABILITY FOR:  delivery_type_id  VARIABLE CLASS:  63153\n",
      "PRODUCED A CHART OF predict_automatch MONTHLY STABILITY FOR:  delivery_type_id  VARIABLE CLASS:  14553\n",
      "PRODUCED A CHART OF predict_automatch MONTHLY STABILITY FOR:  delivery_type_id  VARIABLE CLASS:  5538\n",
      "PRODUCED A CHART OF predict_automatch MONTHLY STABILITY FOR:  delivery_type_id  VARIABLE CLASS:  65001\n",
      "PRODUCED A CHART OF predict_automatch MONTHLY STABILITY FOR:  delivery_type_id  VARIABLE CLASS:  19169\n",
      "PRODUCED A CHART OF predict_automatch MONTHLY STABILITY FOR:  delivery_type_id  VARIABLE CLASS:  75176\n",
      "PRODUCED A CHART OF predict_automatch MONTHLY STABILITY FOR:  delivery_type_id  VARIABLE CLASS:  72706\n",
      "PRODUCED A CHART OF predict_automatch MONTHLY STABILITY FOR:  delivery_type_id  VARIABLE CLASS:  77558\n",
      "PRODUCED A CHART OF predict_automatch MONTHLY STABILITY FOR:  delivery_type_id  VARIABLE CLASS:  69733\n"
     ]
    },
    {
     "name": "stdout",
     "output_type": "stream",
     "text": [
      "PRODUCED A CHART OF predict_automatch MONTHLY STABILITY FOR:  delivery_type_id  VARIABLE CLASS:  66261\n",
      "PRODUCED A CHART OF predict_automatch MONTHLY STABILITY FOR:  delivery_type_id  VARIABLE CLASS:  23256\n",
      "PRODUCED A CHART OF predict_automatch MONTHLY STABILITY FOR:  delivery_type_id  VARIABLE CLASS:  62621\n",
      "PRODUCED A CHART OF predict_automatch MONTHLY STABILITY FOR:  delivery_type_id  VARIABLE CLASS:  32355\n",
      "PRODUCED A CHART OF predict_automatch MONTHLY STABILITY FOR:  delivery_type_id  VARIABLE CLASS:  77348\n",
      "PRODUCED A CHART OF predict_automatch MONTHLY STABILITY FOR:  delivery_type_id  VARIABLE CLASS:  50361\n",
      "PRODUCED A CHART OF predict_automatch MONTHLY STABILITY FOR:  delivery_type_id  VARIABLE CLASS:  75028\n",
      "PRODUCED A CHART OF predict_automatch MONTHLY STABILITY FOR:  delivery_type_id  VARIABLE CLASS:  78531\n",
      "PRODUCED A CHART OF predict_automatch MONTHLY STABILITY FOR:  delivery_type_id  VARIABLE CLASS:  20222\n",
      "PRODUCED A CHART OF predict_automatch MONTHLY STABILITY FOR:  delivery_type_id  VARIABLE CLASS:  33857\n",
      "PRODUCED A CHART OF predict_automatch MONTHLY STABILITY FOR:  delivery_type_id  VARIABLE CLASS:  77780\n",
      "PRODUCED A CHART OF predict_automatch MONTHLY STABILITY FOR:  delivery_type_id  VARIABLE CLASS:  64135\n",
      "PRODUCED A CHART OF predict_automatch MONTHLY STABILITY FOR:  delivery_type_id  VARIABLE CLASS:  67555\n",
      "PRODUCED A CHART OF predict_automatch MONTHLY STABILITY FOR:  delivery_type_id  VARIABLE CLASS:  22061\n",
      "PRODUCED A CHART OF predict_automatch MONTHLY STABILITY FOR:  delivery_type_id  VARIABLE CLASS:  4071\n",
      "PRODUCED A CHART OF predict_automatch MONTHLY STABILITY FOR:  delivery_type_id  VARIABLE CLASS:  49244\n",
      "PRODUCED A CHART OF predict_automatch MONTHLY STABILITY FOR:  delivery_type_id  VARIABLE CLASS:  52617\n",
      "PRODUCED A CHART OF predict_automatch MONTHLY STABILITY FOR:  delivery_type_id  VARIABLE CLASS:  68024\n",
      "PRODUCED A CHART OF predict_automatch MONTHLY STABILITY FOR:  delivery_type_id  VARIABLE CLASS:  75248\n",
      "PRODUCED A CHART OF predict_automatch MONTHLY STABILITY FOR:  delivery_type_id  VARIABLE CLASS:  6835\n",
      "PRODUCED A CHART OF predict_automatch MONTHLY STABILITY FOR:  delivery_type_id  VARIABLE CLASS:  66966\n",
      "PRODUCED A CHART OF predict_automatch MONTHLY STABILITY FOR:  delivery_type_id  VARIABLE CLASS:  46571\n",
      "PRODUCED A CHART OF predict_automatch MONTHLY STABILITY FOR:  delivery_type_id  VARIABLE CLASS:  77319\n",
      "PRODUCED A CHART OF predict_automatch MONTHLY STABILITY FOR:  delivery_type_id  VARIABLE CLASS:  75011\n",
      "PRODUCED A CHART OF predict_automatch MONTHLY STABILITY FOR:  delivery_type_id  VARIABLE CLASS:  38605\n",
      "PRODUCED A CHART OF predict_automatch MONTHLY STABILITY FOR:  delivery_type_id  VARIABLE CLASS:  57613\n",
      "PRODUCED A CHART OF predict_automatch MONTHLY STABILITY FOR:  delivery_type_id  VARIABLE CLASS:  17865\n",
      "PRODUCED A CHART OF predict_automatch MONTHLY STABILITY FOR:  delivery_type_id  VARIABLE CLASS:  65027\n",
      "PRODUCED A CHART OF predict_automatch MONTHLY STABILITY FOR:  delivery_type_id  VARIABLE CLASS:  64276\n",
      "PRODUCED A CHART OF predict_automatch MONTHLY STABILITY FOR:  delivery_type_id  VARIABLE CLASS:  12734\n",
      "PRODUCED A CHART OF predict_automatch MONTHLY STABILITY FOR:  delivery_type_id  VARIABLE CLASS:  60769\n",
      "PRODUCED A CHART OF predict_automatch MONTHLY STABILITY FOR:  delivery_type_id  VARIABLE CLASS:  58497\n",
      "PRODUCED A CHART OF predict_automatch MONTHLY STABILITY FOR:  delivery_type_id  VARIABLE CLASS:  40150\n",
      "PRODUCED A CHART OF predict_automatch MONTHLY STABILITY FOR:  delivery_type_id  VARIABLE CLASS:  32942\n",
      "PRODUCED A CHART OF predict_automatch MONTHLY STABILITY FOR:  delivery_type_id  VARIABLE CLASS:  78664\n",
      "PRODUCED A CHART OF predict_automatch MONTHLY STABILITY FOR:  delivery_type_id  VARIABLE CLASS:  6675\n",
      "PRODUCED A CHART OF predict_automatch MONTHLY STABILITY FOR:  delivery_type_id  VARIABLE CLASS:  26693\n",
      "PRODUCED A CHART OF predict_automatch MONTHLY STABILITY FOR:  delivery_type_id  VARIABLE CLASS:  29741\n",
      "PRODUCED A CHART OF predict_automatch MONTHLY STABILITY FOR:  delivery_type_id  VARIABLE CLASS:  65387\n",
      "PRODUCED A CHART OF predict_automatch MONTHLY STABILITY FOR:  delivery_type_id  VARIABLE CLASS:  62124\n",
      "PRODUCED A CHART OF predict_automatch MONTHLY STABILITY FOR:  delivery_type_id  VARIABLE CLASS:  72869\n",
      "PRODUCED A CHART OF predict_automatch MONTHLY STABILITY FOR:  delivery_type_id  VARIABLE CLASS:  71578\n",
      "PRODUCED A CHART OF predict_automatch MONTHLY STABILITY FOR:  delivery_type_id  VARIABLE CLASS:  17074\n",
      "PRODUCED A CHART OF predict_automatch MONTHLY STABILITY FOR:  delivery_type_id  VARIABLE CLASS:  76946\n",
      "PRODUCED A CHART OF predict_automatch MONTHLY STABILITY FOR:  delivery_type_id  VARIABLE CLASS:  73524\n",
      "PRODUCED A CHART OF predict_automatch MONTHLY STABILITY FOR:  delivery_type_id  VARIABLE CLASS:  72060\n",
      "PRODUCED A CHART OF predict_automatch MONTHLY STABILITY FOR:  delivery_type_id  VARIABLE CLASS:  60281\n",
      "PRODUCED A CHART OF predict_automatch MONTHLY STABILITY FOR:  delivery_type_id  VARIABLE CLASS:  60026\n",
      "PRODUCED A CHART OF predict_automatch MONTHLY STABILITY FOR:  delivery_type_id  VARIABLE CLASS:  75366\n",
      "PRODUCED A CHART OF predict_automatch MONTHLY STABILITY FOR:  delivery_type_id  VARIABLE CLASS:  37210\n",
      "PRODUCED A CHART OF predict_automatch MONTHLY STABILITY FOR:  delivery_type_id  VARIABLE CLASS:  54226\n",
      "PRODUCED A CHART OF predict_automatch MONTHLY STABILITY FOR:  delivery_type_id  VARIABLE CLASS:  58630\n",
      "PRODUCED A CHART OF predict_automatch MONTHLY STABILITY FOR:  delivery_type_id  VARIABLE CLASS:  33624\n",
      "PRODUCED A CHART OF predict_automatch MONTHLY STABILITY FOR:  delivery_type_id  VARIABLE CLASS:  31276\n",
      "PRODUCED A CHART OF predict_automatch MONTHLY STABILITY FOR:  delivery_type_id  VARIABLE CLASS:  5704\n",
      "PRODUCED A CHART OF predict_automatch MONTHLY STABILITY FOR:  delivery_type_id  VARIABLE CLASS:  42070\n",
      "PRODUCED A CHART OF predict_automatch MONTHLY STABILITY FOR:  delivery_type_id  VARIABLE CLASS:  56321\n",
      "PRODUCED A CHART OF predict_automatch MONTHLY STABILITY FOR:  delivery_type_id  VARIABLE CLASS:  629\n",
      "PRODUCED A CHART OF predict_automatch MONTHLY STABILITY FOR:  delivery_type_id  VARIABLE CLASS:  71227\n",
      "PRODUCED A CHART OF predict_automatch MONTHLY STABILITY FOR:  delivery_type_id  VARIABLE CLASS:  33194\n",
      "PRODUCED A CHART OF predict_automatch MONTHLY STABILITY FOR:  delivery_type_id  VARIABLE CLASS:  74775\n",
      "PRODUCED A CHART OF predict_automatch MONTHLY STABILITY FOR:  delivery_type_id  VARIABLE CLASS:  6976\n",
      "PRODUCED A CHART OF predict_automatch MONTHLY STABILITY FOR:  delivery_type_id  VARIABLE CLASS:  53821\n",
      "PRODUCED A CHART OF predict_automatch MONTHLY STABILITY FOR:  delivery_type_id  VARIABLE CLASS:  25201\n",
      "PRODUCED A CHART OF predict_automatch MONTHLY STABILITY FOR:  delivery_type_id  VARIABLE CLASS:  30151\n",
      "PRODUCED A CHART OF predict_automatch MONTHLY STABILITY FOR:  delivery_type_id  VARIABLE CLASS:  76332\n",
      "PRODUCED A CHART OF predict_automatch MONTHLY STABILITY FOR:  delivery_type_id  VARIABLE CLASS:  54163\n",
      "PRODUCED A CHART OF predict_automatch MONTHLY STABILITY FOR:  delivery_type_id  VARIABLE CLASS:  72894\n",
      "PRODUCED A CHART OF predict_automatch MONTHLY STABILITY FOR:  delivery_type_id  VARIABLE CLASS:  54855\n",
      "PRODUCED A CHART OF predict_automatch MONTHLY STABILITY FOR:  delivery_type_id  VARIABLE CLASS:  33867\n",
      "PRODUCED A CHART OF predict_automatch MONTHLY STABILITY FOR:  delivery_type_id  VARIABLE CLASS:  53961\n",
      "PRODUCED A CHART OF predict_automatch MONTHLY STABILITY FOR:  delivery_type_id  VARIABLE CLASS:  33092\n",
      "PRODUCED A CHART OF predict_automatch MONTHLY STABILITY FOR:  delivery_type_id  VARIABLE CLASS:  30540\n",
      "PRODUCED A CHART OF predict_automatch MONTHLY STABILITY FOR:  delivery_type_id  VARIABLE CLASS:  50128\n",
      "PRODUCED A CHART OF predict_automatch MONTHLY STABILITY FOR:  delivery_type_id  VARIABLE CLASS:  66216\n",
      "PRODUCED A CHART OF predict_automatch MONTHLY STABILITY FOR:  delivery_type_id  VARIABLE CLASS:  66412\n",
      "PRODUCED A CHART OF predict_automatch MONTHLY STABILITY FOR:  delivery_type_id  VARIABLE CLASS:  77710\n",
      "PRODUCED A CHART OF predict_automatch MONTHLY STABILITY FOR:  delivery_type_id  VARIABLE CLASS:  60690\n",
      "PRODUCED A CHART OF predict_automatch MONTHLY STABILITY FOR:  delivery_type_id  VARIABLE CLASS:  66223\n",
      "PRODUCED A CHART OF predict_automatch MONTHLY STABILITY FOR:  delivery_type_id  VARIABLE CLASS:  76206\n",
      "PRODUCED A CHART OF predict_automatch MONTHLY STABILITY FOR:  delivery_type_id  VARIABLE CLASS:  73176\n",
      "PRODUCED A CHART OF predict_automatch MONTHLY STABILITY FOR:  delivery_type_id  VARIABLE CLASS:  70357\n"
     ]
    },
    {
     "name": "stdout",
     "output_type": "stream",
     "text": [
      "PRODUCED A CHART OF predict_automatch MONTHLY STABILITY FOR:  delivery_type_id  VARIABLE CLASS:  37208\n",
      "PRODUCED A CHART OF predict_automatch MONTHLY STABILITY FOR:  delivery_type_id  VARIABLE CLASS:  71305\n",
      "PRODUCED A CHART OF predict_automatch MONTHLY STABILITY FOR:  delivery_type_id  VARIABLE CLASS:  32004\n",
      "PRODUCED A CHART OF predict_automatch MONTHLY STABILITY FOR:  delivery_type_id  VARIABLE CLASS:  78808\n",
      "PRODUCED A CHART OF predict_automatch MONTHLY STABILITY FOR:  delivery_type_id  VARIABLE CLASS:  14680\n",
      "PRODUCED A CHART OF predict_automatch MONTHLY STABILITY FOR:  delivery_type_id  VARIABLE CLASS:  46572\n",
      "PRODUCED A CHART OF predict_automatch MONTHLY STABILITY FOR:  delivery_type_id  VARIABLE CLASS:  55200\n",
      "PRODUCED A CHART OF predict_automatch MONTHLY STABILITY FOR:  delivery_type_id  VARIABLE CLASS:  25039\n",
      "PRODUCED A CHART OF predict_automatch MONTHLY STABILITY FOR:  delivery_type_id  VARIABLE CLASS:  72886\n",
      "PRODUCED A CHART OF predict_automatch MONTHLY STABILITY FOR:  delivery_type_id  VARIABLE CLASS:  67989\n",
      "PRODUCED A CHART OF predict_automatch MONTHLY STABILITY FOR:  delivery_type_id  VARIABLE CLASS:  7221\n",
      "PRODUCED A CHART OF predict_automatch MONTHLY STABILITY FOR:  delivery_type_id  VARIABLE CLASS:  64391\n",
      "PRODUCED A CHART OF predict_automatch MONTHLY STABILITY FOR:  delivery_type_id  VARIABLE CLASS:  41137\n",
      "PRODUCED A CHART OF predict_automatch MONTHLY STABILITY FOR:  delivery_type_id  VARIABLE CLASS:  43194\n",
      "PRODUCED A CHART OF predict_automatch MONTHLY STABILITY FOR:  delivery_type_id  VARIABLE CLASS:  46232\n",
      "PRODUCED A CHART OF predict_automatch MONTHLY STABILITY FOR:  delivery_type_id  VARIABLE CLASS:  58437\n",
      "PRODUCED A CHART OF predict_automatch MONTHLY STABILITY FOR:  delivery_type_id  VARIABLE CLASS:  19056\n",
      "PRODUCED A CHART OF predict_automatch MONTHLY STABILITY FOR:  delivery_type_id  VARIABLE CLASS:  72442\n",
      "PRODUCED A CHART OF predict_automatch MONTHLY STABILITY FOR:  delivery_type_id  VARIABLE CLASS:  67157\n",
      "PRODUCED A CHART OF predict_automatch MONTHLY STABILITY FOR:  delivery_type_id  VARIABLE CLASS:  40195\n",
      "PRODUCED A CHART OF predict_automatch MONTHLY STABILITY FOR:  delivery_type_id  VARIABLE CLASS:  6180\n",
      "PRODUCED A CHART OF predict_automatch MONTHLY STABILITY FOR:  delivery_type_id  VARIABLE CLASS:  66285\n",
      "PRODUCED A CHART OF predict_automatch MONTHLY STABILITY FOR:  delivery_type_id  VARIABLE CLASS:  21742\n",
      "PRODUCED A CHART OF predict_automatch MONTHLY STABILITY FOR:  delivery_type_id  VARIABLE CLASS:  76007\n",
      "PRODUCED A CHART OF predict_automatch MONTHLY STABILITY FOR:  delivery_type_id  VARIABLE CLASS:  12957\n",
      "PRODUCED A CHART OF predict_automatch MONTHLY STABILITY FOR:  delivery_type_id  VARIABLE CLASS:  72136\n",
      "PRODUCED A CHART OF predict_automatch MONTHLY STABILITY FOR:  delivery_type_id  VARIABLE CLASS:  64966\n",
      "PRODUCED A CHART OF predict_automatch MONTHLY STABILITY FOR:  delivery_type_id  VARIABLE CLASS:  62768\n",
      "PRODUCED A CHART OF predict_automatch MONTHLY STABILITY FOR:  delivery_type_id  VARIABLE CLASS:  69913\n",
      "PRODUCED A CHART OF predict_automatch MONTHLY STABILITY FOR:  delivery_type_id  VARIABLE CLASS:  51870\n",
      "PRODUCED A CHART OF predict_automatch MONTHLY STABILITY FOR:  delivery_type_id  VARIABLE CLASS:  23979\n",
      "PRODUCED A CHART OF predict_automatch MONTHLY STABILITY FOR:  delivery_type_id  VARIABLE CLASS:  25576\n",
      "PRODUCED A CHART OF predict_automatch MONTHLY STABILITY FOR:  delivery_type_id  VARIABLE CLASS:  16561\n",
      "PRODUCED A CHART OF predict_automatch MONTHLY STABILITY FOR:  delivery_type_id  VARIABLE CLASS:  69435\n",
      "PRODUCED A CHART OF predict_automatch MONTHLY STABILITY FOR:  delivery_type_id  VARIABLE CLASS:  75633\n",
      "PRODUCED A CHART OF predict_automatch MONTHLY STABILITY FOR:  delivery_type_id  VARIABLE CLASS:  33385\n",
      "PRODUCED A CHART OF predict_automatch MONTHLY STABILITY FOR:  delivery_type_id  VARIABLE CLASS:  56163\n",
      "PRODUCED A CHART OF predict_automatch MONTHLY STABILITY FOR:  delivery_type_id  VARIABLE CLASS:  71668\n",
      "PRODUCED A CHART OF predict_automatch MONTHLY STABILITY FOR:  delivery_type_id  VARIABLE CLASS:  61679\n",
      "PRODUCED A CHART OF predict_automatch MONTHLY STABILITY FOR:  delivery_type_id  VARIABLE CLASS:  77229\n",
      "PRODUCED A CHART OF predict_automatch MONTHLY STABILITY FOR:  delivery_type_id  VARIABLE CLASS:  42730\n",
      "PRODUCED A CHART OF predict_automatch MONTHLY STABILITY FOR:  delivery_type_id  VARIABLE CLASS:  23847\n",
      "PRODUCED A CHART OF predict_automatch MONTHLY STABILITY FOR:  delivery_type_id  VARIABLE CLASS:  69264\n",
      "PRODUCED A CHART OF predict_automatch MONTHLY STABILITY FOR:  delivery_type_id  VARIABLE CLASS:  40253\n",
      "PRODUCED A CHART OF predict_automatch MONTHLY STABILITY FOR:  delivery_type_id  VARIABLE CLASS:  58678\n",
      "PRODUCED A CHART OF predict_automatch MONTHLY STABILITY FOR:  delivery_type_id  VARIABLE CLASS:  24518\n",
      "PRODUCED A CHART OF predict_automatch MONTHLY STABILITY FOR:  delivery_type_id  VARIABLE CLASS:  72454\n",
      "PRODUCED A CHART OF predict_automatch MONTHLY STABILITY FOR:  delivery_type_id  VARIABLE CLASS:  72371\n",
      "PRODUCED A CHART OF predict_automatch MONTHLY STABILITY FOR:  delivery_type_id  VARIABLE CLASS:  47530\n",
      "PRODUCED A CHART OF predict_automatch MONTHLY STABILITY FOR:  delivery_type_id  VARIABLE CLASS:  68484\n",
      "PRODUCED A CHART OF predict_automatch MONTHLY STABILITY FOR:  delivery_type_id  VARIABLE CLASS:  75846\n",
      "PRODUCED A CHART OF predict_automatch MONTHLY STABILITY FOR:  delivery_type_id  VARIABLE CLASS:  33494\n",
      "PRODUCED A CHART OF predict_automatch MONTHLY STABILITY FOR:  delivery_type_id  VARIABLE CLASS:  60879\n",
      "PRODUCED A CHART OF predict_automatch MONTHLY STABILITY FOR:  delivery_type_id  VARIABLE CLASS:  71907\n",
      "PRODUCED A CHART OF predict_automatch MONTHLY STABILITY FOR:  delivery_type_id  VARIABLE CLASS:  16580\n",
      "PRODUCED A CHART OF predict_automatch MONTHLY STABILITY FOR:  delivery_type_id  VARIABLE CLASS:  45774\n",
      "PRODUCED A CHART OF predict_automatch MONTHLY STABILITY FOR:  delivery_type_id  VARIABLE CLASS:  51949\n",
      "PRODUCED A CHART OF predict_automatch MONTHLY STABILITY FOR:  delivery_type_id  VARIABLE CLASS:  64999\n",
      "PRODUCED A CHART OF predict_automatch MONTHLY STABILITY FOR:  delivery_type_id  VARIABLE CLASS:  76873\n",
      "PRODUCED A CHART OF predict_automatch MONTHLY STABILITY FOR:  delivery_type_id  VARIABLE CLASS:  65816\n",
      "PRODUCED A CHART OF predict_automatch MONTHLY STABILITY FOR:  delivery_type_id  VARIABLE CLASS:  48706\n",
      "PRODUCED A CHART OF predict_automatch MONTHLY STABILITY FOR:  delivery_type_id  VARIABLE CLASS:  63319\n",
      "PRODUCED A CHART OF predict_automatch MONTHLY STABILITY FOR:  delivery_type_id  VARIABLE CLASS:  65411\n",
      "PRODUCED A CHART OF predict_automatch MONTHLY STABILITY FOR:  delivery_type_id  VARIABLE CLASS:  49302\n",
      "PRODUCED A CHART OF predict_automatch MONTHLY STABILITY FOR:  delivery_type_id  VARIABLE CLASS:  64120\n",
      "PRODUCED A CHART OF predict_automatch MONTHLY STABILITY FOR:  delivery_type_id  VARIABLE CLASS:  65989\n",
      "PRODUCED A CHART OF predict_automatch MONTHLY STABILITY FOR:  delivery_type_id  VARIABLE CLASS:  67284\n",
      "PRODUCED A CHART OF predict_automatch MONTHLY STABILITY FOR:  delivery_type_id  VARIABLE CLASS:  65101\n",
      "PRODUCED A CHART OF predict_automatch MONTHLY STABILITY FOR:  delivery_type_id  VARIABLE CLASS:  77805\n",
      "PRODUCED A CHART OF predict_automatch MONTHLY STABILITY FOR:  delivery_type_id  VARIABLE CLASS:  16289\n",
      "PRODUCED A CHART OF predict_automatch MONTHLY STABILITY FOR:  delivery_type_id  VARIABLE CLASS:  58521\n",
      "PRODUCED A CHART OF predict_automatch MONTHLY STABILITY FOR:  delivery_type_id  VARIABLE CLASS:  70359\n",
      "PRODUCED A CHART OF predict_automatch MONTHLY STABILITY FOR:  delivery_type_id  VARIABLE CLASS:  65436\n",
      "PRODUCED A CHART OF predict_automatch MONTHLY STABILITY FOR:  delivery_type_id  VARIABLE CLASS:  59252\n",
      "PRODUCED A CHART OF predict_automatch MONTHLY STABILITY FOR:  delivery_type_id  VARIABLE CLASS:  67713\n",
      "PRODUCED A CHART OF predict_automatch MONTHLY STABILITY FOR:  delivery_type_id  VARIABLE CLASS:  31379\n",
      "PRODUCED A CHART OF predict_automatch MONTHLY STABILITY FOR:  delivery_type_id  VARIABLE CLASS:  74833\n",
      "PRODUCED A CHART OF predict_automatch MONTHLY STABILITY FOR:  delivery_type_id  VARIABLE CLASS:  74411\n",
      "PRODUCED A CHART OF predict_automatch MONTHLY STABILITY FOR:  delivery_type_id  VARIABLE CLASS:  71108\n",
      "PRODUCED A CHART OF predict_automatch MONTHLY STABILITY FOR:  delivery_type_id  VARIABLE CLASS:  69724\n",
      "PRODUCED A CHART OF predict_automatch MONTHLY STABILITY FOR:  delivery_type_id  VARIABLE CLASS:  73704\n"
     ]
    },
    {
     "name": "stdout",
     "output_type": "stream",
     "text": [
      "PRODUCED A CHART OF predict_automatch MONTHLY STABILITY FOR:  delivery_type_id  VARIABLE CLASS:  65378\n",
      "PRODUCED A CHART OF predict_automatch MONTHLY STABILITY FOR:  delivery_type_id  VARIABLE CLASS:  47179\n",
      "PRODUCED A CHART OF predict_automatch MONTHLY STABILITY FOR:  delivery_type_id  VARIABLE CLASS:  21526\n",
      "PRODUCED A CHART OF predict_automatch MONTHLY STABILITY FOR:  delivery_type_id  VARIABLE CLASS:  72146\n",
      "PRODUCED A CHART OF predict_automatch MONTHLY STABILITY FOR:  delivery_type_id  VARIABLE CLASS:  26647\n",
      "PRODUCED A CHART OF predict_automatch MONTHLY STABILITY FOR:  delivery_type_id  VARIABLE CLASS:  55792\n",
      "PRODUCED A CHART OF predict_automatch MONTHLY STABILITY FOR:  delivery_type_id  VARIABLE CLASS:  78243\n",
      "PRODUCED A CHART OF predict_automatch MONTHLY STABILITY FOR:  delivery_type_id  VARIABLE CLASS:  47769\n",
      "PRODUCED A CHART OF predict_automatch MONTHLY STABILITY FOR:  delivery_type_id  VARIABLE CLASS:  66310\n",
      "PRODUCED A CHART OF predict_automatch MONTHLY STABILITY FOR:  delivery_type_id  VARIABLE CLASS:  70375\n",
      "PRODUCED A CHART OF predict_automatch MONTHLY STABILITY FOR:  delivery_type_id  VARIABLE CLASS:  67017\n",
      "PRODUCED A CHART OF predict_automatch MONTHLY STABILITY FOR:  delivery_type_id  VARIABLE CLASS:  24761\n",
      "PRODUCED A CHART OF predict_automatch MONTHLY STABILITY FOR:  delivery_type_id  VARIABLE CLASS:  33242\n",
      "PRODUCED A CHART OF predict_automatch MONTHLY STABILITY FOR:  delivery_type_id  VARIABLE CLASS:  71142\n",
      "PRODUCED A CHART OF predict_automatch MONTHLY STABILITY FOR:  delivery_type_id  VARIABLE CLASS:  4924\n",
      "PRODUCED A CHART OF predict_automatch MONTHLY STABILITY FOR:  delivery_type_id  VARIABLE CLASS:  56293\n",
      "PRODUCED A CHART OF predict_automatch MONTHLY STABILITY FOR:  delivery_type_id  VARIABLE CLASS:  40218\n",
      "PRODUCED A CHART OF predict_automatch MONTHLY STABILITY FOR:  delivery_type_id  VARIABLE CLASS:  75635\n",
      "PRODUCED A CHART OF predict_automatch MONTHLY STABILITY FOR:  delivery_type_id  VARIABLE CLASS:  65836\n",
      "PRODUCED A CHART OF predict_automatch MONTHLY STABILITY FOR:  delivery_type_id  VARIABLE CLASS:  77341\n",
      "PRODUCED A CHART OF predict_automatch MONTHLY STABILITY FOR:  delivery_type_id  VARIABLE CLASS:  76187\n",
      "PRODUCED A CHART OF predict_automatch MONTHLY STABILITY FOR:  delivery_type_id  VARIABLE CLASS:  25568\n",
      "PRODUCED A CHART OF predict_automatch MONTHLY STABILITY FOR:  delivery_type_id  VARIABLE CLASS:  27445\n",
      "PRODUCED A CHART OF predict_automatch MONTHLY STABILITY FOR:  delivery_type_id  VARIABLE CLASS:  62744\n",
      "PRODUCED A CHART OF predict_automatch MONTHLY STABILITY FOR:  delivery_type_id  VARIABLE CLASS:  21793\n",
      "PRODUCED A CHART OF predict_automatch MONTHLY STABILITY FOR:  delivery_type_id  VARIABLE CLASS:  38609\n",
      "PRODUCED A CHART OF predict_automatch MONTHLY STABILITY FOR:  delivery_type_id  VARIABLE CLASS:  49561\n",
      "PRODUCED A CHART OF predict_automatch MONTHLY STABILITY FOR:  delivery_type_id  VARIABLE CLASS:  73588\n",
      "PRODUCED A CHART OF predict_automatch MONTHLY STABILITY FOR:  delivery_type_id  VARIABLE CLASS:  39925\n",
      "PRODUCED A CHART OF predict_automatch MONTHLY STABILITY FOR:  delivery_type_id  VARIABLE CLASS:  78150\n",
      "PRODUCED A CHART OF predict_automatch MONTHLY STABILITY FOR:  delivery_type_id  VARIABLE CLASS:  27186\n",
      "PRODUCED A CHART OF predict_automatch MONTHLY STABILITY FOR:  delivery_type_id  VARIABLE CLASS:  21563\n",
      "PRODUCED A CHART OF predict_automatch MONTHLY STABILITY FOR:  delivery_type_id  VARIABLE CLASS:  23605\n",
      "PRODUCED A CHART OF predict_automatch MONTHLY STABILITY FOR:  delivery_type_id  VARIABLE CLASS:  22079\n",
      "PRODUCED A CHART OF predict_automatch MONTHLY STABILITY FOR:  delivery_type_id  VARIABLE CLASS:  27454\n",
      "PRODUCED A CHART OF predict_automatch MONTHLY STABILITY FOR:  delivery_type_id  VARIABLE CLASS:  41967\n",
      "PRODUCED A CHART OF predict_automatch MONTHLY STABILITY FOR:  delivery_type_id  VARIABLE CLASS:  64205\n",
      "PRODUCED A CHART OF predict_automatch MONTHLY STABILITY FOR:  delivery_type_id  VARIABLE CLASS:  57822\n",
      "PRODUCED A CHART OF predict_automatch MONTHLY STABILITY FOR:  delivery_type_id  VARIABLE CLASS:  53791\n",
      "PRODUCED A CHART OF predict_automatch MONTHLY STABILITY FOR:  delivery_type_id  VARIABLE CLASS:  64093\n",
      "PRODUCED A CHART OF predict_automatch MONTHLY STABILITY FOR:  delivery_type_id  VARIABLE CLASS:  23621\n",
      "PRODUCED A CHART OF predict_automatch MONTHLY STABILITY FOR:  delivery_type_id  VARIABLE CLASS:  1593\n",
      "PRODUCED A CHART OF predict_automatch MONTHLY STABILITY FOR:  delivery_type_id  VARIABLE CLASS:  63818\n",
      "PRODUCED A CHART OF predict_automatch MONTHLY STABILITY FOR:  delivery_type_id  VARIABLE CLASS:  61880\n",
      "PRODUCED A CHART OF predict_automatch MONTHLY STABILITY FOR:  delivery_type_id  VARIABLE CLASS:  74824\n",
      "PRODUCED A CHART OF predict_automatch MONTHLY STABILITY FOR:  delivery_type_id  VARIABLE CLASS:  57620\n",
      "PRODUCED A CHART OF predict_automatch MONTHLY STABILITY FOR:  delivery_type_id  VARIABLE CLASS:  63469\n",
      "PRODUCED A CHART OF predict_automatch MONTHLY STABILITY FOR:  delivery_type_id  VARIABLE CLASS:  76383\n",
      "PRODUCED A CHART OF predict_automatch MONTHLY STABILITY FOR:  delivery_type_id  VARIABLE CLASS:  27967\n",
      "PRODUCED A CHART OF predict_automatch MONTHLY STABILITY FOR:  delivery_type_id  VARIABLE CLASS:  23921\n",
      "PRODUCED A CHART OF predict_automatch MONTHLY STABILITY FOR:  delivery_type_id  VARIABLE CLASS:  72278\n",
      "PRODUCED A CHART OF predict_automatch MONTHLY STABILITY FOR:  delivery_type_id  VARIABLE CLASS:  19652\n",
      "PRODUCED A CHART OF predict_automatch MONTHLY STABILITY FOR:  delivery_type_id  VARIABLE CLASS:  72880\n",
      "PRODUCED A CHART OF predict_automatch MONTHLY STABILITY FOR:  delivery_type_id  VARIABLE CLASS:  65558\n",
      "PRODUCED A CHART OF predict_automatch MONTHLY STABILITY FOR:  delivery_type_id  VARIABLE CLASS:  75245\n",
      "PRODUCED A CHART OF predict_automatch MONTHLY STABILITY FOR:  delivery_type_id  VARIABLE CLASS:  20927\n",
      "PRODUCED A CHART OF predict_automatch MONTHLY STABILITY FOR:  delivery_type_id  VARIABLE CLASS:  46280\n",
      "PRODUCED A CHART OF predict_automatch MONTHLY STABILITY FOR:  delivery_type_id  VARIABLE CLASS:  71324\n",
      "PRODUCED A CHART OF predict_automatch MONTHLY STABILITY FOR:  delivery_type_id  VARIABLE CLASS:  33256\n",
      "PRODUCED A CHART OF predict_automatch MONTHLY STABILITY FOR:  delivery_type_id  VARIABLE CLASS:  58945\n",
      "PRODUCED A CHART OF predict_automatch MONTHLY STABILITY FOR:  delivery_type_id  VARIABLE CLASS:  65124\n",
      "PRODUCED A CHART OF predict_automatch MONTHLY STABILITY FOR:  delivery_type_id  VARIABLE CLASS:  67027\n",
      "PRODUCED A CHART OF predict_automatch MONTHLY STABILITY FOR:  delivery_type_id  VARIABLE CLASS:  76900\n",
      "PRODUCED A CHART OF predict_automatch MONTHLY STABILITY FOR:  delivery_type_id  VARIABLE CLASS:  73269\n",
      "PRODUCED A CHART OF predict_automatch MONTHLY STABILITY FOR:  delivery_type_id  VARIABLE CLASS:  65811\n",
      "PRODUCED A CHART OF predict_automatch MONTHLY STABILITY FOR:  delivery_type_id  VARIABLE CLASS:  75662\n",
      "PRODUCED A CHART OF predict_automatch MONTHLY STABILITY FOR:  delivery_type_id  VARIABLE CLASS:  37847\n",
      "PRODUCED A CHART OF predict_automatch MONTHLY STABILITY FOR:  delivery_type_id  VARIABLE CLASS:  5495\n",
      "PRODUCED A CHART OF predict_automatch MONTHLY STABILITY FOR:  delivery_type_id  VARIABLE CLASS:  77403\n",
      "PRODUCED A CHART OF predict_automatch MONTHLY STABILITY FOR:  delivery_type_id  VARIABLE CLASS:  79000\n",
      "PRODUCED A CHART OF predict_automatch MONTHLY STABILITY FOR:  delivery_type_id  VARIABLE CLASS:  13497\n",
      "PRODUCED A CHART OF predict_automatch MONTHLY STABILITY FOR:  delivery_type_id  VARIABLE CLASS:  13968\n",
      "PRODUCED A CHART OF predict_automatch MONTHLY STABILITY FOR:  delivery_type_id  VARIABLE CLASS:  53747\n",
      "PRODUCED A CHART OF predict_automatch MONTHLY STABILITY FOR:  delivery_type_id  VARIABLE CLASS:  10511\n",
      "PRODUCED A CHART OF predict_automatch MONTHLY STABILITY FOR:  delivery_type_id  VARIABLE CLASS:  61994\n",
      "PRODUCED A CHART OF predict_automatch MONTHLY STABILITY FOR:  delivery_type_id  VARIABLE CLASS:  54412\n",
      "PRODUCED A CHART OF predict_automatch MONTHLY STABILITY FOR:  delivery_type_id  VARIABLE CLASS:  63853\n",
      "PRODUCED A CHART OF predict_automatch MONTHLY STABILITY FOR:  delivery_type_id  VARIABLE CLASS:  71061\n",
      "PRODUCED A CHART OF predict_automatch MONTHLY STABILITY FOR:  delivery_type_id  VARIABLE CLASS:  27451\n",
      "PRODUCED A CHART OF predict_automatch MONTHLY STABILITY FOR:  delivery_type_id  VARIABLE CLASS:  64716\n",
      "PRODUCED A CHART OF predict_automatch MONTHLY STABILITY FOR:  delivery_type_id  VARIABLE CLASS:  23212\n"
     ]
    },
    {
     "name": "stdout",
     "output_type": "stream",
     "text": [
      "PRODUCED A CHART OF predict_automatch MONTHLY STABILITY FOR:  delivery_type_id  VARIABLE CLASS:  44950\n",
      "PRODUCED A CHART OF predict_automatch MONTHLY STABILITY FOR:  delivery_type_id  VARIABLE CLASS:  4175\n",
      "PRODUCED A CHART OF predict_automatch MONTHLY STABILITY FOR:  delivery_type_id  VARIABLE CLASS:  60648\n",
      "PRODUCED A CHART OF predict_automatch MONTHLY STABILITY FOR:  delivery_type_id  VARIABLE CLASS:  53758\n",
      "PRODUCED A CHART OF predict_automatch MONTHLY STABILITY FOR:  delivery_type_id  VARIABLE CLASS:  46917\n",
      "PRODUCED A CHART OF predict_automatch MONTHLY STABILITY FOR:  delivery_type_id  VARIABLE CLASS:  6597\n",
      "PRODUCED A CHART OF predict_automatch MONTHLY STABILITY FOR:  delivery_type_id  VARIABLE CLASS:  69135\n",
      "PRODUCED A CHART OF predict_automatch MONTHLY STABILITY FOR:  delivery_type_id  VARIABLE CLASS:  74177\n",
      "PRODUCED A CHART OF predict_automatch MONTHLY STABILITY FOR:  delivery_type_id  VARIABLE CLASS:  73532\n",
      "PRODUCED A CHART OF predict_automatch MONTHLY STABILITY FOR:  delivery_type_id  VARIABLE CLASS:  48130\n",
      "PRODUCED A CHART OF predict_automatch MONTHLY STABILITY FOR:  delivery_type_id  VARIABLE CLASS:  67770\n",
      "PRODUCED A CHART OF predict_automatch MONTHLY STABILITY FOR:  delivery_type_id  VARIABLE CLASS:  8705\n",
      "PRODUCED A CHART OF predict_automatch MONTHLY STABILITY FOR:  delivery_type_id  VARIABLE CLASS:  77992\n",
      "PRODUCED A CHART OF predict_automatch MONTHLY STABILITY FOR:  delivery_type_id  VARIABLE CLASS:  63395\n",
      "PRODUCED A CHART OF predict_automatch MONTHLY STABILITY FOR:  delivery_type_id  VARIABLE CLASS:  45147\n",
      "PRODUCED A CHART OF predict_automatch MONTHLY STABILITY FOR:  delivery_type_id  VARIABLE CLASS:  30928\n",
      "PRODUCED A CHART OF predict_automatch MONTHLY STABILITY FOR:  delivery_type_id  VARIABLE CLASS:  37942\n",
      "PRODUCED A CHART OF predict_automatch MONTHLY STABILITY FOR:  delivery_type_id  VARIABLE CLASS:  71258\n",
      "PRODUCED A CHART OF predict_automatch MONTHLY STABILITY FOR:  delivery_type_id  VARIABLE CLASS:  68599\n",
      "PRODUCED A CHART OF predict_automatch MONTHLY STABILITY FOR:  delivery_type_id  VARIABLE CLASS:  54303\n",
      "PRODUCED A CHART OF predict_automatch MONTHLY STABILITY FOR:  delivery_type_id  VARIABLE CLASS:  17341\n",
      "PRODUCED A CHART OF predict_automatch MONTHLY STABILITY FOR:  delivery_type_id  VARIABLE CLASS:  39125\n",
      "PRODUCED A CHART OF predict_automatch MONTHLY STABILITY FOR:  delivery_type_id  VARIABLE CLASS:  71548\n",
      "PRODUCED A CHART OF predict_automatch MONTHLY STABILITY FOR:  delivery_type_id  VARIABLE CLASS:  53579\n",
      "PRODUCED A CHART OF predict_automatch MONTHLY STABILITY FOR:  delivery_type_id  VARIABLE CLASS:  70309\n",
      "PRODUCED A CHART OF predict_automatch MONTHLY STABILITY FOR:  delivery_type_id  VARIABLE CLASS:  18800\n",
      "PRODUCED A CHART OF predict_automatch MONTHLY STABILITY FOR:  delivery_type_id  VARIABLE CLASS:  67901\n",
      "PRODUCED A CHART OF predict_automatch MONTHLY STABILITY FOR:  delivery_type_id  VARIABLE CLASS:  64667\n",
      "PRODUCED A CHART OF predict_automatch MONTHLY STABILITY FOR:  delivery_type_id  VARIABLE CLASS:  74831\n",
      "PRODUCED A CHART OF predict_automatch MONTHLY STABILITY FOR:  delivery_type_id  VARIABLE CLASS:  30280\n",
      "PRODUCED A CHART OF predict_automatch MONTHLY STABILITY FOR:  delivery_type_id  VARIABLE CLASS:  51094\n",
      "PRODUCED A CHART OF predict_automatch MONTHLY STABILITY FOR:  delivery_type_id  VARIABLE CLASS:  67882\n",
      "PRODUCED A CHART OF predict_automatch MONTHLY STABILITY FOR:  delivery_type_id  VARIABLE CLASS:  11553\n",
      "PRODUCED A CHART OF predict_automatch MONTHLY STABILITY FOR:  delivery_type_id  VARIABLE CLASS:  67043\n",
      "PRODUCED A CHART OF predict_automatch MONTHLY STABILITY FOR:  delivery_type_id  VARIABLE CLASS:  30769\n",
      "PRODUCED A CHART OF predict_automatch MONTHLY STABILITY FOR:  delivery_type_id  VARIABLE CLASS:  73173\n",
      "PRODUCED A CHART OF predict_automatch MONTHLY STABILITY FOR:  delivery_type_id  VARIABLE CLASS:  59457\n",
      "PRODUCED A CHART OF predict_automatch MONTHLY STABILITY FOR:  delivery_type_id  VARIABLE CLASS:  24465\n",
      "PRODUCED A CHART OF predict_automatch MONTHLY STABILITY FOR:  delivery_type_id  VARIABLE CLASS:  78631\n",
      "PRODUCED A CHART OF predict_automatch MONTHLY STABILITY FOR:  delivery_type_id  VARIABLE CLASS:  78524\n",
      "PRODUCED A CHART OF predict_automatch MONTHLY STABILITY FOR:  delivery_type_id  VARIABLE CLASS:  19891\n",
      "PRODUCED A CHART OF predict_automatch MONTHLY STABILITY FOR:  delivery_type_id  VARIABLE CLASS:  31199\n",
      "PRODUCED A CHART OF predict_automatch MONTHLY STABILITY FOR:  delivery_type_id  VARIABLE CLASS:  77385\n",
      "PRODUCED A CHART OF predict_automatch MONTHLY STABILITY FOR:  delivery_type_id  VARIABLE CLASS:  63386\n",
      "PRODUCED A CHART OF predict_automatch MONTHLY STABILITY FOR:  delivery_type_id  VARIABLE CLASS:  17722\n",
      "PRODUCED A CHART OF predict_automatch MONTHLY STABILITY FOR:  delivery_type_id  VARIABLE CLASS:  34712\n",
      "PRODUCED A CHART OF predict_automatch MONTHLY STABILITY FOR:  delivery_type_id  VARIABLE CLASS:  75639\n",
      "PRODUCED A CHART OF predict_automatch MONTHLY STABILITY FOR:  delivery_type_id  VARIABLE CLASS:  78649\n",
      "PRODUCED A CHART OF predict_automatch MONTHLY STABILITY FOR:  delivery_type_id  VARIABLE CLASS:  69504\n",
      "PRODUCED A CHART OF predict_automatch MONTHLY STABILITY FOR:  delivery_type_id  VARIABLE CLASS:  12683\n",
      "PRODUCED A CHART OF predict_automatch MONTHLY STABILITY FOR:  delivery_type_id  VARIABLE CLASS:  65375\n",
      "PRODUCED A CHART OF predict_automatch MONTHLY STABILITY FOR:  delivery_type_id  VARIABLE CLASS:  19278\n",
      "PRODUCED A CHART OF predict_automatch MONTHLY STABILITY FOR:  delivery_type_id  VARIABLE CLASS:  65915\n",
      "PRODUCED A CHART OF predict_automatch MONTHLY STABILITY FOR:  delivery_type_id  VARIABLE CLASS:  78767\n",
      "PRODUCED A CHART OF predict_automatch MONTHLY STABILITY FOR:  delivery_type_id  VARIABLE CLASS:  29446\n",
      "PRODUCED A CHART OF predict_automatch MONTHLY STABILITY FOR:  delivery_type_id  VARIABLE CLASS:  64672\n",
      "PRODUCED A CHART OF predict_automatch MONTHLY STABILITY FOR:  delivery_type_id  VARIABLE CLASS:  32706\n",
      "PRODUCED A CHART OF predict_automatch MONTHLY STABILITY FOR:  delivery_type_id  VARIABLE CLASS:  64947\n",
      "PRODUCED A CHART OF predict_automatch MONTHLY STABILITY FOR:  delivery_type_id  VARIABLE CLASS:  37340\n",
      "PRODUCED A CHART OF predict_automatch MONTHLY STABILITY FOR:  delivery_type_id  VARIABLE CLASS:  2133\n",
      "PRODUCED A CHART OF predict_automatch MONTHLY STABILITY FOR:  delivery_type_id  VARIABLE CLASS:  56665\n",
      "PRODUCED A CHART OF predict_automatch MONTHLY STABILITY FOR:  delivery_type_id  VARIABLE CLASS:  12888\n",
      "PRODUCED A CHART OF predict_automatch MONTHLY STABILITY FOR:  delivery_type_id  VARIABLE CLASS:  71344\n",
      "PRODUCED A CHART OF predict_automatch MONTHLY STABILITY FOR:  delivery_type_id  VARIABLE CLASS:  62574\n",
      "PRODUCED A CHART OF predict_automatch MONTHLY STABILITY FOR:  delivery_type_id  VARIABLE CLASS:  60777\n",
      "PRODUCED A CHART OF predict_automatch MONTHLY STABILITY FOR:  delivery_type_id  VARIABLE CLASS:  75316\n",
      "PRODUCED A CHART OF predict_automatch MONTHLY STABILITY FOR:  delivery_type_id  VARIABLE CLASS:  46014\n",
      "PRODUCED A CHART OF predict_automatch MONTHLY STABILITY FOR:  delivery_type_id  VARIABLE CLASS:  72150\n",
      "PRODUCED A CHART OF predict_automatch MONTHLY STABILITY FOR:  delivery_type_id  VARIABLE CLASS:  68789\n",
      "PRODUCED A CHART OF predict_automatch MONTHLY STABILITY FOR:  delivery_type_id  VARIABLE CLASS:  32933\n",
      "PRODUCED A CHART OF predict_automatch MONTHLY STABILITY FOR:  delivery_type_id  VARIABLE CLASS:  33685\n",
      "PRODUCED A CHART OF predict_automatch MONTHLY STABILITY FOR:  delivery_type_id  VARIABLE CLASS:  76407\n",
      "PRODUCED A CHART OF predict_automatch MONTHLY STABILITY FOR:  delivery_type_id  VARIABLE CLASS:  60300\n",
      "PRODUCED A CHART OF predict_automatch MONTHLY STABILITY FOR:  delivery_type_id  VARIABLE CLASS:  71863\n",
      "PRODUCED A CHART OF predict_automatch MONTHLY STABILITY FOR:  delivery_type_id  VARIABLE CLASS:  65721\n",
      "PRODUCED A CHART OF predict_automatch MONTHLY STABILITY FOR:  delivery_type_id  VARIABLE CLASS:  30152\n",
      "PRODUCED A CHART OF predict_automatch MONTHLY STABILITY FOR:  delivery_type_id  VARIABLE CLASS:  76133\n",
      "PRODUCED A CHART OF predict_automatch MONTHLY STABILITY FOR:  delivery_type_id  VARIABLE CLASS:  73414\n",
      "PRODUCED A CHART OF predict_automatch MONTHLY STABILITY FOR:  delivery_type_id  VARIABLE CLASS:  7607\n",
      "PRODUCED A CHART OF predict_automatch MONTHLY STABILITY FOR:  delivery_type_id  VARIABLE CLASS:  50961\n",
      "PRODUCED A CHART OF predict_automatch MONTHLY STABILITY FOR:  delivery_type_id  VARIABLE CLASS:  60464\n",
      "PRODUCED A CHART OF predict_automatch MONTHLY STABILITY FOR:  delivery_type_id  VARIABLE CLASS:  30560\n"
     ]
    },
    {
     "name": "stdout",
     "output_type": "stream",
     "text": [
      "PRODUCED A CHART OF predict_automatch MONTHLY STABILITY FOR:  delivery_type_id  VARIABLE CLASS:  41133\n",
      "PRODUCED A CHART OF predict_automatch MONTHLY STABILITY FOR:  delivery_type_id  VARIABLE CLASS:  34038\n",
      "PRODUCED A CHART OF predict_automatch MONTHLY STABILITY FOR:  delivery_type_id  VARIABLE CLASS:  70350\n",
      "PRODUCED A CHART OF predict_automatch MONTHLY STABILITY FOR:  delivery_type_id  VARIABLE CLASS:  71021\n",
      "PRODUCED A CHART OF predict_automatch MONTHLY STABILITY FOR:  delivery_type_id  VARIABLE CLASS:  21942\n",
      "PRODUCED A CHART OF predict_automatch MONTHLY STABILITY FOR:  delivery_type_id  VARIABLE CLASS:  60425\n",
      "PRODUCED A CHART OF predict_automatch MONTHLY STABILITY FOR:  delivery_type_id  VARIABLE CLASS:  33353\n",
      "PRODUCED A CHART OF predict_automatch MONTHLY STABILITY FOR:  delivery_type_id  VARIABLE CLASS:  65560\n",
      "PRODUCED A CHART OF predict_automatch MONTHLY STABILITY FOR:  delivery_type_id  VARIABLE CLASS:  71271\n",
      "PRODUCED A CHART OF predict_automatch MONTHLY STABILITY FOR:  delivery_type_id  VARIABLE CLASS:  42716\n",
      "PRODUCED A CHART OF predict_automatch MONTHLY STABILITY FOR:  delivery_type_id  VARIABLE CLASS:  26453\n",
      "PRODUCED A CHART OF predict_automatch MONTHLY STABILITY FOR:  delivery_type_id  VARIABLE CLASS:  47758\n",
      "PRODUCED A CHART OF predict_automatch MONTHLY STABILITY FOR:  delivery_type_id  VARIABLE CLASS:  70794\n",
      "PRODUCED A CHART OF predict_automatch MONTHLY STABILITY FOR:  delivery_type_id  VARIABLE CLASS:  46658\n",
      "PRODUCED A CHART OF predict_automatch MONTHLY STABILITY FOR:  delivery_type_id  VARIABLE CLASS:  26084\n",
      "PRODUCED A CHART OF predict_automatch MONTHLY STABILITY FOR:  delivery_type_id  VARIABLE CLASS:  27221\n",
      "PRODUCED A CHART OF predict_automatch MONTHLY STABILITY FOR:  delivery_type_id  VARIABLE CLASS:  69136\n",
      "PRODUCED A CHART OF predict_automatch MONTHLY STABILITY FOR:  delivery_type_id  VARIABLE CLASS:  21446\n",
      "PRODUCED A CHART OF predict_automatch MONTHLY STABILITY FOR:  delivery_type_id  VARIABLE CLASS:  64941\n",
      "PRODUCED A CHART OF predict_automatch MONTHLY STABILITY FOR:  delivery_type_id  VARIABLE CLASS:  32347\n",
      "PRODUCED A CHART OF predict_automatch MONTHLY STABILITY FOR:  delivery_type_id  VARIABLE CLASS:  1648\n",
      "PRODUCED A CHART OF predict_automatch MONTHLY STABILITY FOR:  delivery_type_id  VARIABLE CLASS:  76941\n",
      "PRODUCED A CHART OF predict_automatch MONTHLY STABILITY FOR:  delivery_type_id  VARIABLE CLASS:  63224\n",
      "PRODUCED A CHART OF predict_automatch MONTHLY STABILITY FOR:  delivery_type_id  VARIABLE CLASS:  67815\n",
      "PRODUCED A CHART OF predict_automatch MONTHLY STABILITY FOR:  delivery_type_id  VARIABLE CLASS:  25670\n",
      "PRODUCED A CHART OF predict_automatch MONTHLY STABILITY FOR:  delivery_type_id  VARIABLE CLASS:  71406\n",
      "PRODUCED A CHART OF predict_automatch MONTHLY STABILITY FOR:  delivery_type_id  VARIABLE CLASS:  18693\n",
      "PRODUCED A CHART OF predict_automatch MONTHLY STABILITY FOR:  delivery_type_id  VARIABLE CLASS:  65907\n",
      "PRODUCED A CHART OF predict_automatch MONTHLY STABILITY FOR:  delivery_type_id  VARIABLE CLASS:  77119\n",
      "PRODUCED A CHART OF predict_automatch MONTHLY STABILITY FOR:  delivery_type_id  VARIABLE CLASS:  47562\n",
      "PRODUCED A CHART OF predict_automatch MONTHLY STABILITY FOR:  delivery_type_id  VARIABLE CLASS:  76747\n",
      "PRODUCED A CHART OF predict_automatch MONTHLY STABILITY FOR:  delivery_type_id  VARIABLE CLASS:  65535\n",
      "PRODUCED A CHART OF predict_automatch MONTHLY STABILITY FOR:  delivery_type_id  VARIABLE CLASS:  48946\n",
      "PRODUCED A CHART OF predict_automatch MONTHLY STABILITY FOR:  delivery_type_id  VARIABLE CLASS:  70140\n",
      "PRODUCED A CHART OF predict_automatch MONTHLY STABILITY FOR:  delivery_type_id  VARIABLE CLASS:  74071\n",
      "PRODUCED A CHART OF predict_automatch MONTHLY STABILITY FOR:  delivery_type_id  VARIABLE CLASS:  10741\n",
      "PRODUCED A CHART OF predict_automatch MONTHLY STABILITY FOR:  delivery_type_id  VARIABLE CLASS:  65002\n",
      "PRODUCED A CHART OF predict_automatch MONTHLY STABILITY FOR:  delivery_type_id  VARIABLE CLASS:  72836\n",
      "PRODUCED A CHART OF predict_automatch MONTHLY STABILITY FOR:  delivery_type_id  VARIABLE CLASS:  15657\n",
      "PRODUCED A CHART OF predict_automatch MONTHLY STABILITY FOR:  delivery_type_id  VARIABLE CLASS:  49956\n",
      "PRODUCED A CHART OF predict_automatch MONTHLY STABILITY FOR:  delivery_type_id  VARIABLE CLASS:  62036\n",
      "PRODUCED A CHART OF predict_automatch MONTHLY STABILITY FOR:  delivery_type_id  VARIABLE CLASS:  69345\n",
      "PRODUCED A CHART OF predict_automatch MONTHLY STABILITY FOR:  delivery_type_id  VARIABLE CLASS:  78704\n",
      "PRODUCED A CHART OF predict_automatch MONTHLY STABILITY FOR:  delivery_type_id  VARIABLE CLASS:  13844\n",
      "PRODUCED A CHART OF predict_automatch MONTHLY STABILITY FOR:  delivery_type_id  VARIABLE CLASS:  48110\n",
      "PRODUCED A CHART OF predict_automatch MONTHLY STABILITY FOR:  delivery_type_id  VARIABLE CLASS:  55450\n",
      "PRODUCED A CHART OF predict_automatch MONTHLY STABILITY FOR:  delivery_type_id  VARIABLE CLASS:  1218\n",
      "PRODUCED A CHART OF predict_automatch MONTHLY STABILITY FOR:  delivery_type_id  VARIABLE CLASS:  70805\n",
      "PRODUCED A CHART OF predict_automatch MONTHLY STABILITY FOR:  delivery_type_id  VARIABLE CLASS:  77261\n",
      "PRODUCED A CHART OF predict_automatch MONTHLY STABILITY FOR:  delivery_type_id  VARIABLE CLASS:  58524\n",
      "PRODUCED A CHART OF predict_automatch MONTHLY STABILITY FOR:  delivery_type_id  VARIABLE CLASS:  52571\n",
      "PRODUCED A CHART OF predict_automatch MONTHLY STABILITY FOR:  delivery_type_id  VARIABLE CLASS:  62570\n",
      "PRODUCED A CHART OF predict_automatch MONTHLY STABILITY FOR:  delivery_type_id  VARIABLE CLASS:  64372\n",
      "PRODUCED A CHART OF predict_automatch MONTHLY STABILITY FOR:  delivery_type_id  VARIABLE CLASS:  9949\n",
      "PRODUCED A CHART OF predict_automatch MONTHLY STABILITY FOR:  delivery_type_id  VARIABLE CLASS:  78220\n",
      "PRODUCED A CHART OF predict_automatch MONTHLY STABILITY FOR:  delivery_type_id  VARIABLE CLASS:  65866\n",
      "PRODUCED A CHART OF predict_automatch MONTHLY STABILITY FOR:  delivery_type_id  VARIABLE CLASS:  72597\n",
      "PRODUCED A CHART OF predict_automatch MONTHLY STABILITY FOR:  delivery_type_id  VARIABLE CLASS:  22860\n",
      "PRODUCED A CHART OF predict_automatch MONTHLY STABILITY FOR:  delivery_type_id  VARIABLE CLASS:  25137\n",
      "PRODUCED A CHART OF predict_automatch MONTHLY STABILITY FOR:  delivery_type_id  VARIABLE CLASS:  55449\n",
      "PRODUCED A CHART OF predict_automatch MONTHLY STABILITY FOR:  delivery_type_id  VARIABLE CLASS:  76156\n",
      "PRODUCED A CHART OF predict_automatch MONTHLY STABILITY FOR:  delivery_type_id  VARIABLE CLASS:  57823\n",
      "PRODUCED A CHART OF predict_automatch MONTHLY STABILITY FOR:  delivery_type_id  VARIABLE CLASS:  64719\n",
      "PRODUCED A CHART OF predict_automatch MONTHLY STABILITY FOR:  delivery_type_id  VARIABLE CLASS:  59568\n",
      "PRODUCED A CHART OF predict_automatch MONTHLY STABILITY FOR:  delivery_type_id  VARIABLE CLASS:  74052\n",
      "PRODUCED A CHART OF predict_automatch MONTHLY STABILITY FOR:  delivery_type_id  VARIABLE CLASS:  34008\n",
      "PRODUCED A CHART OF predict_automatch MONTHLY STABILITY FOR:  delivery_type_id  VARIABLE CLASS:  27192\n",
      "PRODUCED A CHART OF predict_automatch MONTHLY STABILITY FOR:  delivery_type_id  VARIABLE CLASS:  17344\n",
      "PRODUCED A CHART OF predict_automatch MONTHLY STABILITY FOR:  delivery_type_id  VARIABLE CLASS:  28203\n",
      "PRODUCED A CHART OF predict_automatch MONTHLY STABILITY FOR:  delivery_type_id  VARIABLE CLASS:  41948\n",
      "PRODUCED A CHART OF predict_automatch MONTHLY STABILITY FOR:  delivery_type_id  VARIABLE CLASS:  2564\n",
      "PRODUCED A CHART OF predict_automatch MONTHLY STABILITY FOR:  delivery_type_id  VARIABLE CLASS:  37156\n",
      "PRODUCED A CHART OF predict_automatch MONTHLY STABILITY FOR:  delivery_type_id  VARIABLE CLASS:  30055\n",
      "PRODUCED A CHART OF predict_automatch MONTHLY STABILITY FOR:  delivery_type_id  VARIABLE CLASS:  67317\n",
      "PRODUCED A CHART OF predict_automatch MONTHLY STABILITY FOR:  delivery_type_id  VARIABLE CLASS:  75029\n",
      "PRODUCED A CHART OF predict_automatch MONTHLY STABILITY FOR:  delivery_type_id  VARIABLE CLASS:  76644\n",
      "PRODUCED A CHART OF predict_automatch MONTHLY STABILITY FOR:  delivery_type_id  VARIABLE CLASS:  14189\n",
      "PRODUCED A CHART OF predict_automatch MONTHLY STABILITY FOR:  delivery_type_id  VARIABLE CLASS:  70846\n",
      "PRODUCED A CHART OF predict_automatch MONTHLY STABILITY FOR:  delivery_type_id  VARIABLE CLASS:  59463\n",
      "PRODUCED A CHART OF predict_automatch MONTHLY STABILITY FOR:  delivery_type_id  VARIABLE CLASS:  39319\n",
      "PRODUCED A CHART OF predict_automatch MONTHLY STABILITY FOR:  delivery_type_id  VARIABLE CLASS:  50671\n"
     ]
    },
    {
     "name": "stdout",
     "output_type": "stream",
     "text": [
      "PRODUCED A CHART OF predict_automatch MONTHLY STABILITY FOR:  delivery_type_id  VARIABLE CLASS:  57153\n",
      "PRODUCED A CHART OF predict_automatch MONTHLY STABILITY FOR:  delivery_type_id  VARIABLE CLASS:  64965\n",
      "PRODUCED A CHART OF predict_automatch MONTHLY STABILITY FOR:  delivery_type_id  VARIABLE CLASS:  55440\n",
      "PRODUCED A CHART OF predict_automatch MONTHLY STABILITY FOR:  delivery_type_id  VARIABLE CLASS:  40340\n",
      "PRODUCED A CHART OF predict_automatch MONTHLY STABILITY FOR:  delivery_type_id  VARIABLE CLASS:  71604\n",
      "PRODUCED A CHART OF predict_automatch MONTHLY STABILITY FOR:  delivery_type_id  VARIABLE CLASS:  77826\n",
      "PRODUCED A CHART OF predict_automatch MONTHLY STABILITY FOR:  delivery_type_id  VARIABLE CLASS:  19105\n",
      "PRODUCED A CHART OF predict_automatch MONTHLY STABILITY FOR:  delivery_type_id  VARIABLE CLASS:  36845\n",
      "PRODUCED A CHART OF predict_automatch MONTHLY STABILITY FOR:  delivery_type_id  VARIABLE CLASS:  62626\n",
      "PRODUCED A CHART OF predict_automatch MONTHLY STABILITY FOR:  delivery_type_id  VARIABLE CLASS:  17342\n",
      "PRODUCED A CHART OF predict_automatch MONTHLY STABILITY FOR:  delivery_type_id  VARIABLE CLASS:  59256\n",
      "PRODUCED A CHART OF predict_automatch MONTHLY STABILITY FOR:  delivery_type_id  VARIABLE CLASS:  46570\n",
      "PRODUCED A CHART OF predict_automatch MONTHLY STABILITY FOR:  delivery_type_id  VARIABLE CLASS:  76687\n",
      "PRODUCED A CHART OF predict_automatch MONTHLY STABILITY FOR:  delivery_type_id  VARIABLE CLASS:  71777\n",
      "PRODUCED A CHART OF predict_automatch MONTHLY STABILITY FOR:  delivery_type_id  VARIABLE CLASS:  28676\n",
      "PRODUCED A CHART OF predict_automatch MONTHLY STABILITY FOR:  delivery_type_id  VARIABLE CLASS:  58936\n",
      "PRODUCED A CHART OF predict_automatch MONTHLY STABILITY FOR:  delivery_type_id  VARIABLE CLASS:  22081\n",
      "PRODUCED A CHART OF predict_automatch MONTHLY STABILITY FOR:  delivery_type_id  VARIABLE CLASS:  26114\n",
      "PRODUCED A CHART OF predict_automatch MONTHLY STABILITY FOR:  delivery_type_id  VARIABLE CLASS:  73719\n",
      "PRODUCED A CHART OF predict_automatch MONTHLY STABILITY FOR:  delivery_type_id  VARIABLE CLASS:  53572\n",
      "PRODUCED A CHART OF predict_automatch MONTHLY STABILITY FOR:  delivery_type_id  VARIABLE CLASS:  3143\n",
      "PRODUCED A CHART OF predict_automatch MONTHLY STABILITY FOR:  delivery_type_id  VARIABLE CLASS:  48882\n",
      "PRODUCED A CHART OF predict_automatch MONTHLY STABILITY FOR:  delivery_type_id  VARIABLE CLASS:  500\n",
      "PRODUCED A CHART OF predict_automatch MONTHLY STABILITY FOR:  delivery_type_id  VARIABLE CLASS:  77212\n",
      "PRODUCED A CHART OF predict_automatch MONTHLY STABILITY FOR:  delivery_type_id  VARIABLE CLASS:  77507\n",
      "PRODUCED A CHART OF predict_automatch MONTHLY STABILITY FOR:  delivery_type_id  VARIABLE CLASS:  65003\n",
      "PRODUCED A CHART OF predict_automatch MONTHLY STABILITY FOR:  delivery_type_id  VARIABLE CLASS:  65529\n",
      "PRODUCED A CHART OF predict_automatch MONTHLY STABILITY FOR:  delivery_type_id  VARIABLE CLASS:  27228\n",
      "PRODUCED A CHART OF predict_automatch MONTHLY STABILITY FOR:  delivery_type_id  VARIABLE CLASS:  65882\n",
      "PRODUCED A CHART OF predict_automatch MONTHLY STABILITY FOR:  delivery_type_id  VARIABLE CLASS:  76068\n",
      "PRODUCED A CHART OF predict_automatch MONTHLY STABILITY FOR:  delivery_type_id  VARIABLE CLASS:  71366\n",
      "PRODUCED A CHART OF predict_automatch MONTHLY STABILITY FOR:  delivery_type_id  VARIABLE CLASS:  33101\n",
      "PRODUCED A CHART OF predict_automatch MONTHLY STABILITY FOR:  delivery_type_id  VARIABLE CLASS:  36985\n",
      "PRODUCED A CHART OF predict_automatch MONTHLY STABILITY FOR:  delivery_type_id  VARIABLE CLASS:  51823\n",
      "PRODUCED A CHART OF predict_automatch MONTHLY STABILITY FOR:  delivery_type_id  VARIABLE CLASS:  71331\n",
      "PRODUCED A CHART OF predict_automatch MONTHLY STABILITY FOR:  delivery_type_id  VARIABLE CLASS:  73393\n",
      "PRODUCED A CHART OF predict_automatch MONTHLY STABILITY FOR:  delivery_type_id  VARIABLE CLASS:  65273\n",
      "PRODUCED A CHART OF predict_automatch MONTHLY STABILITY FOR:  delivery_type_id  VARIABLE CLASS:  71591\n",
      "PRODUCED A CHART OF predict_automatch MONTHLY STABILITY FOR:  delivery_type_id  VARIABLE CLASS:  4935\n",
      "PRODUCED A CHART OF predict_automatch MONTHLY STABILITY FOR:  delivery_type_id  VARIABLE CLASS:  64207\n",
      "PRODUCED A CHART OF predict_automatch MONTHLY STABILITY FOR:  delivery_type_id  VARIABLE CLASS:  20506\n",
      "PRODUCED A CHART OF predict_automatch MONTHLY STABILITY FOR:  delivery_type_id  VARIABLE CLASS:  70945\n",
      "PRODUCED A CHART OF predict_automatch MONTHLY STABILITY FOR:  delivery_type_id  VARIABLE CLASS:  24284\n",
      "PRODUCED A CHART OF predict_automatch MONTHLY STABILITY FOR:  delivery_type_id  VARIABLE CLASS:  77314\n",
      "PRODUCED A CHART OF predict_automatch MONTHLY STABILITY FOR:  delivery_type_id  VARIABLE CLASS:  70415\n",
      "PRODUCED A CHART OF predict_automatch MONTHLY STABILITY FOR:  delivery_type_id  VARIABLE CLASS:  76376\n",
      "PRODUCED A CHART OF predict_automatch MONTHLY STABILITY FOR:  delivery_type_id  VARIABLE CLASS:  71500\n",
      "PRODUCED A CHART OF predict_automatch MONTHLY STABILITY FOR:  delivery_type_id  VARIABLE CLASS:  5248\n",
      "PRODUCED A CHART OF predict_automatch MONTHLY STABILITY FOR:  delivery_type_id  VARIABLE CLASS:  34197\n",
      "PRODUCED A CHART OF predict_automatch MONTHLY STABILITY FOR:  delivery_type_id  VARIABLE CLASS:  59257\n",
      "PRODUCED A CHART OF predict_automatch MONTHLY STABILITY FOR:  delivery_type_id  VARIABLE CLASS:  9617\n",
      "PRODUCED A CHART OF predict_automatch MONTHLY STABILITY FOR:  delivery_type_id  VARIABLE CLASS:  39104\n",
      "PRODUCED A CHART OF predict_automatch MONTHLY STABILITY FOR:  delivery_type_id  VARIABLE CLASS:  63639\n",
      "PRODUCED A CHART OF predict_automatch MONTHLY STABILITY FOR:  delivery_type_id  VARIABLE CLASS:  45105\n",
      "PRODUCED A CHART OF predict_automatch MONTHLY STABILITY FOR:  delivery_type_id  VARIABLE CLASS:  54359\n",
      "PRODUCED A CHART OF predict_automatch MONTHLY STABILITY FOR:  delivery_type_id  VARIABLE CLASS:  53573\n",
      "PRODUCED A CHART OF predict_automatch MONTHLY STABILITY FOR:  delivery_type_id  VARIABLE CLASS:  56344\n",
      "freq_id\n",
      "PRODUCED A CHART OF predict_automatch MONTHLY STABILITY FOR:  freq_id  VARIABLE CLASS:  1\n",
      "PRODUCED A CHART OF predict_automatch MONTHLY STABILITY FOR:  freq_id  VARIABLE CLASS:  2\n",
      "retailer_id\n",
      "PRODUCED A CHART OF predict_automatch MONTHLY STABILITY FOR:  retailer_id  VARIABLE CLASS:  49\n",
      "PRODUCED A CHART OF predict_automatch MONTHLY STABILITY FOR:  retailer_id  VARIABLE CLASS:  33\n",
      "PRODUCED A CHART OF predict_automatch MONTHLY STABILITY FOR:  retailer_id  VARIABLE CLASS:  95\n",
      "PRODUCED A CHART OF predict_automatch MONTHLY STABILITY FOR:  retailer_id  VARIABLE CLASS:  117\n",
      "PRODUCED A CHART OF predict_automatch MONTHLY STABILITY FOR:  retailer_id  VARIABLE CLASS:  31\n",
      "PRODUCED A CHART OF predict_automatch MONTHLY STABILITY FOR:  retailer_id  VARIABLE CLASS:  123\n",
      "PRODUCED A CHART OF predict_automatch MONTHLY STABILITY FOR:  retailer_id  VARIABLE CLASS:  11\n",
      "PRODUCED A CHART OF predict_automatch MONTHLY STABILITY FOR:  retailer_id  VARIABLE CLASS:  173\n",
      "PRODUCED A CHART OF predict_automatch MONTHLY STABILITY FOR:  retailer_id  VARIABLE CLASS:  177\n",
      "PRODUCED A CHART OF predict_automatch MONTHLY STABILITY FOR:  retailer_id  VARIABLE CLASS:  30\n",
      "PRODUCED A CHART OF predict_automatch MONTHLY STABILITY FOR:  retailer_id  VARIABLE CLASS:  211\n",
      "PRODUCED A CHART OF predict_automatch MONTHLY STABILITY FOR:  retailer_id  VARIABLE CLASS:  90\n",
      "PRODUCED A CHART OF predict_automatch MONTHLY STABILITY FOR:  retailer_id  VARIABLE CLASS:  136\n",
      "PRODUCED A CHART OF predict_automatch MONTHLY STABILITY FOR:  retailer_id  VARIABLE CLASS:  172\n",
      "PRODUCED A CHART OF predict_automatch MONTHLY STABILITY FOR:  retailer_id  VARIABLE CLASS:  145\n",
      "PRODUCED A CHART OF predict_automatch MONTHLY STABILITY FOR:  retailer_id  VARIABLE CLASS:  133\n",
      "PRODUCED A CHART OF predict_automatch MONTHLY STABILITY FOR:  retailer_id  VARIABLE CLASS:  25\n",
      "PRODUCED A CHART OF predict_automatch MONTHLY STABILITY FOR:  retailer_id  VARIABLE CLASS:  45\n",
      "PRODUCED A CHART OF predict_automatch MONTHLY STABILITY FOR:  retailer_id  VARIABLE CLASS:  35\n",
      "PRODUCED A CHART OF predict_automatch MONTHLY STABILITY FOR:  retailer_id  VARIABLE CLASS:  32\n",
      "PRODUCED A CHART OF predict_automatch MONTHLY STABILITY FOR:  retailer_id  VARIABLE CLASS:  124\n",
      "PRODUCED A CHART OF predict_automatch MONTHLY STABILITY FOR:  retailer_id  VARIABLE CLASS:  27\n",
      "PRODUCED A CHART OF predict_automatch MONTHLY STABILITY FOR:  retailer_id  VARIABLE CLASS:  28\n",
      "PRODUCED A CHART OF predict_automatch MONTHLY STABILITY FOR:  retailer_id  VARIABLE CLASS:  210\n",
      "PRODUCED A CHART OF predict_automatch MONTHLY STABILITY FOR:  retailer_id  VARIABLE CLASS:  94\n"
     ]
    },
    {
     "name": "stdout",
     "output_type": "stream",
     "text": [
      "PRODUCED A CHART OF predict_automatch MONTHLY STABILITY FOR:  retailer_id  VARIABLE CLASS:  91\n",
      "PRODUCED A CHART OF predict_automatch MONTHLY STABILITY FOR:  retailer_id  VARIABLE CLASS:  116\n",
      "PRODUCED A CHART OF predict_automatch MONTHLY STABILITY FOR:  retailer_id  VARIABLE CLASS:  119\n",
      "PRODUCED A CHART OF predict_automatch MONTHLY STABILITY FOR:  retailer_id  VARIABLE CLASS:  120\n",
      "PRODUCED A CHART OF predict_automatch MONTHLY STABILITY FOR:  retailer_id  VARIABLE CLASS:  127\n",
      "PRODUCED A CHART OF predict_automatch MONTHLY STABILITY FOR:  retailer_id  VARIABLE CLASS:  175\n",
      "PRODUCED A CHART OF predict_automatch MONTHLY STABILITY FOR:  retailer_id  VARIABLE CLASS:  22\n",
      "PRODUCED A CHART OF predict_automatch MONTHLY STABILITY FOR:  retailer_id  VARIABLE CLASS:  29\n",
      "PRODUCED A CHART OF predict_automatch MONTHLY STABILITY FOR:  retailer_id  VARIABLE CLASS:  118\n",
      "PRODUCED A CHART OF predict_automatch MONTHLY STABILITY FOR:  retailer_id  VARIABLE CLASS:  134\n",
      "PRODUCED A CHART OF predict_automatch MONTHLY STABILITY FOR:  retailer_id  VARIABLE CLASS:  174\n",
      "PRODUCED A CHART OF predict_automatch MONTHLY STABILITY FOR:  retailer_id  VARIABLE CLASS:  92\n",
      "PRODUCED A CHART OF predict_automatch MONTHLY STABILITY FOR:  retailer_id  VARIABLE CLASS:  130\n",
      "PRODUCED A CHART OF predict_automatch MONTHLY STABILITY FOR:  retailer_id  VARIABLE CLASS:  139\n",
      "PRODUCED A CHART OF predict_automatch MONTHLY STABILITY FOR:  retailer_id  VARIABLE CLASS:  176\n",
      "PRODUCED A CHART OF predict_automatch MONTHLY STABILITY FOR:  retailer_id  VARIABLE CLASS:  93\n",
      "PRODUCED A CHART OF predict_automatch MONTHLY STABILITY FOR:  retailer_id  VARIABLE CLASS:  55\n",
      "PRODUCED A CHART OF predict_automatch MONTHLY STABILITY FOR:  retailer_id  VARIABLE CLASS:  178\n",
      "PRODUCED A CHART OF predict_automatch MONTHLY STABILITY FOR:  retailer_id  VARIABLE CLASS:  34\n",
      "PRODUCED A CHART OF predict_automatch MONTHLY STABILITY FOR:  retailer_id  VARIABLE CLASS:  26\n",
      "PRODUCED A CHART OF predict_automatch MONTHLY STABILITY FOR:  retailer_id  VARIABLE CLASS:  10\n",
      "PRODUCED A CHART OF predict_automatch MONTHLY STABILITY FOR:  retailer_id  VARIABLE CLASS:  141\n",
      "PRODUCED A CHART OF predict_automatch MONTHLY STABILITY FOR:  retailer_id  VARIABLE CLASS:  9\n",
      "PRODUCED A CHART OF predict_automatch MONTHLY STABILITY FOR:  retailer_id  VARIABLE CLASS:  69\n",
      "PRODUCED A CHART OF predict_automatch MONTHLY STABILITY FOR:  retailer_id  VARIABLE CLASS:  96\n",
      "PRODUCED A CHART OF predict_automatch MONTHLY STABILITY FOR:  retailer_id  VARIABLE CLASS:  115\n",
      "PRODUCED A CHART OF predict_automatch MONTHLY STABILITY FOR:  retailer_id  VARIABLE CLASS:  88\n",
      "brand_id\n",
      "PRODUCED A CHART OF predict_automatch MONTHLY STABILITY FOR:  brand_id  VARIABLE CLASS:  346\n",
      "PRODUCED A CHART OF predict_automatch MONTHLY STABILITY FOR:  brand_id  VARIABLE CLASS:  165\n",
      "PRODUCED A CHART OF predict_automatch MONTHLY STABILITY FOR:  brand_id  VARIABLE CLASS:  216\n",
      "PRODUCED A CHART OF predict_automatch MONTHLY STABILITY FOR:  brand_id  VARIABLE CLASS:  192\n",
      "PRODUCED A CHART OF predict_automatch MONTHLY STABILITY FOR:  brand_id  VARIABLE CLASS:  272\n",
      "PRODUCED A CHART OF predict_automatch MONTHLY STABILITY FOR:  brand_id  VARIABLE CLASS:  19\n",
      "PRODUCED A CHART OF predict_automatch MONTHLY STABILITY FOR:  brand_id  VARIABLE CLASS:  194\n",
      "PRODUCED A CHART OF predict_automatch MONTHLY STABILITY FOR:  brand_id  VARIABLE CLASS:  31\n",
      "PRODUCED A CHART OF predict_automatch MONTHLY STABILITY FOR:  brand_id  VARIABLE CLASS:  263\n",
      "PRODUCED A CHART OF predict_automatch MONTHLY STABILITY FOR:  brand_id  VARIABLE CLASS:  369\n",
      "PRODUCED A CHART OF predict_automatch MONTHLY STABILITY FOR:  brand_id  VARIABLE CLASS:  372\n",
      "PRODUCED A CHART OF predict_automatch MONTHLY STABILITY FOR:  brand_id  VARIABLE CLASS:  311\n",
      "PRODUCED A CHART OF predict_automatch MONTHLY STABILITY FOR:  brand_id  VARIABLE CLASS:  378\n",
      "PRODUCED A CHART OF predict_automatch MONTHLY STABILITY FOR:  brand_id  VARIABLE CLASS:  164\n",
      "PRODUCED A CHART OF predict_automatch MONTHLY STABILITY FOR:  brand_id  VARIABLE CLASS:  189\n",
      "PRODUCED A CHART OF predict_automatch MONTHLY STABILITY FOR:  brand_id  VARIABLE CLASS:  197\n",
      "PRODUCED A CHART OF predict_automatch MONTHLY STABILITY FOR:  brand_id  VARIABLE CLASS:  99\n",
      "PRODUCED A CHART OF predict_automatch MONTHLY STABILITY FOR:  brand_id  VARIABLE CLASS:  76\n",
      "PRODUCED A CHART OF predict_automatch MONTHLY STABILITY FOR:  brand_id  VARIABLE CLASS:  220\n",
      "PRODUCED A CHART OF predict_automatch MONTHLY STABILITY FOR:  brand_id  VARIABLE CLASS:  225\n",
      "PRODUCED A CHART OF predict_automatch MONTHLY STABILITY FOR:  brand_id  VARIABLE CLASS:  397\n",
      "PRODUCED A CHART OF predict_automatch MONTHLY STABILITY FOR:  brand_id  VARIABLE CLASS:  214\n",
      "PRODUCED A CHART OF predict_automatch MONTHLY STABILITY FOR:  brand_id  VARIABLE CLASS:  345\n",
      "PRODUCED A CHART OF predict_automatch MONTHLY STABILITY FOR:  brand_id  VARIABLE CLASS:  409\n",
      "PRODUCED A CHART OF predict_automatch MONTHLY STABILITY FOR:  brand_id  VARIABLE CLASS:  74\n",
      "PRODUCED A CHART OF predict_automatch MONTHLY STABILITY FOR:  brand_id  VARIABLE CLASS:  169\n",
      "PRODUCED A CHART OF predict_automatch MONTHLY STABILITY FOR:  brand_id  VARIABLE CLASS:  259\n",
      "PRODUCED A CHART OF predict_automatch MONTHLY STABILITY FOR:  brand_id  VARIABLE CLASS:  285\n",
      "PRODUCED A CHART OF predict_automatch MONTHLY STABILITY FOR:  brand_id  VARIABLE CLASS:  71\n",
      "PRODUCED A CHART OF predict_automatch MONTHLY STABILITY FOR:  brand_id  VARIABLE CLASS:  135\n",
      "PRODUCED A CHART OF predict_automatch MONTHLY STABILITY FOR:  brand_id  VARIABLE CLASS:  321\n",
      "PRODUCED A CHART OF predict_automatch MONTHLY STABILITY FOR:  brand_id  VARIABLE CLASS:  280\n",
      "PRODUCED A CHART OF predict_automatch MONTHLY STABILITY FOR:  brand_id  VARIABLE CLASS:  130\n",
      "PRODUCED A CHART OF predict_automatch MONTHLY STABILITY FOR:  brand_id  VARIABLE CLASS:  347\n",
      "PRODUCED A CHART OF predict_automatch MONTHLY STABILITY FOR:  brand_id  VARIABLE CLASS:  153\n",
      "PRODUCED A CHART OF predict_automatch MONTHLY STABILITY FOR:  brand_id  VARIABLE CLASS:  371\n",
      "PRODUCED A CHART OF predict_automatch MONTHLY STABILITY FOR:  brand_id  VARIABLE CLASS:  157\n",
      "PRODUCED A CHART OF predict_automatch MONTHLY STABILITY FOR:  brand_id  VARIABLE CLASS:  242\n",
      "PRODUCED A CHART OF predict_automatch MONTHLY STABILITY FOR:  brand_id  VARIABLE CLASS:  246\n",
      "PRODUCED A CHART OF predict_automatch MONTHLY STABILITY FOR:  brand_id  VARIABLE CLASS:  324\n",
      "PRODUCED A CHART OF predict_automatch MONTHLY STABILITY FOR:  brand_id  VARIABLE CLASS:  184\n",
      "PRODUCED A CHART OF predict_automatch MONTHLY STABILITY FOR:  brand_id  VARIABLE CLASS:  277\n",
      "PRODUCED A CHART OF predict_automatch MONTHLY STABILITY FOR:  brand_id  VARIABLE CLASS:  36\n",
      "PRODUCED A CHART OF predict_automatch MONTHLY STABILITY FOR:  brand_id  VARIABLE CLASS:  217\n",
      "PRODUCED A CHART OF predict_automatch MONTHLY STABILITY FOR:  brand_id  VARIABLE CLASS:  33\n",
      "PRODUCED A CHART OF predict_automatch MONTHLY STABILITY FOR:  brand_id  VARIABLE CLASS:  95\n",
      "PRODUCED A CHART OF predict_automatch MONTHLY STABILITY FOR:  brand_id  VARIABLE CLASS:  129\n",
      "PRODUCED A CHART OF predict_automatch MONTHLY STABILITY FOR:  brand_id  VARIABLE CLASS:  205\n",
      "PRODUCED A CHART OF predict_automatch MONTHLY STABILITY FOR:  brand_id  VARIABLE CLASS:  293\n",
      "PRODUCED A CHART OF predict_automatch MONTHLY STABILITY FOR:  brand_id  VARIABLE CLASS:  85\n",
      "PRODUCED A CHART OF predict_automatch MONTHLY STABILITY FOR:  brand_id  VARIABLE CLASS:  123\n",
      "PRODUCED A CHART OF predict_automatch MONTHLY STABILITY FOR:  brand_id  VARIABLE CLASS:  180\n",
      "PRODUCED A CHART OF predict_automatch MONTHLY STABILITY FOR:  brand_id  VARIABLE CLASS:  218\n",
      "PRODUCED A CHART OF predict_automatch MONTHLY STABILITY FOR:  brand_id  VARIABLE CLASS:  190\n",
      "PRODUCED A CHART OF predict_automatch MONTHLY STABILITY FOR:  brand_id  VARIABLE CLASS:  373\n",
      "PRODUCED A CHART OF predict_automatch MONTHLY STABILITY FOR:  brand_id  VARIABLE CLASS:  84\n",
      "PRODUCED A CHART OF predict_automatch MONTHLY STABILITY FOR:  brand_id  VARIABLE CLASS:  386\n",
      "PRODUCED A CHART OF predict_automatch MONTHLY STABILITY FOR:  brand_id  VARIABLE CLASS:  233\n",
      "PRODUCED A CHART OF predict_automatch MONTHLY STABILITY FOR:  brand_id  VARIABLE CLASS:  255\n",
      "PRODUCED A CHART OF predict_automatch MONTHLY STABILITY FOR:  brand_id  VARIABLE CLASS:  177\n",
      "PRODUCED A CHART OF predict_automatch MONTHLY STABILITY FOR:  brand_id  VARIABLE CLASS:  173\n"
     ]
    },
    {
     "name": "stdout",
     "output_type": "stream",
     "text": [
      "PRODUCED A CHART OF predict_automatch MONTHLY STABILITY FOR:  brand_id  VARIABLE CLASS:  204\n",
      "PRODUCED A CHART OF predict_automatch MONTHLY STABILITY FOR:  brand_id  VARIABLE CLASS:  286\n",
      "PRODUCED A CHART OF predict_automatch MONTHLY STABILITY FOR:  brand_id  VARIABLE CLASS:  213\n",
      "PRODUCED A CHART OF predict_automatch MONTHLY STABILITY FOR:  brand_id  VARIABLE CLASS:  200\n",
      "PRODUCED A CHART OF predict_automatch MONTHLY STABILITY FOR:  brand_id  VARIABLE CLASS:  243\n",
      "PRODUCED A CHART OF predict_automatch MONTHLY STABILITY FOR:  brand_id  VARIABLE CLASS:  35\n",
      "PRODUCED A CHART OF predict_automatch MONTHLY STABILITY FOR:  brand_id  VARIABLE CLASS:  247\n",
      "PRODUCED A CHART OF predict_automatch MONTHLY STABILITY FOR:  brand_id  VARIABLE CLASS:  248\n",
      "PRODUCED A CHART OF predict_automatch MONTHLY STABILITY FOR:  brand_id  VARIABLE CLASS:  127\n",
      "PRODUCED A CHART OF predict_automatch MONTHLY STABILITY FOR:  brand_id  VARIABLE CLASS:  58\n",
      "PRODUCED A CHART OF predict_automatch MONTHLY STABILITY FOR:  brand_id  VARIABLE CLASS:  198\n",
      "PRODUCED A CHART OF predict_automatch MONTHLY STABILITY FOR:  brand_id  VARIABLE CLASS:  175\n",
      "PRODUCED A CHART OF predict_automatch MONTHLY STABILITY FOR:  brand_id  VARIABLE CLASS:  29\n",
      "PRODUCED A CHART OF predict_automatch MONTHLY STABILITY FOR:  brand_id  VARIABLE CLASS:  279\n",
      "PRODUCED A CHART OF predict_automatch MONTHLY STABILITY FOR:  brand_id  VARIABLE CLASS:  203\n",
      "PRODUCED A CHART OF predict_automatch MONTHLY STABILITY FOR:  brand_id  VARIABLE CLASS:  128\n",
      "PRODUCED A CHART OF predict_automatch MONTHLY STABILITY FOR:  brand_id  VARIABLE CLASS:  267\n",
      "PRODUCED A CHART OF predict_automatch MONTHLY STABILITY FOR:  brand_id  VARIABLE CLASS:  380\n",
      "PRODUCED A CHART OF predict_automatch MONTHLY STABILITY FOR:  brand_id  VARIABLE CLASS:  75\n",
      "PRODUCED A CHART OF predict_automatch MONTHLY STABILITY FOR:  brand_id  VARIABLE CLASS:  327\n",
      "PRODUCED A CHART OF predict_automatch MONTHLY STABILITY FOR:  brand_id  VARIABLE CLASS:  222\n",
      "PRODUCED A CHART OF predict_automatch MONTHLY STABILITY FOR:  brand_id  VARIABLE CLASS:  245\n",
      "PRODUCED A CHART OF predict_automatch MONTHLY STABILITY FOR:  brand_id  VARIABLE CLASS:  266\n",
      "PRODUCED A CHART OF predict_automatch MONTHLY STABILITY FOR:  brand_id  VARIABLE CLASS:  302\n",
      "PRODUCED A CHART OF predict_automatch MONTHLY STABILITY FOR:  brand_id  VARIABLE CLASS:  170\n",
      "PRODUCED A CHART OF predict_automatch MONTHLY STABILITY FOR:  brand_id  VARIABLE CLASS:  221\n",
      "PRODUCED A CHART OF predict_automatch MONTHLY STABILITY FOR:  brand_id  VARIABLE CLASS:  196\n",
      "PRODUCED A CHART OF predict_automatch MONTHLY STABILITY FOR:  brand_id  VARIABLE CLASS:  292\n",
      "PRODUCED A CHART OF predict_automatch MONTHLY STABILITY FOR:  brand_id  VARIABLE CLASS:  433\n",
      "PRODUCED A CHART OF predict_automatch MONTHLY STABILITY FOR:  brand_id  VARIABLE CLASS:  83\n",
      "PRODUCED A CHART OF predict_automatch MONTHLY STABILITY FOR:  brand_id  VARIABLE CLASS:  264\n",
      "PRODUCED A CHART OF predict_automatch MONTHLY STABILITY FOR:  brand_id  VARIABLE CLASS:  240\n",
      "PRODUCED A CHART OF predict_automatch MONTHLY STABILITY FOR:  brand_id  VARIABLE CLASS:  238\n",
      "PRODUCED A CHART OF predict_automatch MONTHLY STABILITY FOR:  brand_id  VARIABLE CLASS:  335\n",
      "PRODUCED A CHART OF predict_automatch MONTHLY STABILITY FOR:  brand_id  VARIABLE CLASS:  150\n",
      "PRODUCED A CHART OF predict_automatch MONTHLY STABILITY FOR:  brand_id  VARIABLE CLASS:  325\n",
      "PRODUCED A CHART OF predict_automatch MONTHLY STABILITY FOR:  brand_id  VARIABLE CLASS:  404\n",
      "PRODUCED A CHART OF predict_automatch MONTHLY STABILITY FOR:  brand_id  VARIABLE CLASS:  334\n",
      "PRODUCED A CHART OF predict_automatch MONTHLY STABILITY FOR:  brand_id  VARIABLE CLASS:  393\n",
      "PRODUCED A CHART OF predict_automatch MONTHLY STABILITY FOR:  brand_id  VARIABLE CLASS:  322\n",
      "PRODUCED A CHART OF predict_automatch MONTHLY STABILITY FOR:  brand_id  VARIABLE CLASS:  231\n",
      "PRODUCED A CHART OF predict_automatch MONTHLY STABILITY FOR:  brand_id  VARIABLE CLASS:  111\n",
      "PRODUCED A CHART OF predict_automatch MONTHLY STABILITY FOR:  brand_id  VARIABLE CLASS:  271\n",
      "PRODUCED A CHART OF predict_automatch MONTHLY STABILITY FOR:  brand_id  VARIABLE CLASS:  274\n",
      "PRODUCED A CHART OF predict_automatch MONTHLY STABILITY FOR:  brand_id  VARIABLE CLASS:  171\n",
      "PRODUCED A CHART OF predict_automatch MONTHLY STABILITY FOR:  brand_id  VARIABLE CLASS:  172\n",
      "PRODUCED A CHART OF predict_automatch MONTHLY STABILITY FOR:  brand_id  VARIABLE CLASS:  270\n",
      "PRODUCED A CHART OF predict_automatch MONTHLY STABILITY FOR:  brand_id  VARIABLE CLASS:  283\n",
      "PRODUCED A CHART OF predict_automatch MONTHLY STABILITY FOR:  brand_id  VARIABLE CLASS:  147\n",
      "PRODUCED A CHART OF predict_automatch MONTHLY STABILITY FOR:  brand_id  VARIABLE CLASS:  114\n",
      "PRODUCED A CHART OF predict_automatch MONTHLY STABILITY FOR:  brand_id  VARIABLE CLASS:  77\n",
      "PRODUCED A CHART OF predict_automatch MONTHLY STABILITY FOR:  brand_id  VARIABLE CLASS:  32\n",
      "PRODUCED A CHART OF predict_automatch MONTHLY STABILITY FOR:  brand_id  VARIABLE CLASS:  199\n",
      "PRODUCED A CHART OF predict_automatch MONTHLY STABILITY FOR:  brand_id  VARIABLE CLASS:  338\n",
      "PRODUCED A CHART OF predict_automatch MONTHLY STABILITY FOR:  brand_id  VARIABLE CLASS:  262\n",
      "PRODUCED A CHART OF predict_automatch MONTHLY STABILITY FOR:  brand_id  VARIABLE CLASS:  186\n",
      "PRODUCED A CHART OF predict_automatch MONTHLY STABILITY FOR:  brand_id  VARIABLE CLASS:  289\n",
      "PRODUCED A CHART OF predict_automatch MONTHLY STABILITY FOR:  brand_id  VARIABLE CLASS:  228\n",
      "PRODUCED A CHART OF predict_automatch MONTHLY STABILITY FOR:  brand_id  VARIABLE CLASS:  187\n",
      "PRODUCED A CHART OF predict_automatch MONTHLY STABILITY FOR:  brand_id  VARIABLE CLASS:  195\n",
      "PRODUCED A CHART OF predict_automatch MONTHLY STABILITY FOR:  brand_id  VARIABLE CLASS:  116\n",
      "PRODUCED A CHART OF predict_automatch MONTHLY STABILITY FOR:  brand_id  VARIABLE CLASS:  387\n",
      "PRODUCED A CHART OF predict_automatch MONTHLY STABILITY FOR:  brand_id  VARIABLE CLASS:  284\n",
      "PRODUCED A CHART OF predict_automatch MONTHLY STABILITY FOR:  brand_id  VARIABLE CLASS:  209\n",
      "PRODUCED A CHART OF predict_automatch MONTHLY STABILITY FOR:  brand_id  VARIABLE CLASS:  65\n",
      "PRODUCED A CHART OF predict_automatch MONTHLY STABILITY FOR:  brand_id  VARIABLE CLASS:  235\n",
      "PRODUCED A CHART OF predict_automatch MONTHLY STABILITY FOR:  brand_id  VARIABLE CLASS:  37\n",
      "PRODUCED A CHART OF predict_automatch MONTHLY STABILITY FOR:  brand_id  VARIABLE CLASS:  344\n",
      "PRODUCED A CHART OF predict_automatch MONTHLY STABILITY FOR:  brand_id  VARIABLE CLASS:  108\n",
      "PRODUCED A CHART OF predict_automatch MONTHLY STABILITY FOR:  brand_id  VARIABLE CLASS:  411\n",
      "PRODUCED A CHART OF predict_automatch MONTHLY STABILITY FOR:  brand_id  VARIABLE CLASS:  275\n",
      "PRODUCED A CHART OF predict_automatch MONTHLY STABILITY FOR:  brand_id  VARIABLE CLASS:  237\n",
      "PRODUCED A CHART OF predict_automatch MONTHLY STABILITY FOR:  brand_id  VARIABLE CLASS:  176\n",
      "PRODUCED A CHART OF predict_automatch MONTHLY STABILITY FOR:  brand_id  VARIABLE CLASS:  392\n",
      "PRODUCED A CHART OF predict_automatch MONTHLY STABILITY FOR:  brand_id  VARIABLE CLASS:  290\n",
      "PRODUCED A CHART OF predict_automatch MONTHLY STABILITY FOR:  brand_id  VARIABLE CLASS:  332\n",
      "PRODUCED A CHART OF predict_automatch MONTHLY STABILITY FOR:  brand_id  VARIABLE CLASS:  212\n",
      "PRODUCED A CHART OF predict_automatch MONTHLY STABILITY FOR:  brand_id  VARIABLE CLASS:  234\n",
      "PRODUCED A CHART OF predict_automatch MONTHLY STABILITY FOR:  brand_id  VARIABLE CLASS:  160\n",
      "PRODUCED A CHART OF predict_automatch MONTHLY STABILITY FOR:  brand_id  VARIABLE CLASS:  193\n",
      "PRODUCED A CHART OF predict_automatch MONTHLY STABILITY FOR:  brand_id  VARIABLE CLASS:  257\n",
      "PRODUCED A CHART OF predict_automatch MONTHLY STABILITY FOR:  brand_id  VARIABLE CLASS:  55\n",
      "PRODUCED A CHART OF predict_automatch MONTHLY STABILITY FOR:  brand_id  VARIABLE CLASS:  60\n",
      "PRODUCED A CHART OF predict_automatch MONTHLY STABILITY FOR:  brand_id  VARIABLE CLASS:  201\n",
      "PRODUCED A CHART OF predict_automatch MONTHLY STABILITY FOR:  brand_id  VARIABLE CLASS:  178\n",
      "PRODUCED A CHART OF predict_automatch MONTHLY STABILITY FOR:  brand_id  VARIABLE CLASS:  34\n",
      "PRODUCED A CHART OF predict_automatch MONTHLY STABILITY FOR:  brand_id  VARIABLE CLASS:  341\n",
      "PRODUCED A CHART OF predict_automatch MONTHLY STABILITY FOR:  brand_id  VARIABLE CLASS:  329\n",
      "PRODUCED A CHART OF predict_automatch MONTHLY STABILITY FOR:  brand_id  VARIABLE CLASS:  260\n",
      "PRODUCED A CHART OF predict_automatch MONTHLY STABILITY FOR:  brand_id  VARIABLE CLASS:  430\n",
      "PRODUCED A CHART OF predict_automatch MONTHLY STABILITY FOR:  brand_id  VARIABLE CLASS:  291\n"
     ]
    },
    {
     "name": "stdout",
     "output_type": "stream",
     "text": [
      "PRODUCED A CHART OF predict_automatch MONTHLY STABILITY FOR:  brand_id  VARIABLE CLASS:  208\n",
      "PRODUCED A CHART OF predict_automatch MONTHLY STABILITY FOR:  brand_id  VARIABLE CLASS:  132\n",
      "PRODUCED A CHART OF predict_automatch MONTHLY STABILITY FOR:  brand_id  VARIABLE CLASS:  167\n",
      "PRODUCED A CHART OF predict_automatch MONTHLY STABILITY FOR:  brand_id  VARIABLE CLASS:  253\n",
      "PRODUCED A CHART OF predict_automatch MONTHLY STABILITY FOR:  brand_id  VARIABLE CLASS:  427\n",
      "PRODUCED A CHART OF predict_automatch MONTHLY STABILITY FOR:  brand_id  VARIABLE CLASS:  49\n",
      "PRODUCED A CHART OF predict_automatch MONTHLY STABILITY FOR:  brand_id  VARIABLE CLASS:  20\n",
      "PRODUCED A CHART OF predict_automatch MONTHLY STABILITY FOR:  brand_id  VARIABLE CLASS:  241\n",
      "PRODUCED A CHART OF predict_automatch MONTHLY STABILITY FOR:  brand_id  VARIABLE CLASS:  382\n",
      "PRODUCED A CHART OF predict_automatch MONTHLY STABILITY FOR:  brand_id  VARIABLE CLASS:  379\n",
      "PRODUCED A CHART OF predict_automatch MONTHLY STABILITY FOR:  brand_id  VARIABLE CLASS:  381\n",
      "PRODUCED A CHART OF predict_automatch MONTHLY STABILITY FOR:  brand_id  VARIABLE CLASS:  362\n",
      "PRODUCED A CHART OF predict_automatch MONTHLY STABILITY FOR:  brand_id  VARIABLE CLASS:  166\n",
      "PRODUCED A CHART OF predict_automatch MONTHLY STABILITY FOR:  brand_id  VARIABLE CLASS:  185\n",
      "PRODUCED A CHART OF predict_automatch MONTHLY STABILITY FOR:  brand_id  VARIABLE CLASS:  181\n",
      "PRODUCED A CHART OF predict_automatch MONTHLY STABILITY FOR:  brand_id  VARIABLE CLASS:  182\n",
      "PRODUCED A CHART OF predict_automatch MONTHLY STABILITY FOR:  brand_id  VARIABLE CLASS:  265\n",
      "PRODUCED A CHART OF predict_automatch MONTHLY STABILITY FOR:  brand_id  VARIABLE CLASS:  90\n",
      "PRODUCED A CHART OF predict_automatch MONTHLY STABILITY FOR:  brand_id  VARIABLE CLASS:  38\n",
      "PRODUCED A CHART OF predict_automatch MONTHLY STABILITY FOR:  brand_id  VARIABLE CLASS:  232\n",
      "PRODUCED A CHART OF predict_automatch MONTHLY STABILITY FOR:  brand_id  VARIABLE CLASS:  337\n",
      "PRODUCED A CHART OF predict_automatch MONTHLY STABILITY FOR:  brand_id  VARIABLE CLASS:  320\n",
      "PRODUCED A CHART OF predict_automatch MONTHLY STABILITY FOR:  brand_id  VARIABLE CLASS:  251\n",
      "PRODUCED A CHART OF predict_automatch MONTHLY STABILITY FOR:  brand_id  VARIABLE CLASS:  374\n",
      "PRODUCED A CHART OF predict_automatch MONTHLY STABILITY FOR:  brand_id  VARIABLE CLASS:  414\n",
      "PRODUCED A CHART OF predict_automatch MONTHLY STABILITY FOR:  brand_id  VARIABLE CLASS:  156\n",
      "PRODUCED A CHART OF predict_automatch MONTHLY STABILITY FOR:  brand_id  VARIABLE CLASS:  244\n",
      "PRODUCED A CHART OF predict_automatch MONTHLY STABILITY FOR:  brand_id  VARIABLE CLASS:  154\n",
      "PRODUCED A CHART OF predict_automatch MONTHLY STABILITY FOR:  brand_id  VARIABLE CLASS:  52\n",
      "PRODUCED A CHART OF predict_automatch MONTHLY STABILITY FOR:  brand_id  VARIABLE CLASS:  326\n",
      "PRODUCED A CHART OF predict_automatch MONTHLY STABILITY FOR:  brand_id  VARIABLE CLASS:  412\n",
      "PRODUCED A CHART OF predict_automatch MONTHLY STABILITY FOR:  brand_id  VARIABLE CLASS:  429\n",
      "PRODUCED A CHART OF predict_automatch MONTHLY STABILITY FOR:  brand_id  VARIABLE CLASS:  21\n",
      "PRODUCED A CHART OF predict_automatch MONTHLY STABILITY FOR:  brand_id  VARIABLE CLASS:  82\n",
      "PRODUCED A CHART OF predict_automatch MONTHLY STABILITY FOR:  brand_id  VARIABLE CLASS:  342\n",
      "PRODUCED A CHART OF predict_automatch MONTHLY STABILITY FOR:  brand_id  VARIABLE CLASS:  24\n",
      "PRODUCED A CHART OF predict_automatch MONTHLY STABILITY FOR:  brand_id  VARIABLE CLASS:  343\n",
      "PRODUCED A CHART OF predict_automatch MONTHLY STABILITY FOR:  brand_id  VARIABLE CLASS:  215\n",
      "PRODUCED A CHART OF predict_automatch MONTHLY STABILITY FOR:  brand_id  VARIABLE CLASS:  202\n",
      "PRODUCED A CHART OF predict_automatch MONTHLY STABILITY FOR:  brand_id  VARIABLE CLASS:  158\n",
      "PRODUCED A CHART OF predict_automatch MONTHLY STABILITY FOR:  brand_id  VARIABLE CLASS:  155\n",
      "PRODUCED A CHART OF predict_automatch MONTHLY STABILITY FOR:  brand_id  VARIABLE CLASS:  261\n",
      "PRODUCED A CHART OF predict_automatch MONTHLY STABILITY FOR:  brand_id  VARIABLE CLASS:  179\n",
      "PRODUCED A CHART OF predict_automatch MONTHLY STABILITY FOR:  brand_id  VARIABLE CLASS:  151\n",
      "PRODUCED A CHART OF predict_automatch MONTHLY STABILITY FOR:  brand_id  VARIABLE CLASS:  96\n",
      "PRODUCED A CHART OF predict_automatch MONTHLY STABILITY FOR:  brand_id  VARIABLE CLASS:  183\n",
      "PRODUCED A CHART OF predict_automatch MONTHLY STABILITY FOR:  brand_id  VARIABLE CLASS:  333\n"
     ]
    }
   ],
   "source": [
    "for col in df.columns:\n",
    "    if col not in [\n",
    "        'period_end_date',\n",
    "        'translated_when',\n",
    "        'month_year',\n",
    "        'predict_automatch',\n",
    "#         'country_id_n',\n",
    "#         'delivery_type_id',\n",
    "#         'retailer_id',\n",
    "#         'brand_id',\n",
    "        'class_acctual',\n",
    "#         'freq_id',\n",
    "#         'if_data_corrected'\n",
    "    ]:\n",
    "        print(col)\n",
    "        get_monthly_stability_chart(\n",
    "            col=col,\n",
    "            data_frame=df,\n",
    "            date_column=\"period_end_date\",\n",
    "            column_to_group_by=col,\n",
    "            column_to_count='predict_automatch'\n",
    "        )"
   ]
  },
  {
   "cell_type": "code",
   "execution_count": null,
   "metadata": {
    "pycharm": {
     "name": "#%%\n"
    },
    "scrolled": true
   },
   "outputs": [
    {
     "name": "stdout",
     "output_type": "stream",
     "text": [
      "if_data_corrected\n",
      "PRODUCED A CHART OF class_acctual MONTHLY STABILITY FOR:  if_data_corrected  VARIABLE CLASS:  0\n",
      "PRODUCED A CHART OF class_acctual MONTHLY STABILITY FOR:  if_data_corrected  VARIABLE CLASS:  1\n",
      "prod_gr_id\n",
      "PRODUCED A CHART OF class_acctual MONTHLY STABILITY FOR:  prod_gr_id  VARIABLE CLASS:  426\n",
      "PRODUCED A CHART OF class_acctual MONTHLY STABILITY FOR:  prod_gr_id  VARIABLE CLASS:  427\n",
      "PRODUCED A CHART OF class_acctual MONTHLY STABILITY FOR:  prod_gr_id  VARIABLE CLASS:  413\n",
      "country_id_n\n",
      "PRODUCED A CHART OF class_acctual MONTHLY STABILITY FOR:  country_id_n  VARIABLE CLASS:  1010\n",
      "PRODUCED A CHART OF class_acctual MONTHLY STABILITY FOR:  country_id_n  VARIABLE CLASS:  1002\n",
      "PRODUCED A CHART OF class_acctual MONTHLY STABILITY FOR:  country_id_n  VARIABLE CLASS:  150\n",
      "PRODUCED A CHART OF class_acctual MONTHLY STABILITY FOR:  country_id_n  VARIABLE CLASS:  103\n",
      "PRODUCED A CHART OF class_acctual MONTHLY STABILITY FOR:  country_id_n  VARIABLE CLASS:  177\n",
      "PRODUCED A CHART OF class_acctual MONTHLY STABILITY FOR:  country_id_n  VARIABLE CLASS:  173\n",
      "PRODUCED A CHART OF class_acctual MONTHLY STABILITY FOR:  country_id_n  VARIABLE CLASS:  104\n",
      "PRODUCED A CHART OF class_acctual MONTHLY STABILITY FOR:  country_id_n  VARIABLE CLASS:  121\n",
      "PRODUCED A CHART OF class_acctual MONTHLY STABILITY FOR:  country_id_n  VARIABLE CLASS:  136\n",
      "PRODUCED A CHART OF class_acctual MONTHLY STABILITY FOR:  country_id_n  VARIABLE CLASS:  114\n",
      "PRODUCED A CHART OF class_acctual MONTHLY STABILITY FOR:  country_id_n  VARIABLE CLASS:  124\n",
      "PRODUCED A CHART OF class_acctual MONTHLY STABILITY FOR:  country_id_n  VARIABLE CLASS:  126\n",
      "PRODUCED A CHART OF class_acctual MONTHLY STABILITY FOR:  country_id_n  VARIABLE CLASS:  113\n",
      "PRODUCED A CHART OF class_acctual MONTHLY STABILITY FOR:  country_id_n  VARIABLE CLASS:  1011\n",
      "PRODUCED A CHART OF class_acctual MONTHLY STABILITY FOR:  country_id_n  VARIABLE CLASS:  116\n",
      "PRODUCED A CHART OF class_acctual MONTHLY STABILITY FOR:  country_id_n  VARIABLE CLASS:  119\n",
      "PRODUCED A CHART OF class_acctual MONTHLY STABILITY FOR:  country_id_n  VARIABLE CLASS:  120\n",
      "PRODUCED A CHART OF class_acctual MONTHLY STABILITY FOR:  country_id_n  VARIABLE CLASS:  110\n",
      "PRODUCED A CHART OF class_acctual MONTHLY STABILITY FOR:  country_id_n  VARIABLE CLASS:  118\n",
      "PRODUCED A CHART OF class_acctual MONTHLY STABILITY FOR:  country_id_n  VARIABLE CLASS:  108\n",
      "PRODUCED A CHART OF class_acctual MONTHLY STABILITY FOR:  country_id_n  VARIABLE CLASS:  138\n",
      "PRODUCED A CHART OF class_acctual MONTHLY STABILITY FOR:  country_id_n  VARIABLE CLASS:  174\n",
      "PRODUCED A CHART OF class_acctual MONTHLY STABILITY FOR:  country_id_n  VARIABLE CLASS:  139\n",
      "PRODUCED A CHART OF class_acctual MONTHLY STABILITY FOR:  country_id_n  VARIABLE CLASS:  176\n",
      "PRODUCED A CHART OF class_acctual MONTHLY STABILITY FOR:  country_id_n  VARIABLE CLASS:  105\n",
      "PRODUCED A CHART OF class_acctual MONTHLY STABILITY FOR:  country_id_n  VARIABLE CLASS:  128\n",
      "PRODUCED A CHART OF class_acctual MONTHLY STABILITY FOR:  country_id_n  VARIABLE CLASS:  160\n",
      "PRODUCED A CHART OF class_acctual MONTHLY STABILITY FOR:  country_id_n  VARIABLE CLASS:  106\n",
      "PRODUCED A CHART OF class_acctual MONTHLY STABILITY FOR:  country_id_n  VARIABLE CLASS:  131\n",
      "PRODUCED A CHART OF class_acctual MONTHLY STABILITY FOR:  country_id_n  VARIABLE CLASS:  109\n",
      "PRODUCED A CHART OF class_acctual MONTHLY STABILITY FOR:  country_id_n  VARIABLE CLASS:  151\n",
      "PRODUCED A CHART OF class_acctual MONTHLY STABILITY FOR:  country_id_n  VARIABLE CLASS:  107\n",
      "PRODUCED A CHART OF class_acctual MONTHLY STABILITY FOR:  country_id_n  VARIABLE CLASS:  141\n",
      "PRODUCED A CHART OF class_acctual MONTHLY STABILITY FOR:  country_id_n  VARIABLE CLASS:  170\n",
      "delivery_type_id\n",
      "PRODUCED A CHART OF class_acctual MONTHLY STABILITY FOR:  delivery_type_id  VARIABLE CLASS:  58690\n",
      "PRODUCED A CHART OF class_acctual MONTHLY STABILITY FOR:  delivery_type_id  VARIABLE CLASS:  68438\n",
      "PRODUCED A CHART OF class_acctual MONTHLY STABILITY FOR:  delivery_type_id  VARIABLE CLASS:  72348\n",
      "PRODUCED A CHART OF class_acctual MONTHLY STABILITY FOR:  delivery_type_id  VARIABLE CLASS:  36794\n",
      "PRODUCED A CHART OF class_acctual MONTHLY STABILITY FOR:  delivery_type_id  VARIABLE CLASS:  41340\n",
      "PRODUCED A CHART OF class_acctual MONTHLY STABILITY FOR:  delivery_type_id  VARIABLE CLASS:  66278\n",
      "PRODUCED A CHART OF class_acctual MONTHLY STABILITY FOR:  delivery_type_id  VARIABLE CLASS:  70374\n",
      "PRODUCED A CHART OF class_acctual MONTHLY STABILITY FOR:  delivery_type_id  VARIABLE CLASS:  18570\n",
      "PRODUCED A CHART OF class_acctual MONTHLY STABILITY FOR:  delivery_type_id  VARIABLE CLASS:  9974\n",
      "PRODUCED A CHART OF class_acctual MONTHLY STABILITY FOR:  delivery_type_id  VARIABLE CLASS:  77565\n",
      "PRODUCED A CHART OF class_acctual MONTHLY STABILITY FOR:  delivery_type_id  VARIABLE CLASS:  65402\n",
      "PRODUCED A CHART OF class_acctual MONTHLY STABILITY FOR:  delivery_type_id  VARIABLE CLASS:  29452\n",
      "PRODUCED A CHART OF class_acctual MONTHLY STABILITY FOR:  delivery_type_id  VARIABLE CLASS:  73431\n",
      "PRODUCED A CHART OF class_acctual MONTHLY STABILITY FOR:  delivery_type_id  VARIABLE CLASS:  30209\n",
      "PRODUCED A CHART OF class_acctual MONTHLY STABILITY FOR:  delivery_type_id  VARIABLE CLASS:  59564\n",
      "PRODUCED A CHART OF class_acctual MONTHLY STABILITY FOR:  delivery_type_id  VARIABLE CLASS:  21381\n",
      "PRODUCED A CHART OF class_acctual MONTHLY STABILITY FOR:  delivery_type_id  VARIABLE CLASS:  38929\n",
      "PRODUCED A CHART OF class_acctual MONTHLY STABILITY FOR:  delivery_type_id  VARIABLE CLASS:  66921\n",
      "PRODUCED A CHART OF class_acctual MONTHLY STABILITY FOR:  delivery_type_id  VARIABLE CLASS:  28578\n",
      "PRODUCED A CHART OF class_acctual MONTHLY STABILITY FOR:  delivery_type_id  VARIABLE CLASS:  71984\n",
      "PRODUCED A CHART OF class_acctual MONTHLY STABILITY FOR:  delivery_type_id  VARIABLE CLASS:  78868\n",
      "PRODUCED A CHART OF class_acctual MONTHLY STABILITY FOR:  delivery_type_id  VARIABLE CLASS:  77473\n",
      "PRODUCED A CHART OF class_acctual MONTHLY STABILITY FOR:  delivery_type_id  VARIABLE CLASS:  75178\n",
      "PRODUCED A CHART OF class_acctual MONTHLY STABILITY FOR:  delivery_type_id  VARIABLE CLASS:  48566\n",
      "PRODUCED A CHART OF class_acctual MONTHLY STABILITY FOR:  delivery_type_id  VARIABLE CLASS:  55371\n",
      "PRODUCED A CHART OF class_acctual MONTHLY STABILITY FOR:  delivery_type_id  VARIABLE CLASS:  74027\n",
      "PRODUCED A CHART OF class_acctual MONTHLY STABILITY FOR:  delivery_type_id  VARIABLE CLASS:  59572\n",
      "PRODUCED A CHART OF class_acctual MONTHLY STABILITY FOR:  delivery_type_id  VARIABLE CLASS:  59085\n",
      "PRODUCED A CHART OF class_acctual MONTHLY STABILITY FOR:  delivery_type_id  VARIABLE CLASS:  73518\n",
      "PRODUCED A CHART OF class_acctual MONTHLY STABILITY FOR:  delivery_type_id  VARIABLE CLASS:  65220\n",
      "PRODUCED A CHART OF class_acctual MONTHLY STABILITY FOR:  delivery_type_id  VARIABLE CLASS:  22785\n",
      "PRODUCED A CHART OF class_acctual MONTHLY STABILITY FOR:  delivery_type_id  VARIABLE CLASS:  49877\n",
      "PRODUCED A CHART OF class_acctual MONTHLY STABILITY FOR:  delivery_type_id  VARIABLE CLASS:  20268\n",
      "PRODUCED A CHART OF class_acctual MONTHLY STABILITY FOR:  delivery_type_id  VARIABLE CLASS:  78650\n",
      "PRODUCED A CHART OF class_acctual MONTHLY STABILITY FOR:  delivery_type_id  VARIABLE CLASS:  451\n",
      "PRODUCED A CHART OF class_acctual MONTHLY STABILITY FOR:  delivery_type_id  VARIABLE CLASS:  51345\n",
      "PRODUCED A CHART OF class_acctual MONTHLY STABILITY FOR:  delivery_type_id  VARIABLE CLASS:  77553\n",
      "PRODUCED A CHART OF class_acctual MONTHLY STABILITY FOR:  delivery_type_id  VARIABLE CLASS:  54446\n",
      "PRODUCED A CHART OF class_acctual MONTHLY STABILITY FOR:  delivery_type_id  VARIABLE CLASS:  20043\n",
      "PRODUCED A CHART OF class_acctual MONTHLY STABILITY FOR:  delivery_type_id  VARIABLE CLASS:  53474\n",
      "PRODUCED A CHART OF class_acctual MONTHLY STABILITY FOR:  delivery_type_id  VARIABLE CLASS:  75188\n",
      "PRODUCED A CHART OF class_acctual MONTHLY STABILITY FOR:  delivery_type_id  VARIABLE CLASS:  66613\n",
      "PRODUCED A CHART OF class_acctual MONTHLY STABILITY FOR:  delivery_type_id  VARIABLE CLASS:  21380\n",
      "PRODUCED A CHART OF class_acctual MONTHLY STABILITY FOR:  delivery_type_id  VARIABLE CLASS:  39113\n",
      "PRODUCED A CHART OF class_acctual MONTHLY STABILITY FOR:  delivery_type_id  VARIABLE CLASS:  47850\n",
      "PRODUCED A CHART OF class_acctual MONTHLY STABILITY FOR:  delivery_type_id  VARIABLE CLASS:  27210\n",
      "PRODUCED A CHART OF class_acctual MONTHLY STABILITY FOR:  delivery_type_id  VARIABLE CLASS:  52863\n",
      "PRODUCED A CHART OF class_acctual MONTHLY STABILITY FOR:  delivery_type_id  VARIABLE CLASS:  65403\n",
      "PRODUCED A CHART OF class_acctual MONTHLY STABILITY FOR:  delivery_type_id  VARIABLE CLASS:  72827\n"
     ]
    },
    {
     "name": "stdout",
     "output_type": "stream",
     "text": [
      "PRODUCED A CHART OF class_acctual MONTHLY STABILITY FOR:  delivery_type_id  VARIABLE CLASS:  57174\n",
      "PRODUCED A CHART OF class_acctual MONTHLY STABILITY FOR:  delivery_type_id  VARIABLE CLASS:  22867\n",
      "PRODUCED A CHART OF class_acctual MONTHLY STABILITY FOR:  delivery_type_id  VARIABLE CLASS:  18257\n",
      "PRODUCED A CHART OF class_acctual MONTHLY STABILITY FOR:  delivery_type_id  VARIABLE CLASS:  49246\n",
      "PRODUCED A CHART OF class_acctual MONTHLY STABILITY FOR:  delivery_type_id  VARIABLE CLASS:  65132\n",
      "PRODUCED A CHART OF class_acctual MONTHLY STABILITY FOR:  delivery_type_id  VARIABLE CLASS:  76083\n",
      "PRODUCED A CHART OF class_acctual MONTHLY STABILITY FOR:  delivery_type_id  VARIABLE CLASS:  77579\n",
      "PRODUCED A CHART OF class_acctual MONTHLY STABILITY FOR:  delivery_type_id  VARIABLE CLASS:  77302\n",
      "PRODUCED A CHART OF class_acctual MONTHLY STABILITY FOR:  delivery_type_id  VARIABLE CLASS:  59646\n",
      "PRODUCED A CHART OF class_acctual MONTHLY STABILITY FOR:  delivery_type_id  VARIABLE CLASS:  35633\n",
      "PRODUCED A CHART OF class_acctual MONTHLY STABILITY FOR:  delivery_type_id  VARIABLE CLASS:  52479\n",
      "PRODUCED A CHART OF class_acctual MONTHLY STABILITY FOR:  delivery_type_id  VARIABLE CLASS:  55368\n",
      "PRODUCED A CHART OF class_acctual MONTHLY STABILITY FOR:  delivery_type_id  VARIABLE CLASS:  67384\n",
      "PRODUCED A CHART OF class_acctual MONTHLY STABILITY FOR:  delivery_type_id  VARIABLE CLASS:  11191\n",
      "PRODUCED A CHART OF class_acctual MONTHLY STABILITY FOR:  delivery_type_id  VARIABLE CLASS:  54194\n",
      "PRODUCED A CHART OF class_acctual MONTHLY STABILITY FOR:  delivery_type_id  VARIABLE CLASS:  65848\n",
      "PRODUCED A CHART OF class_acctual MONTHLY STABILITY FOR:  delivery_type_id  VARIABLE CLASS:  59075\n",
      "PRODUCED A CHART OF class_acctual MONTHLY STABILITY FOR:  delivery_type_id  VARIABLE CLASS:  72866\n",
      "PRODUCED A CHART OF class_acctual MONTHLY STABILITY FOR:  delivery_type_id  VARIABLE CLASS:  59533\n",
      "PRODUCED A CHART OF class_acctual MONTHLY STABILITY FOR:  delivery_type_id  VARIABLE CLASS:  73521\n",
      "PRODUCED A CHART OF class_acctual MONTHLY STABILITY FOR:  delivery_type_id  VARIABLE CLASS:  14229\n",
      "PRODUCED A CHART OF class_acctual MONTHLY STABILITY FOR:  delivery_type_id  VARIABLE CLASS:  77493\n",
      "PRODUCED A CHART OF class_acctual MONTHLY STABILITY FOR:  delivery_type_id  VARIABLE CLASS:  56106\n",
      "PRODUCED A CHART OF class_acctual MONTHLY STABILITY FOR:  delivery_type_id  VARIABLE CLASS:  6743\n",
      "PRODUCED A CHART OF class_acctual MONTHLY STABILITY FOR:  delivery_type_id  VARIABLE CLASS:  73517\n",
      "PRODUCED A CHART OF class_acctual MONTHLY STABILITY FOR:  delivery_type_id  VARIABLE CLASS:  75019\n",
      "PRODUCED A CHART OF class_acctual MONTHLY STABILITY FOR:  delivery_type_id  VARIABLE CLASS:  22074\n",
      "PRODUCED A CHART OF class_acctual MONTHLY STABILITY FOR:  delivery_type_id  VARIABLE CLASS:  77068\n",
      "PRODUCED A CHART OF class_acctual MONTHLY STABILITY FOR:  delivery_type_id  VARIABLE CLASS:  72897\n",
      "PRODUCED A CHART OF class_acctual MONTHLY STABILITY FOR:  delivery_type_id  VARIABLE CLASS:  69723\n",
      "PRODUCED A CHART OF class_acctual MONTHLY STABILITY FOR:  delivery_type_id  VARIABLE CLASS:  19802\n",
      "PRODUCED A CHART OF class_acctual MONTHLY STABILITY FOR:  delivery_type_id  VARIABLE CLASS:  54181\n",
      "PRODUCED A CHART OF class_acctual MONTHLY STABILITY FOR:  delivery_type_id  VARIABLE CLASS:  28465\n",
      "PRODUCED A CHART OF class_acctual MONTHLY STABILITY FOR:  delivery_type_id  VARIABLE CLASS:  30139\n",
      "PRODUCED A CHART OF class_acctual MONTHLY STABILITY FOR:  delivery_type_id  VARIABLE CLASS:  17402\n",
      "PRODUCED A CHART OF class_acctual MONTHLY STABILITY FOR:  delivery_type_id  VARIABLE CLASS:  49250\n",
      "PRODUCED A CHART OF class_acctual MONTHLY STABILITY FOR:  delivery_type_id  VARIABLE CLASS:  70931\n",
      "PRODUCED A CHART OF class_acctual MONTHLY STABILITY FOR:  delivery_type_id  VARIABLE CLASS:  74710\n",
      "PRODUCED A CHART OF class_acctual MONTHLY STABILITY FOR:  delivery_type_id  VARIABLE CLASS:  33516\n",
      "PRODUCED A CHART OF class_acctual MONTHLY STABILITY FOR:  delivery_type_id  VARIABLE CLASS:  50013\n",
      "PRODUCED A CHART OF class_acctual MONTHLY STABILITY FOR:  delivery_type_id  VARIABLE CLASS:  59266\n",
      "PRODUCED A CHART OF class_acctual MONTHLY STABILITY FOR:  delivery_type_id  VARIABLE CLASS:  50075\n",
      "PRODUCED A CHART OF class_acctual MONTHLY STABILITY FOR:  delivery_type_id  VARIABLE CLASS:  53906\n",
      "PRODUCED A CHART OF class_acctual MONTHLY STABILITY FOR:  delivery_type_id  VARIABLE CLASS:  72884\n",
      "PRODUCED A CHART OF class_acctual MONTHLY STABILITY FOR:  delivery_type_id  VARIABLE CLASS:  75608\n",
      "PRODUCED A CHART OF class_acctual MONTHLY STABILITY FOR:  delivery_type_id  VARIABLE CLASS:  17367\n",
      "PRODUCED A CHART OF class_acctual MONTHLY STABILITY FOR:  delivery_type_id  VARIABLE CLASS:  31425\n",
      "PRODUCED A CHART OF class_acctual MONTHLY STABILITY FOR:  delivery_type_id  VARIABLE CLASS:  63977\n",
      "PRODUCED A CHART OF class_acctual MONTHLY STABILITY FOR:  delivery_type_id  VARIABLE CLASS:  74711\n",
      "PRODUCED A CHART OF class_acctual MONTHLY STABILITY FOR:  delivery_type_id  VARIABLE CLASS:  73723\n",
      "PRODUCED A CHART OF class_acctual MONTHLY STABILITY FOR:  delivery_type_id  VARIABLE CLASS:  52614\n",
      "PRODUCED A CHART OF class_acctual MONTHLY STABILITY FOR:  delivery_type_id  VARIABLE CLASS:  68015\n",
      "PRODUCED A CHART OF class_acctual MONTHLY STABILITY FOR:  delivery_type_id  VARIABLE CLASS:  65531\n",
      "PRODUCED A CHART OF class_acctual MONTHLY STABILITY FOR:  delivery_type_id  VARIABLE CLASS:  73260\n",
      "PRODUCED A CHART OF class_acctual MONTHLY STABILITY FOR:  delivery_type_id  VARIABLE CLASS:  59521\n",
      "PRODUCED A CHART OF class_acctual MONTHLY STABILITY FOR:  delivery_type_id  VARIABLE CLASS:  33701\n",
      "PRODUCED A CHART OF class_acctual MONTHLY STABILITY FOR:  delivery_type_id  VARIABLE CLASS:  31241\n",
      "PRODUCED A CHART OF class_acctual MONTHLY STABILITY FOR:  delivery_type_id  VARIABLE CLASS:  18614\n",
      "PRODUCED A CHART OF class_acctual MONTHLY STABILITY FOR:  delivery_type_id  VARIABLE CLASS:  72142\n",
      "PRODUCED A CHART OF class_acctual MONTHLY STABILITY FOR:  delivery_type_id  VARIABLE CLASS:  28457\n",
      "PRODUCED A CHART OF class_acctual MONTHLY STABILITY FOR:  delivery_type_id  VARIABLE CLASS:  38553\n",
      "PRODUCED A CHART OF class_acctual MONTHLY STABILITY FOR:  delivery_type_id  VARIABLE CLASS:  28202\n",
      "PRODUCED A CHART OF class_acctual MONTHLY STABILITY FOR:  delivery_type_id  VARIABLE CLASS:  484\n",
      "PRODUCED A CHART OF class_acctual MONTHLY STABILITY FOR:  delivery_type_id  VARIABLE CLASS:  72662\n",
      "PRODUCED A CHART OF class_acctual MONTHLY STABILITY FOR:  delivery_type_id  VARIABLE CLASS:  64740\n",
      "PRODUCED A CHART OF class_acctual MONTHLY STABILITY FOR:  delivery_type_id  VARIABLE CLASS:  62765\n",
      "PRODUCED A CHART OF class_acctual MONTHLY STABILITY FOR:  delivery_type_id  VARIABLE CLASS:  66381\n",
      "PRODUCED A CHART OF class_acctual MONTHLY STABILITY FOR:  delivery_type_id  VARIABLE CLASS:  27118\n",
      "PRODUCED A CHART OF class_acctual MONTHLY STABILITY FOR:  delivery_type_id  VARIABLE CLASS:  53126\n",
      "PRODUCED A CHART OF class_acctual MONTHLY STABILITY FOR:  delivery_type_id  VARIABLE CLASS:  76630\n",
      "PRODUCED A CHART OF class_acctual MONTHLY STABILITY FOR:  delivery_type_id  VARIABLE CLASS:  69662\n",
      "PRODUCED A CHART OF class_acctual MONTHLY STABILITY FOR:  delivery_type_id  VARIABLE CLASS:  8088\n",
      "PRODUCED A CHART OF class_acctual MONTHLY STABILITY FOR:  delivery_type_id  VARIABLE CLASS:  49992\n",
      "PRODUCED A CHART OF class_acctual MONTHLY STABILITY FOR:  delivery_type_id  VARIABLE CLASS:  19748\n",
      "PRODUCED A CHART OF class_acctual MONTHLY STABILITY FOR:  delivery_type_id  VARIABLE CLASS:  76333\n",
      "PRODUCED A CHART OF class_acctual MONTHLY STABILITY FOR:  delivery_type_id  VARIABLE CLASS:  64067\n",
      "PRODUCED A CHART OF class_acctual MONTHLY STABILITY FOR:  delivery_type_id  VARIABLE CLASS:  35052\n",
      "PRODUCED A CHART OF class_acctual MONTHLY STABILITY FOR:  delivery_type_id  VARIABLE CLASS:  37589\n",
      "PRODUCED A CHART OF class_acctual MONTHLY STABILITY FOR:  delivery_type_id  VARIABLE CLASS:  71310\n",
      "PRODUCED A CHART OF class_acctual MONTHLY STABILITY FOR:  delivery_type_id  VARIABLE CLASS:  52537\n",
      "PRODUCED A CHART OF class_acctual MONTHLY STABILITY FOR:  delivery_type_id  VARIABLE CLASS:  71843\n",
      "PRODUCED A CHART OF class_acctual MONTHLY STABILITY FOR:  delivery_type_id  VARIABLE CLASS:  7932\n",
      "PRODUCED A CHART OF class_acctual MONTHLY STABILITY FOR:  delivery_type_id  VARIABLE CLASS:  22146\n"
     ]
    },
    {
     "name": "stdout",
     "output_type": "stream",
     "text": [
      "PRODUCED A CHART OF class_acctual MONTHLY STABILITY FOR:  delivery_type_id  VARIABLE CLASS:  75253\n",
      "PRODUCED A CHART OF class_acctual MONTHLY STABILITY FOR:  delivery_type_id  VARIABLE CLASS:  36120\n",
      "PRODUCED A CHART OF class_acctual MONTHLY STABILITY FOR:  delivery_type_id  VARIABLE CLASS:  68429\n",
      "PRODUCED A CHART OF class_acctual MONTHLY STABILITY FOR:  delivery_type_id  VARIABLE CLASS:  61260\n",
      "PRODUCED A CHART OF class_acctual MONTHLY STABILITY FOR:  delivery_type_id  VARIABLE CLASS:  70312\n",
      "PRODUCED A CHART OF class_acctual MONTHLY STABILITY FOR:  delivery_type_id  VARIABLE CLASS:  46412\n",
      "PRODUCED A CHART OF class_acctual MONTHLY STABILITY FOR:  delivery_type_id  VARIABLE CLASS:  6973\n",
      "PRODUCED A CHART OF class_acctual MONTHLY STABILITY FOR:  delivery_type_id  VARIABLE CLASS:  70930\n",
      "PRODUCED A CHART OF class_acctual MONTHLY STABILITY FOR:  delivery_type_id  VARIABLE CLASS:  67781\n",
      "PRODUCED A CHART OF class_acctual MONTHLY STABILITY FOR:  delivery_type_id  VARIABLE CLASS:  73968\n",
      "PRODUCED A CHART OF class_acctual MONTHLY STABILITY FOR:  delivery_type_id  VARIABLE CLASS:  63322\n",
      "PRODUCED A CHART OF class_acctual MONTHLY STABILITY FOR:  delivery_type_id  VARIABLE CLASS:  68079\n",
      "PRODUCED A CHART OF class_acctual MONTHLY STABILITY FOR:  delivery_type_id  VARIABLE CLASS:  77402\n",
      "PRODUCED A CHART OF class_acctual MONTHLY STABILITY FOR:  delivery_type_id  VARIABLE CLASS:  34033\n",
      "PRODUCED A CHART OF class_acctual MONTHLY STABILITY FOR:  delivery_type_id  VARIABLE CLASS:  32579\n",
      "PRODUCED A CHART OF class_acctual MONTHLY STABILITY FOR:  delivery_type_id  VARIABLE CLASS:  47891\n",
      "PRODUCED A CHART OF class_acctual MONTHLY STABILITY FOR:  delivery_type_id  VARIABLE CLASS:  72926\n",
      "PRODUCED A CHART OF class_acctual MONTHLY STABILITY FOR:  delivery_type_id  VARIABLE CLASS:  67033\n",
      "PRODUCED A CHART OF class_acctual MONTHLY STABILITY FOR:  delivery_type_id  VARIABLE CLASS:  35976\n",
      "PRODUCED A CHART OF class_acctual MONTHLY STABILITY FOR:  delivery_type_id  VARIABLE CLASS:  28325\n",
      "PRODUCED A CHART OF class_acctual MONTHLY STABILITY FOR:  delivery_type_id  VARIABLE CLASS:  18935\n",
      "PRODUCED A CHART OF class_acctual MONTHLY STABILITY FOR:  delivery_type_id  VARIABLE CLASS:  65326\n",
      "PRODUCED A CHART OF class_acctual MONTHLY STABILITY FOR:  delivery_type_id  VARIABLE CLASS:  63387\n",
      "PRODUCED A CHART OF class_acctual MONTHLY STABILITY FOR:  delivery_type_id  VARIABLE CLASS:  31929\n",
      "PRODUCED A CHART OF class_acctual MONTHLY STABILITY FOR:  delivery_type_id  VARIABLE CLASS:  67548\n",
      "PRODUCED A CHART OF class_acctual MONTHLY STABILITY FOR:  delivery_type_id  VARIABLE CLASS:  65108\n",
      "PRODUCED A CHART OF class_acctual MONTHLY STABILITY FOR:  delivery_type_id  VARIABLE CLASS:  59174\n",
      "PRODUCED A CHART OF class_acctual MONTHLY STABILITY FOR:  delivery_type_id  VARIABLE CLASS:  66107\n",
      "PRODUCED A CHART OF class_acctual MONTHLY STABILITY FOR:  delivery_type_id  VARIABLE CLASS:  13836\n",
      "PRODUCED A CHART OF class_acctual MONTHLY STABILITY FOR:  delivery_type_id  VARIABLE CLASS:  61040\n",
      "PRODUCED A CHART OF class_acctual MONTHLY STABILITY FOR:  delivery_type_id  VARIABLE CLASS:  65820\n",
      "PRODUCED A CHART OF class_acctual MONTHLY STABILITY FOR:  delivery_type_id  VARIABLE CLASS:  73514\n",
      "PRODUCED A CHART OF class_acctual MONTHLY STABILITY FOR:  delivery_type_id  VARIABLE CLASS:  67170\n",
      "PRODUCED A CHART OF class_acctual MONTHLY STABILITY FOR:  delivery_type_id  VARIABLE CLASS:  65399\n",
      "PRODUCED A CHART OF class_acctual MONTHLY STABILITY FOR:  delivery_type_id  VARIABLE CLASS:  36296\n",
      "PRODUCED A CHART OF class_acctual MONTHLY STABILITY FOR:  delivery_type_id  VARIABLE CLASS:  37175\n",
      "PRODUCED A CHART OF class_acctual MONTHLY STABILITY FOR:  delivery_type_id  VARIABLE CLASS:  65330\n",
      "PRODUCED A CHART OF class_acctual MONTHLY STABILITY FOR:  delivery_type_id  VARIABLE CLASS:  25967\n",
      "PRODUCED A CHART OF class_acctual MONTHLY STABILITY FOR:  delivery_type_id  VARIABLE CLASS:  71580\n",
      "PRODUCED A CHART OF class_acctual MONTHLY STABILITY FOR:  delivery_type_id  VARIABLE CLASS:  78151\n",
      "PRODUCED A CHART OF class_acctual MONTHLY STABILITY FOR:  delivery_type_id  VARIABLE CLASS:  67059\n",
      "PRODUCED A CHART OF class_acctual MONTHLY STABILITY FOR:  delivery_type_id  VARIABLE CLASS:  70154\n",
      "PRODUCED A CHART OF class_acctual MONTHLY STABILITY FOR:  delivery_type_id  VARIABLE CLASS:  74622\n",
      "PRODUCED A CHART OF class_acctual MONTHLY STABILITY FOR:  delivery_type_id  VARIABLE CLASS:  25200\n",
      "PRODUCED A CHART OF class_acctual MONTHLY STABILITY FOR:  delivery_type_id  VARIABLE CLASS:  73771\n",
      "PRODUCED A CHART OF class_acctual MONTHLY STABILITY FOR:  delivery_type_id  VARIABLE CLASS:  41728\n",
      "PRODUCED A CHART OF class_acctual MONTHLY STABILITY FOR:  delivery_type_id  VARIABLE CLASS:  22271\n",
      "PRODUCED A CHART OF class_acctual MONTHLY STABILITY FOR:  delivery_type_id  VARIABLE CLASS:  22916\n",
      "PRODUCED A CHART OF class_acctual MONTHLY STABILITY FOR:  delivery_type_id  VARIABLE CLASS:  65246\n",
      "PRODUCED A CHART OF class_acctual MONTHLY STABILITY FOR:  delivery_type_id  VARIABLE CLASS:  64456\n",
      "PRODUCED A CHART OF class_acctual MONTHLY STABILITY FOR:  delivery_type_id  VARIABLE CLASS:  529\n",
      "PRODUCED A CHART OF class_acctual MONTHLY STABILITY FOR:  delivery_type_id  VARIABLE CLASS:  21378\n",
      "PRODUCED A CHART OF class_acctual MONTHLY STABILITY FOR:  delivery_type_id  VARIABLE CLASS:  24563\n",
      "PRODUCED A CHART OF class_acctual MONTHLY STABILITY FOR:  delivery_type_id  VARIABLE CLASS:  70883\n",
      "PRODUCED A CHART OF class_acctual MONTHLY STABILITY FOR:  delivery_type_id  VARIABLE CLASS:  67165\n",
      "PRODUCED A CHART OF class_acctual MONTHLY STABILITY FOR:  delivery_type_id  VARIABLE CLASS:  53883\n",
      "PRODUCED A CHART OF class_acctual MONTHLY STABILITY FOR:  delivery_type_id  VARIABLE CLASS:  74939\n",
      "PRODUCED A CHART OF class_acctual MONTHLY STABILITY FOR:  delivery_type_id  VARIABLE CLASS:  65128\n",
      "PRODUCED A CHART OF class_acctual MONTHLY STABILITY FOR:  delivery_type_id  VARIABLE CLASS:  63419\n",
      "PRODUCED A CHART OF class_acctual MONTHLY STABILITY FOR:  delivery_type_id  VARIABLE CLASS:  64990\n",
      "PRODUCED A CHART OF class_acctual MONTHLY STABILITY FOR:  delivery_type_id  VARIABLE CLASS:  75381\n",
      "PRODUCED A CHART OF class_acctual MONTHLY STABILITY FOR:  delivery_type_id  VARIABLE CLASS:  63160\n",
      "PRODUCED A CHART OF class_acctual MONTHLY STABILITY FOR:  delivery_type_id  VARIABLE CLASS:  71878\n",
      "PRODUCED A CHART OF class_acctual MONTHLY STABILITY FOR:  delivery_type_id  VARIABLE CLASS:  60291\n",
      "PRODUCED A CHART OF class_acctual MONTHLY STABILITY FOR:  delivery_type_id  VARIABLE CLASS:  57848\n",
      "PRODUCED A CHART OF class_acctual MONTHLY STABILITY FOR:  delivery_type_id  VARIABLE CLASS:  54349\n",
      "PRODUCED A CHART OF class_acctual MONTHLY STABILITY FOR:  delivery_type_id  VARIABLE CLASS:  23154\n",
      "PRODUCED A CHART OF class_acctual MONTHLY STABILITY FOR:  delivery_type_id  VARIABLE CLASS:  8632\n",
      "PRODUCED A CHART OF class_acctual MONTHLY STABILITY FOR:  delivery_type_id  VARIABLE CLASS:  33252\n",
      "PRODUCED A CHART OF class_acctual MONTHLY STABILITY FOR:  delivery_type_id  VARIABLE CLASS:  78444\n",
      "PRODUCED A CHART OF class_acctual MONTHLY STABILITY FOR:  delivery_type_id  VARIABLE CLASS:  64960\n",
      "PRODUCED A CHART OF class_acctual MONTHLY STABILITY FOR:  delivery_type_id  VARIABLE CLASS:  31480\n",
      "PRODUCED A CHART OF class_acctual MONTHLY STABILITY FOR:  delivery_type_id  VARIABLE CLASS:  73277\n",
      "PRODUCED A CHART OF class_acctual MONTHLY STABILITY FOR:  delivery_type_id  VARIABLE CLASS:  30505\n",
      "PRODUCED A CHART OF class_acctual MONTHLY STABILITY FOR:  delivery_type_id  VARIABLE CLASS:  42930\n",
      "PRODUCED A CHART OF class_acctual MONTHLY STABILITY FOR:  delivery_type_id  VARIABLE CLASS:  29997\n",
      "PRODUCED A CHART OF class_acctual MONTHLY STABILITY FOR:  delivery_type_id  VARIABLE CLASS:  23944\n",
      "PRODUCED A CHART OF class_acctual MONTHLY STABILITY FOR:  delivery_type_id  VARIABLE CLASS:  56462\n",
      "PRODUCED A CHART OF class_acctual MONTHLY STABILITY FOR:  delivery_type_id  VARIABLE CLASS:  13361\n",
      "PRODUCED A CHART OF class_acctual MONTHLY STABILITY FOR:  delivery_type_id  VARIABLE CLASS:  7270\n",
      "PRODUCED A CHART OF class_acctual MONTHLY STABILITY FOR:  delivery_type_id  VARIABLE CLASS:  75078\n",
      "PRODUCED A CHART OF class_acctual MONTHLY STABILITY FOR:  delivery_type_id  VARIABLE CLASS:  42858\n",
      "PRODUCED A CHART OF class_acctual MONTHLY STABILITY FOR:  delivery_type_id  VARIABLE CLASS:  69228\n"
     ]
    },
    {
     "name": "stdout",
     "output_type": "stream",
     "text": [
      "PRODUCED A CHART OF class_acctual MONTHLY STABILITY FOR:  delivery_type_id  VARIABLE CLASS:  17683\n",
      "PRODUCED A CHART OF class_acctual MONTHLY STABILITY FOR:  delivery_type_id  VARIABLE CLASS:  29052\n",
      "PRODUCED A CHART OF class_acctual MONTHLY STABILITY FOR:  delivery_type_id  VARIABLE CLASS:  62206\n",
      "PRODUCED A CHART OF class_acctual MONTHLY STABILITY FOR:  delivery_type_id  VARIABLE CLASS:  64781\n",
      "PRODUCED A CHART OF class_acctual MONTHLY STABILITY FOR:  delivery_type_id  VARIABLE CLASS:  73516\n",
      "PRODUCED A CHART OF class_acctual MONTHLY STABILITY FOR:  delivery_type_id  VARIABLE CLASS:  22991\n",
      "PRODUCED A CHART OF class_acctual MONTHLY STABILITY FOR:  delivery_type_id  VARIABLE CLASS:  64063\n",
      "PRODUCED A CHART OF class_acctual MONTHLY STABILITY FOR:  delivery_type_id  VARIABLE CLASS:  31571\n",
      "PRODUCED A CHART OF class_acctual MONTHLY STABILITY FOR:  delivery_type_id  VARIABLE CLASS:  37947\n",
      "PRODUCED A CHART OF class_acctual MONTHLY STABILITY FOR:  delivery_type_id  VARIABLE CLASS:  62228\n",
      "PRODUCED A CHART OF class_acctual MONTHLY STABILITY FOR:  delivery_type_id  VARIABLE CLASS:  73574\n",
      "PRODUCED A CHART OF class_acctual MONTHLY STABILITY FOR:  delivery_type_id  VARIABLE CLASS:  15637\n",
      "PRODUCED A CHART OF class_acctual MONTHLY STABILITY FOR:  delivery_type_id  VARIABLE CLASS:  40178\n",
      "PRODUCED A CHART OF class_acctual MONTHLY STABILITY FOR:  delivery_type_id  VARIABLE CLASS:  23218\n",
      "PRODUCED A CHART OF class_acctual MONTHLY STABILITY FOR:  delivery_type_id  VARIABLE CLASS:  72155\n",
      "PRODUCED A CHART OF class_acctual MONTHLY STABILITY FOR:  delivery_type_id  VARIABLE CLASS:  12731\n",
      "PRODUCED A CHART OF class_acctual MONTHLY STABILITY FOR:  delivery_type_id  VARIABLE CLASS:  54360\n",
      "PRODUCED A CHART OF class_acctual MONTHLY STABILITY FOR:  delivery_type_id  VARIABLE CLASS:  59449\n",
      "PRODUCED A CHART OF class_acctual MONTHLY STABILITY FOR:  delivery_type_id  VARIABLE CLASS:  62026\n",
      "PRODUCED A CHART OF class_acctual MONTHLY STABILITY FOR:  delivery_type_id  VARIABLE CLASS:  71497\n",
      "PRODUCED A CHART OF class_acctual MONTHLY STABILITY FOR:  delivery_type_id  VARIABLE CLASS:  49245\n",
      "PRODUCED A CHART OF class_acctual MONTHLY STABILITY FOR:  delivery_type_id  VARIABLE CLASS:  20042\n",
      "PRODUCED A CHART OF class_acctual MONTHLY STABILITY FOR:  delivery_type_id  VARIABLE CLASS:  64196\n",
      "PRODUCED A CHART OF class_acctual MONTHLY STABILITY FOR:  delivery_type_id  VARIABLE CLASS:  63306\n",
      "PRODUCED A CHART OF class_acctual MONTHLY STABILITY FOR:  delivery_type_id  VARIABLE CLASS:  66871\n",
      "PRODUCED A CHART OF class_acctual MONTHLY STABILITY FOR:  delivery_type_id  VARIABLE CLASS:  62634\n",
      "PRODUCED A CHART OF class_acctual MONTHLY STABILITY FOR:  delivery_type_id  VARIABLE CLASS:  9158\n",
      "PRODUCED A CHART OF class_acctual MONTHLY STABILITY FOR:  delivery_type_id  VARIABLE CLASS:  78140\n",
      "PRODUCED A CHART OF class_acctual MONTHLY STABILITY FOR:  delivery_type_id  VARIABLE CLASS:  14122\n",
      "PRODUCED A CHART OF class_acctual MONTHLY STABILITY FOR:  delivery_type_id  VARIABLE CLASS:  65342\n",
      "PRODUCED A CHART OF class_acctual MONTHLY STABILITY FOR:  delivery_type_id  VARIABLE CLASS:  35762\n",
      "PRODUCED A CHART OF class_acctual MONTHLY STABILITY FOR:  delivery_type_id  VARIABLE CLASS:  7142\n",
      "PRODUCED A CHART OF class_acctual MONTHLY STABILITY FOR:  delivery_type_id  VARIABLE CLASS:  73264\n",
      "PRODUCED A CHART OF class_acctual MONTHLY STABILITY FOR:  delivery_type_id  VARIABLE CLASS:  67754\n",
      "PRODUCED A CHART OF class_acctual MONTHLY STABILITY FOR:  delivery_type_id  VARIABLE CLASS:  68890\n",
      "PRODUCED A CHART OF class_acctual MONTHLY STABILITY FOR:  delivery_type_id  VARIABLE CLASS:  71063\n",
      "PRODUCED A CHART OF class_acctual MONTHLY STABILITY FOR:  delivery_type_id  VARIABLE CLASS:  58321\n",
      "PRODUCED A CHART OF class_acctual MONTHLY STABILITY FOR:  delivery_type_id  VARIABLE CLASS:  74023\n",
      "PRODUCED A CHART OF class_acctual MONTHLY STABILITY FOR:  delivery_type_id  VARIABLE CLASS:  73117\n",
      "PRODUCED A CHART OF class_acctual MONTHLY STABILITY FOR:  delivery_type_id  VARIABLE CLASS:  13736\n",
      "PRODUCED A CHART OF class_acctual MONTHLY STABILITY FOR:  delivery_type_id  VARIABLE CLASS:  70352\n",
      "PRODUCED A CHART OF class_acctual MONTHLY STABILITY FOR:  delivery_type_id  VARIABLE CLASS:  77329\n",
      "PRODUCED A CHART OF class_acctual MONTHLY STABILITY FOR:  delivery_type_id  VARIABLE CLASS:  51876\n",
      "PRODUCED A CHART OF class_acctual MONTHLY STABILITY FOR:  delivery_type_id  VARIABLE CLASS:  9966\n",
      "PRODUCED A CHART OF class_acctual MONTHLY STABILITY FOR:  delivery_type_id  VARIABLE CLASS:  55427\n",
      "PRODUCED A CHART OF class_acctual MONTHLY STABILITY FOR:  delivery_type_id  VARIABLE CLASS:  54373\n",
      "PRODUCED A CHART OF class_acctual MONTHLY STABILITY FOR:  delivery_type_id  VARIABLE CLASS:  72671\n",
      "PRODUCED A CHART OF class_acctual MONTHLY STABILITY FOR:  delivery_type_id  VARIABLE CLASS:  31230\n",
      "PRODUCED A CHART OF class_acctual MONTHLY STABILITY FOR:  delivery_type_id  VARIABLE CLASS:  22531\n",
      "PRODUCED A CHART OF class_acctual MONTHLY STABILITY FOR:  delivery_type_id  VARIABLE CLASS:  78366\n",
      "PRODUCED A CHART OF class_acctual MONTHLY STABILITY FOR:  delivery_type_id  VARIABLE CLASS:  76171\n",
      "PRODUCED A CHART OF class_acctual MONTHLY STABILITY FOR:  delivery_type_id  VARIABLE CLASS:  76331\n",
      "PRODUCED A CHART OF class_acctual MONTHLY STABILITY FOR:  delivery_type_id  VARIABLE CLASS:  56471\n",
      "PRODUCED A CHART OF class_acctual MONTHLY STABILITY FOR:  delivery_type_id  VARIABLE CLASS:  72831\n",
      "PRODUCED A CHART OF class_acctual MONTHLY STABILITY FOR:  delivery_type_id  VARIABLE CLASS:  24898\n",
      "PRODUCED A CHART OF class_acctual MONTHLY STABILITY FOR:  delivery_type_id  VARIABLE CLASS:  56334\n",
      "PRODUCED A CHART OF class_acctual MONTHLY STABILITY FOR:  delivery_type_id  VARIABLE CLASS:  77073\n",
      "PRODUCED A CHART OF class_acctual MONTHLY STABILITY FOR:  delivery_type_id  VARIABLE CLASS:  71933\n",
      "PRODUCED A CHART OF class_acctual MONTHLY STABILITY FOR:  delivery_type_id  VARIABLE CLASS:  50102\n",
      "PRODUCED A CHART OF class_acctual MONTHLY STABILITY FOR:  delivery_type_id  VARIABLE CLASS:  57582\n",
      "PRODUCED A CHART OF class_acctual MONTHLY STABILITY FOR:  delivery_type_id  VARIABLE CLASS:  73646\n",
      "PRODUCED A CHART OF class_acctual MONTHLY STABILITY FOR:  delivery_type_id  VARIABLE CLASS:  65519\n",
      "PRODUCED A CHART OF class_acctual MONTHLY STABILITY FOR:  delivery_type_id  VARIABLE CLASS:  7420\n",
      "PRODUCED A CHART OF class_acctual MONTHLY STABILITY FOR:  delivery_type_id  VARIABLE CLASS:  44470\n",
      "PRODUCED A CHART OF class_acctual MONTHLY STABILITY FOR:  delivery_type_id  VARIABLE CLASS:  63851\n",
      "PRODUCED A CHART OF class_acctual MONTHLY STABILITY FOR:  delivery_type_id  VARIABLE CLASS:  65222\n",
      "PRODUCED A CHART OF class_acctual MONTHLY STABILITY FOR:  delivery_type_id  VARIABLE CLASS:  50587\n",
      "PRODUCED A CHART OF class_acctual MONTHLY STABILITY FOR:  delivery_type_id  VARIABLE CLASS:  61076\n",
      "PRODUCED A CHART OF class_acctual MONTHLY STABILITY FOR:  delivery_type_id  VARIABLE CLASS:  38042\n",
      "PRODUCED A CHART OF class_acctual MONTHLY STABILITY FOR:  delivery_type_id  VARIABLE CLASS:  54452\n",
      "PRODUCED A CHART OF class_acctual MONTHLY STABILITY FOR:  delivery_type_id  VARIABLE CLASS:  65566\n",
      "PRODUCED A CHART OF class_acctual MONTHLY STABILITY FOR:  delivery_type_id  VARIABLE CLASS:  62519\n",
      "PRODUCED A CHART OF class_acctual MONTHLY STABILITY FOR:  delivery_type_id  VARIABLE CLASS:  41182\n",
      "PRODUCED A CHART OF class_acctual MONTHLY STABILITY FOR:  delivery_type_id  VARIABLE CLASS:  47421\n",
      "PRODUCED A CHART OF class_acctual MONTHLY STABILITY FOR:  delivery_type_id  VARIABLE CLASS:  64967\n",
      "PRODUCED A CHART OF class_acctual MONTHLY STABILITY FOR:  delivery_type_id  VARIABLE CLASS:  19781\n",
      "PRODUCED A CHART OF class_acctual MONTHLY STABILITY FOR:  delivery_type_id  VARIABLE CLASS:  72349\n",
      "PRODUCED A CHART OF class_acctual MONTHLY STABILITY FOR:  delivery_type_id  VARIABLE CLASS:  67349\n",
      "PRODUCED A CHART OF class_acctual MONTHLY STABILITY FOR:  delivery_type_id  VARIABLE CLASS:  73658\n",
      "PRODUCED A CHART OF class_acctual MONTHLY STABILITY FOR:  delivery_type_id  VARIABLE CLASS:  40036\n",
      "PRODUCED A CHART OF class_acctual MONTHLY STABILITY FOR:  delivery_type_id  VARIABLE CLASS:  25682\n",
      "PRODUCED A CHART OF class_acctual MONTHLY STABILITY FOR:  delivery_type_id  VARIABLE CLASS:  78033\n",
      "PRODUCED A CHART OF class_acctual MONTHLY STABILITY FOR:  delivery_type_id  VARIABLE CLASS:  40141\n",
      "PRODUCED A CHART OF class_acctual MONTHLY STABILITY FOR:  delivery_type_id  VARIABLE CLASS:  52011\n",
      "PRODUCED A CHART OF class_acctual MONTHLY STABILITY FOR:  delivery_type_id  VARIABLE CLASS:  14692\n",
      "PRODUCED A CHART OF class_acctual MONTHLY STABILITY FOR:  delivery_type_id  VARIABLE CLASS:  34189\n"
     ]
    },
    {
     "name": "stdout",
     "output_type": "stream",
     "text": [
      "PRODUCED A CHART OF class_acctual MONTHLY STABILITY FOR:  delivery_type_id  VARIABLE CLASS:  23144\n",
      "PRODUCED A CHART OF class_acctual MONTHLY STABILITY FOR:  delivery_type_id  VARIABLE CLASS:  62529\n",
      "PRODUCED A CHART OF class_acctual MONTHLY STABILITY FOR:  delivery_type_id  VARIABLE CLASS:  49248\n",
      "PRODUCED A CHART OF class_acctual MONTHLY STABILITY FOR:  delivery_type_id  VARIABLE CLASS:  75591\n",
      "PRODUCED A CHART OF class_acctual MONTHLY STABILITY FOR:  delivery_type_id  VARIABLE CLASS:  72882\n",
      "PRODUCED A CHART OF class_acctual MONTHLY STABILITY FOR:  delivery_type_id  VARIABLE CLASS:  71613\n",
      "PRODUCED A CHART OF class_acctual MONTHLY STABILITY FOR:  delivery_type_id  VARIABLE CLASS:  63816\n",
      "PRODUCED A CHART OF class_acctual MONTHLY STABILITY FOR:  delivery_type_id  VARIABLE CLASS:  77994\n",
      "PRODUCED A CHART OF class_acctual MONTHLY STABILITY FOR:  delivery_type_id  VARIABLE CLASS:  64352\n",
      "PRODUCED A CHART OF class_acctual MONTHLY STABILITY FOR:  delivery_type_id  VARIABLE CLASS:  72570\n",
      "PRODUCED A CHART OF class_acctual MONTHLY STABILITY FOR:  delivery_type_id  VARIABLE CLASS:  1939\n",
      "PRODUCED A CHART OF class_acctual MONTHLY STABILITY FOR:  delivery_type_id  VARIABLE CLASS:  59097\n",
      "PRODUCED A CHART OF class_acctual MONTHLY STABILITY FOR:  delivery_type_id  VARIABLE CLASS:  60733\n",
      "PRODUCED A CHART OF class_acctual MONTHLY STABILITY FOR:  delivery_type_id  VARIABLE CLASS:  52907\n",
      "PRODUCED A CHART OF class_acctual MONTHLY STABILITY FOR:  delivery_type_id  VARIABLE CLASS:  26642\n",
      "PRODUCED A CHART OF class_acctual MONTHLY STABILITY FOR:  delivery_type_id  VARIABLE CLASS:  57817\n",
      "PRODUCED A CHART OF class_acctual MONTHLY STABILITY FOR:  delivery_type_id  VARIABLE CLASS:  62890\n",
      "PRODUCED A CHART OF class_acctual MONTHLY STABILITY FOR:  delivery_type_id  VARIABLE CLASS:  71835\n",
      "PRODUCED A CHART OF class_acctual MONTHLY STABILITY FOR:  delivery_type_id  VARIABLE CLASS:  32625\n",
      "PRODUCED A CHART OF class_acctual MONTHLY STABILITY FOR:  delivery_type_id  VARIABLE CLASS:  77027\n",
      "PRODUCED A CHART OF class_acctual MONTHLY STABILITY FOR:  delivery_type_id  VARIABLE CLASS:  23648\n",
      "PRODUCED A CHART OF class_acctual MONTHLY STABILITY FOR:  delivery_type_id  VARIABLE CLASS:  66265\n",
      "PRODUCED A CHART OF class_acctual MONTHLY STABILITY FOR:  delivery_type_id  VARIABLE CLASS:  76290\n",
      "PRODUCED A CHART OF class_acctual MONTHLY STABILITY FOR:  delivery_type_id  VARIABLE CLASS:  428\n",
      "PRODUCED A CHART OF class_acctual MONTHLY STABILITY FOR:  delivery_type_id  VARIABLE CLASS:  63388\n",
      "PRODUCED A CHART OF class_acctual MONTHLY STABILITY FOR:  delivery_type_id  VARIABLE CLASS:  48830\n",
      "PRODUCED A CHART OF class_acctual MONTHLY STABILITY FOR:  delivery_type_id  VARIABLE CLASS:  13976\n",
      "PRODUCED A CHART OF class_acctual MONTHLY STABILITY FOR:  delivery_type_id  VARIABLE CLASS:  70445\n",
      "PRODUCED A CHART OF class_acctual MONTHLY STABILITY FOR:  delivery_type_id  VARIABLE CLASS:  13364\n",
      "PRODUCED A CHART OF class_acctual MONTHLY STABILITY FOR:  delivery_type_id  VARIABLE CLASS:  39335\n",
      "PRODUCED A CHART OF class_acctual MONTHLY STABILITY FOR:  delivery_type_id  VARIABLE CLASS:  70245\n",
      "PRODUCED A CHART OF class_acctual MONTHLY STABILITY FOR:  delivery_type_id  VARIABLE CLASS:  22866\n",
      "PRODUCED A CHART OF class_acctual MONTHLY STABILITY FOR:  delivery_type_id  VARIABLE CLASS:  48305\n",
      "PRODUCED A CHART OF class_acctual MONTHLY STABILITY FOR:  delivery_type_id  VARIABLE CLASS:  4841\n",
      "PRODUCED A CHART OF class_acctual MONTHLY STABILITY FOR:  delivery_type_id  VARIABLE CLASS:  76922\n",
      "PRODUCED A CHART OF class_acctual MONTHLY STABILITY FOR:  delivery_type_id  VARIABLE CLASS:  53621\n",
      "PRODUCED A CHART OF class_acctual MONTHLY STABILITY FOR:  delivery_type_id  VARIABLE CLASS:  72732\n",
      "PRODUCED A CHART OF class_acctual MONTHLY STABILITY FOR:  delivery_type_id  VARIABLE CLASS:  17986\n",
      "PRODUCED A CHART OF class_acctual MONTHLY STABILITY FOR:  delivery_type_id  VARIABLE CLASS:  63093\n",
      "PRODUCED A CHART OF class_acctual MONTHLY STABILITY FOR:  delivery_type_id  VARIABLE CLASS:  23146\n",
      "PRODUCED A CHART OF class_acctual MONTHLY STABILITY FOR:  delivery_type_id  VARIABLE CLASS:  66610\n",
      "PRODUCED A CHART OF class_acctual MONTHLY STABILITY FOR:  delivery_type_id  VARIABLE CLASS:  77064\n",
      "PRODUCED A CHART OF class_acctual MONTHLY STABILITY FOR:  delivery_type_id  VARIABLE CLASS:  75638\n",
      "PRODUCED A CHART OF class_acctual MONTHLY STABILITY FOR:  delivery_type_id  VARIABLE CLASS:  3639\n",
      "PRODUCED A CHART OF class_acctual MONTHLY STABILITY FOR:  delivery_type_id  VARIABLE CLASS:  2085\n",
      "PRODUCED A CHART OF class_acctual MONTHLY STABILITY FOR:  delivery_type_id  VARIABLE CLASS:  37356\n",
      "PRODUCED A CHART OF class_acctual MONTHLY STABILITY FOR:  delivery_type_id  VARIABLE CLASS:  54498\n",
      "PRODUCED A CHART OF class_acctual MONTHLY STABILITY FOR:  delivery_type_id  VARIABLE CLASS:  32250\n",
      "PRODUCED A CHART OF class_acctual MONTHLY STABILITY FOR:  delivery_type_id  VARIABLE CLASS:  59139\n",
      "PRODUCED A CHART OF class_acctual MONTHLY STABILITY FOR:  delivery_type_id  VARIABLE CLASS:  20824\n",
      "PRODUCED A CHART OF class_acctual MONTHLY STABILITY FOR:  delivery_type_id  VARIABLE CLASS:  73649\n",
      "PRODUCED A CHART OF class_acctual MONTHLY STABILITY FOR:  delivery_type_id  VARIABLE CLASS:  31250\n",
      "PRODUCED A CHART OF class_acctual MONTHLY STABILITY FOR:  delivery_type_id  VARIABLE CLASS:  22237\n",
      "PRODUCED A CHART OF class_acctual MONTHLY STABILITY FOR:  delivery_type_id  VARIABLE CLASS:  62176\n",
      "PRODUCED A CHART OF class_acctual MONTHLY STABILITY FOR:  delivery_type_id  VARIABLE CLASS:  53826\n",
      "PRODUCED A CHART OF class_acctual MONTHLY STABILITY FOR:  delivery_type_id  VARIABLE CLASS:  13720\n",
      "PRODUCED A CHART OF class_acctual MONTHLY STABILITY FOR:  delivery_type_id  VARIABLE CLASS:  62202\n",
      "PRODUCED A CHART OF class_acctual MONTHLY STABILITY FOR:  delivery_type_id  VARIABLE CLASS:  54499\n",
      "PRODUCED A CHART OF class_acctual MONTHLY STABILITY FOR:  delivery_type_id  VARIABLE CLASS:  70376\n",
      "PRODUCED A CHART OF class_acctual MONTHLY STABILITY FOR:  delivery_type_id  VARIABLE CLASS:  72253\n",
      "PRODUCED A CHART OF class_acctual MONTHLY STABILITY FOR:  delivery_type_id  VARIABLE CLASS:  65880\n",
      "PRODUCED A CHART OF class_acctual MONTHLY STABILITY FOR:  delivery_type_id  VARIABLE CLASS:  47990\n",
      "PRODUCED A CHART OF class_acctual MONTHLY STABILITY FOR:  delivery_type_id  VARIABLE CLASS:  71326\n",
      "PRODUCED A CHART OF class_acctual MONTHLY STABILITY FOR:  delivery_type_id  VARIABLE CLASS:  60395\n",
      "PRODUCED A CHART OF class_acctual MONTHLY STABILITY FOR:  delivery_type_id  VARIABLE CLASS:  53460\n",
      "PRODUCED A CHART OF class_acctual MONTHLY STABILITY FOR:  delivery_type_id  VARIABLE CLASS:  72456\n",
      "PRODUCED A CHART OF class_acctual MONTHLY STABILITY FOR:  delivery_type_id  VARIABLE CLASS:  71391\n",
      "PRODUCED A CHART OF class_acctual MONTHLY STABILITY FOR:  delivery_type_id  VARIABLE CLASS:  64612\n",
      "PRODUCED A CHART OF class_acctual MONTHLY STABILITY FOR:  delivery_type_id  VARIABLE CLASS:  11528\n",
      "PRODUCED A CHART OF class_acctual MONTHLY STABILITY FOR:  delivery_type_id  VARIABLE CLASS:  27394\n",
      "PRODUCED A CHART OF class_acctual MONTHLY STABILITY FOR:  delivery_type_id  VARIABLE CLASS:  64659\n",
      "PRODUCED A CHART OF class_acctual MONTHLY STABILITY FOR:  delivery_type_id  VARIABLE CLASS:  26793\n",
      "PRODUCED A CHART OF class_acctual MONTHLY STABILITY FOR:  delivery_type_id  VARIABLE CLASS:  71362\n",
      "PRODUCED A CHART OF class_acctual MONTHLY STABILITY FOR:  delivery_type_id  VARIABLE CLASS:  70656\n",
      "PRODUCED A CHART OF class_acctual MONTHLY STABILITY FOR:  delivery_type_id  VARIABLE CLASS:  28096\n",
      "PRODUCED A CHART OF class_acctual MONTHLY STABILITY FOR:  delivery_type_id  VARIABLE CLASS:  68803\n",
      "PRODUCED A CHART OF class_acctual MONTHLY STABILITY FOR:  delivery_type_id  VARIABLE CLASS:  77264\n",
      "PRODUCED A CHART OF class_acctual MONTHLY STABILITY FOR:  delivery_type_id  VARIABLE CLASS:  38614\n",
      "PRODUCED A CHART OF class_acctual MONTHLY STABILITY FOR:  delivery_type_id  VARIABLE CLASS:  37810\n",
      "PRODUCED A CHART OF class_acctual MONTHLY STABILITY FOR:  delivery_type_id  VARIABLE CLASS:  78326\n",
      "PRODUCED A CHART OF class_acctual MONTHLY STABILITY FOR:  delivery_type_id  VARIABLE CLASS:  29804\n",
      "PRODUCED A CHART OF class_acctual MONTHLY STABILITY FOR:  delivery_type_id  VARIABLE CLASS:  30169\n",
      "PRODUCED A CHART OF class_acctual MONTHLY STABILITY FOR:  delivery_type_id  VARIABLE CLASS:  51456\n"
     ]
    },
    {
     "name": "stdout",
     "output_type": "stream",
     "text": [
      "PRODUCED A CHART OF class_acctual MONTHLY STABILITY FOR:  delivery_type_id  VARIABLE CLASS:  75844\n",
      "PRODUCED A CHART OF class_acctual MONTHLY STABILITY FOR:  delivery_type_id  VARIABLE CLASS:  66226\n",
      "PRODUCED A CHART OF class_acctual MONTHLY STABILITY FOR:  delivery_type_id  VARIABLE CLASS:  71040\n",
      "PRODUCED A CHART OF class_acctual MONTHLY STABILITY FOR:  delivery_type_id  VARIABLE CLASS:  15656\n",
      "PRODUCED A CHART OF class_acctual MONTHLY STABILITY FOR:  delivery_type_id  VARIABLE CLASS:  56040\n",
      "PRODUCED A CHART OF class_acctual MONTHLY STABILITY FOR:  delivery_type_id  VARIABLE CLASS:  59553\n",
      "PRODUCED A CHART OF class_acctual MONTHLY STABILITY FOR:  delivery_type_id  VARIABLE CLASS:  53405\n",
      "PRODUCED A CHART OF class_acctual MONTHLY STABILITY FOR:  delivery_type_id  VARIABLE CLASS:  12380\n",
      "PRODUCED A CHART OF class_acctual MONTHLY STABILITY FOR:  delivery_type_id  VARIABLE CLASS:  64552\n"
     ]
    }
   ],
   "source": [
    "for col in df.columns:\n",
    "    if col not in [\n",
    "        'period_end_date',\n",
    "        'translated_when',\n",
    "        'month_year',\n",
    "        'class_acctual',\n",
    "#         'country_id_n',\n",
    "#         'delivery_type_id',\n",
    "#         'retailer_id',\n",
    "#         'brand_id',\n",
    "        'predict_automatch',\n",
    "#         'freq_id',\n",
    "#         'if_data_corrected'\n",
    "    ]:\n",
    "        print(col)\n",
    "        get_monthly_stability_chart(\n",
    "            col=col,\n",
    "            data_frame=df,\n",
    "            date_column=\"period_end_date\",\n",
    "            column_to_group_by=col,\n",
    "            column_to_count='class_acctual'\n",
    "        )"
   ]
  },
  {
   "cell_type": "markdown",
   "metadata": {},
   "source": [
    "**An example of model's underperformance:**"
   ]
  },
  {
   "cell_type": "markdown",
   "metadata": {},
   "source": [
    "country_id == '106'"
   ]
  },
  {
   "cell_type": "markdown",
   "metadata": {},
   "source": [
    "./docs/images/monthly_stability/class_acctual/country_id_n/CLASS_106_monthly_stability_grouped.jpg\n",
    "\n",
    "Observed:"
   ]
  },
  {
   "cell_type": "markdown",
   "metadata": {},
   "source": [
    "![image info](./docs/images/monthly_stability/class_acctual/country_id_n/CLASS_106_monthly_stability_grouped.jpg)\n"
   ]
  },
  {
   "cell_type": "markdown",
   "metadata": {},
   "source": [
    "./docs/images/monthly_stability/class_acctual/country_id_n/CLASS_106_monthly_stability_grouped.jpg\n",
    "\n",
    "Predicted:"
   ]
  },
  {
   "cell_type": "markdown",
   "metadata": {},
   "source": [
    "![image info](./docs/images/monthly_stability/class_acctual/country_id_n/CLASS_106_monthly_stability_grouped.jpg)"
   ]
  },
  {
   "cell_type": "code",
   "execution_count": null,
   "metadata": {},
   "outputs": [],
   "source": [
    "df_sub = df[['period_end_date', 'translated_when', 'country_id_n', 'prod_gr_id', 'predict_automatch', 'class_acctual']]"
   ]
  },
  {
   "cell_type": "code",
   "execution_count": null,
   "metadata": {
    "pycharm": {
     "name": "#%%\n"
    }
   },
   "outputs": [],
   "source": [
    "pysqldf(\n",
    "    \"\"\"\n",
    "    SELECT\n",
    "        'PREDICTED' AS type,\n",
    "        strftime('%Y-%m', period_end_date) AS month_year\n",
    "        ,country_id_n\n",
    "        ,predict_automatch\n",
    "        --,class_acctual\n",
    "        ,SUM(predict_automatch) AS predict_automatch_sum\n",
    "        --,SUM(class_acctual) AS class_acctual_sum\n",
    "    FROM df_sub\n",
    "    WHERE\n",
    "        country_id_n = '106'\n",
    "        --AND month_year = '2020-11'\n",
    "    GROUP BY\n",
    "        month_year\n",
    "        ,country_id_n\n",
    "        ,predict_automatch\n",
    "        --,class_acctual\n",
    "    ;\n",
    "    \"\"\"\n",
    ")"
   ]
  },
  {
   "cell_type": "code",
   "execution_count": null,
   "metadata": {
    "pycharm": {
     "name": "#%%\n"
    }
   },
   "outputs": [],
   "source": [
    "pysqldf(\n",
    "    \"\"\"\n",
    "    SELECT\n",
    "        'OBSERVED' AS type,\n",
    "        strftime('%Y-%m', period_end_date) AS month_year\n",
    "        ,country_id_n\n",
    "        --,predict_automatch\n",
    "        ,class_acctual\n",
    "        --,SUM(predict_automatch) AS predict_automatch_sum\n",
    "        ,SUM(class_acctual) AS class_acctual_sum\n",
    "    FROM df_sub\n",
    "    WHERE\n",
    "        country_id_n = '106'\n",
    "        --AND month_year = '2020-11'\n",
    "    GROUP BY\n",
    "        month_year\n",
    "        ,country_id_n\n",
    "        --,predict_automatch\n",
    "        ,class_acctual\n",
    "    ;\n",
    "    \"\"\"\n",
    ")"
   ]
  },
  {
   "cell_type": "code",
   "execution_count": null,
   "metadata": {},
   "outputs": [],
   "source": [
    "pysqldf(\n",
    "    \"\"\"\n",
    "    SELECT\n",
    "        'OBSERVED' AS type,\n",
    "        strftime('%Y-%m', period_end_date) AS month_year\n",
    "        --,country_id_n\n",
    "        --,predict_automatch\n",
    "        --,class_acctual\n",
    "        --,SUM(predict_automatch) AS predict_automatch_sum\n",
    "        ,SUM(class_acctual) AS class_acctual_sum\n",
    "    FROM df_sub\n",
    "    --WHERE\n",
    "        --country_id_n = '106'\n",
    "        --AND month_year = '2020-11'\n",
    "    GROUP BY\n",
    "        month_year\n",
    "        --,country_id_n\n",
    "        --,predict_automatch\n",
    "        --,class_acctual\n",
    "    ;\n",
    "    \"\"\"\n",
    ")"
   ]
  },
  {
   "cell_type": "code",
   "execution_count": null,
   "metadata": {},
   "outputs": [],
   "source": [
    "pysqldf(\n",
    "    \"\"\"\n",
    "    SELECT\n",
    "        'PREDICTED' AS type,\n",
    "        strftime('%Y-%m', period_end_date) AS month_year\n",
    "        --,country_id_n\n",
    "        --,predict_automatch\n",
    "        --,class_acctual\n",
    "        ,SUM(predict_automatch) AS predict_automatch_sum\n",
    "        --,SUM(class_acctual) AS class_acctual_sum\n",
    "    FROM df_sub\n",
    "    --WHERE\n",
    "        --country_id_n = '106'\n",
    "        --AND month_year = '2020-11'\n",
    "    GROUP BY\n",
    "        month_year\n",
    "        --,country_id_n\n",
    "        --,predict_automatch\n",
    "        --,class_acctual\n",
    "    ;\n",
    "    \"\"\"\n",
    ")"
   ]
  },
  {
   "cell_type": "code",
   "execution_count": null,
   "metadata": {},
   "outputs": [],
   "source": [
    "pysqldf(\n",
    "    \"\"\"\n",
    "    SELECT\n",
    "        'OBSERVED' AS type,\n",
    "        strftime('%Y-%m', translated_when) AS month_year_translated\n",
    "        --,country_id_n\n",
    "        --,predict_automatch\n",
    "        --,class_acctual\n",
    "        --,SUM(predict_automatch) AS predict_automatch_sum\n",
    "        ,SUM(class_acctual) AS class_acctual_sum\n",
    "    FROM df_sub\n",
    "    --WHERE\n",
    "        --country_id_n = '106'\n",
    "        --AND month_year = '2020-11'\n",
    "    GROUP BY\n",
    "        month_year_translated\n",
    "        --,country_id_n\n",
    "        --,predict_automatch\n",
    "        --,class_acctual\n",
    "    ;\n",
    "    \"\"\"\n",
    ")"
   ]
  },
  {
   "cell_type": "code",
   "execution_count": null,
   "metadata": {},
   "outputs": [],
   "source": []
  },
  {
   "cell_type": "markdown",
   "metadata": {},
   "source": [
    "# Something fishy"
   ]
  },
  {
   "cell_type": "markdown",
   "metadata": {},
   "source": [
    "# Demand or Supplie dropped ? A product got out of fashion?"
   ]
  },
  {
   "cell_type": "code",
   "execution_count": null,
   "metadata": {},
   "outputs": [],
   "source": [
    "pysqldf(\n",
    "    \"\"\"\n",
    "    SELECT DISTINCT\n",
    "        prod_gr_id\n",
    "        ,COUNT(prod_gr_id)\n",
    "    FROM (\n",
    "    SELECT\n",
    "        strftime('%Y-%m', period_end_date) AS month_year\n",
    "        ,translated_when\n",
    "        ,prod_gr_id\n",
    "        --,predict_automatch\n",
    "        --,class_acctual\n",
    "        --,SUM(predict_automatch) AS predict_automatch_sum\n",
    "        --,SUM(class_acctual) AS class_acctual_sum\n",
    "    FROM df_sub\n",
    "    WHERE\n",
    "        strftime('%Y', translated_when) < '2021'\n",
    "        --country_id_n = '105'\n",
    "        --AND month_year = '2020-11'\n",
    "    --GROUP BY\n",
    "        --month_year\n",
    "        --,country_id_n\n",
    "        --,predict_automatch\n",
    "        --,class_acctual\n",
    "    )\n",
    "    GROUP BY\n",
    "    prod_gr_id\n",
    "    ;\n",
    "    \"\"\"\n",
    ")"
   ]
  },
  {
   "cell_type": "code",
   "execution_count": null,
   "metadata": {},
   "outputs": [],
   "source": [
    "pysqldf(\n",
    "    \"\"\"\n",
    "    SELECT DISTINCT\n",
    "        prod_gr_id\n",
    "        ,COUNT(prod_gr_id)\n",
    "    FROM (\n",
    "    SELECT\n",
    "        strftime('%Y-%m', period_end_date) AS month_year\n",
    "        ,translated_when\n",
    "        ,prod_gr_id\n",
    "        --,predict_automatch\n",
    "        --,class_acctual\n",
    "        --,SUM(predict_automatch) AS predict_automatch_sum\n",
    "        --,SUM(class_acctual) AS class_acctual_sum\n",
    "    FROM df_sub\n",
    "    WHERE\n",
    "        strftime('%Y', translated_when) >= '2021'\n",
    "        --country_id_n = '105'\n",
    "        --AND month_year = '2020-11'\n",
    "    --GROUP BY\n",
    "        --month_year\n",
    "        --,country_id_n\n",
    "        --,predict_automatch\n",
    "        --,class_acctual\n",
    "    )\n",
    "    GROUP BY\n",
    "    prod_gr_id\n",
    "    ;\n",
    "    \"\"\"\n",
    ")"
   ]
  },
  {
   "cell_type": "code",
   "execution_count": null,
   "metadata": {
    "pycharm": {
     "name": "#%%\n"
    }
   },
   "outputs": [],
   "source": [
    "# pysqldf(\n",
    "#     \"\"\"\n",
    "#     SELECT\n",
    "#         strftime('%Y-%m', period_end_date) AS month_year\n",
    "#         ,country_id_n\n",
    "#         ,predict_automatch\n",
    "#         ,class_acctual\n",
    "#         --,SUM(predict_automatch) AS predict_automatch_sum\n",
    "#         --,SUM(class_acctual) AS class_acctual_sum\n",
    "#     FROM df_sub\n",
    "#     WHERE\n",
    "#         country_id_n = '105'\n",
    "#         AND month_year = '2020-11'\n",
    "#     --GROUP BY\n",
    "#         --month_year\n",
    "#         --,country_id_n\n",
    "#         --,predict_automatch\n",
    "#         --,class_acctual\n",
    "#     ;\n",
    "#     \"\"\"\n",
    "# )"
   ]
  },
  {
   "cell_type": "markdown",
   "metadata": {
    "pycharm": {
     "name": "#%% md\n"
    }
   },
   "source": [
    "# Post-Processing Bias Metrics for the Trained Model"
   ]
  },
  {
   "cell_type": "markdown",
   "metadata": {
    "pycharm": {
     "name": "#%% md\n"
    }
   },
   "source": [
    "## Difference in positive proportion in predicted labels (DPPL)"
   ]
  },
  {
   "cell_type": "markdown",
   "metadata": {
    "pycharm": {
     "name": "#%% md\n"
    }
   },
   "source": [
    "![image info](./docs/images/metrics/DPPL.png)"
   ]
  },
  {
   "cell_type": "markdown",
   "metadata": {
    "pycharm": {
     "name": "#%% md\n"
    }
   },
   "source": [
    "[SOURCE](https://pages.awscloud.com/rs/112-TZM-766/images/Amazon.AI.Fairness.and.Explainability.Whitepaper.pdf)\n"
   ]
  },
  {
   "cell_type": "markdown",
   "metadata": {
    "pycharm": {
     "name": "#%% md\n"
    }
   },
   "source": [
    "### CHARACTERISTICS OF METRIC:\n",
    "> DPPPL > -1 AND DPPPL < 1\n",
    "\n",
    "> For example, if the model grants loans to 50% of class 2 and to 60% of class 1, then it may be biased against class 2.\n",
    "We would have to decide whether a 10% difference is material."
   ]
  },
  {
   "cell_type": "markdown",
   "metadata": {
    "pycharm": {
     "name": "#%% md\n"
    }
   },
   "source": [
    "## VARIABLE: prod_gr_id"
   ]
  },
  {
   "cell_type": "markdown",
   "metadata": {
    "pycharm": {
     "name": "#%% md\n"
    }
   },
   "source": [
    "### prod_gr_id total count"
   ]
  },
  {
   "cell_type": "code",
   "execution_count": null,
   "metadata": {
    "pycharm": {
     "name": "#%%\n"
    }
   },
   "outputs": [],
   "source": [
    "total_counts = df.groupby(['prod_gr_id']) \\\n",
    "    .size() \\\n",
    "    .rename('count_total') \\\n",
    "    .reset_index() \\\n",
    "    .sort_values(by='prod_gr_id', ascending=False) \\\n",
    "    .set_index('prod_gr_id')\n",
    "\n",
    "total_counts"
   ]
  },
  {
   "cell_type": "markdown",
   "metadata": {
    "pycharm": {
     "name": "#%% md\n"
    }
   },
   "source": [
    "### prod_gr_id by predicted classes"
   ]
  },
  {
   "cell_type": "code",
   "execution_count": null,
   "metadata": {
    "pycharm": {
     "name": "#%%\n"
    }
   },
   "outputs": [],
   "source": [
    "grouped_counts = df.groupby(['prod_gr_id', 'predict_automatch']) \\\n",
    "    .size() \\\n",
    "    .rename('count') \\\n",
    "    .reset_index() \\\n",
    "    .sort_values(by='prod_gr_id', ascending=False) \\\n",
    "    .set_index('prod_gr_id')\n",
    "\n",
    "# grouped_counts"
   ]
  },
  {
   "cell_type": "code",
   "execution_count": null,
   "metadata": {
    "pycharm": {
     "name": "#%%\n"
    }
   },
   "outputs": [],
   "source": [
    "positive_grouped_counts = grouped_counts.loc[grouped_counts['predict_automatch'] == 1]\n",
    "\n",
    "# positive_grouped_counts"
   ]
  },
  {
   "cell_type": "code",
   "execution_count": null,
   "metadata": {
    "pycharm": {
     "name": "#%%\n"
    }
   },
   "outputs": [],
   "source": [
    "merged_counts = pd.merge(positive_grouped_counts, total_counts, left_index=True, right_index=True)\n",
    "\n",
    "# merged_counts"
   ]
  },
  {
   "cell_type": "markdown",
   "metadata": {},
   "source": [
    "### (DPPL) for prod_gr_id"
   ]
  },
  {
   "cell_type": "code",
   "execution_count": null,
   "metadata": {},
   "outputs": [],
   "source": [
    "ppl_prod_gr_id = get_PPL(\n",
    "    data_frame=df,\n",
    "    column_to_group_by='prod_gr_id',\n",
    "    column_to_count='predict_automatch'\n",
    ")\n",
    "\n",
    "ppl_prod_gr_id"
   ]
  },
  {
   "cell_type": "code",
   "execution_count": null,
   "metadata": {},
   "outputs": [],
   "source": [
    "dppl_prod_gr_id = get_DPPL(\n",
    "    data_frame=df,\n",
    "    column_to_group_by='prod_gr_id',\n",
    "    column_to_count='predict_automatch'\n",
    ")\n",
    "\n",
    "dppl_prod_gr_id"
   ]
  },
  {
   "cell_type": "markdown",
   "metadata": {},
   "source": [
    "#### Bucketizing dppl_prod_gr_id"
   ]
  },
  {
   "cell_type": "code",
   "execution_count": null,
   "metadata": {},
   "outputs": [],
   "source": [
    "print(pd.cut(dppl_prod_gr_id, bins=3).value_counts())"
   ]
  },
  {
   "cell_type": "markdown",
   "metadata": {},
   "source": [
    "#### CONCLUSIONS:\n",
    "\n",
    "> Basing solely on **DPPL** we can loosely assume that there is no disparity impact among **prod_gr_id** Classes"
   ]
  },
  {
   "cell_type": "markdown",
   "metadata": {},
   "source": [
    "## VARIABLE: country_id_n"
   ]
  },
  {
   "cell_type": "markdown",
   "metadata": {},
   "source": [
    "### country_id_n total count"
   ]
  },
  {
   "cell_type": "code",
   "execution_count": null,
   "metadata": {
    "scrolled": true
   },
   "outputs": [],
   "source": [
    "total_counts = df.groupby(['country_id_n']) \\\n",
    "    .size() \\\n",
    "    .rename('count_total') \\\n",
    "    .reset_index() \\\n",
    "    .sort_values(by='country_id_n', ascending=False) \\\n",
    "    .set_index('country_id_n')\n",
    "\n",
    "# total_counts"
   ]
  },
  {
   "cell_type": "markdown",
   "metadata": {},
   "source": [
    "### country_id_n by predicted classes"
   ]
  },
  {
   "cell_type": "code",
   "execution_count": null,
   "metadata": {
    "scrolled": true
   },
   "outputs": [],
   "source": [
    "grouped_counts = df.groupby(['country_id_n', 'predict_automatch']) \\\n",
    "    .size() \\\n",
    "    .rename('count') \\\n",
    "    .reset_index() \\\n",
    "    .sort_values(by='country_id_n', ascending=False) \\\n",
    "    .set_index('country_id_n')\n",
    "\n",
    "# grouped_counts"
   ]
  },
  {
   "cell_type": "code",
   "execution_count": null,
   "metadata": {
    "scrolled": true
   },
   "outputs": [],
   "source": [
    "positive_grouped_counts = grouped_counts.loc[grouped_counts['predict_automatch'] == 1]\n",
    "\n",
    "# positive_grouped_counts"
   ]
  },
  {
   "cell_type": "code",
   "execution_count": null,
   "metadata": {
    "scrolled": true
   },
   "outputs": [],
   "source": [
    "merged_counts = pd.merge(positive_grouped_counts, total_counts, left_index=True, right_index=True)\n",
    "\n",
    "# merged_counts"
   ]
  },
  {
   "cell_type": "markdown",
   "metadata": {},
   "source": [
    "### (DPPL) for country_id_n"
   ]
  },
  {
   "cell_type": "code",
   "execution_count": null,
   "metadata": {},
   "outputs": [],
   "source": [
    "ppl_country_id_n = get_PPL(\n",
    "    data_frame=df,\n",
    "    column_to_group_by='country_id_n',\n",
    "    column_to_count='predict_automatch'\n",
    ")\n",
    "\n",
    "ppl_country_id_n"
   ]
  },
  {
   "cell_type": "code",
   "execution_count": null,
   "metadata": {
    "scrolled": true
   },
   "outputs": [],
   "source": [
    "dppl_country_id_n = get_DPPL(\n",
    "    data_frame=df,\n",
    "    column_to_group_by='country_id_n',\n",
    "    column_to_count='predict_automatch'\n",
    ")\n",
    "\n",
    "dppl_country_id_n"
   ]
  },
  {
   "cell_type": "markdown",
   "metadata": {},
   "source": [
    "#### Bucketizing dppl_country_id_n"
   ]
  },
  {
   "cell_type": "code",
   "execution_count": null,
   "metadata": {},
   "outputs": [],
   "source": [
    "print(pd.cut(dppl_country_id_n, bins=3).value_counts())"
   ]
  },
  {
   "cell_type": "markdown",
   "metadata": {},
   "source": [
    "#### CONCLUSIONS:\n",
    "\n",
    "> Although it is likely. Basing solely on **DPPL** we can't assume if there is a disparity impact among **prod_gr_id** Classes yet. "
   ]
  },
  {
   "cell_type": "markdown",
   "metadata": {},
   "source": [
    "## Disparate (Adverse) Impact (DI)"
   ]
  },
  {
   "cell_type": "markdown",
   "metadata": {},
   "source": [
    "![image info](./docs/images/metrics/DI.png)"
   ]
  },
  {
   "cell_type": "markdown",
   "metadata": {},
   "source": [
    "[SOURCE](https://pages.awscloud.com/rs/112-TZM-766/images/Amazon.AI.Fairness.and.Explainability.Whitepaper.pdf)"
   ]
  },
  {
   "cell_type": "markdown",
   "metadata": {},
   "source": [
    "### CHARACTERISTICS OF METRIC:\n",
    "> **DI >= 0**\n",
    "\n",
    "> This measure may be considered fair if it resides in the **<0.8; 1.2>** range."
   ]
  },
  {
   "cell_type": "markdown",
   "metadata": {},
   "source": [
    "## (DI) for Variable: prod_gr_id"
   ]
  },
  {
   "cell_type": "code",
   "execution_count": null,
   "metadata": {},
   "outputs": [],
   "source": [
    "ppl_prod_gr_id"
   ]
  },
  {
   "cell_type": "code",
   "execution_count": null,
   "metadata": {
    "scrolled": true
   },
   "outputs": [],
   "source": [
    "di_prod_gr_id = sorted([abs(i / j) for i in ppl_prod_gr_id for j in ppl_prod_gr_id if i != j])"
   ]
  },
  {
   "cell_type": "markdown",
   "metadata": {},
   "source": [
    "#### Bucketizing di_prod_gr_id"
   ]
  },
  {
   "cell_type": "code",
   "execution_count": null,
   "metadata": {},
   "outputs": [],
   "source": [
    "print(pd.cut(di_prod_gr_id, bins=4).value_counts())"
   ]
  },
  {
   "cell_type": "markdown",
   "metadata": {},
   "source": [
    "#### CONCLUSIONS:\n",
    "\n",
    "> For each possible relation between Classes the metric resides between **<0.8; 1.2>**\n",
    "\n",
    "> We can loosely assume that there is no disparity impact between Classes of **prod_gr_id** Variable"
   ]
  },
  {
   "cell_type": "markdown",
   "metadata": {},
   "source": [
    "## (DI) for Variable: country_id_n"
   ]
  },
  {
   "cell_type": "code",
   "execution_count": null,
   "metadata": {},
   "outputs": [],
   "source": [
    "ppl_country_id_n"
   ]
  },
  {
   "cell_type": "code",
   "execution_count": null,
   "metadata": {},
   "outputs": [],
   "source": [
    "di_country_id_n = sorted([abs(i / j) for i in ppl_country_id_n for j in ppl_country_id_n if i != j])"
   ]
  },
  {
   "cell_type": "markdown",
   "metadata": {},
   "source": [
    "#### Bucketizing di_country_id_n"
   ]
  },
  {
   "cell_type": "code",
   "execution_count": null,
   "metadata": {
    "scrolled": true
   },
   "outputs": [],
   "source": [
    "print(pd.cut(di_country_id_n, bins=4).value_counts())"
   ]
  },
  {
   "cell_type": "markdown",
   "metadata": {},
   "source": [
    "> Dividing Ratios by Ratios, so values close to 1 are good"
   ]
  },
  {
   "cell_type": "code",
   "execution_count": null,
   "metadata": {
    "scrolled": true
   },
   "outputs": [],
   "source": [
    "pd.Series(di_country_id_n).describe()"
   ]
  },
  {
   "cell_type": "markdown",
   "metadata": {},
   "source": [
    "#### CONCLUSIONS:\n",
    "\n",
    "> There is more than 100 Classes of Variable **country_id_n** out of **<0.8; 1.2>** bounds.\n",
    "\n",
    "> At this moment we can loosely assume that there are some examples of Disparity Impact in case of **country_id_n** Variable.\n",
    "\n",
    "> Seems like **DI** tries to tell that distributions between countrie **106** and **1011** are diffrent from each other. If that is true I would recommend reducing dimmensionality by feature engineering. I would use **WoE** (**Weight of Evidence**) to do so."
   ]
  },
  {
   "cell_type": "markdown",
   "metadata": {},
   "source": [
    "## Difference in Conditional Outcome (DCO)\n",
    "> Type 1: **Difference in Conditional Acceptance (DCA)**\n",
    "\n",
    "> Type 2: **Difference in Conditional Rejection (DCR)**"
   ]
  },
  {
   "cell_type": "markdown",
   "metadata": {},
   "source": [
    "> When both **DCA** and **DCR** are very close to **0**, we can conclude that the proportion of qualified (as suggested by observed labels) applicants accepted by the model and the proportion of unqualified applicants rejected are nearly equal across both classes."
   ]
  },
  {
   "cell_type": "markdown",
   "metadata": {},
   "source": [
    "### Difference in Conditional Acceptance (DCA)"
   ]
  },
  {
   "cell_type": "markdown",
   "metadata": {},
   "source": [
    "![image info](./docs/images/metrics/DCA.jpg)"
   ]
  },
  {
   "cell_type": "markdown",
   "metadata": {},
   "source": [
    "[SOURCE](https://pages.awscloud.com/rs/112-TZM-766/images/Amazon.AI.Fairness.and.Explainability.Whitepaper.pdf)"
   ]
  },
  {
   "cell_type": "markdown",
   "metadata": {},
   "source": [
    "#### CHARACTERISTICS OF METRIC:\n",
    "> Unbounded\n",
    "\n",
    "> Zero denominator is possible. In such case the allocations to each Class are too small and a warning should be issued."
   ]
  },
  {
   "cell_type": "markdown",
   "metadata": {},
   "source": [
    "## (DCA) for Variable: prod_gr_id"
   ]
  },
  {
   "cell_type": "code",
   "execution_count": null,
   "metadata": {},
   "outputs": [],
   "source": [
    "ca_prod_gr_id = get_CA(\n",
    "    data_frame=df,\n",
    "    column_to_group_by='prod_gr_id',\n",
    "    column_to_count_acctuals='class_acctual',\n",
    "    column_to_count_predictions='predict_automatch'\n",
    ")\n",
    "\n",
    "ca_prod_gr_id"
   ]
  },
  {
   "cell_type": "code",
   "execution_count": null,
   "metadata": {},
   "outputs": [],
   "source": [
    "dca_prod_gr_id = get_DCA(\n",
    "    data_frame=df,\n",
    "    column_to_group_by='prod_gr_id',\n",
    "    column_to_count_acctuals='class_acctual',\n",
    "    column_to_count_predictions='predict_automatch'\n",
    ")\n",
    "\n",
    "dca_prod_gr_id"
   ]
  },
  {
   "cell_type": "markdown",
   "metadata": {},
   "source": [
    "#### Bucketizing dca_prod_gr_id"
   ]
  },
  {
   "cell_type": "code",
   "execution_count": null,
   "metadata": {},
   "outputs": [],
   "source": [
    "print(pd.cut(dca_prod_gr_id, bins=3).value_counts())"
   ]
  },
  {
   "cell_type": "markdown",
   "metadata": {},
   "source": [
    "#### CONCLUSIONS:\n",
    "\n",
    "> TODO: Diffrances are really small"
   ]
  },
  {
   "cell_type": "markdown",
   "metadata": {},
   "source": [
    "## (DCA) for Variable: country_id_n"
   ]
  },
  {
   "cell_type": "code",
   "execution_count": null,
   "metadata": {
    "scrolled": true
   },
   "outputs": [],
   "source": [
    "ca_country_id_n = get_CA(\n",
    "    data_frame=df,\n",
    "    column_to_group_by='country_id_n',\n",
    "    column_to_count_acctuals='class_acctual',\n",
    "    column_to_count_predictions='predict_automatch'\n",
    ")\n",
    "\n",
    "ca_country_id_n"
   ]
  },
  {
   "cell_type": "code",
   "execution_count": null,
   "metadata": {},
   "outputs": [],
   "source": [
    "df[df['country_id_n']=='109'].describe()"
   ]
  },
  {
   "cell_type": "markdown",
   "metadata": {},
   "source": [
    "> from the CA and mean we can assume that the Model underperforms when 'country_id_n'=='109'"
   ]
  },
  {
   "cell_type": "code",
   "execution_count": null,
   "metadata": {},
   "outputs": [],
   "source": [
    "dca_country_id_n = get_DCA(\n",
    "    data_frame=df,\n",
    "    column_to_group_by='country_id_n',\n",
    "    column_to_count_acctuals='class_acctual',\n",
    "    column_to_count_predictions='predict_automatch'\n",
    ")\n",
    "\n",
    "dca_country_id_n"
   ]
  },
  {
   "cell_type": "markdown",
   "metadata": {},
   "source": [
    "#### Bucketizing dca_country_id_n"
   ]
  },
  {
   "cell_type": "code",
   "execution_count": null,
   "metadata": {},
   "outputs": [],
   "source": [
    "print(pd.cut(dca_country_id_n, bins=3).value_counts())"
   ]
  },
  {
   "cell_type": "markdown",
   "metadata": {},
   "source": [
    "#### CONCLUSIONS:\n",
    "\n",
    "> TODO:"
   ]
  },
  {
   "cell_type": "markdown",
   "metadata": {},
   "source": [
    "### Difference in Conditional Rejection (DCR)"
   ]
  },
  {
   "cell_type": "markdown",
   "metadata": {},
   "source": [
    "![image info](./docs/images/metrics/DCR.jpg)"
   ]
  },
  {
   "cell_type": "markdown",
   "metadata": {},
   "source": [
    "[SOURCE](https://pages.awscloud.com/rs/112-TZM-766/images/Amazon.AI.Fairness.and.Explainability.Whitepaper.pdf)"
   ]
  },
  {
   "cell_type": "markdown",
   "metadata": {},
   "source": [
    "#### CHARACTERISTICS OF METRIC:\n",
    "> Unbounded\n",
    "\n",
    "> Zero denominator is possible. In such case the allocations to each Class are too small and a warning should be issued."
   ]
  },
  {
   "cell_type": "markdown",
   "metadata": {},
   "source": [
    "## (DCR) for Variable: prod_gr_id"
   ]
  },
  {
   "cell_type": "code",
   "execution_count": null,
   "metadata": {},
   "outputs": [],
   "source": [
    "cr_prod_gr_id = get_CR(\n",
    "    data_frame=df,\n",
    "    column_to_group_by='prod_gr_id',\n",
    "    column_to_count_acctuals='class_acctual',\n",
    "    column_to_count_predictions='predict_automatch'\n",
    ")\n",
    "\n",
    "cr_prod_gr_id"
   ]
  },
  {
   "cell_type": "code",
   "execution_count": null,
   "metadata": {},
   "outputs": [],
   "source": [
    "dcr_prod_gr_id = get_DCR(\n",
    "    data_frame=df,\n",
    "    column_to_group_by='prod_gr_id',\n",
    "    column_to_count_acctuals='class_acctual',\n",
    "    column_to_count_predictions='predict_automatch'\n",
    ")\n",
    "\n",
    "dcr_prod_gr_id"
   ]
  },
  {
   "cell_type": "markdown",
   "metadata": {},
   "source": [
    "#### Bucketizing dcr_prod_gr_id"
   ]
  },
  {
   "cell_type": "code",
   "execution_count": null,
   "metadata": {},
   "outputs": [],
   "source": [
    "print(pd.cut(dcr_prod_gr_id, bins=3).value_counts())"
   ]
  },
  {
   "cell_type": "markdown",
   "metadata": {},
   "source": [
    "#### CONCLUSIONS:\n",
    "\n",
    "> TODO:"
   ]
  },
  {
   "cell_type": "markdown",
   "metadata": {},
   "source": [
    "## (DCR) for Variable: country_id_n"
   ]
  },
  {
   "cell_type": "code",
   "execution_count": null,
   "metadata": {
    "scrolled": true
   },
   "outputs": [],
   "source": [
    "cr_country_id_n = get_CR(\n",
    "    data_frame=df,\n",
    "    column_to_group_by='country_id_n',\n",
    "    column_to_count_acctuals='class_acctual',\n",
    "    column_to_count_predictions='predict_automatch'\n",
    ")\n",
    "\n",
    "cr_country_id_n"
   ]
  },
  {
   "cell_type": "code",
   "execution_count": null,
   "metadata": {},
   "outputs": [],
   "source": [
    "dcr_country_id_n = get_DCR(\n",
    "    data_frame=df,\n",
    "    column_to_group_by='country_id_n',\n",
    "    column_to_count_acctuals='class_acctual',\n",
    "    column_to_count_predictions='predict_automatch'\n",
    ")\n",
    "\n",
    "dcr_country_id_n"
   ]
  },
  {
   "cell_type": "markdown",
   "metadata": {},
   "source": [
    "#### Bucketizing dcr_country_id_n"
   ]
  },
  {
   "cell_type": "code",
   "execution_count": null,
   "metadata": {},
   "outputs": [],
   "source": [
    "print(pd.cut(dcr_country_id_n, bins=3).value_counts())"
   ]
  },
  {
   "cell_type": "markdown",
   "metadata": {},
   "source": [
    "#### CONCLUSIONS:\n",
    "\n",
    "> TODO:"
   ]
  },
  {
   "cell_type": "code",
   "execution_count": null,
   "metadata": {},
   "outputs": [],
   "source": [
    "cm_by_class_prod_gr_id = get_class_cm(\n",
    "    data_frame=df,\n",
    "    acctuals='class_acctual',\n",
    "    predictions='predict_automatch',\n",
    "    column_to_group_by='prod_gr_id'\n",
    ")\n",
    "\n",
    "cm_by_class_prod_gr_id"
   ]
  },
  {
   "cell_type": "code",
   "execution_count": null,
   "metadata": {},
   "outputs": [],
   "source": [
    "rd_prod_gr_id = get_RD(\n",
    "    data_frame=df,\n",
    "    acctuals='class_acctual',\n",
    "    predictions='predict_automatch',\n",
    "    column_to_group_by='prod_gr_id'\n",
    ")\n",
    "\n",
    "rd_prod_gr_id"
   ]
  },
  {
   "cell_type": "markdown",
   "metadata": {},
   "source": [
    "#### Bucketizing rd_prod_gr_id"
   ]
  },
  {
   "cell_type": "code",
   "execution_count": null,
   "metadata": {},
   "outputs": [],
   "source": [
    "print(pd.cut(rd_prod_gr_id, bins=3).value_counts())"
   ]
  },
  {
   "cell_type": "markdown",
   "metadata": {},
   "source": [
    "#### CONCLUSIONS:\n",
    "\n",
    "> TODO:"
   ]
  },
  {
   "cell_type": "markdown",
   "metadata": {},
   "source": [
    "## (RD) for Variable: country_id_n"
   ]
  },
  {
   "cell_type": "code",
   "execution_count": null,
   "metadata": {},
   "outputs": [],
   "source": [
    "cm_by_class_prod_gr_id = get_class_cm(\n",
    "    data_frame=df,\n",
    "    acctuals='class_acctual',\n",
    "    predictions='predict_automatch',\n",
    "    column_to_group_by='country_id_n'\n",
    ")\n",
    "\n",
    "cm_by_class_prod_gr_id"
   ]
  },
  {
   "cell_type": "code",
   "execution_count": null,
   "metadata": {},
   "outputs": [],
   "source": [
    "recall_by_class = get_RD(\n",
    "    data_frame=df,\n",
    "    acctuals='class_acctual',\n",
    "    predictions='predict_automatch',\n",
    "    column_to_group_by='country_id_n'\n",
    ")\n",
    "\n",
    "recall_by_class"
   ]
  },
  {
   "cell_type": "markdown",
   "metadata": {},
   "source": [
    "#### Bucketizing recall_by_class"
   ]
  },
  {
   "cell_type": "code",
   "execution_count": null,
   "metadata": {},
   "outputs": [],
   "source": [
    "print(pd.cut(recall_by_class, bins=3).value_counts())"
   ]
  },
  {
   "cell_type": "markdown",
   "metadata": {},
   "source": [
    "#### CONCLUSIONS:\n",
    "\n",
    "> TODO:"
   ]
  },
  {
   "cell_type": "markdown",
   "metadata": {},
   "source": [
    "## Difference in label rates (DLR)"
   ]
  },
  {
   "cell_type": "markdown",
   "metadata": {},
   "source": [
    "![image info](./docs/images/metrics/DAR.png)"
   ]
  },
  {
   "cell_type": "markdown",
   "metadata": {},
   "source": [
    "[SOURCE](https://pages.awscloud.com/rs/112-TZM-766/images/Amazon.AI.Fairness.and.Explainability.Whitepaper.pdf)"
   ]
  },
  {
   "cell_type": "markdown",
   "metadata": {},
   "source": [
    "#### CHARACTERISTICS OF METRIC:\n",
    "> DAR > -1 AND DAR < 1\n",
    "\n",
    "> DRR > -1 AND DRR < 1\n",
    "\n",
    "> DAR is the same as precision difference between the first and second classes."
   ]
  },
  {
   "cell_type": "markdown",
   "metadata": {},
   "source": [
    "## (DAR) for Variable: prod_gr_id"
   ]
  },
  {
   "cell_type": "code",
   "execution_count": null,
   "metadata": {},
   "outputs": [],
   "source": [
    "ar_by_class_prod_gr_id = get_AR(\n",
    "    data_frame=df,\n",
    "    column_to_count_acctuals='class_acctual',\n",
    "    column_to_count_predictions='predict_automatch',\n",
    "    column_to_group_by='prod_gr_id'\n",
    ")\n",
    "\n",
    "ar_by_class_prod_gr_id"
   ]
  },
  {
   "cell_type": "code",
   "execution_count": null,
   "metadata": {},
   "outputs": [],
   "source": [
    "dar_by_class_prod_gr_id = get_DAR(\n",
    "    data_frame=df,\n",
    "    column_to_count_acctuals='class_acctual',\n",
    "    column_to_count_predictions='predict_automatch',\n",
    "    column_to_group_by='prod_gr_id'\n",
    ")\n",
    "\n",
    "dar_by_class_prod_gr_id"
   ]
  },
  {
   "cell_type": "markdown",
   "metadata": {},
   "source": [
    "#### Bucketizing dar_by_class_prod_gr_id"
   ]
  },
  {
   "cell_type": "code",
   "execution_count": null,
   "metadata": {},
   "outputs": [],
   "source": [
    "print(pd.cut(dar_by_class_prod_gr_id, bins=3).value_counts())"
   ]
  },
  {
   "cell_type": "markdown",
   "metadata": {},
   "source": [
    "## (DRR) for Variable: prod_gr_id"
   ]
  },
  {
   "cell_type": "code",
   "execution_count": null,
   "metadata": {},
   "outputs": [],
   "source": [
    "rr_by_class_prod_gr_id = get_RR(\n",
    "    data_frame=df,\n",
    "    column_to_count_acctuals='class_acctual',\n",
    "    column_to_count_predictions='predict_automatch',\n",
    "    column_to_group_by='prod_gr_id'\n",
    ")\n",
    "\n",
    "rr_by_class_prod_gr_id"
   ]
  },
  {
   "cell_type": "code",
   "execution_count": null,
   "metadata": {},
   "outputs": [],
   "source": [
    "drr_by_class_prod_gr_id = get_DRR(\n",
    "    data_frame=df,\n",
    "    column_to_count_acctuals='class_acctual',\n",
    "    column_to_count_predictions='predict_automatch',\n",
    "    column_to_group_by='prod_gr_id'\n",
    ")\n",
    "\n",
    "drr_by_class_prod_gr_id"
   ]
  },
  {
   "cell_type": "markdown",
   "metadata": {},
   "source": [
    "#### Bucketizing dar_by_class_prod_gr_id"
   ]
  },
  {
   "cell_type": "code",
   "execution_count": null,
   "metadata": {},
   "outputs": [],
   "source": [
    "print(pd.cut(drr_by_class_prod_gr_id, bins=3).value_counts())"
   ]
  },
  {
   "cell_type": "markdown",
   "metadata": {},
   "source": [
    "#### CONCLUSIONS:\n",
    "\n",
    "> TODO:"
   ]
  },
  {
   "cell_type": "markdown",
   "metadata": {},
   "source": [
    "## (DAR) for Variable: country_id_n"
   ]
  },
  {
   "cell_type": "code",
   "execution_count": null,
   "metadata": {},
   "outputs": [],
   "source": [
    "ar_by_class_country_id_n = get_AR(\n",
    "    data_frame=df,\n",
    "    column_to_count_acctuals='class_acctual',\n",
    "    column_to_count_predictions='predict_automatch',\n",
    "    column_to_group_by='country_id_n'\n",
    ")\n",
    "\n",
    "ar_by_class_country_id_n"
   ]
  },
  {
   "cell_type": "code",
   "execution_count": null,
   "metadata": {},
   "outputs": [],
   "source": [
    "dar_by_class_country_id_n = get_DAR(\n",
    "    data_frame=df,\n",
    "    column_to_count_acctuals='class_acctual',\n",
    "    column_to_count_predictions='predict_automatch',\n",
    "    column_to_group_by='country_id_n'\n",
    ")\n",
    "\n",
    "dar_by_class_country_id_n"
   ]
  },
  {
   "cell_type": "markdown",
   "metadata": {},
   "source": [
    "#### Bucketizing dar_by_class_prod_gr_id"
   ]
  },
  {
   "cell_type": "code",
   "execution_count": null,
   "metadata": {},
   "outputs": [],
   "source": [
    "print(pd.cut(dar_by_class_country_id_n, bins=3).value_counts())"
   ]
  },
  {
   "cell_type": "markdown",
   "metadata": {},
   "source": [
    "## (DRR) for Variable: country_id_n"
   ]
  },
  {
   "cell_type": "code",
   "execution_count": null,
   "metadata": {},
   "outputs": [],
   "source": [
    "rr_by_class_country_id_n = get_RR(\n",
    "    data_frame=df,\n",
    "    column_to_count_acctuals='class_acctual',\n",
    "    column_to_count_predictions='predict_automatch',\n",
    "    column_to_group_by='country_id_n'\n",
    ")\n",
    "\n",
    "rr_by_class_country_id_n"
   ]
  },
  {
   "cell_type": "code",
   "execution_count": null,
   "metadata": {},
   "outputs": [],
   "source": [
    "drr_by_class_country_id_n = get_DRR(\n",
    "    data_frame=df,\n",
    "    column_to_count_acctuals='class_acctual',\n",
    "    column_to_count_predictions='predict_automatch',\n",
    "    column_to_group_by='country_id_n'\n",
    ")\n",
    "\n",
    "drr_by_class_country_id_n"
   ]
  },
  {
   "cell_type": "markdown",
   "metadata": {},
   "source": [
    "#### Bucketizing dar_by_class_prod_gr_id"
   ]
  },
  {
   "cell_type": "code",
   "execution_count": null,
   "metadata": {},
   "outputs": [],
   "source": [
    "print(pd.cut(drr_by_class_country_id_n, bins=3).value_counts())"
   ]
  },
  {
   "cell_type": "markdown",
   "metadata": {},
   "source": [
    "#### CONCLUSIONS:\n",
    "\n",
    "> TODO:"
   ]
  },
  {
   "cell_type": "markdown",
   "metadata": {},
   "source": [
    "## Accuracy DIfference (AD)"
   ]
  },
  {
   "cell_type": "markdown",
   "metadata": {},
   "source": [
    "![image info](./docs/images/metrics/AD.jpg)"
   ]
  },
  {
   "cell_type": "markdown",
   "metadata": {},
   "source": [
    "[SOURCE](https://pages.awscloud.com/rs/112-TZM-766/images/Amazon.AI.Fairness.and.Explainability.Whitepaper.pdf)"
   ]
  },
  {
   "cell_type": "markdown",
   "metadata": {},
   "source": [
    "#### CHARACTERISTICS OF METRIC:\n",
    "> Unbounded metric\n",
    "\n",
    "> Care needed when FN = 0"
   ]
  },
  {
   "cell_type": "markdown",
   "metadata": {},
   "source": [
    "## (AD) for Variable: prod_gr_id"
   ]
  },
  {
   "cell_type": "code",
   "execution_count": null,
   "metadata": {},
   "outputs": [],
   "source": [
    "a_by_class_prod_gr_id = get_A(\n",
    "    data_frame=df,\n",
    "    column_to_count_acctuals='class_acctual',\n",
    "    column_to_count_predictions='predict_automatch',\n",
    "    column_to_group_by='prod_gr_id'\n",
    ")\n",
    "\n",
    "rr_by_class_prod_gr_id"
   ]
  },
  {
   "cell_type": "code",
   "execution_count": null,
   "metadata": {},
   "outputs": [],
   "source": [
    "ad_by_class_country_id_n = get_AD(\n",
    "    data_frame=df,\n",
    "    column_to_count_acctuals='class_acctual',\n",
    "    column_to_count_predictions='predict_automatch',\n",
    "    column_to_group_by='prod_gr_id'\n",
    ")\n",
    "\n",
    "ad_by_class_country_id_n"
   ]
  },
  {
   "cell_type": "markdown",
   "metadata": {},
   "source": [
    "#### Bucketizing dar_by_class_prod_gr_id"
   ]
  },
  {
   "cell_type": "code",
   "execution_count": null,
   "metadata": {},
   "outputs": [],
   "source": [
    "print(pd.cut(ad_by_class_country_id_n, bins=3).value_counts())"
   ]
  },
  {
   "cell_type": "markdown",
   "metadata": {},
   "source": [
    "#### CONCLUSIONS:\n",
    "\n",
    "> TODO:"
   ]
  },
  {
   "cell_type": "markdown",
   "metadata": {},
   "source": [
    "## (AD) for Variable: country_id_n"
   ]
  },
  {
   "cell_type": "code",
   "execution_count": null,
   "metadata": {},
   "outputs": [],
   "source": [
    "a_by_class_country_id_n = get_A(\n",
    "    data_frame=df,\n",
    "    column_to_count_acctuals='class_acctual',\n",
    "    column_to_count_predictions='predict_automatch',\n",
    "    column_to_group_by='country_id_n'\n",
    ")\n",
    "\n",
    "rr_by_class_country_id_n"
   ]
  },
  {
   "cell_type": "code",
   "execution_count": null,
   "metadata": {},
   "outputs": [],
   "source": [
    "ad_by_class_country_id_n = get_AD(\n",
    "    data_frame=df,\n",
    "    column_to_count_acctuals='class_acctual',\n",
    "    column_to_count_predictions='predict_automatch',\n",
    "    column_to_group_by='country_id_n'\n",
    ")\n",
    "\n",
    "ad_by_class_country_id_n"
   ]
  },
  {
   "cell_type": "markdown",
   "metadata": {},
   "source": [
    "#### Bucketizing dar_by_class_prod_gr_id"
   ]
  },
  {
   "cell_type": "code",
   "execution_count": null,
   "metadata": {},
   "outputs": [],
   "source": [
    "print(pd.cut(ad_by_class_country_id_n, bins=3).value_counts())"
   ]
  },
  {
   "cell_type": "markdown",
   "metadata": {},
   "source": [
    "#### CONCLUSIONS:\n",
    "\n",
    "> TODO:"
   ]
  },
  {
   "cell_type": "code",
   "execution_count": null,
   "metadata": {},
   "outputs": [],
   "source": []
  },
  {
   "cell_type": "code",
   "execution_count": null,
   "metadata": {},
   "outputs": [],
   "source": []
  }
 ],
 "metadata": {
  "kernelspec": {
   "display_name": "Python 3 (ipykernel)",
   "language": "python",
   "name": "python3"
  },
  "language_info": {
   "codemirror_mode": {
    "name": "ipython",
    "version": 3
   },
   "file_extension": ".py",
   "mimetype": "text/x-python",
   "name": "python",
   "nbconvert_exporter": "python",
   "pygments_lexer": "ipython3",
   "version": "3.9.3"
  }
 },
 "nbformat": 4,
 "nbformat_minor": 1
}

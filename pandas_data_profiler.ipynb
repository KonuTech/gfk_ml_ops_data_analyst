{
 "cells": [
  {
   "cell_type": "code",
   "execution_count": 1,
   "metadata": {
    "pycharm": {
     "name": "#%%\n"
    }
   },
   "outputs": [],
   "source": [
    "import warnings\n",
    "warnings.filterwarnings('ignore')"
   ]
  },
  {
   "cell_type": "code",
   "execution_count": 2,
   "metadata": {
    "pycharm": {
     "name": "#%%\n"
    },
    "scrolled": true
   },
   "outputs": [],
   "source": [
    "# !pip list"
   ]
  },
  {
   "cell_type": "markdown",
   "metadata": {
    "pycharm": {
     "name": "#%% md\n"
    }
   },
   "source": [
    "# Libraries"
   ]
  },
  {
   "cell_type": "code",
   "execution_count": 3,
   "metadata": {
    "pycharm": {
     "name": "#%%\n"
    }
   },
   "outputs": [],
   "source": [
    "import os\n",
    "import json\n",
    "import pandas as pd\n",
    "from pandas_profiling import ProfileReport"
   ]
  },
  {
   "cell_type": "code",
   "execution_count": 4,
   "metadata": {
    "pycharm": {
     "name": "#%%\n"
    }
   },
   "outputs": [],
   "source": [
    "INPUT_PATH=\"input\"\n",
    "OUTPUT_PATH=\"output\"\n",
    "CONFIG_PATH=\"config\"\n",
    "\n",
    "INPUT_DATA=\"test_data2\"\n",
    "INPUT_DATA_CONFIG=\"input_config\"\n",
    "OUTPUT_DATA=\"output\"\n",
    "\n",
    "INPUT_EXTENSION=\"csv\"\n",
    "INPUT_CONFIG_EXTENSION=\"json\"\n",
    "OUTPUT_EXTENSION=\"csv\"\n",
    "\n",
    "INPUT_FILE=f\"{INPUT_DATA}.{INPUT_EXTENSION}\"\n",
    "INPUT_CONFIG_FILE=f\"{INPUT_DATA_CONFIG}.{INPUT_CONFIG_EXTENSION}\"\n",
    "OUTPUT_FILE=f\"{OUTPUT_DATA}.{OUTPUT_EXTENSION}\"\n",
    "\n",
    "INPUT_ABS_APTH=os.path.abspath(os.path.join(INPUT_PATH, INPUT_FILE))\n",
    "INPUT_FILE_CONFIG=os.path.abspath(os.path.join(CONFIG_PATH, INPUT_CONFIG_FILE))\n",
    "OUTPUT_ABS_APTH=os.path.abspath(os.path.join(OUTPUT_PATH, OUTPUT_FILE))"
   ]
  },
  {
   "cell_type": "code",
   "execution_count": 5,
   "metadata": {
    "pycharm": {
     "name": "#%%\n"
    }
   },
   "outputs": [],
   "source": [
    "with open(INPUT_FILE_CONFIG, encoding='utf-8') as f:\n",
    "    CONFIG = json.load(f)"
   ]
  },
  {
   "cell_type": "code",
   "execution_count": 6,
   "metadata": {
    "pycharm": {
     "name": "#%%\n"
    }
   },
   "outputs": [
    {
     "data": {
      "text/plain": [
       "{'INPUTS': {'FILE_NAME': ['test_data2.csv'],\n",
       "  'SEPARATOR': ',',\n",
       "  'DECIMAL': None,\n",
       "  'ENCODING': 'utf-8',\n",
       "  'FLOAT_PRECISION': 'high',\n",
       "  'INDEXES': ['period_end_date', 'translated_when'],\n",
       "  'DATE_COLUMNS': ['period_end_date', 'translated_when'],\n",
       "  'DTYPE': {'if_data_corrected': 'object',\n",
       "   'prod_gr_id': 'object',\n",
       "   'country_id_n': 'object',\n",
       "   'delivery_type_id': 'object',\n",
       "   'freq_id': 'object',\n",
       "   'retailer_id': 'object',\n",
       "   'brand_id': 'object',\n",
       "   'predict_automatch': 'float',\n",
       "   'class_acctual': 'float'},\n",
       "  'CATEGORICAL_FEATURES': ['country_id_n',\n",
       "   'prod_gr_id',\n",
       "   'retailer_id',\n",
       "   'brand_id',\n",
       "   'delivery_type_id',\n",
       "   'week_number'],\n",
       "  'COLUMNS_WITH_NAN_VALUES': [None]},\n",
       " 'MODEL': {'TARGET': 'class_acctual',\n",
       "  'PREDICTION': 'predict_automatch',\n",
       "  'DATETIME': 'translated_when'},\n",
       " 'OUTPUTS': {'NAME': [None],\n",
       "  'COLUMNS_TO_EXCLUDE': ['if_data_corrected', 'freq_id'],\n",
       "  'BREAKING_POINT_DT': '2020-11-28 00:00:00+00:00'}}"
      ]
     },
     "execution_count": 6,
     "metadata": {},
     "output_type": "execute_result"
    }
   ],
   "source": [
    "CONFIG"
   ]
  },
  {
   "cell_type": "markdown",
   "metadata": {
    "pycharm": {
     "name": "#%% md\n"
    }
   },
   "source": [
    "# Load data"
   ]
  },
  {
   "cell_type": "code",
   "execution_count": 7,
   "metadata": {
    "pycharm": {
     "name": "#%%\n"
    }
   },
   "outputs": [],
   "source": [
    "df = pd.read_csv(\n",
    "    INPUT_ABS_APTH,\n",
    "    sep=CONFIG['INPUTS']['SEPARATOR'],\n",
    "    encoding=CONFIG['INPUTS']['ENCODING'],\n",
    "    infer_datetime_format=True,\n",
    "    parse_dates=CONFIG['INPUTS']['DATE_COLUMNS'],\n",
    "    engine=\"c\",\n",
    "    low_memory=False,\n",
    "    skipinitialspace=True,\n",
    "    dtype=CONFIG['INPUTS']['DTYPE']\n",
    ")"
   ]
  },
  {
   "cell_type": "code",
   "execution_count": 8,
   "metadata": {
    "pycharm": {
     "name": "#%%\n"
    }
   },
   "outputs": [
    {
     "name": "stdout",
     "output_type": "stream",
     "text": [
      "<class 'pandas.core.frame.DataFrame'>\n",
      "RangeIndex: 19697 entries, 0 to 19696\n",
      "Data columns (total 11 columns):\n",
      " #   Column             Non-Null Count  Dtype              \n",
      "---  ------             --------------  -----              \n",
      " 0   period_end_date    19640 non-null  datetime64[ns, UTC]\n",
      " 1   translated_when    19697 non-null  datetime64[ns, UTC]\n",
      " 2   if_data_corrected  19697 non-null  object             \n",
      " 3   prod_gr_id         19697 non-null  object             \n",
      " 4   country_id_n       18405 non-null  object             \n",
      " 5   delivery_type_id   18362 non-null  object             \n",
      " 6   freq_id            19697 non-null  object             \n",
      " 7   retailer_id        19697 non-null  object             \n",
      " 8   brand_id           19697 non-null  object             \n",
      " 9   predict_automatch  19368 non-null  float64            \n",
      " 10  class_acctual      19697 non-null  float64            \n",
      "dtypes: datetime64[ns, UTC](2), float64(2), object(7)\n",
      "memory usage: 1.7+ MB\n"
     ]
    }
   ],
   "source": [
    "df.info()"
   ]
  },
  {
   "cell_type": "code",
   "execution_count": 9,
   "metadata": {
    "pycharm": {
     "name": "#%%\n"
    }
   },
   "outputs": [],
   "source": [
    "df.sort_values(by=['translated_when'], inplace=True)"
   ]
  },
  {
   "cell_type": "code",
   "execution_count": 10,
   "metadata": {
    "pycharm": {
     "name": "#%%\n"
    }
   },
   "outputs": [
    {
     "data": {
      "text/html": [
       "<div>\n",
       "<style scoped>\n",
       "    .dataframe tbody tr th:only-of-type {\n",
       "        vertical-align: middle;\n",
       "    }\n",
       "\n",
       "    .dataframe tbody tr th {\n",
       "        vertical-align: top;\n",
       "    }\n",
       "\n",
       "    .dataframe thead th {\n",
       "        text-align: right;\n",
       "    }\n",
       "</style>\n",
       "<table border=\"1\" class=\"dataframe\">\n",
       "  <thead>\n",
       "    <tr style=\"text-align: right;\">\n",
       "      <th></th>\n",
       "      <th>period_end_date</th>\n",
       "      <th>translated_when</th>\n",
       "      <th>if_data_corrected</th>\n",
       "      <th>prod_gr_id</th>\n",
       "      <th>country_id_n</th>\n",
       "      <th>delivery_type_id</th>\n",
       "      <th>freq_id</th>\n",
       "      <th>retailer_id</th>\n",
       "      <th>brand_id</th>\n",
       "      <th>predict_automatch</th>\n",
       "      <th>class_acctual</th>\n",
       "    </tr>\n",
       "  </thead>\n",
       "  <tbody>\n",
       "    <tr>\n",
       "      <th>count</th>\n",
       "      <td>19640</td>\n",
       "      <td>19697</td>\n",
       "      <td>19697</td>\n",
       "      <td>19697</td>\n",
       "      <td>18405</td>\n",
       "      <td>18362</td>\n",
       "      <td>19697</td>\n",
       "      <td>19697</td>\n",
       "      <td>19697</td>\n",
       "      <td>19368.000000</td>\n",
       "      <td>19697.000000</td>\n",
       "    </tr>\n",
       "    <tr>\n",
       "      <th>unique</th>\n",
       "      <td>NaN</td>\n",
       "      <td>NaN</td>\n",
       "      <td>2</td>\n",
       "      <td>3</td>\n",
       "      <td>34</td>\n",
       "      <td>914</td>\n",
       "      <td>2</td>\n",
       "      <td>52</td>\n",
       "      <td>199</td>\n",
       "      <td>NaN</td>\n",
       "      <td>NaN</td>\n",
       "    </tr>\n",
       "    <tr>\n",
       "      <th>top</th>\n",
       "      <td>NaN</td>\n",
       "      <td>NaN</td>\n",
       "      <td>0</td>\n",
       "      <td>426</td>\n",
       "      <td>121</td>\n",
       "      <td>31480</td>\n",
       "      <td>2</td>\n",
       "      <td>30</td>\n",
       "      <td>33</td>\n",
       "      <td>NaN</td>\n",
       "      <td>NaN</td>\n",
       "    </tr>\n",
       "    <tr>\n",
       "      <th>freq</th>\n",
       "      <td>NaN</td>\n",
       "      <td>NaN</td>\n",
       "      <td>17085</td>\n",
       "      <td>11844</td>\n",
       "      <td>4153</td>\n",
       "      <td>998</td>\n",
       "      <td>11934</td>\n",
       "      <td>1197</td>\n",
       "      <td>587</td>\n",
       "      <td>NaN</td>\n",
       "      <td>NaN</td>\n",
       "    </tr>\n",
       "    <tr>\n",
       "      <th>mean</th>\n",
       "      <td>2020-10-14 23:30:22.729124096+00:00</td>\n",
       "      <td>2020-10-22 06:01:21.525206784+00:00</td>\n",
       "      <td>NaN</td>\n",
       "      <td>NaN</td>\n",
       "      <td>NaN</td>\n",
       "      <td>NaN</td>\n",
       "      <td>NaN</td>\n",
       "      <td>NaN</td>\n",
       "      <td>NaN</td>\n",
       "      <td>0.636307</td>\n",
       "      <td>0.743210</td>\n",
       "    </tr>\n",
       "    <tr>\n",
       "      <th>min</th>\n",
       "      <td>2020-08-30 00:00:00+00:00</td>\n",
       "      <td>2020-09-01 03:05:51+00:00</td>\n",
       "      <td>NaN</td>\n",
       "      <td>NaN</td>\n",
       "      <td>NaN</td>\n",
       "      <td>NaN</td>\n",
       "      <td>NaN</td>\n",
       "      <td>NaN</td>\n",
       "      <td>NaN</td>\n",
       "      <td>0.000000</td>\n",
       "      <td>0.000000</td>\n",
       "    </tr>\n",
       "    <tr>\n",
       "      <th>25%</th>\n",
       "      <td>2020-09-27 00:00:00+00:00</td>\n",
       "      <td>2020-09-29 13:45:29+00:00</td>\n",
       "      <td>NaN</td>\n",
       "      <td>NaN</td>\n",
       "      <td>NaN</td>\n",
       "      <td>NaN</td>\n",
       "      <td>NaN</td>\n",
       "      <td>NaN</td>\n",
       "      <td>NaN</td>\n",
       "      <td>0.000000</td>\n",
       "      <td>0.000000</td>\n",
       "    </tr>\n",
       "    <tr>\n",
       "      <th>50%</th>\n",
       "      <td>2020-10-18 00:00:00+00:00</td>\n",
       "      <td>2020-10-22 04:30:49+00:00</td>\n",
       "      <td>NaN</td>\n",
       "      <td>NaN</td>\n",
       "      <td>NaN</td>\n",
       "      <td>NaN</td>\n",
       "      <td>NaN</td>\n",
       "      <td>NaN</td>\n",
       "      <td>NaN</td>\n",
       "      <td>1.000000</td>\n",
       "      <td>1.000000</td>\n",
       "    </tr>\n",
       "    <tr>\n",
       "      <th>75%</th>\n",
       "      <td>2020-11-08 00:00:00+00:00</td>\n",
       "      <td>2020-11-13 11:57:53+00:00</td>\n",
       "      <td>NaN</td>\n",
       "      <td>NaN</td>\n",
       "      <td>NaN</td>\n",
       "      <td>NaN</td>\n",
       "      <td>NaN</td>\n",
       "      <td>NaN</td>\n",
       "      <td>NaN</td>\n",
       "      <td>1.000000</td>\n",
       "      <td>1.000000</td>\n",
       "    </tr>\n",
       "    <tr>\n",
       "      <th>max</th>\n",
       "      <td>2020-12-01 00:00:00+00:00</td>\n",
       "      <td>2021-02-01 14:50:49+00:00</td>\n",
       "      <td>NaN</td>\n",
       "      <td>NaN</td>\n",
       "      <td>NaN</td>\n",
       "      <td>NaN</td>\n",
       "      <td>NaN</td>\n",
       "      <td>NaN</td>\n",
       "      <td>NaN</td>\n",
       "      <td>1.000000</td>\n",
       "      <td>1.000000</td>\n",
       "    </tr>\n",
       "    <tr>\n",
       "      <th>std</th>\n",
       "      <td>NaN</td>\n",
       "      <td>NaN</td>\n",
       "      <td>NaN</td>\n",
       "      <td>NaN</td>\n",
       "      <td>NaN</td>\n",
       "      <td>NaN</td>\n",
       "      <td>NaN</td>\n",
       "      <td>NaN</td>\n",
       "      <td>NaN</td>\n",
       "      <td>0.481074</td>\n",
       "      <td>0.436874</td>\n",
       "    </tr>\n",
       "  </tbody>\n",
       "</table>\n",
       "</div>"
      ],
      "text/plain": [
       "                            period_end_date  \\\n",
       "count                                 19640   \n",
       "unique                                  NaN   \n",
       "top                                     NaN   \n",
       "freq                                    NaN   \n",
       "mean    2020-10-14 23:30:22.729124096+00:00   \n",
       "min               2020-08-30 00:00:00+00:00   \n",
       "25%               2020-09-27 00:00:00+00:00   \n",
       "50%               2020-10-18 00:00:00+00:00   \n",
       "75%               2020-11-08 00:00:00+00:00   \n",
       "max               2020-12-01 00:00:00+00:00   \n",
       "std                                     NaN   \n",
       "\n",
       "                            translated_when if_data_corrected prod_gr_id  \\\n",
       "count                                 19697             19697      19697   \n",
       "unique                                  NaN                 2          3   \n",
       "top                                     NaN                 0        426   \n",
       "freq                                    NaN             17085      11844   \n",
       "mean    2020-10-22 06:01:21.525206784+00:00               NaN        NaN   \n",
       "min               2020-09-01 03:05:51+00:00               NaN        NaN   \n",
       "25%               2020-09-29 13:45:29+00:00               NaN        NaN   \n",
       "50%               2020-10-22 04:30:49+00:00               NaN        NaN   \n",
       "75%               2020-11-13 11:57:53+00:00               NaN        NaN   \n",
       "max               2021-02-01 14:50:49+00:00               NaN        NaN   \n",
       "std                                     NaN               NaN        NaN   \n",
       "\n",
       "       country_id_n delivery_type_id freq_id retailer_id brand_id  \\\n",
       "count         18405            18362   19697       19697    19697   \n",
       "unique           34              914       2          52      199   \n",
       "top             121            31480       2          30       33   \n",
       "freq           4153              998   11934        1197      587   \n",
       "mean            NaN              NaN     NaN         NaN      NaN   \n",
       "min             NaN              NaN     NaN         NaN      NaN   \n",
       "25%             NaN              NaN     NaN         NaN      NaN   \n",
       "50%             NaN              NaN     NaN         NaN      NaN   \n",
       "75%             NaN              NaN     NaN         NaN      NaN   \n",
       "max             NaN              NaN     NaN         NaN      NaN   \n",
       "std             NaN              NaN     NaN         NaN      NaN   \n",
       "\n",
       "        predict_automatch  class_acctual  \n",
       "count        19368.000000   19697.000000  \n",
       "unique                NaN            NaN  \n",
       "top                   NaN            NaN  \n",
       "freq                  NaN            NaN  \n",
       "mean             0.636307       0.743210  \n",
       "min              0.000000       0.000000  \n",
       "25%              0.000000       0.000000  \n",
       "50%              1.000000       1.000000  \n",
       "75%              1.000000       1.000000  \n",
       "max              1.000000       1.000000  \n",
       "std              0.481074       0.436874  "
      ]
     },
     "execution_count": 10,
     "metadata": {},
     "output_type": "execute_result"
    }
   ],
   "source": [
    "df.describe(\n",
    "    include='all',\n",
    "    datetime_is_numeric=True\n",
    ")"
   ]
  },
  {
   "cell_type": "markdown",
   "metadata": {
    "pycharm": {
     "name": "#%% md\n"
    }
   },
   "source": [
    "# Pandas Data Profiler"
   ]
  },
  {
   "cell_type": "code",
   "execution_count": 11,
   "metadata": {
    "pycharm": {
     "name": "#%%\n"
    }
   },
   "outputs": [],
   "source": [
    "profile = ProfileReport(\n",
    "    df,\n",
    "    title=\"Pandas Profiling Report\",\n",
    "    pool_size=0,\n",
    "    infer_dtypes=False\n",
    ")"
   ]
  },
  {
   "cell_type": "code",
   "execution_count": 12,
   "metadata": {
    "pycharm": {
     "name": "#%%\n"
    },
    "scrolled": false
   },
   "outputs": [
    {
     "data": {
      "application/json": {
       "ascii": false,
       "bar_format": null,
       "colour": null,
       "elapsed": 0.021001577377319336,
       "initial": 0,
       "n": 0,
       "ncols": null,
       "nrows": 14,
       "postfix": null,
       "prefix": "Summarize dataset",
       "rate": null,
       "total": 5,
       "unit": "it",
       "unit_divisor": 1000,
       "unit_scale": false
      },
      "application/vnd.jupyter.widget-view+json": {
       "model_id": "db0965bd17254858838ec86e1d22de9a",
       "version_major": 2,
       "version_minor": 0
      },
      "text/plain": [
       "Summarize dataset:   0%|          | 0/5 [00:00<?, ?it/s]"
      ]
     },
     "metadata": {},
     "output_type": "display_data"
    },
    {
     "data": {
      "application/json": {
       "ascii": false,
       "bar_format": null,
       "colour": null,
       "elapsed": 0.013997793197631836,
       "initial": 0,
       "n": 0,
       "ncols": null,
       "nrows": 14,
       "postfix": null,
       "prefix": "Generate report structure",
       "rate": null,
       "total": 1,
       "unit": "it",
       "unit_divisor": 1000,
       "unit_scale": false
      },
      "application/vnd.jupyter.widget-view+json": {
       "model_id": "23f032902add43bcae567e379431e839",
       "version_major": 2,
       "version_minor": 0
      },
      "text/plain": [
       "Generate report structure:   0%|          | 0/1 [00:00<?, ?it/s]"
      ]
     },
     "metadata": {},
     "output_type": "display_data"
    },
    {
     "data": {
      "application/json": {
       "ascii": false,
       "bar_format": null,
       "colour": null,
       "elapsed": 0.014998674392700195,
       "initial": 0,
       "n": 0,
       "ncols": null,
       "nrows": 14,
       "postfix": null,
       "prefix": "Render widgets",
       "rate": null,
       "total": 1,
       "unit": "it",
       "unit_divisor": 1000,
       "unit_scale": false
      },
      "application/vnd.jupyter.widget-view+json": {
       "model_id": "",
       "version_major": 2,
       "version_minor": 0
      },
      "text/plain": [
       "Render widgets:   0%|          | 0/1 [00:00<?, ?it/s]"
      ]
     },
     "metadata": {},
     "output_type": "display_data"
    },
    {
     "data": {
      "application/vnd.jupyter.widget-view+json": {
       "model_id": "b5ae34bcd66c4482a66c951d05e0f3cf",
       "version_major": 2,
       "version_minor": 0
      },
      "text/plain": [
       "VBox(children=(Tab(children=(Tab(children=(GridBox(children=(VBox(children=(GridspecLayout(children=(HTML(valu…"
      ]
     },
     "metadata": {},
     "output_type": "display_data"
    }
   ],
   "source": [
    "profile.to_widgets()"
   ]
  },
  {
   "cell_type": "markdown",
   "metadata": {
    "pycharm": {
     "name": "#%% md\n"
    }
   },
   "source": [
    "## Offline example of Pandas Profiler widget:"
   ]
  },
  {
   "cell_type": "markdown",
   "metadata": {
    "pycharm": {
     "name": "#%% md\n"
    }
   },
   "source": [
    "![image info](./docs/images/pandas_profiler/profiler_example.png)"
   ]
  }
 ],
 "metadata": {
  "kernelspec": {
   "display_name": "Python 3 (ipykernel)",
   "language": "python",
   "name": "python3"
  },
  "language_info": {
   "codemirror_mode": {
    "name": "ipython",
    "version": 3
   },
   "file_extension": ".py",
   "mimetype": "text/x-python",
   "name": "python",
   "nbconvert_exporter": "python",
   "pygments_lexer": "ipython3",
   "version": "3.9.3"
  }
 },
 "nbformat": 4,
 "nbformat_minor": 1
}
